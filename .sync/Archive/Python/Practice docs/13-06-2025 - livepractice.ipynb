{
 "cells": [
  {
   "cell_type": "code",
   "execution_count": 24,
   "metadata": {},
   "outputs": [
    {
     "name": "stdout",
     "output_type": "stream",
     "text": [
      "['ATP', '507.2', '259.0', '15400.0']\n",
      "['CTP', '483.2', '271.0', '9000.0']\n",
      "['GTP', '523.2', '253.0', '13700.0']\n",
      "['UTP', '484.2', '262.0', '10000.0']\n",
      "['dATP', '491.2', '259.0', '15200.0']\n",
      "['dCTP', '467.2', '271.0', '9300.0']\n",
      "['dGTP', '507.2', '253.0', '13700.0']\n",
      "['dTTP', '482.2', '267.0', '9600.0']\n"
     ]
    }
   ],
   "source": [
    "data = {}\n",
    "\n",
    "with open(r\"C:\\Users\\Victor_Nxx\\Documents\\Projects\\Public\\T - tutorial\\Python\\School docs\\mock_exam\\mock 1\\nucleotides.txt\", \"r\") as f:\n",
    "    next(f)  # Skip the header line\n",
    "\n",
    "  \n",
    "    for i in f: # read the contents of the file one line by line as strings, very memory efficient\n",
    "        # Split the line into parts and print the output\n",
    "        parts = i.strip().split(\"|\") # strip removes whitespace or newlines and split breaks substrings based on a seperator in this case \",\"\n",
    "        print(parts)\n",
    "\n",
    "        # dATP | 491.2 | 259.0 | 15200.0\n",
    "        nucleotide = parts[0]\n",
    "        mw = float(parts[1])\n",
    "        am = float(parts[2])\n",
    "        mc = float(parts[3])\n",
    "\n",
    "        # Store the data in the dictionary\n",
    "        data[nucleotide] = (mw, am, mc)\n",
    "\n",
    "\n"
   ]
  },
  {
   "cell_type": "code",
   "execution_count": 27,
   "metadata": {},
   "outputs": [
    {
     "name": "stdout",
     "output_type": "stream",
     "text": [
      "      Molecular weight (g/mol)  Absorbance Maximum at pH 7.0 (nm)  \\\n",
      "ATP                      507.2                              259.0   \n",
      "CTP                      483.2                              271.0   \n",
      "GTP                      523.2                              253.0   \n",
      "UTP                      484.2                              262.0   \n",
      "dATP                     491.2                              259.0   \n",
      "dCTP                     467.2                              271.0   \n",
      "dGTP                     507.2                              253.0   \n",
      "dTTP                     482.2                              267.0   \n",
      "\n",
      "      Molar Extinction Coefficient at pH 7.0  \n",
      "ATP                                  15400.0  \n",
      "CTP                                   9000.0  \n",
      "GTP                                  13700.0  \n",
      "UTP                                  10000.0  \n",
      "dATP                                 15200.0  \n",
      "dCTP                                  9300.0  \n",
      "dGTP                                 13700.0  \n",
      "dTTP                                  9600.0  \n"
     ]
    }
   ],
   "source": [
    "import pandas as pd\n",
    "\n",
    "# Create a DataFrame from the dictionary\n",
    "df = pd.DataFrame.from_dict(data, orient='index', columns=['Molecular weight (g/mol)', 'Absorbance Maximum at pH 7.0 (nm)', 'Molar Extinction Coefficient at pH 7.0'])\n",
    "\n",
    "# Print the DataFrame\n",
    "print(df)"
   ]
  },
  {
   "cell_type": "code",
   "execution_count": null,
   "metadata": {},
   "outputs": [
    {
     "name": "stdout",
     "output_type": "stream",
     "text": [
      "   A  B\n",
      "0  1  3\n",
      "1  2  4\n"
     ]
    }
   ],
   "source": [
    "# orient value\tDescription\tExample Input\tResulting DataFrame\n",
    "# 'columns' (default)\tKeys become column names\t\tColumns 'A' and 'B'\n",
    "# 'index'\tKeys become row indexes\t\tIndexes 'row1', 'row2'\n",
    "# 'tight'\tFor nested dictionaries with metadata\tSpecial format\tComplex DataFrames\n",
    "\n",
    "\n",
    "# default(column)\n",
    "# index \n",
    "\n",
    "# 1  2  3\n",
    "# 1  2  3\n",
    "# 1  2  3\n",
    "# 1  2  3\n",
    "\n",
    "\n",
    "\n",
    "v = {'A': [1,2], 'B': [3,4]}\n",
    "#v = {'row1': [1,2], 'row2': [3,4]}\n",
    "\n",
    "\n",
    "s/n = index\n",
    "vd = pd.DataFrame.from_dict(v)\n",
    "print(vd)"
   ]
  },
  {
   "cell_type": "code",
   "execution_count": null,
   "metadata": {},
   "outputs": [
    {
     "name": "stdout",
     "output_type": "stream",
     "text": [
      "      Name  Age    City\n",
      "0    Alice   25      NY\n",
      "1      Bob   30   Paris\n",
      "2  Charlie   35  London\n"
     ]
    }
   ],
   "source": [
    "# From a dictionary of lists\n",
    "# data = {\n",
    "#     'Name': ['Alice', 'Bob', 'Charlie'],\n",
    "#     'Age': [25, 30, 35],\n",
    "#     'City': ['NY', 'Paris', 'London']\n",
    "# }\n",
    "\n",
    "# df1 = pd.DataFrame(data)\n",
    "# print(df1)\n",
    "\n",
    "# # From a list of dictionaries\n",
    "data = [\n",
    "\n",
    "    {'Name': 'Alice', 'Age': 25, 'City': 'NY'},\n",
    "    {'Name': 'Bob', 'Age': 30, 'City': 'Paris'},\n",
    "    {'Name': 'Charlie', 'Age': 35, 'City': 'London'}\n",
    "]\n",
    "df2 = pd.DataFrame(data)\n",
    "print(df2)\n",
    "\n",
    "# # # With custom index\n",
    "# df3 = pd.DataFrame(data, index=['a', 'b', 'c'])\n",
    "# print(df3)"
   ]
  },
  {
   "cell_type": "code",
   "execution_count": 25,
   "id": "008796c9",
   "metadata": {},
   "outputs": [
    {
     "name": "stdout",
     "output_type": "stream",
     "text": [
      "0      Alice\n",
      "1        Bob\n",
      "2    Charlie\n",
      "Name: Name, dtype: object\n",
      "      Name  Age\n",
      "0    Alice   25\n",
      "1      Bob   30\n",
      "2  Charlie   35\n",
      "Name    Alice\n",
      "Age        25\n",
      "City       NY\n",
      "Name: 0, dtype: object\n",
      "Alice\n"
     ]
    }
   ],
   "source": [
    "# Get a column (returns a Series)\n",
    "print(df1['Name'])\n",
    "\n",
    "\n",
    "# Get multiple columns\n",
    "print(df1[['Name', 'Age']])\n",
    "\n",
    "# Get rows by index label\n",
    "#print(df1.loc['a'])  # Returns a Series\n",
    "\n",
    "# Get rows by position\n",
    "print(df1.iloc[0])  # First row\n",
    "\n",
    "# Get specific cell\n",
    "print(df1.at[0, 'Name'])  # Value at row 0, column 'Name'"
   ]
  },
  {
   "cell_type": "code",
   "execution_count": null,
   "id": "452d05c2",
   "metadata": {},
   "outputs": [],
   "source": []
  }
 ],
 "metadata": {
  "kernelspec": {
   "display_name": "Python 3",
   "language": "python",
   "name": "python3"
  },
  "language_info": {
   "codemirror_mode": {
    "name": "ipython",
    "version": 3
   },
   "file_extension": ".py",
   "mimetype": "text/x-python",
   "name": "python",
   "nbconvert_exporter": "python",
   "pygments_lexer": "ipython3",
   "version": "3.11.2"
  }
 },
 "nbformat": 4,
 "nbformat_minor": 5
}
