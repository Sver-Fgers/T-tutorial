{
 "cells": [
  {
   "cell_type": "code",
   "execution_count": 16,
   "id": "57587119",
   "metadata": {},
   "outputs": [
    {
     "ename": "FileNotFoundError",
     "evalue": "[Errno 2] No such file or directory: '/Users/bosslistic10/Documents/t-programming/Python/School docs/mock_exam/mock 1/nucleotides.txt'",
     "output_type": "error",
     "traceback": [
      "\u001b[1;31m---------------------------------------------------------------------------\u001b[0m",
      "\u001b[1;31mFileNotFoundError\u001b[0m                         Traceback (most recent call last)",
      "Cell \u001b[1;32mIn[16], line 3\u001b[0m\n\u001b[0;32m      1\u001b[0m data \u001b[38;5;241m=\u001b[39m {}\n\u001b[1;32m----> 3\u001b[0m \u001b[38;5;28;01mwith\u001b[39;00m \u001b[38;5;28;43mopen\u001b[39;49m\u001b[43m(\u001b[49m\u001b[38;5;124;43mr\u001b[39;49m\u001b[38;5;124;43m\"\u001b[39;49m\u001b[38;5;124;43m/Users/bosslistic10/Documents/t-programming/Python/School docs/mock_exam/mock 1/nucleotides.txt\u001b[39;49m\u001b[38;5;124;43m\"\u001b[39;49m\u001b[43m,\u001b[49m\u001b[43m \u001b[49m\u001b[38;5;124;43m\"\u001b[39;49m\u001b[38;5;124;43mr\u001b[39;49m\u001b[38;5;124;43m\"\u001b[39;49m\u001b[43m)\u001b[49m \u001b[38;5;28;01mas\u001b[39;00m f:\n\u001b[0;32m      4\u001b[0m     \u001b[38;5;28mnext\u001b[39m(f)  \u001b[38;5;66;03m# Skip the header line\u001b[39;00m\n\u001b[0;32m      7\u001b[0m     \u001b[38;5;28;01mfor\u001b[39;00m i \u001b[38;5;129;01min\u001b[39;00m f: \u001b[38;5;66;03m# read the contents of the file one line by line as strings, very memory efficient\u001b[39;00m\n\u001b[0;32m      8\u001b[0m         \u001b[38;5;66;03m# Split the line into parts and print the output\u001b[39;00m\n",
      "File \u001b[1;32mc:\\Users\\Victor_Nxx\\AppData\\Local\\Programs\\Python\\Python311\\Lib\\site-packages\\IPython\\core\\interactiveshell.py:324\u001b[0m, in \u001b[0;36m_modified_open\u001b[1;34m(file, *args, **kwargs)\u001b[0m\n\u001b[0;32m    317\u001b[0m \u001b[38;5;28;01mif\u001b[39;00m file \u001b[38;5;129;01min\u001b[39;00m {\u001b[38;5;241m0\u001b[39m, \u001b[38;5;241m1\u001b[39m, \u001b[38;5;241m2\u001b[39m}:\n\u001b[0;32m    318\u001b[0m     \u001b[38;5;28;01mraise\u001b[39;00m \u001b[38;5;167;01mValueError\u001b[39;00m(\n\u001b[0;32m    319\u001b[0m         \u001b[38;5;124mf\u001b[39m\u001b[38;5;124m\"\u001b[39m\u001b[38;5;124mIPython won\u001b[39m\u001b[38;5;124m'\u001b[39m\u001b[38;5;124mt let you open fd=\u001b[39m\u001b[38;5;132;01m{\u001b[39;00mfile\u001b[38;5;132;01m}\u001b[39;00m\u001b[38;5;124m by default \u001b[39m\u001b[38;5;124m\"\u001b[39m\n\u001b[0;32m    320\u001b[0m         \u001b[38;5;124m\"\u001b[39m\u001b[38;5;124mas it is likely to crash IPython. If you know what you are doing, \u001b[39m\u001b[38;5;124m\"\u001b[39m\n\u001b[0;32m    321\u001b[0m         \u001b[38;5;124m\"\u001b[39m\u001b[38;5;124myou can use builtins\u001b[39m\u001b[38;5;124m'\u001b[39m\u001b[38;5;124m open.\u001b[39m\u001b[38;5;124m\"\u001b[39m\n\u001b[0;32m    322\u001b[0m     )\n\u001b[1;32m--> 324\u001b[0m \u001b[38;5;28;01mreturn\u001b[39;00m \u001b[43mio_open\u001b[49m\u001b[43m(\u001b[49m\u001b[43mfile\u001b[49m\u001b[43m,\u001b[49m\u001b[43m \u001b[49m\u001b[38;5;241;43m*\u001b[39;49m\u001b[43margs\u001b[49m\u001b[43m,\u001b[49m\u001b[43m \u001b[49m\u001b[38;5;241;43m*\u001b[39;49m\u001b[38;5;241;43m*\u001b[39;49m\u001b[43mkwargs\u001b[49m\u001b[43m)\u001b[49m\n",
      "\u001b[1;31mFileNotFoundError\u001b[0m: [Errno 2] No such file or directory: '/Users/bosslistic10/Documents/t-programming/Python/School docs/mock_exam/mock 1/nucleotides.txt'"
     ]
    }
   ],
   "source": [
    "data = {}\n",
    "\n",
    "with open(r\"/Users/bosslistic10/Documents/t-programming/Python/School docs/mock_exam/mock 1/nucleotides.txt\", \"r\") as f:\n",
    "    next(f)  # Skip the header line\n",
    "\n",
    "  \n",
    "    for i in f: # read the contents of the file one line by line as strings, very memory efficient\n",
    "        # Split the line into parts and print the output\n",
    "        parts = i.strip().split(\"|\") # strip removes whitespace or newlines and split breaks substrings based on a seperator in this case \",\"\n",
    "        print(parts)\n",
    "\n",
    "        # dATP | 491.2 | 259.0 | 15200.0\n",
    "        nucleotide = parts[0]\n",
    "        mw = float(parts[1])\n",
    "        am = float(parts[2])\n",
    "        mc = float(parts[3])\n",
    "\n",
    "        # Store the data in the dictionary\n",
    "        data[nucleotide] = (mw, am, mc)\n",
    "\n",
    " \n",
    "\n",
    "    \n"
   ]
  },
  {
   "cell_type": "code",
   "execution_count": null,
   "id": "c0f9f867",
   "metadata": {},
   "outputs": [
    {
     "name": "stdout",
     "output_type": "stream",
     "text": [
      "dTTP (482.2, 267.0, 9600.0)\n",
      "dGTP (507.2, 253.0, 13700.0)\n",
      "dCTP (467.2, 271.0, 9300.0)\n",
      "dATP (491.2, 259.0, 15200.0)\n",
      "UTP (484.2, 262.0, 10000.0)\n",
      "GTP (523.2, 253.0, 13700.0)\n",
      "CTP (483.2, 271.0, 9000.0)\n",
      "ATP (507.2, 259.0, 15400.0)\n"
     ]
    }
   ],
   "source": [
    "for i in sorted(data, reverse = True):\n",
    "     print(i, data[i])"
   ]
  },
  {
   "cell_type": "code",
   "execution_count": null,
   "id": "84544dfc",
   "metadata": {},
   "outputs": [
    {
     "name": "stdout",
     "output_type": "stream",
     "text": [
      "dCTP (467.2, 271.0, 9300.0)\n",
      "dTTP (482.2, 267.0, 9600.0)\n",
      "CTP (483.2, 271.0, 9000.0)\n",
      "UTP (484.2, 262.0, 10000.0)\n",
      "dATP (491.2, 259.0, 15200.0)\n",
      "dGTP (507.2, 253.0, 13700.0)\n",
      "ATP (507.2, 259.0, 15400.0)\n",
      "GTP (523.2, 253.0, 13700.0)\n"
     ]
    }
   ],
   "source": [
    "from operator import itemgetter\n",
    "\n",
    "# sorted_by_mw = sorted(dict, key = itemgetter(1))\n",
    "\n",
    "\n",
    "\n",
    "for i, j in sorted(data.items(), key = itemgetter(1)):\n",
    "   print(i, j)\n"
   ]
  },
  {
   "cell_type": "code",
   "execution_count": null,
   "id": "a283dc8d",
   "metadata": {},
   "outputs": [
    {
     "name": "stdout",
     "output_type": "stream",
     "text": [
      "671.56\n"
     ]
    }
   ],
   "source": [
    "#1a,b \n",
    "\n",
    "Po, r, t = float(input()), float(input()), int(input())\n",
    "\n",
    "Pt = 0\n",
    "\n",
    "for i in range(1, t + 1):\n",
    "    Pt += Po * (r**i)\n",
    "\n",
    "print(f\"{Pt:.2f}\")\n",
    "\n",
    "#c\n",
    "\n",
    "#runtime complexity = O(n) cause of loops and time"
   ]
  },
  {
   "cell_type": "code",
   "execution_count": null,
   "id": "7f59ece0",
   "metadata": {},
   "outputs": [
    {
     "name": "stdout",
     "output_type": "stream",
     "text": [
      "243.1\n"
     ]
    }
   ],
   "source": [
    "#1d\n",
    "\n",
    "def bt(Po, r, h, t):\n",
    "    if t == 0:\n",
    "        return 0\n",
    "    elif t % h == 1:\n",
    "        return (bt(Po, r, h, t - 1) + Po) * r\n",
    "    else:\n",
    "        return bt(Po, r, h, t - 1) * r\n",
    "\n",
    "print(f\"{bt(100, 1.1, 2, 3):.1f}\")  # → 243.1\n",
    "\n"
   ]
  },
  {
   "cell_type": "code",
   "execution_count": null,
   "id": "6d17ffcd",
   "metadata": {},
   "outputs": [],
   "source": [
    "hour 1 = 100 * 1.1 = 110\n",
    "hour2 = 110 * 1.1 = 121\n",
    "hour3 = (121 + 100) * 1.1 = 243"
   ]
  },
  {
   "cell_type": "code",
   "execution_count": 18,
   "id": "bb33d6ac",
   "metadata": {},
   "outputs": [
    {
     "name": "stdout",
     "output_type": "stream",
     "text": [
      "{('C', 'C', 'C'): 'P', ('A', 'C', 'C'): 'T', ('G', 'C', 'C'): 'A', ('C', 'C', 'A'): 'P', ('A', 'C', 'A'): 'T', ('G', 'C', 'A'): 'A', ('C', 'C', 'G'): 'P', ('A', 'C', 'G'): 'T', ('G', 'C', 'G'): 'A', ('C', 'A', 'C'): 'H', ('A', 'A', 'C'): 'N', ('G', 'A', 'C'): 'D', ('C', 'A', 'A'): 'Q', ('A', 'A', 'A'): 'K', ('G', 'A', 'A'): 'E', ('C', 'A', 'G'): 'Q', ('A', 'A', 'G'): 'K', ('G', 'A', 'G'): 'E', ('C', 'G', 'C'): 'R', ('A', 'G', 'C'): 'S', ('G', 'G', 'C'): 'G', ('C', 'G', 'A'): 'R', ('A', 'G', 'A'): 'R', ('G', 'G', 'A'): 'G', ('C', 'G', 'G'): 'R', ('A', 'G', 'G'): 'R', ('G', 'G', 'G'): 'G', ('T', 'T', 'T'): 'F', ('C', 'T', 'T'): 'L', ('A', 'T', 'T'): 'I', ('G', 'T', 'T'): 'V', ('T', 'T', 'C'): 'F', ('C', 'T', 'C'): 'L', ('A', 'T', 'C'): 'I', ('G', 'T', 'C'): 'V', ('T', 'T', 'A'): 'L', ('C', 'T', 'A'): 'L', ('A', 'T', 'A'): 'I', ('G', 'T', 'A'): 'V', ('T', 'T', 'G'): 'L', ('C', 'T', 'G'): 'L', ('A', 'T', 'G'): 'M', ('G', 'T', 'G'): 'V', ('T', 'C', 'T'): 'S', ('C', 'C', 'T'): 'P', ('A', 'C', 'T'): 'T', ('G', 'C', 'T'): 'A', ('T', 'C', 'C'): 'S', ('T', 'C', 'A'): 'S', ('T', 'C', 'G'): 'S', ('T', 'A', 'T'): 'Y', ('C', 'A', 'T'): 'H', ('A', 'A', 'T'): 'N', ('G', 'A', 'T'): 'D', ('T', 'A', 'C'): 'Y', ('T', 'A', 'A'): '*', ('T', 'A', 'G'): '*', ('T', 'G', 'T'): 'C', ('C', 'G', 'T'): 'R', ('A', 'G', 'T'): 'S', ('G', 'G', 'T'): 'G', ('T', 'G', 'C'): 'C', ('T', 'G', 'A'): '*', ('T', 'G', 'G'): 'W'}\n"
     ]
    }
   ],
   "source": [
    "#2a\n",
    "\n",
    "genetics = {}\n",
    "\n",
    "with open (r\"C:\\Users\\Victor_Nxx\\Documents\\Projects\\Public\\T - tutorial\\Python\\School docs\\mock_exam\\mock 2\\genetic_code.txt\", \"r\") as f:\n",
    "    next(f)\n",
    "    next(f)\n",
    "    \n",
    "\n",
    "    for line in f:\n",
    "        parts = line.strip().split(\"\\t\")\n",
    "        #print(parts)\n",
    "\n",
    "        aa = parts[0]\n",
    "        b1 = parts[1]\n",
    "        b2 = parts[2]\n",
    "        b3 = parts[3]\n",
    "\n",
    "        genetics[(b1, b2, b3)] = aa\n",
    "\n",
    "    print(genetics)\n",
    "\n",
    "    "
   ]
  },
  {
   "cell_type": "code",
   "execution_count": 20,
   "id": "4e4ed116",
   "metadata": {},
   "outputs": [
    {
     "name": "stdout",
     "output_type": "stream",
     "text": [
      "('A', 'A', 'A') K\n",
      "('A', 'A', 'C') N\n",
      "('A', 'A', 'G') K\n",
      "('A', 'A', 'T') N\n",
      "('A', 'C', 'A') T\n",
      "('A', 'C', 'C') T\n",
      "('A', 'C', 'G') T\n",
      "('A', 'C', 'T') T\n",
      "('A', 'G', 'A') R\n",
      "('A', 'G', 'C') S\n",
      "('A', 'G', 'G') R\n",
      "('A', 'G', 'T') S\n",
      "('A', 'T', 'A') I\n",
      "('A', 'T', 'C') I\n",
      "('A', 'T', 'G') M\n",
      "('A', 'T', 'T') I\n",
      "('C', 'A', 'A') Q\n",
      "('C', 'A', 'C') H\n",
      "('C', 'A', 'G') Q\n",
      "('C', 'A', 'T') H\n",
      "('C', 'C', 'A') P\n",
      "('C', 'C', 'C') P\n",
      "('C', 'C', 'G') P\n",
      "('C', 'C', 'T') P\n",
      "('C', 'G', 'A') R\n",
      "('C', 'G', 'C') R\n",
      "('C', 'G', 'G') R\n",
      "('C', 'G', 'T') R\n",
      "('C', 'T', 'A') L\n",
      "('C', 'T', 'C') L\n",
      "('C', 'T', 'G') L\n",
      "('C', 'T', 'T') L\n",
      "('G', 'A', 'A') E\n",
      "('G', 'A', 'C') D\n",
      "('G', 'A', 'G') E\n",
      "('G', 'A', 'T') D\n",
      "('G', 'C', 'A') A\n",
      "('G', 'C', 'C') A\n",
      "('G', 'C', 'G') A\n",
      "('G', 'C', 'T') A\n",
      "('G', 'G', 'A') G\n",
      "('G', 'G', 'C') G\n",
      "('G', 'G', 'G') G\n",
      "('G', 'G', 'T') G\n",
      "('G', 'T', 'A') V\n",
      "('G', 'T', 'C') V\n",
      "('G', 'T', 'G') V\n",
      "('G', 'T', 'T') V\n",
      "('T', 'A', 'A') *\n",
      "('T', 'A', 'C') Y\n",
      "('T', 'A', 'G') *\n",
      "('T', 'A', 'T') Y\n",
      "('T', 'C', 'A') S\n",
      "('T', 'C', 'C') S\n",
      "('T', 'C', 'G') S\n",
      "('T', 'C', 'T') S\n",
      "('T', 'G', 'A') *\n",
      "('T', 'G', 'C') C\n",
      "('T', 'G', 'G') W\n",
      "('T', 'G', 'T') C\n",
      "('T', 'T', 'A') L\n",
      "('T', 'T', 'C') F\n",
      "('T', 'T', 'G') L\n",
      "('T', 'T', 'T') F\n"
     ]
    }
   ],
   "source": [
    "for i , j in sorted(genetics.items()):\n",
    "    print(i, j)"
   ]
  },
  {
   "cell_type": "code",
   "execution_count": 21,
   "id": "9b71ed9b",
   "metadata": {},
   "outputs": [
    {
     "name": "stdout",
     "output_type": "stream",
     "text": [
      "('T', 'A', 'A') *\n",
      "('T', 'A', 'G') *\n",
      "('T', 'G', 'A') *\n",
      "('G', 'C', 'C') A\n",
      "('G', 'C', 'A') A\n",
      "('G', 'C', 'G') A\n",
      "('G', 'C', 'T') A\n",
      "('T', 'G', 'T') C\n",
      "('T', 'G', 'C') C\n",
      "('G', 'A', 'C') D\n",
      "('G', 'A', 'T') D\n",
      "('G', 'A', 'A') E\n",
      "('G', 'A', 'G') E\n",
      "('T', 'T', 'T') F\n",
      "('T', 'T', 'C') F\n",
      "('G', 'G', 'C') G\n",
      "('G', 'G', 'A') G\n",
      "('G', 'G', 'G') G\n",
      "('G', 'G', 'T') G\n",
      "('C', 'A', 'C') H\n",
      "('C', 'A', 'T') H\n",
      "('A', 'T', 'T') I\n",
      "('A', 'T', 'C') I\n",
      "('A', 'T', 'A') I\n",
      "('A', 'A', 'A') K\n",
      "('A', 'A', 'G') K\n",
      "('C', 'T', 'T') L\n",
      "('C', 'T', 'C') L\n",
      "('T', 'T', 'A') L\n",
      "('C', 'T', 'A') L\n",
      "('T', 'T', 'G') L\n",
      "('C', 'T', 'G') L\n",
      "('A', 'T', 'G') M\n",
      "('A', 'A', 'C') N\n",
      "('A', 'A', 'T') N\n",
      "('C', 'C', 'C') P\n",
      "('C', 'C', 'A') P\n",
      "('C', 'C', 'G') P\n",
      "('C', 'C', 'T') P\n",
      "('C', 'A', 'A') Q\n",
      "('C', 'A', 'G') Q\n",
      "('C', 'G', 'C') R\n",
      "('C', 'G', 'A') R\n",
      "('A', 'G', 'A') R\n",
      "('C', 'G', 'G') R\n",
      "('A', 'G', 'G') R\n",
      "('C', 'G', 'T') R\n",
      "('A', 'G', 'C') S\n",
      "('T', 'C', 'T') S\n",
      "('T', 'C', 'C') S\n",
      "('T', 'C', 'A') S\n",
      "('T', 'C', 'G') S\n",
      "('A', 'G', 'T') S\n",
      "('A', 'C', 'C') T\n",
      "('A', 'C', 'A') T\n",
      "('A', 'C', 'G') T\n",
      "('A', 'C', 'T') T\n",
      "('G', 'T', 'T') V\n",
      "('G', 'T', 'C') V\n",
      "('G', 'T', 'A') V\n",
      "('G', 'T', 'G') V\n",
      "('T', 'G', 'G') W\n",
      "('T', 'A', 'T') Y\n",
      "('T', 'A', 'C') Y\n"
     ]
    }
   ],
   "source": [
    "#2c\n",
    "from operator import itemgetter\n",
    "\n",
    "for i, j in sorted(genetics.items(), key = itemgetter(1)):\n",
    "    print(i, j)"
   ]
  },
  {
   "attachments": {
    "image-2.png": {
     "image/png": "[encoded data removed]"
    },
    "image.png": {
     "image/png": "[encoded data removed]"
    }
   },
   "cell_type": "markdown",
   "metadata": {},
   "source": [
    "![image.png](attachment:image.png)\n",
    "\n",
    "![image-2.png](attachment:image-2.png)"
   ]
  },
  {
   "cell_type": "markdown",
   "metadata": {},
   "source": [
    "| | Base1 | Base2 | Base3 | AminoAcid |\n",
    " ----- | ----- | ----- | ----- | --------- |\n",
    "| AAA | A     | A     | A     | K         |\n",
    "| AAC | A     | A     | C     | T         |\n",
    "\n",
    "\n",
    "DF = pd.dataframe.from_dict(orient = \"index\", coloumns = \"jkjkfdkljalkj\", ajfjdjlas, kljfjfkjjkd)\n",
    "\n",
    "CTP (483.2, 271.0, 9000.0)\n",
    "\n",
    "(A, T, C) A\n",
    "\n",
    "\n"
   ]
  },
  {
   "cell_type": "code",
   "execution_count": 30,
   "metadata": {},
   "outputs": [
    {
     "name": "stdout",
     "output_type": "stream",
     "text": [
      "('A', 'C', 'C')\n",
      "('A', 'C', 'A')\n",
      "('A', 'C', 'G')\n",
      "('A', 'A', 'C')\n",
      "('A', 'A', 'A')\n",
      "('A', 'A', 'G')\n",
      "('A', 'G', 'C')\n",
      "('A', 'G', 'A')\n",
      "('A', 'G', 'G')\n",
      "('A', 'T', 'T')\n",
      "('A', 'T', 'C')\n",
      "('A', 'T', 'A')\n",
      "('A', 'T', 'G')\n",
      "('A', 'C', 'T')\n",
      "('A', 'A', 'T')\n",
      "('A', 'G', 'T')\n",
      "('C', 'C', 'C')\n",
      "('C', 'C', 'A')\n",
      "('C', 'C', 'G')\n",
      "('C', 'A', 'C')\n",
      "('C', 'A', 'A')\n",
      "('C', 'A', 'G')\n",
      "('C', 'G', 'C')\n",
      "('C', 'G', 'A')\n",
      "('C', 'G', 'G')\n",
      "('C', 'T', 'T')\n",
      "('C', 'T', 'C')\n",
      "('C', 'T', 'A')\n",
      "('C', 'T', 'G')\n",
      "('C', 'C', 'T')\n",
      "('C', 'A', 'T')\n",
      "('C', 'G', 'T')\n",
      "('G', 'C', 'C')\n",
      "('G', 'C', 'A')\n",
      "('G', 'C', 'G')\n",
      "('G', 'A', 'C')\n",
      "('G', 'A', 'A')\n",
      "('G', 'A', 'G')\n",
      "('G', 'G', 'C')\n",
      "('G', 'G', 'A')\n",
      "('G', 'G', 'G')\n",
      "('G', 'T', 'T')\n",
      "('G', 'T', 'C')\n",
      "('G', 'T', 'A')\n",
      "('G', 'T', 'G')\n",
      "('G', 'C', 'T')\n",
      "('G', 'A', 'T')\n",
      "('G', 'G', 'T')\n",
      "('T', 'T', 'T')\n",
      "('T', 'T', 'C')\n",
      "('T', 'T', 'A')\n",
      "('T', 'T', 'G')\n",
      "('T', 'C', 'T')\n",
      "('T', 'C', 'C')\n",
      "('T', 'C', 'A')\n",
      "('T', 'C', 'G')\n",
      "('T', 'A', 'T')\n",
      "('T', 'A', 'C')\n",
      "('T', 'A', 'A')\n",
      "('T', 'A', 'G')\n",
      "('T', 'G', 'T')\n",
      "('T', 'G', 'C')\n",
      "('T', 'G', 'A')\n",
      "('T', 'G', 'G')\n"
     ]
    }
   ],
   "source": [
    "for i in sorted(genetics.keys(), key = itemgetter(0)):\n",
    "    print(i)"
   ]
  },
  {
   "cell_type": "code",
   "execution_count": 71,
   "metadata": {},
   "outputs": [
    {
     "name": "stdout",
     "output_type": "stream",
     "text": [
      "[['C', 'C', 'C', 'P'], ['A', 'C', 'C', 'T'], ['G', 'C', 'C', 'A'], ['C', 'C', 'A', 'P'], ['A', 'C', 'A', 'T'], ['G', 'C', 'A', 'A'], ['C', 'C', 'G', 'P'], ['A', 'C', 'G', 'T'], ['G', 'C', 'G', 'A'], ['C', 'A', 'C', 'H'], ['A', 'A', 'C', 'N'], ['G', 'A', 'C', 'D'], ['C', 'A', 'A', 'Q'], ['A', 'A', 'A', 'K'], ['G', 'A', 'A', 'E'], ['C', 'A', 'G', 'Q'], ['A', 'A', 'G', 'K'], ['G', 'A', 'G', 'E'], ['C', 'G', 'C', 'R'], ['A', 'G', 'C', 'S'], ['G', 'G', 'C', 'G'], ['C', 'G', 'A', 'R'], ['A', 'G', 'A', 'R'], ['G', 'G', 'A', 'G'], ['C', 'G', 'G', 'R'], ['A', 'G', 'G', 'R'], ['G', 'G', 'G', 'G'], ['T', 'T', 'T', 'F'], ['C', 'T', 'T', 'L'], ['A', 'T', 'T', 'I'], ['G', 'T', 'T', 'V'], ['T', 'T', 'C', 'F'], ['C', 'T', 'C', 'L'], ['A', 'T', 'C', 'I'], ['G', 'T', 'C', 'V'], ['T', 'T', 'A', 'L'], ['C', 'T', 'A', 'L'], ['A', 'T', 'A', 'I'], ['G', 'T', 'A', 'V'], ['T', 'T', 'G', 'L'], ['C', 'T', 'G', 'L'], ['A', 'T', 'G', 'M'], ['G', 'T', 'G', 'V'], ['T', 'C', 'T', 'S'], ['C', 'C', 'T', 'P'], ['A', 'C', 'T', 'T'], ['G', 'C', 'T', 'A'], ['T', 'C', 'C', 'S'], ['T', 'C', 'A', 'S'], ['T', 'C', 'G', 'S'], ['T', 'A', 'T', 'Y'], ['C', 'A', 'T', 'H'], ['A', 'A', 'T', 'N'], ['G', 'A', 'T', 'D'], ['T', 'A', 'C', 'Y'], ['T', 'A', 'A', '*'], ['T', 'A', 'G', '*'], ['T', 'G', 'T', 'C'], ['C', 'G', 'T', 'R'], ['A', 'G', 'T', 'S'], ['G', 'G', 'T', 'G'], ['T', 'G', 'C', 'C'], ['T', 'G', 'A', '*'], ['T', 'G', 'G', 'W']]\n",
      "    Base1 Base2 Base3 AminoAcid\n",
      "CCC     C     C     C         P\n",
      "ACC     A     C     C         T\n",
      "GCC     G     C     C         A\n",
      "CCA     C     C     A         P\n",
      "ACA     A     C     A         T\n",
      "..    ...   ...   ...       ...\n",
      "AGT     A     G     T         S\n",
      "GGT     G     G     T         G\n",
      "TGC     T     G     C         C\n",
      "TGA     T     G     A         *\n",
      "TGG     T     G     G         W\n",
      "\n",
      "[64 rows x 4 columns]\n"
     ]
    }
   ],
   "source": [
    "import pandas as pd\n",
    "data_list = []\n",
    "\n",
    "for key, value in genetics.items():\n",
    "    # key is like ('A', 'A', 'A'), value is like 'K'\n",
    "    row =  [key[0], key[1], key[2],value] # Convert to [data''A', 'A', 'K']\n",
    "    # row = [a, a, a]\n",
    "    data_list.append(row)\n",
    "print(data_list)\n",
    "\n",
    "#orient = column, index\n",
    "\n",
    "df = pd.DataFrame(data_list, columns=[\"Base1\", \"Base2\", \"Base3\", \"AminoAcid\"])\n",
    "\n",
    "df.index = df[\"Base1\"] + df[\"Base2\"] + df[\"Base3\"]\n",
    "\n",
    "print(df)"
   ]
  },
  {
   "cell_type": "code",
   "execution_count": null,
   "id": "f345c02e",
   "metadata": {},
   "outputs": [],
   "source": []
  }
 ],
 "metadata": {
  "kernelspec": {
   "display_name": "Python 3",
   "language": "python",
   "name": "python3"
  },
  "language_info": {
   "codemirror_mode": {
    "name": "ipython",
    "version": 3
   },
   "file_extension": ".py",
   "mimetype": "text/x-python",
   "name": "python",
   "nbconvert_exporter": "python",
   "pygments_lexer": "ipython3",
   "version": "3.11.2"
  }
 },
 "nbformat": 4,
 "nbformat_minor": 5
}
