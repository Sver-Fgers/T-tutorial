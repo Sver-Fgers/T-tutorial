{
 "cells": [
  {
   "cell_type": "code",
   "execution_count": 28,
   "id": "57587119",
   "metadata": {},
   "outputs": [
    {
     "name": "stdout",
     "output_type": "stream",
     "text": [
      "['ATP', '507.2', '259.0', '15400.0']\n",
      "['CTP', '483.2', '271.0', '9000.0']\n",
      "['GTP', '523.2', '253.0', '13700.0']\n",
      "['UTP', '484.2', '262.0', '10000.0']\n",
      "['dATP', '491.2', '259.0', '15200.0']\n",
      "['dCTP', '467.2', '271.0', '9300.0']\n",
      "['dGTP', '507.2', '253.0', '13700.0']\n",
      "['dTTP', '482.2', '267.0', '9600.0']\n"
     ]
    }
   ],
   "source": [
    "data = {}\n",
    "\n",
    "with open(r\"/Users/bosslistic10/Documents/t-programming/Python/School docs/mock_exam/mock 1/nucleotides.txt\", \"r\") as f:\n",
    "    next(f)  # Skip the header line\n",
    "\n",
    "  \n",
    "    for i in f: # read the contents of the file one line by line as strings, very memory efficient\n",
    "        # Split the line into parts and print the output\n",
    "        parts = i.strip().split(\"|\") # strip removes whitespace or newlines and split breaks substrings based on a seperator in this case \",\"\n",
    "        print(parts)\n",
    "\n",
    "        # dATP | 491.2 | 259.0 | 15200.0\n",
    "        nucleotide = parts[0]\n",
    "        mw = float(parts[1])\n",
    "        am = float(parts[2])\n",
    "        mc = float(parts[3])\n",
    "\n",
    "        # Store the data in the dictionary\n",
    "        data[nucleotide] = (mw, am, mc)\n",
    "\n",
    " \n",
    "\n",
    "    \n"
   ]
  },
  {
   "cell_type": "code",
   "execution_count": 29,
   "id": "c0f9f867",
   "metadata": {},
   "outputs": [
    {
     "name": "stdout",
     "output_type": "stream",
     "text": [
      "dTTP (482.2, 267.0, 9600.0)\n",
      "dGTP (507.2, 253.0, 13700.0)\n",
      "dCTP (467.2, 271.0, 9300.0)\n",
      "dATP (491.2, 259.0, 15200.0)\n",
      "UTP (484.2, 262.0, 10000.0)\n",
      "GTP (523.2, 253.0, 13700.0)\n",
      "CTP (483.2, 271.0, 9000.0)\n",
      "ATP (507.2, 259.0, 15400.0)\n"
     ]
    }
   ],
   "source": [
    "for i in sorted(data, reverse = True):\n",
    "     print(i, data[i])"
   ]
  },
  {
   "cell_type": "code",
   "execution_count": 56,
   "id": "84544dfc",
   "metadata": {},
   "outputs": [
    {
     "name": "stdout",
     "output_type": "stream",
     "text": [
      "dCTP (467.2, 271.0, 9300.0)\n",
      "dTTP (482.2, 267.0, 9600.0)\n",
      "CTP (483.2, 271.0, 9000.0)\n",
      "UTP (484.2, 262.0, 10000.0)\n",
      "dATP (491.2, 259.0, 15200.0)\n",
      "dGTP (507.2, 253.0, 13700.0)\n",
      "ATP (507.2, 259.0, 15400.0)\n",
      "GTP (523.2, 253.0, 13700.0)\n"
     ]
    }
   ],
   "source": [
    "from operator import itemgetter\n",
    "\n",
    "# sorted_by_mw = sorted(dict, key = itemgetter(1))\n",
    "\n",
    "\n",
    "\n",
    "for i, j in sorted(data.items(), key = itemgetter(1)):\n",
    "   print(i, j)\n"
   ]
  },
  {
   "cell_type": "code",
   "execution_count": null,
   "id": "a283dc8d",
   "metadata": {},
   "outputs": [
    {
     "name": "stdout",
     "output_type": "stream",
     "text": [
      "671.56\n"
     ]
    }
   ],
   "source": [
    "#1a,b \n",
    "\n",
    "Po, r, t = float(input()), float(input()), int(input())\n",
    "\n",
    "Pt = 0\n",
    "\n",
    "for i in range(1, t + 1):\n",
    "    Pt += Po * (r**i)\n",
    "\n",
    "print(f\"{Pt:.2f}\")\n",
    "\n",
    "#c\n",
    "\n",
    "#runtime complexity = O(n) cause of loops and time"
   ]
  },
  {
   "cell_type": "code",
   "execution_count": 59,
   "id": "bb33d6ac",
   "metadata": {},
   "outputs": [
    {
     "name": "stdout",
     "output_type": "stream",
     "text": [
      "<_io.TextIOWrapper name='/Users/bosslistic10/Documents/t-programming/Python/School docs/mock_exam/mock 2/genetic_code.txt' mode='r' encoding='UTF-8'>\n"
     ]
    }
   ],
   "source": [
    "#2a\n",
    "\n",
    "data = {}\n",
    "\n",
    "with open (r\"/Users/bosslistic10/Documents/t-programming/Python/School docs/mock_exam/mock 2/genetic_code.txt\", \"r\") as f:\n",
    "    next(f)\n",
    "\n",
    "\n",
    "    for line in f:\n",
    "        parts = line.strip().split(\",\")\n",
    "\n",
    "    print(f)"
   ]
  },
  {
   "cell_type": "code",
   "execution_count": null,
   "id": "4e4ed116",
   "metadata": {},
   "outputs": [],
   "source": []
  }
 ],
 "metadata": {
  "kernelspec": {
   "display_name": "Python (Jupyter)",
   "language": "python",
   "name": "my-jupyter-kernel"
  },
  "language_info": {
   "codemirror_mode": {
    "name": "ipython",
    "version": 3
   },
   "file_extension": ".py",
   "mimetype": "text/x-python",
   "name": "python",
   "nbconvert_exporter": "python",
   "pygments_lexer": "ipython3",
   "version": "3.9.6"
  }
 },
 "nbformat": 4,
 "nbformat_minor": 5
}
