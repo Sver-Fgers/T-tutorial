{
 "cells": [
  {
   "cell_type": "code",
   "execution_count": 28,
   "id": "57587119",
   "metadata": {},
   "outputs": [
    {
     "name": "stdout",
     "output_type": "stream",
     "text": [
      "['ATP', '507.2', '259.0', '15400.0']\n",
      "['CTP', '483.2', '271.0', '9000.0']\n",
      "['GTP', '523.2', '253.0', '13700.0']\n",
      "['UTP', '484.2', '262.0', '10000.0']\n",
      "['dATP', '491.2', '259.0', '15200.0']\n",
      "['dCTP', '467.2', '271.0', '9300.0']\n",
      "['dGTP', '507.2', '253.0', '13700.0']\n",
      "['dTTP', '482.2', '267.0', '9600.0']\n"
     ]
    }
   ],
   "source": [
    "data = {}\n",
    "\n",
    "with open(r\"/Users/bosslistic10/Documents/t-programming/Python/School docs/mock_exam/mock 1/nucleotides.txt\", \"r\") as f:\n",
    "    next(f)  # Skip the header line\n",
    "\n",
    "  \n",
    "    for i in f: # read the contents of the file one line by line as strings, very memory efficient\n",
    "        # Split the line into parts and print the output\n",
    "        parts = i.strip().split(\"|\") # strip removes whitespace or newlines and split breaks substrings based on a seperator in this case \",\"\n",
    "        print(parts)\n",
    "\n",
    "        # dATP | 491.2 | 259.0 | 15200.0\n",
    "        nucleotide = parts[0]\n",
    "        mw = float(parts[1])\n",
    "        am = float(parts[2])\n",
    "        mc = float(parts[3])\n",
    "\n",
    "        # Store the data in the dictionary\n",
    "        data[nucleotide] = (mw, am, mc)\n",
    "\n",
    " \n",
    "\n",
    "    \n"
   ]
  },
  {
   "cell_type": "code",
   "execution_count": 29,
   "id": "c0f9f867",
   "metadata": {},
   "outputs": [
    {
     "name": "stdout",
     "output_type": "stream",
     "text": [
      "dTTP (482.2, 267.0, 9600.0)\n",
      "dGTP (507.2, 253.0, 13700.0)\n",
      "dCTP (467.2, 271.0, 9300.0)\n",
      "dATP (491.2, 259.0, 15200.0)\n",
      "UTP (484.2, 262.0, 10000.0)\n",
      "GTP (523.2, 253.0, 13700.0)\n",
      "CTP (483.2, 271.0, 9000.0)\n",
      "ATP (507.2, 259.0, 15400.0)\n"
     ]
    }
   ],
   "source": [
    "for i in sorted(data, reverse = True):\n",
    "     print(i, data[i])"
   ]
  },
  {
   "cell_type": "code",
   "execution_count": 56,
   "id": "84544dfc",
   "metadata": {},
   "outputs": [
    {
     "name": "stdout",
     "output_type": "stream",
     "text": [
      "dCTP (467.2, 271.0, 9300.0)\n",
      "dTTP (482.2, 267.0, 9600.0)\n",
      "CTP (483.2, 271.0, 9000.0)\n",
      "UTP (484.2, 262.0, 10000.0)\n",
      "dATP (491.2, 259.0, 15200.0)\n",
      "dGTP (507.2, 253.0, 13700.0)\n",
      "ATP (507.2, 259.0, 15400.0)\n",
      "GTP (523.2, 253.0, 13700.0)\n"
     ]
    }
   ],
   "source": [
    "from operator import itemgetter\n",
    "\n",
    "# sorted_by_mw = sorted(dict, key = itemgetter(1))\n",
    "\n",
    "\n",
    "\n",
    "for i, j in sorted(data.items(), key = itemgetter(1)):\n",
    "   print(i, j)\n"
   ]
  },
  {
   "cell_type": "code",
   "execution_count": null,
   "id": "a283dc8d",
   "metadata": {},
   "outputs": [
    {
     "name": "stdout",
     "output_type": "stream",
     "text": [
      "671.56\n"
     ]
    }
   ],
   "source": [
    "#1a,b \n",
    "\n",
    "Po, r, t = float(input()), float(input()), int(input())\n",
    "\n",
    "Pt = 0\n",
    "\n",
    "for i in range(1, t + 1):\n",
    "    Pt += Po * (r**i)\n",
    "\n",
    "print(f\"{Pt:.2f}\")\n",
    "\n",
    "#c\n",
    "\n",
    "#runtime complexity = O(n) cause of loops and time"
   ]
  },
  {
   "cell_type": "code",
   "execution_count": 69,
   "id": "bb33d6ac",
   "metadata": {},
   "outputs": [
    {
     "name": "stdout",
     "output_type": "stream",
     "text": [
      "{('C', 'C', 'C'): 'P', ('A', 'C', 'C'): 'T', ('G', 'C', 'C'): 'A', ('C', 'C', 'A'): 'P', ('A', 'C', 'A'): 'T', ('G', 'C', 'A'): 'A', ('C', 'C', 'G'): 'P', ('A', 'C', 'G'): 'T', ('G', 'C', 'G'): 'A', ('C', 'A', 'C'): 'H', ('A', 'A', 'C'): 'N', ('G', 'A', 'C'): 'D', ('C', 'A', 'A'): 'Q', ('A', 'A', 'A'): 'K', ('G', 'A', 'A'): 'E', ('C', 'A', 'G'): 'Q', ('A', 'A', 'G'): 'K', ('G', 'A', 'G'): 'E', ('C', 'G', 'C'): 'R', ('A', 'G', 'C'): 'S', ('G', 'G', 'C'): 'G', ('C', 'G', 'A'): 'R', ('A', 'G', 'A'): 'R', ('G', 'G', 'A'): 'G', ('C', 'G', 'G'): 'R', ('A', 'G', 'G'): 'R', ('G', 'G', 'G'): 'G', ('T', 'T', 'T'): 'F', ('C', 'T', 'T'): 'L', ('A', 'T', 'T'): 'I', ('G', 'T', 'T'): 'V', ('T', 'T', 'C'): 'F', ('C', 'T', 'C'): 'L', ('A', 'T', 'C'): 'I', ('G', 'T', 'C'): 'V', ('T', 'T', 'A'): 'L', ('C', 'T', 'A'): 'L', ('A', 'T', 'A'): 'I', ('G', 'T', 'A'): 'V', ('T', 'T', 'G'): 'L', ('C', 'T', 'G'): 'L', ('A', 'T', 'G'): 'M', ('G', 'T', 'G'): 'V', ('T', 'C', 'T'): 'S', ('C', 'C', 'T'): 'P', ('A', 'C', 'T'): 'T', ('G', 'C', 'T'): 'A', ('T', 'C', 'C'): 'S', ('T', 'C', 'A'): 'S', ('T', 'C', 'G'): 'S', ('T', 'A', 'T'): 'Y', ('C', 'A', 'T'): 'H', ('A', 'A', 'T'): 'N', ('G', 'A', 'T'): 'D', ('T', 'A', 'C'): 'Y', ('T', 'A', 'A'): '*', ('T', 'A', 'G'): '*', ('T', 'G', 'T'): 'C', ('C', 'G', 'T'): 'R', ('A', 'G', 'T'): 'S', ('G', 'G', 'T'): 'G', ('T', 'G', 'C'): 'C', ('T', 'G', 'A'): '*', ('T', 'G', 'G'): 'W'}\n"
     ]
    }
   ],
   "source": [
    "#2a\n",
    "\n",
    "data = {}\n",
    "\n",
    "with open (r\"/Users/bosslistic10/Documents/t-programming/Python/School docs/mock_exam/mock 2/genetic_code.txt\", \"r\") as f:\n",
    "    next(f)\n",
    "    next(f)\n",
    "    \n",
    "\n",
    "    for line in f:\n",
    "        parts = line.strip().split(\"\\t\")\n",
    "        #print(parts)\n",
    "\n",
    "        aa = parts[0]\n",
    "        b1 = parts[1]\n",
    "        b2 = parts[2]\n",
    "        b3 = parts[3]\n",
    "\n",
    "        data[(b1, b2, b3)] = aa\n",
    "\n",
    "    print(data)\n",
    "\n",
    "    "
   ]
  },
  {
   "cell_type": "code",
   "execution_count": 72,
   "id": "4e4ed116",
   "metadata": {},
   "outputs": [
    {
     "name": "stdout",
     "output_type": "stream",
     "text": [
      "('A', 'A', 'A') K\n",
      "('A', 'A', 'C') N\n",
      "('A', 'A', 'G') K\n",
      "('A', 'A', 'T') N\n",
      "('A', 'C', 'A') T\n",
      "('A', 'C', 'C') T\n",
      "('A', 'C', 'G') T\n",
      "('A', 'C', 'T') T\n",
      "('A', 'G', 'A') R\n",
      "('A', 'G', 'C') S\n",
      "('A', 'G', 'G') R\n",
      "('A', 'G', 'T') S\n",
      "('A', 'T', 'A') I\n",
      "('A', 'T', 'C') I\n",
      "('A', 'T', 'G') M\n",
      "('A', 'T', 'T') I\n",
      "('C', 'A', 'A') Q\n",
      "('C', 'A', 'C') H\n",
      "('C', 'A', 'G') Q\n",
      "('C', 'A', 'T') H\n",
      "('C', 'C', 'A') P\n",
      "('C', 'C', 'C') P\n",
      "('C', 'C', 'G') P\n",
      "('C', 'C', 'T') P\n",
      "('C', 'G', 'A') R\n",
      "('C', 'G', 'C') R\n",
      "('C', 'G', 'G') R\n",
      "('C', 'G', 'T') R\n",
      "('C', 'T', 'A') L\n",
      "('C', 'T', 'C') L\n",
      "('C', 'T', 'G') L\n",
      "('C', 'T', 'T') L\n",
      "('G', 'A', 'A') E\n",
      "('G', 'A', 'C') D\n",
      "('G', 'A', 'G') E\n",
      "('G', 'A', 'T') D\n",
      "('G', 'C', 'A') A\n",
      "('G', 'C', 'C') A\n",
      "('G', 'C', 'G') A\n",
      "('G', 'C', 'T') A\n",
      "('G', 'G', 'A') G\n",
      "('G', 'G', 'C') G\n",
      "('G', 'G', 'G') G\n",
      "('G', 'G', 'T') G\n",
      "('G', 'T', 'A') V\n",
      "('G', 'T', 'C') V\n",
      "('G', 'T', 'G') V\n",
      "('G', 'T', 'T') V\n",
      "('T', 'A', 'A') *\n",
      "('T', 'A', 'C') Y\n",
      "('T', 'A', 'G') *\n",
      "('T', 'A', 'T') Y\n",
      "('T', 'C', 'A') S\n",
      "('T', 'C', 'C') S\n",
      "('T', 'C', 'G') S\n",
      "('T', 'C', 'T') S\n",
      "('T', 'G', 'A') *\n",
      "('T', 'G', 'C') C\n",
      "('T', 'G', 'G') W\n",
      "('T', 'G', 'T') C\n",
      "('T', 'T', 'A') L\n",
      "('T', 'T', 'C') F\n",
      "('T', 'T', 'G') L\n",
      "('T', 'T', 'T') F\n"
     ]
    }
   ],
   "source": [
    "for i , j in sorted(data.items(), reverse = False):\n",
    "    print(i, j)"
   ]
  },
  {
   "cell_type": "code",
   "execution_count": null,
   "id": "9b71ed9b",
   "metadata": {},
   "outputs": [],
   "source": [
    "for i in sorted()"
   ]
  }
 ],
 "metadata": {
  "kernelspec": {
   "display_name": "Python (Jupyter)",
   "language": "python",
   "name": "my-jupyter-kernel"
  },
  "language_info": {
   "codemirror_mode": {
    "name": "ipython",
    "version": 3
   },
   "file_extension": ".py",
   "mimetype": "text/x-python",
   "name": "python",
   "nbconvert_exporter": "python",
   "pygments_lexer": "ipython3",
   "version": "3.9.6"
  }
 },
 "nbformat": 4,
 "nbformat_minor": 5
}
