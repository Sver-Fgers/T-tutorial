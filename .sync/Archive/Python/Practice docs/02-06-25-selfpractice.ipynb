{
 "cells": [
  {
   "cell_type": "markdown",
   "metadata": {},
   "source": [
    "✅ Question 2: Movies and Ratings\n",
    "A file movies.txt contains movie titles, their IMDb ratings, and year of release.\n",
    "\n",
    "(a) Write a function load_movies(filename) that reads the file and returns a list of tuples where each tuple contains the title, rating, and year."
   ]
  },
  {
   "cell_type": "markdown",
   "metadata": {},
   "source": [
    "✅ Question 3: Products and Reviews\n",
    "A file products_reviews.txt contains product names, average user rating (out of 5), and number of reviews.\n",
    "\n",
    "(a) Write a function load_reviews(filename) that reads the file and returns a list of tuples containing the product name, rating, and number of reviews."
   ]
  },
  {
   "cell_type": "markdown",
   "metadata": {},
   "source": []
  }
 ],
 "metadata": {
  "language_info": {
   "name": "python"
  }
 },
 "nbformat": 4,
 "nbformat_minor": 5
}
