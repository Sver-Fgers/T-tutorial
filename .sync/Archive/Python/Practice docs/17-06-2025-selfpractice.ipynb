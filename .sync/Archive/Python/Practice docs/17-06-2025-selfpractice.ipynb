{
 "cells": [
  {
   "cell_type": "code",
   "execution_count": null,
   "id": "ce98542e",
   "metadata": {},
   "outputs": [
    {
     "name": "stdout",
     "output_type": "stream",
     "text": [
      "{'V': ['GTA'], '*': ['TGA'], 'M': ['ATG'], 'N': ['AAC'], 'K': ['AAA'], 'L': ['CTC']}\n"
     ]
    }
   ],
   "source": [
    "# 1. Practice Question 1: Reverse Codon Mapping and Grouping\n",
    "# a) You're given a file called codon_to_amino.txt. Each line contains 3 DNA bases and the amino acid they code for. Some amino acids may have multiple codons.\n",
    "# b) Read the file and create a dictionary where:\n",
    "# \tThe key is the amino acid.\n",
    "# \tThe value is a list of all codons (as strings, e.g., 'GTT') that produce that amino acid.\n",
    "# c) Print the dictionary in alphabetical order of the amino acid.\n",
    "# d) Convert it into a pandas DataFrame with columns:\n",
    "# \tAminoAcid\n",
    "# \tCodons (a string showing codons separated by commas)\n",
    "\n",
    "\n",
    "#1a,b\n",
    "\n",
    "data = {}\n",
    "\n",
    "with open(r\"/Users/bosslistic10/Documents/t-programming/Python/Practice docs/codon_to_amino.txt\", \"r\") as f:\n",
    "    # read = f.readlines()\n",
    "    # print(read)\n",
    "\n",
    "\n",
    "    for line in f:\n",
    "        parts = line.strip().split()\n",
    "        b1 = parts[0]\n",
    "        b2 = parts[1]\n",
    "        b3 = parts[2]\n",
    "        aa = parts[3]\n",
    "\n",
    "        data[aa] = [b1 + b2 + b3]\n",
    "print(data)\n",
    "\n",
    "#1c\n",
    "\n",
    "for i, j in data.items():\n",
    "    \n",
    "\n",
    "\n"
   ]
  },
  {
   "cell_type": "code",
   "execution_count": null,
   "id": "94a2e4d8",
   "metadata": {},
   "outputs": [],
   "source": []
  }
 ],
 "metadata": {
  "kernelspec": {
   "display_name": "Python (Jupyter)",
   "language": "python",
   "name": "my-jupyter-kernel"
  },
  "language_info": {
   "codemirror_mode": {
    "name": "ipython",
    "version": 3
   },
   "file_extension": ".py",
   "mimetype": "text/x-python",
   "name": "python",
   "nbconvert_exporter": "python",
   "pygments_lexer": "ipython3",
   "version": "3.9.6"
  }
 },
 "nbformat": 4,
 "nbformat_minor": 5
}
