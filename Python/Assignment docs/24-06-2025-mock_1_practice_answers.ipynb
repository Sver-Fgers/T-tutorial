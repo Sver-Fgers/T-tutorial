{
 "cells": [
  {
   "cell_type": "code",
   "execution_count": 87,
   "id": "0a221f80-6b6c-4d28-9ab6-73d561c3095b",
   "metadata": {},
   "outputs": [
    {
     "name": "stdin",
     "output_type": "stream",
     "text": [
      "Enter a number:  3\n"
     ]
    },
    {
     "name": "stdout",
     "output_type": "stream",
     "text": [
      "sn = 17.0\n"
     ]
    }
   ],
   "source": [
    "#1\n",
    "\n",
    "#a\n",
    "# ask user for input \n",
    "n = int(input(\"Enter a number: \"))\n",
    "\n",
    "# initialize variable \n",
    "sn = 0\n",
    "\n",
    "# loop through 1 to n\n",
    "for k in range(1, n + 1):\n",
    "    # do the maths summation\n",
    "    sn += (k**2) + (k/2)\n",
    "    \n",
    "print(f\"sn = {sn}\")"
   ]
  },
  {
   "cell_type": "code",
   "execution_count": 88,
   "id": "9872fe79-ee8b-465e-bc08-07847fba128d",
   "metadata": {},
   "outputs": [
    {
     "name": "stdin",
     "output_type": "stream",
     "text": [
      "Enter a number:  3\n"
     ]
    },
    {
     "name": "stdout",
     "output_type": "stream",
     "text": [
      "n is a natural number\n"
     ]
    }
   ],
   "source": [
    "#b\n",
    "\n",
    "# ask user for input \n",
    "n = float(input(\"Enter a number: \"))\n",
    "\n",
    "# natural number means number is an integer and greater than 0\n",
    "if n == int(n) and n > 0:\n",
    "    n = int(n)\n",
    "    print(\"n is a natural number\")\n",
    "\n",
    "else:\n",
    "    print(\"n is not a natural number\")"
   ]
  },
  {
   "cell_type": "code",
   "execution_count": 89,
   "id": "2aebefe4-425e-4fd0-bf41-e7eb03c58586",
   "metadata": {},
   "outputs": [],
   "source": [
    "#c\n",
    "\n",
    "# O(n) - linear time complexity because of the loop and time"
   ]
  },
  {
   "cell_type": "code",
   "execution_count": 90,
   "id": "c2945c9e-a1c2-4b03-84bd-30b48d87b97f",
   "metadata": {},
   "outputs": [
    {
     "name": "stdout",
     "output_type": "stream",
     "text": [
      "17.0\n"
     ]
    }
   ],
   "source": [
    "#d\n",
    "\n",
    "def s(n):\n",
    "    sn = 0  \n",
    "    \n",
    "    for k in range(1, n + 1):\n",
    "        \n",
    "        sn += (k**2) + (k/2)\n",
    "\n",
    "    return sn\n",
    "#call the function\n",
    "print(s(3))\n"
   ]
  },
  {
   "cell_type": "code",
   "execution_count": 91,
   "id": "62d0f2d2-3d53-42e1-92c6-e64f0c94c8c1",
   "metadata": {},
   "outputs": [
    {
     "data": {
      "text/plain": [
       "17.0"
      ]
     },
     "execution_count": 91,
     "metadata": {},
     "output_type": "execute_result"
    }
   ],
   "source": [
    "#2\n",
    "\n",
    "def sn_rec(n):\n",
    "    # base case\n",
    "    if n == 1:\n",
    "        return 1.5\n",
    "\n",
    "    # recursive case\n",
    "    else:\n",
    "        result = sn_rec(n - 1) + (n**2) + (n/2)\n",
    "        return result\n",
    "\n",
    "sn_rec(3)\n"
   ]
  },
  {
   "cell_type": "code",
   "execution_count": 92,
   "id": "1f88f1e4-92a1-43e3-a0c8-e5fcc2851c95",
   "metadata": {},
   "outputs": [
    {
     "name": "stdout",
     "output_type": "stream",
     "text": [
      "{'ATP': ('507.2', '259.0', '15400.0'), 'CTP': ('483.2', '271.0', '9000.0'), 'GTP': ('523.2', '253.0', '13700.0'), 'UTP': ('484.2', '262.0', '10000.0'), 'dATP': ('491.2', '259.0', '15200.0'), 'dCTP': ('467.2', '271.0', '9300.0'), 'dGTP': ('507.2', '253.0', '13700.0'), 'dTTP': ('482.2', '267.0', '9600.0')}\n"
     ]
    }
   ],
   "source": [
    "#3\n",
    "\n",
    "#a\n",
    "# open the file nucleotide.txt\n",
    "with open(\"/Users/bosslistic10/Documents/t-programming/Python/School docs/mock_exam/mock 1/nucleotides.txt\", \"r\") as f:\n",
    "\n",
    "    # skip the first line of the file\n",
    "    next(f)\n",
    "\n",
    "    # initialize empty dictionary\n",
    "    data = {}\n",
    "\n",
    "    # loop through the file and section the data\n",
    "    for line in f:\n",
    "        # strip removes whitespaces and split sections by bar |\n",
    "        parts = line.strip().split(\"|\")\n",
    "        n = parts[0]\n",
    "        mw = parts[1]\n",
    "        am = parts[2]\n",
    "        mc = parts[3]\n",
    "\n",
    "        # update the dictionary \n",
    "        data[n] = (mw, am, mc)\n",
    "\n",
    "    print(data)"
   ]
  },
  {
   "cell_type": "code",
   "execution_count": 93,
   "id": "3c653200-204b-4522-a46c-ff685eea2dc5",
   "metadata": {},
   "outputs": [
    {
     "name": "stdout",
     "output_type": "stream",
     "text": [
      "('dTTP', ('482.2', '267.0', '9600.0'))\n",
      "('dGTP', ('507.2', '253.0', '13700.0'))\n",
      "('dCTP', ('467.2', '271.0', '9300.0'))\n",
      "('dATP', ('491.2', '259.0', '15200.0'))\n",
      "('UTP', ('484.2', '262.0', '10000.0'))\n",
      "('GTP', ('523.2', '253.0', '13700.0'))\n",
      "('CTP', ('483.2', '271.0', '9000.0'))\n",
      "('ATP', ('507.2', '259.0', '15400.0'))\n"
     ]
    }
   ],
   "source": [
    "#b\n",
    "\n",
    "# use sorted method to sort dictionary by alphabetical order\n",
    "sorted_by_reverse = sorted(data.items(), reverse = True)\n",
    "\n",
    "# loop through \n",
    "for i in sorted_by_reverse:\n",
    "    print(i)"
   ]
  },
  {
   "cell_type": "code",
   "execution_count": 94,
   "id": "cec5cb72-4e6d-4445-8ed5-ee5e2357a96b",
   "metadata": {},
   "outputs": [
    {
     "name": "stdout",
     "output_type": "stream",
     "text": [
      "('dCTP', ('467.2', '271.0', '9300.0'))\n",
      "('dTTP', ('482.2', '267.0', '9600.0'))\n",
      "('CTP', ('483.2', '271.0', '9000.0'))\n",
      "('UTP', ('484.2', '262.0', '10000.0'))\n",
      "('dATP', ('491.2', '259.0', '15200.0'))\n",
      "('dGTP', ('507.2', '253.0', '13700.0'))\n",
      "('ATP', ('507.2', '259.0', '15400.0'))\n",
      "('GTP', ('523.2', '253.0', '13700.0'))\n"
     ]
    }
   ],
   "source": [
    "#c\n",
    "\n",
    "# import itemgetter to be able to select a particular column\n",
    "from operator import itemgetter\n",
    "\n",
    "\n",
    "sorted_by_mw = sorted(data.items(), key = itemgetter(1))\n",
    "\n",
    "for i in sorted_by_mw:\n",
    "    print(i)"
   ]
  },
  {
   "cell_type": "code",
   "execution_count": 95,
   "id": "d2d9ee5d-77e4-4f9b-8541-c4a7532b462e",
   "metadata": {},
   "outputs": [
    {
     "data": {
      "text/html": [
       "<div>\n",
       "<style scoped>\n",
       "    .dataframe tbody tr th:only-of-type {\n",
       "        vertical-align: middle;\n",
       "    }\n",
       "\n",
       "    .dataframe tbody tr th {\n",
       "        vertical-align: top;\n",
       "    }\n",
       "\n",
       "    .dataframe thead th {\n",
       "        text-align: right;\n",
       "    }\n",
       "</style>\n",
       "<table border=\"1\" class=\"dataframe\">\n",
       "  <thead>\n",
       "    <tr style=\"text-align: right;\">\n",
       "      <th></th>\n",
       "      <th>Molecular weight g/mol</th>\n",
       "      <th>Absorbance Maximum at pH 7.0 (nm)</th>\n",
       "      <th>Molar Extinction Coefficient at pH 7.0</th>\n",
       "    </tr>\n",
       "  </thead>\n",
       "  <tbody>\n",
       "    <tr>\n",
       "      <th>ATP</th>\n",
       "      <td>507.2</td>\n",
       "      <td>259.0</td>\n",
       "      <td>15400.0</td>\n",
       "    </tr>\n",
       "    <tr>\n",
       "      <th>CTP</th>\n",
       "      <td>483.2</td>\n",
       "      <td>271.0</td>\n",
       "      <td>9000.0</td>\n",
       "    </tr>\n",
       "    <tr>\n",
       "      <th>GTP</th>\n",
       "      <td>523.2</td>\n",
       "      <td>253.0</td>\n",
       "      <td>13700.0</td>\n",
       "    </tr>\n",
       "    <tr>\n",
       "      <th>UTP</th>\n",
       "      <td>484.2</td>\n",
       "      <td>262.0</td>\n",
       "      <td>10000.0</td>\n",
       "    </tr>\n",
       "    <tr>\n",
       "      <th>dATP</th>\n",
       "      <td>491.2</td>\n",
       "      <td>259.0</td>\n",
       "      <td>15200.0</td>\n",
       "    </tr>\n",
       "    <tr>\n",
       "      <th>dCTP</th>\n",
       "      <td>467.2</td>\n",
       "      <td>271.0</td>\n",
       "      <td>9300.0</td>\n",
       "    </tr>\n",
       "    <tr>\n",
       "      <th>dGTP</th>\n",
       "      <td>507.2</td>\n",
       "      <td>253.0</td>\n",
       "      <td>13700.0</td>\n",
       "    </tr>\n",
       "    <tr>\n",
       "      <th>dTTP</th>\n",
       "      <td>482.2</td>\n",
       "      <td>267.0</td>\n",
       "      <td>9600.0</td>\n",
       "    </tr>\n",
       "  </tbody>\n",
       "</table>\n",
       "</div>"
      ],
      "text/plain": [
       "     Molecular weight g/mol Absorbance Maximum at pH 7.0 (nm)  \\\n",
       "ATP                   507.2                             259.0   \n",
       "CTP                   483.2                             271.0   \n",
       "GTP                   523.2                             253.0   \n",
       "UTP                   484.2                             262.0   \n",
       "dATP                  491.2                             259.0   \n",
       "dCTP                  467.2                             271.0   \n",
       "dGTP                  507.2                             253.0   \n",
       "dTTP                  482.2                             267.0   \n",
       "\n",
       "     Molar Extinction Coefficient at pH 7.0  \n",
       "ATP                                 15400.0  \n",
       "CTP                                  9000.0  \n",
       "GTP                                 13700.0  \n",
       "UTP                                 10000.0  \n",
       "dATP                                15200.0  \n",
       "dCTP                                 9300.0  \n",
       "dGTP                                13700.0  \n",
       "dTTP                                 9600.0  "
      ]
     },
     "metadata": {},
     "output_type": "display_data"
    }
   ],
   "source": [
    "#d\n",
    "\n",
    "# import pandas to use to create dataframe\n",
    "import pandas as pd\n",
    "\n",
    "# create dataframe\n",
    "df = pd.DataFrame.from_dict(data, orient = \"index\", columns = [\"Molecular weight g/mol\", \"Absorbance Maximum at pH 7.0 (nm)\", \"Molar Extinction Coefficient at pH 7.0\"])\n",
    "\n",
    "display(df)"
   ]
  },
  {
   "cell_type": "code",
   "execution_count": 96,
   "id": "2c55af7c-e2e7-42b7-9097-5e473d1359fd",
   "metadata": {},
   "outputs": [
    {
     "data": {
      "text/html": [
       "<div>\n",
       "<style scoped>\n",
       "    .dataframe tbody tr th:only-of-type {\n",
       "        vertical-align: middle;\n",
       "    }\n",
       "\n",
       "    .dataframe tbody tr th {\n",
       "        vertical-align: top;\n",
       "    }\n",
       "\n",
       "    .dataframe thead th {\n",
       "        text-align: right;\n",
       "    }\n",
       "</style>\n",
       "<table border=\"1\" class=\"dataframe\">\n",
       "  <thead>\n",
       "    <tr style=\"text-align: right;\">\n",
       "      <th></th>\n",
       "      <th>ATP</th>\n",
       "      <th>CTP</th>\n",
       "      <th>GTP</th>\n",
       "      <th>UTP</th>\n",
       "      <th>dATP</th>\n",
       "      <th>dCTP</th>\n",
       "      <th>dGTP</th>\n",
       "      <th>dTTP</th>\n",
       "    </tr>\n",
       "  </thead>\n",
       "  <tbody>\n",
       "    <tr>\n",
       "      <th>Molecular weight g/mol</th>\n",
       "      <td>507.2</td>\n",
       "      <td>483.2</td>\n",
       "      <td>523.2</td>\n",
       "      <td>484.2</td>\n",
       "      <td>491.2</td>\n",
       "      <td>467.2</td>\n",
       "      <td>507.2</td>\n",
       "      <td>482.2</td>\n",
       "    </tr>\n",
       "    <tr>\n",
       "      <th>Absorbance Maximum at pH 7.0 (nm)</th>\n",
       "      <td>259.0</td>\n",
       "      <td>271.0</td>\n",
       "      <td>253.0</td>\n",
       "      <td>262.0</td>\n",
       "      <td>259.0</td>\n",
       "      <td>271.0</td>\n",
       "      <td>253.0</td>\n",
       "      <td>267.0</td>\n",
       "    </tr>\n",
       "    <tr>\n",
       "      <th>Molar Extinction Coefficient at pH 7.0</th>\n",
       "      <td>15400.0</td>\n",
       "      <td>9000.0</td>\n",
       "      <td>13700.0</td>\n",
       "      <td>10000.0</td>\n",
       "      <td>15200.0</td>\n",
       "      <td>9300.0</td>\n",
       "      <td>13700.0</td>\n",
       "      <td>9600.0</td>\n",
       "    </tr>\n",
       "  </tbody>\n",
       "</table>\n",
       "</div>"
      ],
      "text/plain": [
       "                                            ATP     CTP      GTP      UTP  \\\n",
       "Molecular weight g/mol                    507.2   483.2    523.2    484.2   \n",
       "Absorbance Maximum at pH 7.0 (nm)         259.0   271.0    253.0    262.0   \n",
       "Molar Extinction Coefficient at pH 7.0  15400.0  9000.0  13700.0  10000.0   \n",
       "\n",
       "                                           dATP    dCTP     dGTP    dTTP  \n",
       "Molecular weight g/mol                    491.2   467.2    507.2   482.2  \n",
       "Absorbance Maximum at pH 7.0 (nm)         259.0   271.0    253.0   267.0  \n",
       "Molar Extinction Coefficient at pH 7.0  15200.0  9300.0  13700.0  9600.0  "
      ]
     },
     "metadata": {},
     "output_type": "display_data"
    }
   ],
   "source": [
    "#e\n",
    "\n",
    "t = df.transpose()\n",
    "display(t)"
   ]
  },
  {
   "cell_type": "code",
   "execution_count": 97,
   "id": "267db257-42c6-4981-a477-62fa30808765",
   "metadata": {},
   "outputs": [
    {
     "data": {
      "text/html": [
       "<div>\n",
       "<style scoped>\n",
       "    .dataframe tbody tr th:only-of-type {\n",
       "        vertical-align: middle;\n",
       "    }\n",
       "\n",
       "    .dataframe tbody tr th {\n",
       "        vertical-align: top;\n",
       "    }\n",
       "\n",
       "    .dataframe thead th {\n",
       "        text-align: right;\n",
       "    }\n",
       "</style>\n",
       "<table border=\"1\" class=\"dataframe\">\n",
       "  <thead>\n",
       "    <tr style=\"text-align: right;\">\n",
       "      <th></th>\n",
       "      <th>Weight</th>\n",
       "    </tr>\n",
       "    <tr>\n",
       "      <th>Base</th>\n",
       "      <th></th>\n",
       "    </tr>\n",
       "  </thead>\n",
       "  <tbody>\n",
       "    <tr>\n",
       "      <th>A</th>\n",
       "      <td>313.21</td>\n",
       "    </tr>\n",
       "    <tr>\n",
       "      <th>T</th>\n",
       "      <td>304.20</td>\n",
       "    </tr>\n",
       "    <tr>\n",
       "      <th>C</th>\n",
       "      <td>289.18</td>\n",
       "    </tr>\n",
       "    <tr>\n",
       "      <th>G</th>\n",
       "      <td>329.21</td>\n",
       "    </tr>\n",
       "  </tbody>\n",
       "</table>\n",
       "</div>"
      ],
      "text/plain": [
       "      Weight\n",
       "Base        \n",
       "A     313.21\n",
       "T     304.20\n",
       "C     289.18\n",
       "G     329.21"
      ]
     },
     "metadata": {},
     "output_type": "display_data"
    },
    {
     "name": "stdout",
     "output_type": "stream",
     "text": [
      "Molecular weight of ssDNA: 3475.4g/mol\n"
     ]
    }
   ],
   "source": [
    "#4\n",
    "\n",
    "s= \"AGCTTTTCGTAC\"\n",
    "\n",
    "# read the csv file dataframe.csv\n",
    "df = pd.read_csv(\"/Users/bosslistic10/Documents/t-programming/Python/School docs/mock_exam/mock 1/dataframe.csv.txt\", sep = \"\\t\", index_col = 0)\n",
    "\n",
    "display(df)\n",
    "\n",
    "# initialize variable add \n",
    "add = 0\n",
    "\n",
    "# loop through s \n",
    "for i in s:\n",
    "    # use the df.loc to locate each nucleotides weight \n",
    "    add += df.loc[i, \"Weight\"]\n",
    "\n",
    "# minus 18 from the total bonds \n",
    "minus = 18 * (len(s) - 1)\n",
    "\n",
    "final_weight = add - minus\n",
    "\n",
    "print(f\"Molecular weight of ssDNA: {final_weight:.1f}g/mol\")\n",
    "    "
   ]
  },
  {
   "cell_type": "code",
   "execution_count": 98,
   "id": "8fa707ab-876e-4717-9a41-e50cf1dcdf66",
   "metadata": {},
   "outputs": [
    {
     "name": "stdout",
     "output_type": "stream",
     "text": [
      "{'ML': 2, 'LY': 1, 'YI': 1, 'IT': 1, 'TM': 1, 'LW': 1, 'WV': 1, 'VM': 1}\n"
     ]
    }
   ],
   "source": [
    "#5\n",
    "\n",
    "#a\n",
    "\n",
    "s = \"MLYITMLWVM\"\n",
    "s_dict = {}\n",
    "\n",
    "# loop through the position with minus 1 to not skip the last nucleotide\n",
    "for i in range(len(s) - 1):\n",
    "    # slice the string in twos\n",
    "    counter_s = s[i:i + 2]\n",
    "\n",
    "    # check if nucleotide in s is in the dictionary already if not add the value as 1\n",
    "    if counter_s not in s_dict:\n",
    "        s_dict[counter_s] = 1\n",
    "    # if it is already in the dictionary increase by 1\n",
    "    else:\n",
    "        s_dict[counter_s] += 1\n",
    "\n",
    "print(s_dict)"
   ]
  },
  {
   "cell_type": "code",
   "execution_count": 99,
   "id": "dbb9b940-fed4-46c1-817a-2e0aee7afc5b",
   "metadata": {},
   "outputs": [
    {
     "name": "stdout",
     "output_type": "stream",
     "text": [
      "{'GI': 1, 'IY': 1, 'YI': 1, 'IT': 1, 'TM': 1, 'ML': 1, 'LW': 1}\n",
      "2-mer ML of s (2x) also present in t (1x)\n",
      "2-mer YI of s (1x) also present in t (1x)\n",
      "2-mer IT of s (1x) also present in t (1x)\n",
      "2-mer TM of s (1x) also present in t (1x)\n",
      "2-mer LW of s (1x) also present in t (1x)\n"
     ]
    }
   ],
   "source": [
    "#b\n",
    "\n",
    "t = \"GIYITMLW\"\n",
    "\n",
    "t_dict = {}\n",
    "\n",
    "\n",
    "for i in range(len(t) - 1):\n",
    "    counter_t = t[i:i + 2]\n",
    "\n",
    "    if counter_t not in t_dict:\n",
    "        t_dict[counter_t] = 1\n",
    "\n",
    "    else:\n",
    "        s_dict[counter_t] += 1\n",
    "\n",
    "print(t_dict)\n",
    "\n",
    "for counter_s in s_dict:\n",
    "    if counter_s in t_dict:\n",
    "        print(f\"2-mer {counter_s} of s ({s_dict[counter_s]}x) also present in t ({t_dict[counter_t]}x)\")"
   ]
  },
  {
   "cell_type": "markdown",
   "id": "a9f86ed9-f4a9-4b12-9c26-74e01b3adea4",
   "metadata": {},
   "source": []
  },
  {
   "cell_type": "code",
   "execution_count": null,
   "id": "a47fa69b-a4e2-4975-afc8-a9dc7821fb21",
   "metadata": {},
   "outputs": [],
   "source": [
    "\"\"\"\n",
    "programming 1st exam \n",
    "\n",
    "\"\"\""
   ]
  },
  {
   "cell_type": "code",
   "execution_count": 2,
   "id": "0693b220-859f-43d5-b5ac-217c14e40232",
   "metadata": {},
   "outputs": [
    {
     "name": "stdin",
     "output_type": "stream",
     "text": [
      "Enter the Po:  100\n",
      "Enter the rate:  1.1\n",
      "Enter the time:  5\n"
     ]
    },
    {
     "name": "stdout",
     "output_type": "stream",
     "text": [
      "Pt = 671.56\n"
     ]
    }
   ],
   "source": [
    "#1\n",
    "\n",
    "#a\n",
    "\n",
    "po, r, t = float(input(\"Enter the Po: \")), float(input(\"Enter the rate: \")), int(input(\"Enter the time: \"))\n",
    "\n",
    "pt = 0 \n",
    "\n",
    "for i in range(1, t + 1):\n",
    "    \n",
    "    pt += po * (r ** i)\n",
    "\n",
    "\n",
    "#b \n",
    "\n",
    "print(f\"Pt = {pt:.2f}\")"
   ]
  },
  {
   "cell_type": "code",
   "execution_count": null,
   "id": "df8fb392-b89a-41cc-b7b2-194cc16cbe87",
   "metadata": {},
   "outputs": [],
   "source": [
    "#c \n",
    "# the runtime complexity is O(n) linear time complexity because of the loops and time"
   ]
  },
  {
   "cell_type": "code",
   "execution_count": 22,
   "id": "a7524918-0411-4d3b-840f-dadda7ef06bd",
   "metadata": {},
   "outputs": [
    {
     "name": "stdout",
     "output_type": "stream",
     "text": [
      "243.10\n"
     ]
    }
   ],
   "source": [
    "#d\n",
    "\n",
    "def pt_rec(po, r, t, h):\n",
    "    \n",
    "    if t == 0:\n",
    "        return 0\n",
    "\n",
    "    elif t % h == 1:\n",
    "        return (pt_rec(po, r, t - 1, h) + po) * r\n",
    "\n",
    "    else:\n",
    "        return pt_rec(po , r, t - 1, h) * r\n",
    "pt = pt_rec(100, 1.1, 3, 2)\n",
    "print(f\"{pt:.2f}\")\n",
    "\n"
   ]
  },
  {
   "cell_type": "code",
   "execution_count": 39,
   "id": "00c9983e-1ac9-4bf0-a45e-d07dc3cecee3",
   "metadata": {},
   "outputs": [
    {
     "name": "stdout",
     "output_type": "stream",
     "text": [
      "{('P', 'C', 'C'): 'T', ('T', 'A', 'C'): 'T', ('A', 'G', 'C'): 'T', ('H', 'C', 'A'): 'T', ('N', 'A', 'A'): 'T', ('D', 'G', 'A'): 'T', ('Q', 'C', 'A'): 'G', ('K', 'A', 'A'): 'G', ('E', 'G', 'A'): 'G', ('R', 'C', 'G'): 'T', ('S', 'A', 'G'): 'T', ('G', 'G', 'G'): 'T', ('R', 'A', 'G'): 'G', ('F', 'T', 'T'): 'C', ('L', 'C', 'T'): 'G', ('I', 'A', 'T'): 'A', ('V', 'G', 'T'): 'G', ('L', 'T', 'T'): 'G', ('M', 'A', 'T'): 'G', ('S', 'T', 'C'): 'G', ('Y', 'T', 'A'): 'C', ('*', 'T', 'A'): 'G', ('C', 'T', 'G'): 'C', ('*', 'T', 'G'): 'A', ('W', 'T', 'G'): 'G'}\n"
     ]
    }
   ],
   "source": [
    "#2\n",
    "\n",
    "#a\n",
    "\n",
    "with open (\"/Users/bosslistic10/Documents/t-programming/Python/School docs/mock_exam/mock 2/genetic_code.txt\", \"r\") as f:\n",
    "\n",
    "    next(f)\n",
    "    next(f)\n",
    "    #file = f.readlines()\n",
    "    #print(file)\n",
    "    \n",
    "    data = {}\n",
    "    \n",
    "    for line in f:\n",
    "        parts = line.strip().split(\"\\t\")\n",
    "        b1 = parts[0]\n",
    "        b2 = parts[1]\n",
    "        b3 = parts[2]\n",
    "        aa = parts[3]\n",
    "\n",
    "        data[(b1, b2, b3)] = aa \n",
    "    print(data)\n",
    "    \n",
    "        "
   ]
  },
  {
   "cell_type": "code",
   "execution_count": 44,
   "id": "bf1d231e-0259-435c-b653-ee5fea2ad125",
   "metadata": {},
   "outputs": [
    {
     "name": "stdout",
     "output_type": "stream",
     "text": [
      "(('*', 'T', 'A'), 'G')\n",
      "(('*', 'T', 'G'), 'A')\n",
      "(('A', 'G', 'C'), 'T')\n",
      "(('C', 'T', 'G'), 'C')\n",
      "(('D', 'G', 'A'), 'T')\n",
      "(('E', 'G', 'A'), 'G')\n",
      "(('F', 'T', 'T'), 'C')\n",
      "(('G', 'G', 'G'), 'T')\n",
      "(('H', 'C', 'A'), 'T')\n",
      "(('I', 'A', 'T'), 'A')\n",
      "(('K', 'A', 'A'), 'G')\n",
      "(('L', 'C', 'T'), 'G')\n",
      "(('L', 'T', 'T'), 'G')\n",
      "(('M', 'A', 'T'), 'G')\n",
      "(('N', 'A', 'A'), 'T')\n",
      "(('P', 'C', 'C'), 'T')\n",
      "(('Q', 'C', 'A'), 'G')\n",
      "(('R', 'A', 'G'), 'G')\n",
      "(('R', 'C', 'G'), 'T')\n",
      "(('S', 'A', 'G'), 'T')\n",
      "(('S', 'T', 'C'), 'G')\n",
      "(('T', 'A', 'C'), 'T')\n",
      "(('V', 'G', 'T'), 'G')\n",
      "(('W', 'T', 'G'), 'G')\n",
      "(('Y', 'T', 'A'), 'C')\n"
     ]
    }
   ],
   "source": [
    "#b\n",
    "\n",
    "sorted_by_bases = sorted(data.items())\n",
    "\n",
    "for i in sorted_by_bases:\n",
    "    print(i)"
   ]
  },
  {
   "cell_type": "code",
   "execution_count": 47,
   "id": "7fb918b6-98f9-4bc2-b61e-274cca3d3e96",
   "metadata": {},
   "outputs": [
    {
     "name": "stdout",
     "output_type": "stream",
     "text": [
      "(('I', 'A', 'T'), 'A')\n",
      "(('*', 'T', 'G'), 'A')\n",
      "(('F', 'T', 'T'), 'C')\n",
      "(('Y', 'T', 'A'), 'C')\n",
      "(('C', 'T', 'G'), 'C')\n",
      "(('Q', 'C', 'A'), 'G')\n",
      "(('K', 'A', 'A'), 'G')\n",
      "(('E', 'G', 'A'), 'G')\n",
      "(('R', 'A', 'G'), 'G')\n",
      "(('L', 'C', 'T'), 'G')\n",
      "(('V', 'G', 'T'), 'G')\n",
      "(('L', 'T', 'T'), 'G')\n",
      "(('M', 'A', 'T'), 'G')\n",
      "(('S', 'T', 'C'), 'G')\n",
      "(('*', 'T', 'A'), 'G')\n",
      "(('W', 'T', 'G'), 'G')\n",
      "(('P', 'C', 'C'), 'T')\n",
      "(('T', 'A', 'C'), 'T')\n",
      "(('A', 'G', 'C'), 'T')\n",
      "(('H', 'C', 'A'), 'T')\n",
      "(('N', 'A', 'A'), 'T')\n",
      "(('D', 'G', 'A'), 'T')\n",
      "(('R', 'C', 'G'), 'T')\n",
      "(('S', 'A', 'G'), 'T')\n",
      "(('G', 'G', 'G'), 'T')\n"
     ]
    }
   ],
   "source": [
    "#c \n",
    "from operator import itemgetter\n",
    "\n",
    "sorted_by_aminoacids = sorted(data.items(), key = itemgetter(1))\n",
    "\n",
    "for i in sorted_by_aminoacids:\n",
    "    print(i)"
   ]
  },
  {
   "cell_type": "code",
   "execution_count": 73,
   "id": "dd63c33d-1bc0-4314-85bd-2e51f9abe89d",
   "metadata": {},
   "outputs": [
    {
     "data": {
      "text/html": [
       "<div>\n",
       "<style scoped>\n",
       "    .dataframe tbody tr th:only-of-type {\n",
       "        vertical-align: middle;\n",
       "    }\n",
       "\n",
       "    .dataframe tbody tr th {\n",
       "        vertical-align: top;\n",
       "    }\n",
       "\n",
       "    .dataframe thead th {\n",
       "        text-align: right;\n",
       "    }\n",
       "</style>\n",
       "<table border=\"1\" class=\"dataframe\">\n",
       "  <thead>\n",
       "    <tr style=\"text-align: right;\">\n",
       "      <th></th>\n",
       "      <th>Base 1</th>\n",
       "      <th>Base 2</th>\n",
       "      <th>Base 3</th>\n",
       "      <th>aa</th>\n",
       "    </tr>\n",
       "  </thead>\n",
       "  <tbody>\n",
       "    <tr>\n",
       "      <th>PCC</th>\n",
       "      <td>P</td>\n",
       "      <td>C</td>\n",
       "      <td>C</td>\n",
       "      <td>T</td>\n",
       "    </tr>\n",
       "    <tr>\n",
       "      <th>TAC</th>\n",
       "      <td>T</td>\n",
       "      <td>A</td>\n",
       "      <td>C</td>\n",
       "      <td>T</td>\n",
       "    </tr>\n",
       "    <tr>\n",
       "      <th>AGC</th>\n",
       "      <td>A</td>\n",
       "      <td>G</td>\n",
       "      <td>C</td>\n",
       "      <td>T</td>\n",
       "    </tr>\n",
       "    <tr>\n",
       "      <th>HCA</th>\n",
       "      <td>H</td>\n",
       "      <td>C</td>\n",
       "      <td>A</td>\n",
       "      <td>T</td>\n",
       "    </tr>\n",
       "    <tr>\n",
       "      <th>NAA</th>\n",
       "      <td>N</td>\n",
       "      <td>A</td>\n",
       "      <td>A</td>\n",
       "      <td>T</td>\n",
       "    </tr>\n",
       "    <tr>\n",
       "      <th>DGA</th>\n",
       "      <td>D</td>\n",
       "      <td>G</td>\n",
       "      <td>A</td>\n",
       "      <td>T</td>\n",
       "    </tr>\n",
       "    <tr>\n",
       "      <th>QCA</th>\n",
       "      <td>Q</td>\n",
       "      <td>C</td>\n",
       "      <td>A</td>\n",
       "      <td>G</td>\n",
       "    </tr>\n",
       "    <tr>\n",
       "      <th>KAA</th>\n",
       "      <td>K</td>\n",
       "      <td>A</td>\n",
       "      <td>A</td>\n",
       "      <td>G</td>\n",
       "    </tr>\n",
       "    <tr>\n",
       "      <th>EGA</th>\n",
       "      <td>E</td>\n",
       "      <td>G</td>\n",
       "      <td>A</td>\n",
       "      <td>G</td>\n",
       "    </tr>\n",
       "    <tr>\n",
       "      <th>RCG</th>\n",
       "      <td>R</td>\n",
       "      <td>C</td>\n",
       "      <td>G</td>\n",
       "      <td>T</td>\n",
       "    </tr>\n",
       "    <tr>\n",
       "      <th>SAG</th>\n",
       "      <td>S</td>\n",
       "      <td>A</td>\n",
       "      <td>G</td>\n",
       "      <td>T</td>\n",
       "    </tr>\n",
       "    <tr>\n",
       "      <th>GGG</th>\n",
       "      <td>G</td>\n",
       "      <td>G</td>\n",
       "      <td>G</td>\n",
       "      <td>T</td>\n",
       "    </tr>\n",
       "    <tr>\n",
       "      <th>RAG</th>\n",
       "      <td>R</td>\n",
       "      <td>A</td>\n",
       "      <td>G</td>\n",
       "      <td>G</td>\n",
       "    </tr>\n",
       "    <tr>\n",
       "      <th>FTT</th>\n",
       "      <td>F</td>\n",
       "      <td>T</td>\n",
       "      <td>T</td>\n",
       "      <td>C</td>\n",
       "    </tr>\n",
       "    <tr>\n",
       "      <th>LCT</th>\n",
       "      <td>L</td>\n",
       "      <td>C</td>\n",
       "      <td>T</td>\n",
       "      <td>G</td>\n",
       "    </tr>\n",
       "    <tr>\n",
       "      <th>IAT</th>\n",
       "      <td>I</td>\n",
       "      <td>A</td>\n",
       "      <td>T</td>\n",
       "      <td>A</td>\n",
       "    </tr>\n",
       "    <tr>\n",
       "      <th>VGT</th>\n",
       "      <td>V</td>\n",
       "      <td>G</td>\n",
       "      <td>T</td>\n",
       "      <td>G</td>\n",
       "    </tr>\n",
       "    <tr>\n",
       "      <th>LTT</th>\n",
       "      <td>L</td>\n",
       "      <td>T</td>\n",
       "      <td>T</td>\n",
       "      <td>G</td>\n",
       "    </tr>\n",
       "    <tr>\n",
       "      <th>MAT</th>\n",
       "      <td>M</td>\n",
       "      <td>A</td>\n",
       "      <td>T</td>\n",
       "      <td>G</td>\n",
       "    </tr>\n",
       "    <tr>\n",
       "      <th>STC</th>\n",
       "      <td>S</td>\n",
       "      <td>T</td>\n",
       "      <td>C</td>\n",
       "      <td>G</td>\n",
       "    </tr>\n",
       "    <tr>\n",
       "      <th>YTA</th>\n",
       "      <td>Y</td>\n",
       "      <td>T</td>\n",
       "      <td>A</td>\n",
       "      <td>C</td>\n",
       "    </tr>\n",
       "    <tr>\n",
       "      <th>*TA</th>\n",
       "      <td>*</td>\n",
       "      <td>T</td>\n",
       "      <td>A</td>\n",
       "      <td>G</td>\n",
       "    </tr>\n",
       "    <tr>\n",
       "      <th>CTG</th>\n",
       "      <td>C</td>\n",
       "      <td>T</td>\n",
       "      <td>G</td>\n",
       "      <td>C</td>\n",
       "    </tr>\n",
       "    <tr>\n",
       "      <th>*TG</th>\n",
       "      <td>*</td>\n",
       "      <td>T</td>\n",
       "      <td>G</td>\n",
       "      <td>A</td>\n",
       "    </tr>\n",
       "    <tr>\n",
       "      <th>WTG</th>\n",
       "      <td>W</td>\n",
       "      <td>T</td>\n",
       "      <td>G</td>\n",
       "      <td>G</td>\n",
       "    </tr>\n",
       "  </tbody>\n",
       "</table>\n",
       "</div>"
      ],
      "text/plain": [
       "    Base 1 Base 2 Base 3 aa\n",
       "PCC      P      C      C  T\n",
       "TAC      T      A      C  T\n",
       "AGC      A      G      C  T\n",
       "HCA      H      C      A  T\n",
       "NAA      N      A      A  T\n",
       "DGA      D      G      A  T\n",
       "QCA      Q      C      A  G\n",
       "KAA      K      A      A  G\n",
       "EGA      E      G      A  G\n",
       "RCG      R      C      G  T\n",
       "SAG      S      A      G  T\n",
       "GGG      G      G      G  T\n",
       "RAG      R      A      G  G\n",
       "FTT      F      T      T  C\n",
       "LCT      L      C      T  G\n",
       "IAT      I      A      T  A\n",
       "VGT      V      G      T  G\n",
       "LTT      L      T      T  G\n",
       "MAT      M      A      T  G\n",
       "STC      S      T      C  G\n",
       "YTA      Y      T      A  C\n",
       "*TA      *      T      A  G\n",
       "CTG      C      T      G  C\n",
       "*TG      *      T      G  A\n",
       "WTG      W      T      G  G"
      ]
     },
     "metadata": {},
     "output_type": "display_data"
    }
   ],
   "source": [
    "#d\n",
    "datalist = []\n",
    "\n",
    "for i, j in data.items():\n",
    "    base = [i[0], i[1], i[2], j]\n",
    "    \n",
    "\n",
    "    datalist.append(base)\n",
    "\n",
    "#print(datalist)\n",
    "\n",
    "\n",
    "\n",
    "import pandas as pd\n",
    "\n",
    "df = pd.DataFrame(datalist, columns = [\"Base 1\", \"Base 2\", \"Base 3\", \"aa\"])\n",
    "\n",
    "df.index = df[\"Base 1\"] + df[\"Base 2\"] + df[\"Base 3\"]\n",
    "\n",
    "display(df)"
   ]
  },
  {
   "cell_type": "code",
   "execution_count": 91,
   "id": "942bf574-48f8-4d3f-a34f-8518589f706d",
   "metadata": {},
   "outputs": [
    {
     "name": "stdout",
     "output_type": "stream",
     "text": [
      "    Base 1 Base 2 Base 3 Amino acid\n",
      "CCC      C      C      C          P\n",
      "ACC      A      C      C          T\n",
      "GCC      G      C      C          A\n",
      "CCA      C      C      A          P\n",
      "ACA      A      C      A          T\n",
      "..     ...    ...    ...        ...\n",
      "AGT      A      G      T          S\n",
      "GGT      G      G      T          G\n",
      "TGC      T      G      C          C\n",
      "TGA      T      G      A          *\n",
      "TGG      T      G      G          W\n",
      "\n",
      "[64 rows x 4 columns]\n",
      "MVEL\n"
     ]
    }
   ],
   "source": [
    "#3\n",
    "\n",
    "df1 = pd.read_csv(\"/Users/bosslistic10/Documents/t-programming/Python/School docs/mock_exam/mock 2/dataframe.csv.txt\", sep = \"\\t\", index_col = 0)\n",
    "\n",
    "print(df1)\n",
    "\n",
    "s = \"ATGGTGGAACTA\"\n",
    "aa = \"\"\n",
    "\n",
    "for i in range(0,len(s)-2, 3):\n",
    "    count = s[i:i + 3]\n",
    "\n",
    "    if count in df.index:\n",
    "        aa += df.loc[count, \"Amino acid\"]\n",
    "\n",
    "print(aa)\n",
    "  \n",
    "\n"
   ]
  },
  {
   "cell_type": "code",
   "execution_count": null,
   "id": "4f4df45b-75a4-4f67-9bc0-575a1dd10b41",
   "metadata": {},
   "outputs": [],
   "source": []
  }
 ],
 "metadata": {
  "kernelspec": {
   "display_name": "Python (Jupyter)",
   "language": "python",
   "name": "my-jupyter-kernel"
  },
  "language_info": {
   "codemirror_mode": {
    "name": "ipython",
    "version": 3
   },
   "file_extension": ".py",
   "mimetype": "text/x-python",
   "name": "python",
   "nbconvert_exporter": "python",
   "pygments_lexer": "ipython3",
   "version": "3.9.6"
  }
 },
 "nbformat": 4,
 "nbformat_minor": 5
}
