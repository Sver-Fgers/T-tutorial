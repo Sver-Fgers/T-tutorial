{
 "cells": [
  {
   "cell_type": "code",
   "execution_count": 7,
   "id": "8cdc3e0d",
   "metadata": {},
   "outputs": [
    {
     "name": "stdout",
     "output_type": "stream",
     "text": [
      "4 1.0 4 0\n"
     ]
    }
   ],
   "source": [
    "#1\n",
    "\n",
    "user1 = int(input(\"type a number\"))\n",
    "user2 = int(input(\"type a number\"))\n",
    "\n",
    "result_a = user1 + user2\n",
    "result_b = user1 / user2\n",
    "result_c = user1 * user2\n",
    "result_d = user1 - user2\n",
    "\n",
    "print(result_a, result_b, result_c, result_d)\n",
    "\n",
    "\n"
   ]
  },
  {
   "cell_type": "code",
   "execution_count": 13,
   "id": "d0cade6d",
   "metadata": {},
   "outputs": [
    {
     "name": "stdout",
     "output_type": "stream",
     "text": [
      "['obi', 'is', 'a', 'boy']\n"
     ]
    }
   ],
   "source": [
    "#2\n",
    "\n",
    "user1 = input(\"write a sentence of atleast 3 words\")\n",
    "\n",
    "seperator = user1.split(\" \")\n",
    "\n",
    "print(seperator)"
   ]
  },
  {
   "cell_type": "code",
   "execution_count": null,
   "id": "63454cfc",
   "metadata": {},
   "outputs": [],
   "source": []
  }
 ],
 "metadata": {
  "kernelspec": {
   "display_name": "Python 3",
   "language": "python",
   "name": "python3"
  },
  "language_info": {
   "codemirror_mode": {
    "name": "ipython",
    "version": 3
   },
   "file_extension": ".py",
   "mimetype": "text/x-python",
   "name": "python",
   "nbconvert_exporter": "python",
   "pygments_lexer": "ipython3",
   "version": "3.9.6"
  }
 },
 "nbformat": 4,
 "nbformat_minor": 5
}
