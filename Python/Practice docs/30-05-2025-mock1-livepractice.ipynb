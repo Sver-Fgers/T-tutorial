{
 "cells": [
  {
   "cell_type": "code",
   "execution_count": null,
   "metadata": {},
   "outputs": [
    {
     "name": "stdout",
     "output_type": "stream",
     "text": [
      "the points for your FOOD is: 8\n"
     ]
    }
   ],
   "source": [
    "points = {'A':1, 'B':3, 'C':3, 'D':2, 'E':1, 'F':4, 'G':2, 'H':4, 'I':1, 'J':8, 'K':5, 'L':1, 'M':3, 'N':1, 'O':1, 'P':3, 'Q':10, 'R':1, 'S':1, 'T':1, 'U':1, 'V':4, 'W':4, 'X':8, 'Y':4, 'Z':10}\n",
    "\n",
    "user_word = input(\"enter your word: \").upper()\n",
    "\n",
    "points[\"F\"] = 4\n",
    "points[\"O\"] = 1\n",
    "points[\"O\"] = 1\n",
    "points[\"D\"] = 2\n",
    "\n",
    "total_points = 0\n",
    "\n",
    "for letter in user_word:\n",
    "    if letter in points:\n",
    "        total_points += points[letter]\n",
    "    else:\n",
    "        print(\"character not correct\")\n",
    "\n",
    "print(f\"the points for your word `{user_word}` is: {total_points}\")"
   ]
  },
  {
   "cell_type": "code",
   "execution_count": null,
   "metadata": {},
   "outputs": [
    {
     "name": "stdout",
     "output_type": "stream",
     "text": [
      "{'A': 1, 'B': 3, 'C': 3, 'D': 2, 'E': 1, 'F': 4, 'G': 2, 'H': 4, 'I': 1, 'J': 8, 'K': 5, 'L': 1, 'M': 3, 'N': 1, 'O': 1, 'P': 3, 'Q': 10, 'R': 1, 'S': 1, 'T': 1, 'U': 1, 'V': 4, 'W': 4, 'X': 8, 'Y': 4, 'Z': 10}\n",
      "<built-in method items of dict object at 0x00000231B4C83140>\n"
     ]
    },
    {
     "data": {
      "text/plain": [
       "dict"
      ]
     },
     "execution_count": 42,
     "metadata": {},
     "output_type": "execute_result"
    }
   ],
   "source": []
  },
  {
   "cell_type": "markdown",
   "metadata": {},
   "source": [
    "\n"
   ]
  },
  {
   "cell_type": "code",
   "execution_count": null,
   "id": "4b3432a5",
   "metadata": {},
   "outputs": [
    {
     "name": "stdout",
     "output_type": "stream",
     "text": [
      "Nucleotide,Molecular_Weight,Absorbance_Maximum,Molar_Extinction_Coefficient\n",
      "\n",
      "['ATP', '507.2', '259.0', '15400.0']\n",
      "['CTP', '483.2', '271.0', '9000.0']\n",
      "['GTP', '523.2', '253.0', '13700.0']\n",
      "['UTP', '484.2', '262.0', '10000.0']\n",
      "['dATP', '491.2', '259.0', '15200.0']\n",
      "['dCTP', '467.2', '271.0', '9300.0']\n",
      "['dGTP', '507.2', '253.0', '13700.0']\n",
      "['dTTP', '482.2', '267.0', '9600.0']\n",
      "{'ATP': (507.2, 259.0, 15400.0), 'CTP': (483.2, 271.0, 9000.0), 'GTP': (523.2, 253.0, 13700.0), 'UTP': (484.2, 262.0, 10000.0), 'dATP': (491.2, 259.0, 15200.0), 'dCTP': (467.2, 271.0, 9300.0), 'dGTP': (507.2, 253.0, 13700.0), 'dTTP': (482.2, 267.0, 9600.0)}\n"
     ]
    }
   ],
   "source": [
    "#3\n",
    "data = {}\n",
    "\n",
    "with open(r\"C:\\Users\\Victor_Nxx\\Documents\\00-Vaults\\Public\\T - tutorial\\Python\\School docs\\mock_exam\\mock 1\\nucleotides.txt\", \"r\") as file:\n",
    "#d[nucleotide] = (molecular weight, absorbance-maximum, molar_extinctio_coefficient)\n",
    "\n",
    "    #next(file)\n",
    "    print(file.readline())  # Skip the header line\n",
    "    \n",
    "    for line in file:\n",
    "        parts = line.strip().split(\",\")\n",
    "        print(parts)\n",
    "\n",
    "        nucloetide = parts[0]\n",
    "        molecular_weight = float(parts[1])\n",
    "        absorbance_maximum = float(parts[2])\n",
    "        molar_extinction_coefficient = float(parts[3])\n",
    "    \n",
    "        data[nucloetide] = (molecular_weight, absorbance_maximum, molar_extinction_coefficient)\n",
    "\n",
    "print(data)"
   ]
  },
  {
   "cell_type": "code",
   "execution_count": null,
   "id": "baaccc50",
   "metadata": {},
   "outputs": [],
   "source": []
  }
 ],
 "metadata": {
  "kernelspec": {
   "display_name": "Python 3",
   "language": "python",
   "name": "python3"
  },
  "language_info": {
   "codemirror_mode": {
    "name": "ipython",
    "version": 3
   },
   "file_extension": ".py",
   "mimetype": "text/x-python",
   "name": "python",
   "nbconvert_exporter": "python",
   "pygments_lexer": "ipython3",
   "version": "3.11.2"
  }
 },
 "nbformat": 4,
 "nbformat_minor": 5
}
