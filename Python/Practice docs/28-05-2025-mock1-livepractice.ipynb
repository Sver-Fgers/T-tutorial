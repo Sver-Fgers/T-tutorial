{
 "cells": [
  {
   "cell_type": "code",
   "execution_count": 5,
   "id": "d2a57833",
   "metadata": {},
   "outputs": [
    {
     "name": "stdout",
     "output_type": "stream",
     "text": [
      "Sn =  17.0\n"
     ]
    }
   ],
   "source": [
    "#2\n",
    "def sn_rec(n):\n",
    "\n",
    "    if n == 1:\n",
    "        return 1.5\n",
    "    \n",
    "    else:\n",
    "        sn = sn_rec(n-1) + (n**2) + (n/2)\n",
    "        return float(sn) \n",
    "print(\"Sn = \", sn_rec(3))"
   ]
  },
  {
   "cell_type": "code",
   "execution_count": 6,
   "id": "d45c37e2",
   "metadata": {},
   "outputs": [
    {
     "data": {
      "text/plain": [
       "2.283333333333333"
      ]
     },
     "execution_count": 6,
     "metadata": {},
     "output_type": "execute_result"
    }
   ],
   "source": [
    "#2a\n",
    "\n",
    "def harmonic(n):\n",
    "    if n == 1:\n",
    "        return 1\n",
    "    else:\n",
    "        hn = harmonic(n-1) + (1/n) \n",
    "        return float(hn)\n",
    "harmonic(5)"
   ]
  },
  {
   "cell_type": "code",
   "execution_count": 7,
   "id": "2c009343",
   "metadata": {},
   "outputs": [
    {
     "data": {
      "text/plain": [
       "-21"
      ]
     },
     "execution_count": 7,
     "metadata": {},
     "output_type": "execute_result"
    }
   ],
   "source": [
    "#2b\n",
    "\n",
    "def alternating_sum(n):\n",
    "    if n == 1:\n",
    "        return 1\n",
    "    else:\n",
    "        an = alternating_sum(n-1) + ((-1)**(n + 1)) * (n*n)\n",
    "        return int(an)\n",
    "alternating_sum(6)"
   ]
  },
  {
   "cell_type": "code",
   "execution_count": null,
   "id": "743bfeec",
   "metadata": {},
   "outputs": [
    {
     "data": {
      "text/plain": [
       "33"
      ]
     },
     "execution_count": 8,
     "metadata": {},
     "output_type": "execute_result"
    }
   ],
   "source": [
    "#2c\n",
    "def fibonacci_sum(n):\n",
    "    if n == 0:\n",
    "        return 0\n",
    "    elif n == 1:\n",
    "        return 1\n",
    "    else:\n",
    "        n > 1\n",
    "        fn = fibonacci_sum(n-1) + fibonacci_sum(n-2) + 1\n",
    "        return int(fn)\n",
    "fibonacci_sum(7)\n"
   ]
  },
  {
   "cell_type": "code",
   "execution_count": 10,
   "id": "eef2613d",
   "metadata": {},
   "outputs": [
    {
     "data": {
      "text/plain": [
       "13.0"
      ]
     },
     "execution_count": 10,
     "metadata": {},
     "output_type": "execute_result"
    }
   ],
   "source": [
    "#2d \n",
    "def sum_with_factor(n, factor = 1):\n",
    "    if n == 1:\n",
    "        return 1.5 * factor\n",
    "    else:\n",
    "        sn = sum_with_factor(n-1, factor) + ((n**2) + (n/2)) * factor\n",
    "        return sn \n",
    "    \n",
    "sum_with_factor(2, factor = 2)"
   ]
  },
  {
   "cell_type": "code",
   "execution_count": null,
   "id": "0806fadf",
   "metadata": {},
   "outputs": [],
   "source": [
    "#2e \n",
    "\n",
    "def conditional_sum(n, include_even = True):\n",
    "    if n == 1:\n",
    "        return 1.5\n",
    "    else: \n",
    "        if include_even or n % 2 != 0:\n",
    "            return conditional_sum(n-1, include_even) + (n**2+n/2)\n",
    "conditional_sum(3, include_even = False)\n",
    "                "
   ]
  },
  {
   "cell_type": "code",
   "execution_count": 24,
   "id": "1b1ef2a1",
   "metadata": {},
   "outputs": [
    {
     "data": {
      "text/plain": [
       "15.5"
      ]
     },
     "execution_count": 24,
     "metadata": {},
     "output_type": "execute_result"
    }
   ],
   "source": [
    "#2f \n",
    "\n",
    "def sum_custom_base(n, base_case = 1.5):\n",
    "    if n == 1:\n",
    "        return base_case\n",
    "    \n",
    "    else:\n",
    "        term = n ** 2 + n / 2\n",
    "        sn = sum_custom_base(n-1, base_case) + term\n",
    "        return sn\n",
    "\n",
    "sum_custom_base(3, base_case = 0)"
   ]
  },
  {
   "cell_type": "code",
   "execution_count": null,
   "id": "e170cd49",
   "metadata": {},
   "outputs": [],
   "source": []
  }
 ],
 "metadata": {
  "kernelspec": {
   "display_name": "Python 3",
   "language": "python",
   "name": "python3"
  },
  "language_info": {
   "codemirror_mode": {
    "name": "ipython",
    "version": 3
   },
   "file_extension": ".py",
   "mimetype": "text/x-python",
   "name": "python",
   "nbconvert_exporter": "python",
   "pygments_lexer": "ipython3",
   "version": "3.11.2"
  }
 },
 "nbformat": 4,
 "nbformat_minor": 5
}
