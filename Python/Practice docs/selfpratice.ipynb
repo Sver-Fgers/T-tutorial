{
 "cells": [
  {
   "cell_type": "code",
   "execution_count": null,
   "id": "b1c7b938",
   "metadata": {},
   "outputs": [
    {
     "name": "stdout",
     "output_type": "stream",
     "text": [
      "The sum of the first 5 numbers is: 35.0\n"
     ]
    }
   ],
   "source": [
    "#mock exam\n",
    "#1a solving sum inside loop\n",
    "# This program calculates the sum of the first n numbers using a loop   \n",
    "n = int(input(\"input a number: \"))\n",
    "\n",
    "# set sn to 0 to start\n",
    "sn = 0\n",
    "#loop from 1 to n + 1 cause range does not include the last number\n",
    "for k in range(1, n + 1):\n",
    "    #interpret the math formula\n",
    "    sn += (k**2 + k) / 2\n",
    "    # print the result\n",
    "print(\"The sum of the first\", n, \"numbers is:\", sn)\n",
    "\n",
    "\n"
   ]
  },
  {
   "cell_type": "code",
   "execution_count": null,
   "id": "83b00a15",
   "metadata": {},
   "outputs": [
    {
     "name": "stdout",
     "output_type": "stream",
     "text": [
      "the sum of the first 3 numbers is: 10.0\n"
     ]
    }
   ],
   "source": [
    "#similar to the above\n",
    "n = int(input(\"input a number: \"))\n",
    "\n",
    "tn = 0\n",
    "\n",
    "for k in range(1, n + 1):\n",
    "    tn += (k**2 + k)/2\n",
    "print(\"the sum of the first\", n, \"numbers is:\", tn)"
   ]
  },
  {
   "cell_type": "code",
   "execution_count": 10,
   "id": "ce7f085e",
   "metadata": {},
   "outputs": [
    {
     "name": "stdout",
     "output_type": "stream",
     "text": [
      "the sum of numbers 4 is 13.0\n"
     ]
    }
   ],
   "source": [
    "#similar to the above\n",
    "n = 4\n",
    "\n",
    "tn = 0\n",
    "\n",
    "for k in range(1, n + 1):\n",
    "    if k % 2 == 0:\n",
    "        tn += (k**2 + k)/2\n",
    "\n",
    "print(f\"the sum of numbers {n} is {tn}\")"
   ]
  },
  {
   "cell_type": "code",
   "execution_count": 18,
   "id": "6304648e",
   "metadata": {},
   "outputs": [
    {
     "name": "stdout",
     "output_type": "stream",
     "text": [
      "the sum of the first 3 numbers is: 10.0\n"
     ]
    }
   ],
   "source": [
    "n = 3\n",
    "sn = 0\n",
    "k = n  # Initialize k with the value of n\n",
    "while k > 0:\n",
    "    sn += (k**2 + k)/2\n",
    "    k -= 1\n",
    "\n",
    "print(\"the sum of the first\", n, \"numbers is:\", sn)\n",
    "#similar to the above"
   ]
  },
  {
   "cell_type": "code",
   "execution_count": 19,
   "id": "dc2ca1eb",
   "metadata": {},
   "outputs": [
    {
     "name": "stdout",
     "output_type": "stream",
     "text": [
      "The sum of the first 5 numbers is: 35.0\n",
      "k: 5\n"
     ]
    }
   ],
   "source": [
    "# This program calculates the sum of the first n numbers using a loop   \n",
    "n = int(input(\"input a number: \"))\n",
    "\n",
    "# set sn to 0 to start\n",
    "sn = 0\n",
    "#loop from 1 to n + 1 cause range does not include the last number\n",
    "for k in range(1, n + 1):\n",
    "    #interpret the math formula\n",
    "    sn += (k**2 + k) / 2\n",
    "    # print the result\n",
    "print(\"The sum of the first\", n, \"numbers is:\", sn)\n",
    "print(\"k:\", k)"
   ]
  },
  {
   "cell_type": "code",
   "execution_count": 24,
   "id": "e0251e5d",
   "metadata": {},
   "outputs": [
    {
     "name": "stdout",
     "output_type": "stream",
     "text": [
      "the value of the sum of the numbers 6 is 56\n"
     ]
    }
   ],
   "source": [
    "n = int(input(\"input a number: \"))\n",
    "\n",
    "s_n = 0\n",
    "\n",
    "for k in range (1, n + 1):\n",
    "    s_n += (k**2 + k) // 2\n",
    "\n",
    "print(\"the value of the sum of the numbers\", k, \"is\", s_n)"
   ]
  },
  {
   "cell_type": "code",
   "execution_count": null,
   "id": "f7971c95",
   "metadata": {},
   "outputs": [],
   "source": [
    "#1b \n",
    "#used to check if n is a natural number\n",
    "#natural numbers means greater than 0 and whole number\n",
    "if n == int(n) and n > 0:\n",
    "    print(\"n is a natural number\")\n",
    "#else to check if n is not a natural number\n",
    "else:\n",
    "    print(\"n is not a natural number\")\n",
    "#1c\n"
   ]
  },
  {
   "cell_type": "code",
   "execution_count": null,
   "id": "8289e8c0",
   "metadata": {},
   "outputs": [
    {
     "name": "stdout",
     "output_type": "stream",
     "text": [
      "user did not enter a natural number\n"
     ]
    }
   ],
   "source": [
    "#practice question\n",
    "#1\n",
    "user = float(input(\"type in a float number: \"))\n",
    "\n",
    "sn = 0\n",
    "\n",
    "if user == int(user) and user > 0:\n",
    "\n",
    "\n",
    "    for k in range(1, n + 1):\n",
    "        sn += ((k**2) + (3*k)) // 2\n",
    "\n",
    "    print(\"the sum of the number\", user, \"is\", sn)\n",
    "else:\n",
    "    print(\"user did not enter a natural number\")"
   ]
  },
  {
   "cell_type": "code",
   "execution_count": null,
   "id": "9fc406f5",
   "metadata": {},
   "outputs": [
    {
     "name": "stdout",
     "output_type": "stream",
     "text": [
      "the sum of the numbers 5 is 35\n"
     ]
    }
   ],
   "source": [
    "#q2\n",
    "n = int(input(\"type a whole number:\"))\n",
    "\n",
    "sn = 0\n",
    "\n",
    "if n % 2 != 0 and n > 0:\n",
    "    for k in range(1, n + 1):\n",
    "\n",
    "        sn += ((k**2) + k) // 2\n",
    "\n",
    "    print(\"the sum of the numbers\", n, \"is\", sn)\n",
    "else:\n",
    "    print(\"user did not input an odd number\")"
   ]
  },
  {
   "cell_type": "code",
   "execution_count": null,
   "id": "cb0485ec",
   "metadata": {},
   "outputs": [],
   "source": [
    "#q3\n"
   ]
  },
  {
   "cell_type": "code",
   "execution_count": null,
   "id": "d8aba9af",
   "metadata": {},
   "outputs": [],
   "source": []
  }
 ],
 "metadata": {
  "kernelspec": {
   "display_name": "Python 3",
   "language": "python",
   "name": "python3"
  },
  "language_info": {
   "codemirror_mode": {
    "name": "ipython",
    "version": 3
   },
   "file_extension": ".py",
   "mimetype": "text/x-python",
   "name": "python",
   "nbconvert_exporter": "python",
   "pygments_lexer": "ipython3",
   "version": "3.9.6"
  }
 },
 "nbformat": 4,
 "nbformat_minor": 5
}
