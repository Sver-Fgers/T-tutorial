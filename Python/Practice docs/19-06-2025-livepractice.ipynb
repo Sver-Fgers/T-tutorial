{
 "cells": [
  {
   "cell_type": "code",
   "execution_count": null,
   "id": "54e0cfa3",
   "metadata": {},
   "outputs": [],
   "source": [
    "# 4\n"
   ]
  }
 ],
 "metadata": {
  "language_info": {
   "name": "python"
  }
 },
 "nbformat": 4,
 "nbformat_minor": 5
}
