{
 "cells": [
  {
   "cell_type": "code",
   "execution_count": 8,
   "metadata": {},
   "outputs": [
    {
     "name": "stdout",
     "output_type": "stream",
     "text": [
      "Dictionary: {'ATP': (507.2, 259.0, 15400.0), 'CTP': (483.2, 271.0, 9000.0), 'GTP': (523.2, 253.0, 13700.0), 'UTP': (484.2, 262.0, 10000.0), 'dATP': (491.2, 259.0, 15200.0), 'dCTP': (467.2, 271.0, 9300.0), 'dGTP': (507.2, 253.0, 13700.0), 'dTTP': (482.2, 267.0, 9600.0)}\n",
      "(482.2, 267.0, 9600.0)\n"
     ]
    }
   ],
   "source": [
    "# 3a\n",
    "# Read the file and store the data in a dictionary\n",
    "data_dict = {}\n",
    "\n",
    "# Open the file and read line by line\n",
    "with open(r\"C:\\Users\\Victor_Nxx\\Documents\\00-Vaults\\Public\\T - tutorial\\Python\\School docs\\mock_exam\\mock 1\\nucleotides.txt\", \"r\") as file:\n",
    "    next(file)  # Skip the header line\n",
    "\n",
    "    \"\"\" the contents\n",
    "    Nucleotide,Molecular_Weight,Absorbance_Maximum,Molar_Extinction_Coefficient # skip this line\n",
    "    ATP,507.2,259.0,15400.0\n",
    "    CTP,483.2,271.0,9000.0\n",
    "    GTP,523.2,253.0,13700.0\n",
    "    UTP,484.2,262.0,10000.0\n",
    "    dATP,491.2,259.0,15200.0\n",
    "    dCTP,467.2,271.0,9300.0\n",
    "    dGTP,507.2,253.0,13700.0\n",
    "    dTTP,482.2,267.0,9600.0\n",
    "    \"\"\"\n",
    "\n",
    "    for line in file: # read the contents of the file one line by line as strings, very memory efficient\n",
    "        # Split the line into parts and print the output\n",
    "        parts = line.strip().split(\"|\") # strip removes whitespace or newlines and split breaks substrings based on a seperator in this case \",\"\n",
    "        #print(parts)\n",
    "\n",
    "        # dATP | 491.2 | 259.0 | 15200.0\n",
    "        nucleotide = parts[0]\n",
    "        molecular_weight = float(parts[1])\n",
    "        absorbance_maximum = float(parts[2])\n",
    "        molar_extinction_coefficient = float(parts[3])\n",
    "\n",
    "        # Store the data in the dictionary\n",
    "        data_dict[nucleotide] = (molecular_weight, absorbance_maximum, molar_extinction_coefficient)\n",
    "        \"\"\"# DICTIONARY OUTPUT WILL BE SOMETHING LIKE THIS \n",
    "        {   \"ATP\": (507.2, 259.0, 15400.0),\n",
    "            \"CTP\": (483.2, 271.0, 9000.0),\n",
    "            \"GTP\": (523.2, 253.0, 13700.0),\n",
    "        # ...other nucleotides } \"\"\"\n",
    "\n",
    "\n",
    "# Print the dictionary to verify\n",
    "print(\"Dictionary:\", data_dict)\n",
    "\n",
    "print(data_dict[nucleotide])\n"
   ]
  },
  {
   "cell_type": "code",
   "execution_count": null,
   "metadata": {},
   "outputs": [
    {
     "name": "stdout",
     "output_type": "stream",
     "text": [
      "dTTP (482.2, 267.0, 9600.0)\n",
      "dGTP (507.2, 253.0, 13700.0)\n",
      "dCTP (467.2, 271.0, 9300.0)\n",
      "dATP (491.2, 259.0, 15200.0)\n",
      "UTP (484.2, 262.0, 10000.0)\n",
      "GTP (523.2, 253.0, 13700.0)\n",
      "CTP (483.2, 271.0, 9000.0)\n",
      "ATP (507.2, 259.0, 15400.0)\n",
      "\n",
      "\n"
     ]
    }
   ],
   "source": [
    "for nucleotide in sorted(data_dict, reverse=True):\n",
    "    print(f\"{nucleotide} {data_dict[nucleotide]}\") # printing the key and its value\n",
    "print(\"\\n\")\n"
   ]
  },
  {
   "cell_type": "code",
   "execution_count": null,
   "metadata": {},
   "outputs": [
    {
     "name": "stdout",
     "output_type": "stream",
     "text": [
      "{'Chris': '555-1111', 'Katie': '555-2222', 'Joanne': '555-3333'}\n"
     ]
    }
   ],
   "source": [
    "phonebook = {'Chris':'555-1111', 'Katie':'555-2222', 'Joanne':'555-3333'}\n",
    "\n",
    "phonebook"
   ]
  },
  {
   "cell_type": "code",
   "execution_count": 32,
   "metadata": {},
   "outputs": [
    {
     "data": {
      "text/plain": [
       "'555-3333'"
      ]
     },
     "execution_count": 32,
     "metadata": {},
     "output_type": "execute_result"
    }
   ],
   "source": [
    "phonebook[\"Joanne\"]"
   ]
  },
  {
   "cell_type": "code",
   "execution_count": null,
   "id": "0f8d6936",
   "metadata": {},
   "outputs": [],
   "source": [
    "name = \"james\"\n",
    "\n",
    "if name in phonebook:\n",
    "    print(phonebook[name])\n",
    "elif name not in phonebook:\n",
    "    prompt = input(f\"{name} is not in phonebook, do you want to add {name} number: yes or no?\")\n",
    "\n",
    "    if prompt == \"yes\":\n",
    "        number = input(f\"enter {name} number\")\n",
    "        phonebook[name] = number\n",
    "    else: \n",
    "        print(f\"{name} was not found in the phonebook\")\n",
    "   "
   ]
  }
 ],
 "metadata": {
  "kernelspec": {
   "display_name": "Python 3",
   "language": "python",
   "name": "python3"
  },
  "language_info": {
   "codemirror_mode": {
    "name": "ipython",
    "version": 3
   },
   "file_extension": ".py",
   "mimetype": "text/x-python",
   "name": "python",
   "nbconvert_exporter": "python",
   "pygments_lexer": "ipython3",
   "version": "3.11.2"
  }
 },
 "nbformat": 4,
 "nbformat_minor": 5
}
