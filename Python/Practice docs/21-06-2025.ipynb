{
 "cells": [
  {
   "cell_type": "code",
   "execution_count": 94,
   "id": "250bdd55-de1b-43d3-91e5-3aae0fd02511",
   "metadata": {},
   "outputs": [
    {
     "name": "stdout",
     "output_type": "stream",
     "text": [
      "{'ML': 2, 'LY': 1, 'YI': 1, 'IT': 1, 'TM': 1, 'LW': 1, 'WV': 1, 'VM': 1}\n"
     ]
    }
   ],
   "source": [
    "#5\n",
    "\n",
    "# ) Write a program that calculates the frequencies f pqof all 2-mers of a given amino acid sequence\n",
    "# s.\n",
    "# Example:\n",
    "s = \"MLYITMLWVM\"\n",
    "# Output:\n",
    "# 2-mers of s: {’ML’: 2, ’LY’: 1, ’YI’: 1, ’IT’: 1, ’TM’: 1, ’LW’: 1, ’WV’: 1, ’VM’: 1}\n",
    "\n",
    "data = {}\n",
    "\n",
    "for i in range(len(s) - 1):\n",
    "    counter = s[i:i + 2] \n",
    "    if counter not in data:\n",
    "        data[counter] = 1\n",
    "    else:\n",
    "        data[counter] += 1    \n",
    "        \n",
    "print(data)\n"
   ]
  },
  {
   "cell_type": "code",
   "execution_count": 96,
   "id": "022e6617-e031-481c-bde2-86bc4089e8e2",
   "metadata": {},
   "outputs": [
    {
     "name": "stdout",
     "output_type": "stream",
     "text": [
      "{'GI': 1, 'IY': 1, 'YT': 1, 'TM': 1, 'ML': 1, 'LW': 1}\n",
      "2-mer ML of s 2x also present in t 1x\n",
      "2-mer TM of s 1x also present in t 1x\n",
      "2-mer LW of s 1x also present in t 1x\n"
     ]
    }
   ],
   "source": [
    "t = \"GIYTMLW\"\n",
    "t_dict = {}\n",
    "\n",
    "for i in range(len(t) - 1):\n",
    "    pair = t[i:i + 2]\n",
    "\n",
    "    if pair not in t_dict:\n",
    "        t_dict[pair] = 1\n",
    "\n",
    "    else:\n",
    "        t_dict[pair] += 1\n",
    "\n",
    "print(t_dict)\n",
    "\n",
    "\n",
    "for i in data:\n",
    "    if i in t_dict:\n",
    "        print(f\"2-mer {i} of s {data[i]}x also present in t {t_dict[i]}x\")\n",
    "    else:\n",
    "        print(\n",
    "    "
   ]
  },
  {
   "cell_type": "code",
   "execution_count": 46,
   "id": "00084548-9f22-472d-bd12-857b9c63c7a1",
   "metadata": {},
   "outputs": [
    {
     "name": "stdout",
     "output_type": "stream",
     "text": [
      "['ML', 'LY', 'YI', 'IT', 'TM', 'ML', 'LW', 'WV', 'VM']\n"
     ]
    }
   ],
   "source": [
    "# tewmer = []\n",
    "\n",
    "# for i in range(len(s) - 1):\n",
    "#     counter = s[i:i + 2]       \n",
    "#     tewmer.append(counter)\n",
    "# print(tewmer)\n"
   ]
  },
  {
   "cell_type": "code",
   "execution_count": 41,
   "id": "6c0a42d0-94d3-43d0-ae8b-da0b1c25b78b",
   "metadata": {},
   "outputs": [
    {
     "name": "stdout",
     "output_type": "stream",
     "text": [
      "{'ML': 2, 'LY': 1, 'YI': 1, 'IT': 1, 'TM': 1, 'LW': 1, 'WV': 1, 'VM': 1}\n"
     ]
    }
   ],
   "source": [
    "# data = {}\n",
    "\n",
    "# for i in tewmer:\n",
    "#     if i not in data:\n",
    "#         data[i] = 1\n",
    "\n",
    "#     else:\n",
    "#         data[i] += 1\n",
    "\n",
    "# print(data)"
   ]
  },
  {
   "cell_type": "code",
   "execution_count": null,
   "id": "1035470d-4b5f-4f8b-a878-269801c380f4",
   "metadata": {},
   "outputs": [],
   "source": []
  }
 ],
 "metadata": {
  "kernelspec": {
   "display_name": "Python (Jupyter)",
   "language": "python",
   "name": "my-jupyter-kernel"
  },
  "language_info": {
   "codemirror_mode": {
    "name": "ipython",
    "version": 3
   },
   "file_extension": ".py",
   "mimetype": "text/x-python",
   "name": "python",
   "nbconvert_exporter": "python",
   "pygments_lexer": "ipython3",
   "version": "3.9.6"
  }
 },
 "nbformat": 4,
 "nbformat_minor": 5
}
