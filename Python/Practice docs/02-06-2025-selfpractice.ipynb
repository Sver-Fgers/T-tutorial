{
 "cells": [
  {
   "cell_type": "markdown",
   "metadata": {},
   "source": [
    "✅ Question 2: Movies and Ratings\n",
    "A file movies.txt contains movie titles, their IMDb ratings, and year of release.\n",
    "\n",
    "(a) Write a function load_movies(filename) that reads the file and returns a list of tuples where each tuple contains the title, rating, and year."
   ]
  },
  {
   "cell_type": "markdown",
   "metadata": {},
   "source": [
    "✅ Question 3: Products and Reviews\n",
    "A file products_reviews.txt contains product names, average user rating (out of 5), and number of reviews.\n",
    "\n",
    "(a) Write a function load_reviews(filename) that reads the file and returns a list of tuples containing the product name, rating, and number of reviews."
   ]
  },
  {
   "cell_type": "code",
   "execution_count": 5,
   "id": "2d77dc17",
   "metadata": {},
   "outputs": [
    {
     "name": "stdout",
     "output_type": "stream",
     "text": [
      "{'Inception': ('8.8', '2010'), 'The Matrix': ('8.7', '1999'), 'Interstellar': ('8.6', '2014'), 'Avatar': ('7.8', '2009'), 'The Godfather': ('9.2', '1972')}\n"
     ]
    }
   ],
   "source": [
    "\n",
    "#2\n",
    "\n",
    "\n",
    "with open(r\"C:\\Users\\Victor_Nxx\\Documents\\00-Vaults\\Public\\T - tutorial\\Python\\Practice docs\\02-06-25 - movies.txt\", \"r\") as file: # open the file \n",
    "    next(file) # skips the first line\n",
    "    movies = {}\n",
    "\n",
    "\n",
    "    for line in file: # loop through the file lines individually\n",
    "\n",
    "        #parts = file.readlines() # reads line by line as a single string \n",
    "        parts = line.strip().split(\",\") # strip to remove whitespaces and split by commas \n",
    "\n",
    "        # sort in variable by their index positions\n",
    "        title = parts[0] \n",
    "\n",
    "        ratings = parts[1]\n",
    "\n",
    "        year = parts[2]\n",
    "\n",
    "        movies[title] = (ratings, year) # add info to the dictionary \n",
    "\n",
    "print (movies)\n"
   ]
  },
  {
   "cell_type": "code",
   "execution_count": 7,
   "id": "71232985",
   "metadata": {},
   "outputs": [
    {
     "name": "stdout",
     "output_type": "stream",
     "text": [
      "{'Smartphone': ('4.5', '2300'), 'Laptop': ('4.3', '1200'), 'Headphones': ('4.1', '980'), 'Keyboard': ('4.0', '600'), 'Monitor': ('4.4', '870')}\n"
     ]
    }
   ],
   "source": [
    "#3\n",
    "\n",
    "with open(r\"C:\\Users\\Victor_Nxx\\Documents\\00-Vaults\\Public\\T - tutorial\\Python\\Practice docs\\02-06-25 - products_reviews.txt\", \"r\") as file:\n",
    "    next(file) # skips the first line \n",
    "\n",
    "    product_reviews = {}\n",
    "\n",
    "    for line in file:\n",
    "        parts = line.strip().split(\",\") # removes whitespaces and adds bars as seperator\n",
    "\n",
    "        # sort with index into variables\n",
    "        product_names = parts[0]\n",
    "\n",
    "        average_user_rating = parts[1]\n",
    "\n",
    "        no_of_reviews = parts[2]\n",
    "\n",
    "        # add the key and value to the dictionary\n",
    "        product_reviews[product_names] = (average_user_rating, no_of_reviews)\n",
    "\n",
    "print(product_reviews)"
   ]
  },
  {
   "cell_type": "code",
   "execution_count": null,
   "id": "c56489de",
   "metadata": {},
   "outputs": [],
   "source": []
  }
 ],
 "metadata": {
  "kernelspec": {
   "display_name": "Python 3",
   "language": "python",
   "name": "python3"
  },
  "language_info": {
   "codemirror_mode": {
    "name": "ipython",
    "version": 3
   },
   "file_extension": ".py",
   "mimetype": "text/x-python",
   "name": "python",
   "nbconvert_exporter": "python",
   "pygments_lexer": "ipython3",
   "version": "3.11.2"
  }
 },
 "nbformat": 4,
 "nbformat_minor": 5
}
