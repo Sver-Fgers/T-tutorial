{
 "cells": [
  {
   "cell_type": "code",
   "execution_count": 133,
   "id": "ce98542e",
   "metadata": {},
   "outputs": [
    {
     "name": "stdout",
     "output_type": "stream",
     "text": [
      "{'V': ['GTA'], '*': ['TGA'], 'M': ['ATG'], 'N': ['AAC'], 'K': ['AAA'], 'L': ['CTC']}\n"
     ]
    }
   ],
   "source": [
    "# 1. Practice Question 1: Reverse Codon Mapping and Grouping\n",
    "# a) You're given a file called codon_to_amino.txt. Each line contains 3 DNA bases and the amino acid they code for. Some amino acids may have multiple codons.\n",
    "# b) Read the file and create a dictionary where:\n",
    "# \tThe key is the amino acid.\n",
    "# \tThe value is a list of all codons (as strings, e.g., 'GTT') that produce that amino acid.\n",
    "# c) Print the dictionary in alphabetical order of the amino acid.\n",
    "# d) Convert it into a pandas DataFrame with columns:\n",
    "# \tAminoAcid\n",
    "# \tCodons (a string showing codons separated by commas)\n",
    "\n",
    "\n",
    "#1a,b\n",
    "\n",
    "data = {}\n",
    "\n",
    "with open(r\"/Users/bosslistic10/Documents/t-programming/Python/Practice docs/codon_to_amino.txt\", \"r\") as f:\n",
    "    # read = f.readlines()\n",
    "    # print(read)\n",
    "\n",
    "\n",
    "    for line in f:\n",
    "        parts = line.strip().split()\n",
    "        b1 = parts[0]\n",
    "        b2 = parts[1]\n",
    "        b3 = parts[2]\n",
    "        aa = parts[3]\n",
    "\n",
    "        data[aa] = [b1 + b2 + b3] # create dictionary with the + to make string \n",
    "print(data)\n",
    "\n",
    "\n"
   ]
  },
  {
   "cell_type": "code",
   "execution_count": 134,
   "id": "94a2e4d8",
   "metadata": {},
   "outputs": [
    {
     "name": "stdout",
     "output_type": "stream",
     "text": [
      "* ['TGA']\n",
      "K ['AAA']\n",
      "L ['CTC']\n",
      "M ['ATG']\n",
      "N ['AAC']\n",
      "V ['GTA']\n"
     ]
    }
   ],
   "source": [
    "\n",
    "#1c\n",
    "\n",
    "for i,j in sorted(data.items()): # loop through the dict items to sort by alphabetical order\n",
    "    print(i,j)\n"
   ]
  },
  {
   "cell_type": "code",
   "execution_count": 142,
   "id": "ba39bdfb",
   "metadata": {},
   "outputs": [
    {
     "name": "stdout",
     "output_type": "stream",
     "text": [
      "[['V', 'G', 'T', 'A'], ['*', 'T', 'G', 'A'], ['M', 'A', 'T', 'G'], ['N', 'A', 'A', 'C'], ['K', 'A', 'A', 'A'], ['L', 'C', 'T', 'C']]\n"
     ]
    },
    {
     "data": {
      "text/html": [
       "<div>\n",
       "<style scoped>\n",
       "    .dataframe tbody tr th:only-of-type {\n",
       "        vertical-align: middle;\n",
       "    }\n",
       "\n",
       "    .dataframe tbody tr th {\n",
       "        vertical-align: top;\n",
       "    }\n",
       "\n",
       "    .dataframe thead th {\n",
       "        text-align: right;\n",
       "    }\n",
       "</style>\n",
       "<table border=\"1\" class=\"dataframe\">\n",
       "  <thead>\n",
       "    <tr style=\"text-align: right;\">\n",
       "      <th></th>\n",
       "      <th>Amino Acids</th>\n",
       "      <th>codon1</th>\n",
       "      <th>codon2</th>\n",
       "      <th>codon3</th>\n",
       "    </tr>\n",
       "  </thead>\n",
       "  <tbody>\n",
       "    <tr>\n",
       "      <th>0</th>\n",
       "      <td>V</td>\n",
       "      <td>G</td>\n",
       "      <td>T</td>\n",
       "      <td>A</td>\n",
       "    </tr>\n",
       "    <tr>\n",
       "      <th>1</th>\n",
       "      <td>*</td>\n",
       "      <td>T</td>\n",
       "      <td>G</td>\n",
       "      <td>A</td>\n",
       "    </tr>\n",
       "    <tr>\n",
       "      <th>2</th>\n",
       "      <td>M</td>\n",
       "      <td>A</td>\n",
       "      <td>T</td>\n",
       "      <td>G</td>\n",
       "    </tr>\n",
       "    <tr>\n",
       "      <th>3</th>\n",
       "      <td>N</td>\n",
       "      <td>A</td>\n",
       "      <td>A</td>\n",
       "      <td>C</td>\n",
       "    </tr>\n",
       "    <tr>\n",
       "      <th>4</th>\n",
       "      <td>K</td>\n",
       "      <td>A</td>\n",
       "      <td>A</td>\n",
       "      <td>A</td>\n",
       "    </tr>\n",
       "    <tr>\n",
       "      <th>5</th>\n",
       "      <td>L</td>\n",
       "      <td>C</td>\n",
       "      <td>T</td>\n",
       "      <td>C</td>\n",
       "    </tr>\n",
       "  </tbody>\n",
       "</table>\n",
       "</div>"
      ],
      "text/plain": [
       "  Amino Acids codon1 codon2 codon3\n",
       "0           V      G      T      A\n",
       "1           *      T      G      A\n",
       "2           M      A      T      G\n",
       "3           N      A      A      C\n",
       "4           K      A      A      A\n",
       "5           L      C      T      C"
      ]
     },
     "metadata": {},
     "output_type": "display_data"
    }
   ],
   "source": [
    "#1d\n",
    "\n",
    "import pandas as pd\n",
    "\n",
    "codon = [] # empty list to store new \n",
    "\n",
    "for i, j in data.items():\n",
    "    new = [i[0]] + list(j[0]) \n",
    "    codon.append(new)\n",
    "print(codon)\n",
    "\n",
    "df = pd.DataFrame(codon,columns = [\"Amino Acids\", \"codon1\", \"codon2\", \"codon3\"]) # create dataframe with columns \n",
    "\n",
    "display(df)\n",
    "\n",
    "\n"
   ]
  },
  {
   "cell_type": "code",
   "execution_count": 136,
   "id": "d4e17f81",
   "metadata": {},
   "outputs": [],
   "source": [
    "# 2. Practice Question 2: Translate Nucleotide Sequence to Protein\n",
    "# You are given a DNA nucleotide sequence in a file called nucleotide_sequence.txt. Your task is to:\n",
    "\n",
    "# a) Read the sequence from the file (all in one line, no spaces).\n",
    "# b) Split it into codons (groups of 3 letters).\n",
    "# c) Use a codon dictionary (same as from codon_to_amino.txt) to translate it into a protein sequence of amino acids.\n",
    "# d) Stop the translation if a stop codon (*) is encountered.\n",
    "# e) Create a final amino acid sequence string (e.g., \"MVK\"), and print the result.\n",
    "\n",
    "# Tip:\n",
    "# - Read nucleotide_sequence.txt and loop through the sequence 3 letters at a time.\n",
    "# - Use the dictionary to find the amino acid.\n",
    "# - Stop when you see * (e.g., \"TAA\" → *)."
   ]
  },
  {
   "cell_type": "code",
   "execution_count": 137,
   "id": "a1b2c563",
   "metadata": {},
   "outputs": [
    {
     "name": "stdout",
     "output_type": "stream",
     "text": [
      "ATGGTTGTCGTTAACTGATAAAGCTTAA\n",
      "\n",
      "ATG\n",
      "GTT\n",
      "GTC\n",
      "GTT\n",
      "AAC\n",
      "TGA\n",
      "TAA\n",
      "AGC\n",
      "TTA\n"
     ]
    }
   ],
   "source": [
    "#2a, b\n",
    "\n",
    "with open(r\"/Users/bosslistic10/Documents/t-programming/Python/Practice docs/nucleotide_sequence.txt\", \"r\") as f:\n",
    "    file = f.readline()\n",
    "\n",
    "    print(file)\n",
    "\n",
    "    for i in range(0, len(file)-2, 3):\n",
    "        cutting = file[i:i+3]\n",
    "        print(cutting)"
   ]
  },
  {
   "cell_type": "code",
   "execution_count": 148,
   "id": "b45c1eb0",
   "metadata": {},
   "outputs": [
    {
     "name": "stdout",
     "output_type": "stream",
     "text": [
      "9.85\n",
      "9.85\n"
     ]
    }
   ],
   "source": [
    "#1a\n",
    "\n",
    "sn = 0\n",
    "n = 4\n",
    "for k in range(1, n + 1):\n",
    "    sn += ((k**2) + 2) / (k + 1)\n",
    "print(sn)\n",
    "\n",
    "\n",
    "#1b\n",
    "\n",
    "def sn_rec(n):\n",
    "    if n == 1:\n",
    "        return 3/2\n",
    "    \n",
    "    if n > 1:\n",
    "        return sn_rec(n - 1) + ((n**2) + 2) / (n + 1)\n",
    "\n",
    "print(sn_rec(4))"
   ]
  },
  {
   "cell_type": "code",
   "execution_count": 192,
   "id": "d5d3735a",
   "metadata": {},
   "outputs": [
    {
     "name": "stdout",
     "output_type": "stream",
     "text": [
      "(4, 4)\n",
      "57.14\n"
     ]
    }
   ],
   "source": [
    "#2\n",
    "#gc count without using count()\n",
    "# 2. Practice Question 2: Count G and C in a DNA String\n",
    "# You are given a DNA string. Your task is to count the number of G and C bases in the string without using the count() method.\n",
    "# a) Create a function called counter that takes a DNA string as input.\n",
    "# b) Use a loop to iterate through the string and count the occurrences of G and C bases.\n",
    "# c) Return a tuple with the count of G and C bases.\n",
    "\n",
    "import math\n",
    "g = []\n",
    "c = []\n",
    "dna_string = \"ATGCGCGATATGCC\"\n",
    "def counter(dna_string):\n",
    "    for i in dna_string:\n",
    "        if i == \"G\":\n",
    "            g.append(i)\n",
    "\n",
    "        if i == \"C\":\n",
    "            c.append(i)\n",
    "    return len(g), len(c)\n",
    "\n",
    "print(counter(\"ATGCGCGATATGCC\"))\n",
    "\n",
    "percent = ((len(g)+len(c))/len(dna_string)) * 100\n",
    "\n",
    "print(f\"{percent:.2f}\")"
   ]
  },
  {
   "cell_type": "code",
   "execution_count": 209,
   "id": "bc0cda43",
   "metadata": {},
   "outputs": [
    {
     "name": "stdout",
     "output_type": "stream",
     "text": [
      "True\n",
      "False\n"
     ]
    }
   ],
   "source": [
    "#3\n",
    "#example matches(\"GTA\", \"GATTACA\") should return True\n",
    "#matches(\"GTA\", \"TGAC\") should return False\n",
    "#how does it work?  \n",
    "# so the function checks if the pattern exists in the dna string by iterating through the dna string and checking if the substring matches the pattern.\n",
    "def matches(pattern, dna):\n",
    "    it = iter(dna)\n",
    "    return all(char in it for char in pattern)\n",
    "\n",
    "\n",
    "print(f\"{matches('GTA', 'GATTACA')}\")  # should return True\n",
    "print(f\"{matches('GTA', 'TGAC')}\")  # should return False"
   ]
  },
  {
   "cell_type": "code",
   "execution_count": 210,
   "id": "4cb4f6d0",
   "metadata": {},
   "outputs": [
    {
     "name": "stdout",
     "output_type": "stream",
     "text": [
      "ATGCA\n"
     ]
    }
   ],
   "source": [
    "#4\n",
    "# find the majority element in a list\n",
    "\n",
    "sequence = [\"ATGCA\", \"ATGCA\", \"ATGCT\", \"ATGCA\"]\n",
    "\n",
    "def find_majority_element(sequence):\n",
    "    count = {}\n",
    "    majority_element = None\n",
    "    majority_count = 0\n",
    "\n",
    "    for element in sequence:\n",
    "        if element in count:\n",
    "            count[element] += 1\n",
    "        else:\n",
    "            count[element] = 1\n",
    "\n",
    "        if count[element] > majority_count:\n",
    "            majority_count = count[element]\n",
    "            majority_element = element\n",
    "\n",
    "    return majority_element\n",
    "print(find_majority_element(sequence))  # should return \"ATGCA\""
   ]
  },
  {
   "cell_type": "code",
   "execution_count": 213,
   "id": "fde999f5",
   "metadata": {},
   "outputs": [
    {
     "name": "stdout",
     "output_type": "stream",
     "text": [
      "6\n"
     ]
    }
   ],
   "source": [
    "def sum_even(numbers):\n",
    "    # Filter even numbers from the list\n",
    "    even_numbers = [num for num in numbers if num % 2 == 0]\n",
    "    # Return the sum of even numbers\n",
    "    return sum(even_numbers)\n",
    "\n",
    "print(sum_even([1, 2, 3, 4, 5]))  # should return 6 (2 + 4)\n"
   ]
  },
  {
   "cell_type": "code",
   "execution_count": null,
   "id": "52dd7f31",
   "metadata": {},
   "outputs": [
    {
     "name": "stdout",
     "output_type": "stream",
     "text": [
      "GAATTC\n"
     ]
    },
    {
     "data": {
      "text/plain": [
       "True"
      ]
     },
     "execution_count": 230,
     "metadata": {},
     "output_type": "execute_result"
    }
   ],
   "source": [
    "#1\n",
    "\n",
    "def palindrome(seq):\n",
    "    map = {\n",
    "  'A': 'T',\n",
    "  'T': 'A',\n",
    "  'C': 'G',\n",
    "  'G': 'C'}\n",
    "    \n",
    "    reverse = seq[::-1]\n",
    "    new_letter = \"\"\n",
    "    for letter in reverse:\n",
    "        new_letter += map[letter]\n",
    "    print(new_letter)\n",
    "\n",
    "    if new_letter == seq:\n",
    "        return True\n",
    "    else:\n",
    "        return False\n",
    "palindrome(\"GAATTC\")"
   ]
  },
  {
   "cell_type": "code",
   "execution_count": 261,
   "id": "91bdfaec",
   "metadata": {},
   "outputs": [
    {
     "name": "stdout",
     "output_type": "stream",
     "text": [
      "      Weight\n",
      "Base        \n",
      "A     313.21\n",
      "T     304.20\n",
      "C     289.18\n",
      "G     329.21\n",
      "3673.3799999999997\n",
      "3475.3799999999997\n"
     ]
    }
   ],
   "source": [
    "import pandas as pd\n",
    "\n",
    "df = pd.read_csv(\"/Users/bosslistic10/Documents/t-programming/Python/School docs/mock_exam/mock 1/dataframe.csv.txt\", sep = \"\\t\", index_col = 0)\n",
    "\n",
    "print(df)\n",
    "\n",
    "# s = \"AGCTTTTCGTAC\"\n",
    "def molecular_weight(s):\n",
    "\n",
    "    add = 0\n",
    "    for base in s:\n",
    "        add += df.loc[base, \"Weight\"]\n",
    "    print(add)\n",
    "\n",
    "\n",
    "    add -= 18 * (len(s)-1)\n",
    "    print(add)\n",
    "molecular_weight(\"AGCTTTTCGTAC\")\n"
   ]
  },
  {
   "cell_type": "code",
   "execution_count": null,
   "id": "4b0a06ca",
   "metadata": {},
   "outputs": [],
   "source": []
  }
 ],
 "metadata": {
  "kernelspec": {
   "display_name": "Python (Jupyter)",
   "language": "python",
   "name": "my-jupyter-kernel"
  },
  "language_info": {
   "codemirror_mode": {
    "name": "ipython",
    "version": 3
   },
   "file_extension": ".py",
   "mimetype": "text/x-python",
   "name": "python",
   "nbconvert_exporter": "python",
   "pygments_lexer": "ipython3",
   "version": "3.9.6"
  }
 },
 "nbformat": 4,
 "nbformat_minor": 5
}
