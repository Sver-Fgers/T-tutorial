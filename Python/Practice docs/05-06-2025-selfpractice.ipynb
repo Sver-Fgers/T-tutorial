{
 "cells": [
  {
   "cell_type": "markdown",
   "metadata": {},
   "source": [
    "\n",
    "#### 🗂️ Creating Dictionaries\n",
    "\n",
    "1. Create a dictionary called `student` with keys `name`, `age`, and `grade`.\n",
    "2. Create an empty dictionary called `book`.\n",
    "3. Create a dictionary `car` with keys and values: `\"brand\": \"Toyota\"`, `\"year\": 2010`.\n"
   ]
  },
  {
   "cell_type": "markdown",
   "metadata": {},
   "source": [
    "#### ➕ Adding and Updating Elements\n",
    "\n",
    "4. Add a key `color` with value `\"red\"` to the `car` dictionary.\n",
    "5. Change the value of the `year` key in the `car` dictionary to `2022`.\n",
    "6. Add a new key `owner` to the `student` dictionary and set it to `\"John\"`."
   ]
  },
  {
   "cell_type": "markdown",
   "metadata": {},
   "source": [
    "#### ❌ Deleting Elements\n",
    "\n",
    "7. Delete the `grade` key from the `student` dictionary.\n",
    "8. Use the `pop()` method to remove the `owner` key from the `student` dictionary.\n",
    "9. Use `clear()` to empty all items from the `book` dictionary."
   ]
  },
  {
   "cell_type": "markdown",
   "metadata": {},
   "source": [
    "#### 🔍 Accessing Elements\n",
    "\n",
    "10. Get the value of the `name` key from the `student` dictionary using bracket notation.\n",
    "11. Use the `get()` method to access a non-existing key called `email` and return `\"Not Available\"` as default.\n",
    "12. Write a line of code that prints all the keys in the `car` dictionary."
   ]
  },
  {
   "cell_type": "markdown",
   "metadata": {},
   "source": [
    "#### 🔁 Looping Through a Dictionary\n",
    "\n",
    "13. Write a `for` loop to print all keys in the `car` dictionary.\n",
    "14. Write a `for` loop to print all values in the `student` dictionary.\n",
    "15. Write a `for` loop to print both keys and values from the `student` dictionary."
   ]
  },
  {
   "cell_type": "markdown",
   "metadata": {},
   "source": [
    "#### ✅ Using `if` Statements with Dictionaries\n",
    "\n",
    "16. Check if the key `\"age\"` exists in the `student` dictionary.\n",
    "17. Check if the key `\"price\"` is not in the `car` dictionary.\n",
    "18. If the key `\"name\"` exists in the `student` dictionary, print its value."
   ]
  },
  {
   "cell_type": "markdown",
   "metadata": {},
   "source": [
    "#### 🧠 Small Tasks to Test Understanding\n",
    "\n",
    "19. Write a function `is_key_present(dict_obj, key)` that returns True if the key exists in the dictionary.\n",
    "20. Given a dictionary `scores = {\"A\": 90, \"B\": 80, \"C\": 70}`, write code to increase each score by 5 using a loop."
   ]
  },
  {
   "cell_type": "code",
   "execution_count": null,
   "id": "ed4f7978",
   "metadata": {},
   "outputs": [],
   "source": [
    "#1 \n",
    "\n",
    "student = {\"name\": \"twix\",\n",
    "          \"age\": 20,\n",
    "          \"grades\": 88}\n",
    "\n",
    "#2\n",
    "book = {}\n",
    "\n",
    "#3\n",
    "\n",
    "car = {\"brand\" : \"Toyota\",\n",
    "        \"year\" : 2020}\n",
    "\n",
    "\n",
    "#4\n",
    "\n",
    "car[\"color\"] = \"red\"\n",
    "\n",
    "#5\n",
    "\n",
    "car[\"year\"] = 2022\n",
    "print(car)\n",
    "\n",
    "#6\n",
    "\n",
    "student[\"owner\"]= \"John Doe\"\n",
    "\n",
    "#7\n",
    "\n",
    "del student[\"grades\"]\n",
    "print(student)\n",
    "\n",
    "#8\n",
    "\n",
    "remove = student.pop(\"grades\", \"not found\")\n",
    "print(remove)\n",
    "\n",
    "#9\n",
    "#clear = student.clear()\n",
    "#print(student)\n",
    "\n",
    "#10\n",
    "\n",
    "student[\"name\"]\n",
    "\n",
    "#11\n",
    "\n",
    "find = student.get(\"email\", \"not available\")\n",
    "print(find)\n",
    "\n",
    "#12\n",
    "\n",
    "car_keys = car.keys()\n",
    "print(car_keys)\n",
    "\n",
    "#13\n",
    "\n",
    "for key in car.keys():\n",
    "    print(key)\n",
    "\n",
    "#14\n",
    "\n",
    "for value in student.values():\n",
    "    print(value)    \n",
    "\n",
    "#15\n",
    "\n",
    "for key, vlaue in student.items():\n",
    "    print(f\"{key}: {value}\")\n",
    "\n",
    "#16\n",
    "\n",
    "if \"age\" in student:\n",
    "    print(\"Age is present\")\n",
    "\n",
    "#17\n",
    "\n",
    "if \"price\" not in car:\n",
    "    print(\"Price is not present\")\n",
    "\n",
    "\n",
    "#18\n",
    "\n",
    "if \"name\" in student:\n",
    "    print(student[\"name\"])\n",
    "\n",
    "\n",
    "#19\n",
    "\n",
    "def is_key_present(dict_obj, key):\n",
    "    if key in dict_obj:\n",
    "        return True\n",
    "\n",
    "\n",
    "#20\n",
    "\n",
    "scores = {\"A\": 90, \"B\": 80, \"C\": 70}\n",
    "\n",
    "# Add 5 to each score\n",
    "for key in scores:\n",
    "    scores[key] = scores[key] + 5\n",
    "\n",
    "print(scores)\n"
   ]
  }
 ],
 "metadata": {
  "kernelspec": {
   "display_name": "Python 3",
   "language": "python",
   "name": "python3"
  },
  "language_info": {
   "codemirror_mode": {
    "name": "ipython",
    "version": 3
   },
   "file_extension": ".py",
   "mimetype": "text/x-python",
   "name": "python",
   "nbconvert_exporter": "python",
   "pygments_lexer": "ipython3",
   "version": "3.9.6"
  }
 },
 "nbformat": 4,
 "nbformat_minor": 5
}
