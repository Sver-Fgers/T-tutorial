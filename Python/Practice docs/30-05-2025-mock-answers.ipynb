{
 "cells": [
  {
   "cell_type": "code",
   "execution_count": 9,
   "id": "c41429c0",
   "metadata": {},
   "outputs": [
    {
     "name": "stdout",
     "output_type": "stream",
     "text": [
      "Sn =  17.0\n"
     ]
    }
   ],
   "source": [
    "def sn_rec(n):\n",
    "\n",
    "    if n == 1:\n",
    "        return 1.5\n",
    "    \n",
    "    else:\n",
    "        sn = sn_rec(n-1) + (n**2) + (n/2)\n",
    "        return float(sn) \n",
    "print(\"Sn = \", sn_rec(3))"
   ]
  },
  {
   "cell_type": "code",
   "execution_count": 17,
   "id": "8bae55fc",
   "metadata": {},
   "outputs": [
    {
     "name": "stdout",
     "output_type": "stream",
     "text": [
      "11\n"
     ]
    }
   ],
   "source": [
    "#1\n",
    "def alternating_sum(n):\n",
    "\n",
    "    if n == 1:\n",
    "        return n\n",
    "    sn = n + (-1)**n * alternating_sum(n - 1)\n",
    "    return sn\n",
    "\n",
    "print(alternating_sum(10))"
   ]
  },
  {
   "cell_type": "code",
   "execution_count": 18,
   "id": "05e94bf4",
   "metadata": {},
   "outputs": [
    {
     "name": "stdout",
     "output_type": "stream",
     "text": [
      "-3\n"
     ]
    }
   ],
   "source": [
    "#2\n",
    "\n",
    "def alt_pyramid(n):\n",
    "    total = 0\n",
    "\n",
    "    for i in range(1, n + 1):\n",
    "        total += (-1)**(i + 1) * i\n",
    "    return total\n",
    "\n",
    "n = int(input(\"Enter a number: \"))\n"
   ]
  },
  {
   "cell_type": "code",
   "execution_count": 20,
   "id": "09d69793",
   "metadata": {},
   "outputs": [
    {
     "name": "stdout",
     "output_type": "stream",
     "text": [
      "6\n"
     ]
    }
   ],
   "source": [
    "#3\n",
    "def sum_natural(n):\n",
    "    if n == 1:\n",
    "        return 1\n",
    "    else:\n",
    "        return n + sum_natural(n - 1)\n",
    "\n",
    "print(sum_natural(3))"
   ]
  },
  {
   "cell_type": "code",
   "execution_count": 20,
   "id": "e8a5d63e",
   "metadata": {},
   "outputs": [
    {
     "name": "stdout",
     "output_type": "stream",
     "text": [
      "120\n"
     ]
    }
   ],
   "source": [
    "#4\n",
    "def factorial(n):\n",
    "    if n == 1:\n",
    "        return 1\n",
    "    else:\n",
    "        return n * factorial(n - 1)\n",
    "    \n",
    "print(factorial(5))"
   ]
  },
  {
   "cell_type": "code",
   "execution_count": 24,
   "id": "744d1625",
   "metadata": {},
   "outputs": [
    {
     "name": "stdout",
     "output_type": "stream",
     "text": [
      "8\n"
     ]
    }
   ],
   "source": [
    "#5\n",
    "def power(x, n):\n",
    "    if n == 0:\n",
    "        return 1\n",
    "    else:\n",
    "        return x * power(x, n - 1)\n",
    "    \n",
    "print(power(2, 3))"
   ]
  },
  {
   "cell_type": "code",
   "execution_count": 25,
   "id": "f5f8d0d2",
   "metadata": {},
   "outputs": [
    {
     "name": "stdout",
     "output_type": "stream",
     "text": [
      "3\n",
      "2\n",
      "1\n",
      "Done!\n"
     ]
    }
   ],
   "source": [
    "def countdown(n):\n",
    "    if n == 0:\n",
    "        print(\"Done!\")\n",
    "    else:\n",
    "        print(n)\n",
    "        countdown(n - 1)\n",
    "\n",
    "countdown(3)"
   ]
  },
  {
   "cell_type": "code",
   "execution_count": 22,
   "id": "0aee2951",
   "metadata": {},
   "outputs": [
    {
     "data": {
      "text/plain": [
       "0"
      ]
     },
     "execution_count": 22,
     "metadata": {},
     "output_type": "execute_result"
    }
   ],
   "source": [
    "def digit_sum(n):\n",
    "    if n == 0:\n",
    "        return 0\n",
    "    else:\n",
    "        return digit_sum(n - 1)\n",
    "    \n",
    "digit_sum(123)\n"
   ]
  },
  {
   "cell_type": "code",
   "execution_count": null,
   "id": "2f113907",
   "metadata": {},
   "outputs": [
    {
     "data": {
      "text/plain": [
       "10"
      ]
     },
     "execution_count": 11,
     "metadata": {},
     "output_type": "execute_result"
    }
   ],
   "source": [
    "def digit_sum(n):\n",
    "    # base case: if the number is a single digit (0-9), just return that digit.\n",
    "    if n < 10:\n",
    "        return n\n",
    "    \n",
    "    # recursive case\n",
    "    last_digit = n % 10 # get the last digit\n",
    "    remaining_number = n // 10 # remove the last digit\n",
    "\n",
    "    # adding last digit to the sum of the remaining digits\n",
    "    sn = last_digit + digit_sum(remaining_number)\n",
    "    return sn\n",
    "\n",
    "digit_sum(123)\n",
    "\n",
    "# First Call (n = 123)\n",
    "# 123 % 10 = 3 (last digit)\n",
    "# 123 // 10 = 12 (remaining number)\n",
    "# Returns 3 + digit_sum(12)\n",
    "\n",
    "# Second Call (n = 12)\n",
    "# 12 % 10 = 2\n",
    "# 12 // 10 = 1\n",
    "# Returns 2 + digit_sum(1)\n",
    "\n",
    "# Third Call (n = 1)\n",
    "# Base case triggered! Returns 1\n",
    "\n",
    "# final output 3 + 2 + 1\n",
    "\n"
   ]
  },
  {
   "cell_type": "code",
   "execution_count": null,
   "id": "09abcb08",
   "metadata": {},
   "outputs": [],
   "source": []
  },
  {
   "cell_type": "code",
   "execution_count": null,
   "id": "98bdb22f",
   "metadata": {},
   "outputs": [],
   "source": []
  }
 ],
 "metadata": {
  "kernelspec": {
   "display_name": "Python 3",
   "language": "python",
   "name": "python3"
  },
  "language_info": {
   "codemirror_mode": {
    "name": "ipython",
    "version": 3
   },
   "file_extension": ".py",
   "mimetype": "text/x-python",
   "name": "python",
   "nbconvert_exporter": "python",
   "pygments_lexer": "ipython3",
   "version": "3.11.2"
  }
 },
 "nbformat": 4,
 "nbformat_minor": 5
}
