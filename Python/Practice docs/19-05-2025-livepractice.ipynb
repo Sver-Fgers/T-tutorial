{
 "cells": [
  {
   "cell_type": "markdown",
   "id": "5a648d55",
   "metadata": {},
   "source": []
  },
  {
   "cell_type": "markdown",
   "id": "e1c5625b",
   "metadata": {},
   "source": [
    "1a\n",
    "input =  use input function and int function \n",
    "\n",
    "---\n",
    "process : variable = input\n",
    "process: sn = formula\n",
    "            formula = (k**2) + (k/2)\n",
    "            user = 3\n",
    "            formula 3\n",
    "            formula 2\n",
    "            formula 1\n",
    "            total (sn) = formula 1....3\n",
    "----\n",
    "\n",
    "output = print total sn"
   ]
  },
  {
   "cell_type": "code",
   "execution_count": 2,
   "metadata": {},
   "outputs": [
    {
     "name": "stdout",
     "output_type": "stream",
     "text": [
      "17.0\n"
     ]
    }
   ],
   "source": [
    "#1a \n",
    "n = int(input(\"Enter an integer: \"))\n",
    "\n",
    "sn = 0\n",
    "\n",
    "for k in range(1, n+1):\n",
    "    sn += (k**2) + (k/2)\n",
    "\n",
    "print (sn)\n"
   ]
  },
  {
   "cell_type": "code",
   "execution_count": 15,
   "metadata": {},
   "outputs": [
    {
     "name": "stdout",
     "output_type": "stream",
     "text": [
      "3.7 is not a natural number\n"
     ]
    }
   ],
   "source": [
    "#1b \n",
    "n = float(input(\"Enter a number with decimal point: \"))\n",
    "\n",
    "if n == int(n) and n > 0:\n",
    "    print(f\"{n} is a natural number\")\n",
    "\n",
    "else:\n",
    "    print(f\"{n} is not a natural number\")"
   ]
  },
  {
   "cell_type": "markdown",
   "metadata": {},
   "source": [
    "input = float\n",
    "process = int(n) and n > 0; if\n",
    "output; print "
   ]
  },
  {
   "cell_type": "code",
   "execution_count": null,
   "metadata": {},
   "outputs": [],
   "source": [
    "#1c\n",
    "\n",
    "\"\"\"so the runtime complexity is linear O(n) complexity,\n",
    "that is because in the question there are multiple constant O(1) complexities.\n",
    "the rate of growth increases as the constant calculation increase\n",
    "This is because the for loop runs from 1 to n, and the number of iterations is directly proportional to n\n",
    "\"\"\""
   ]
  },
  {
   "cell_type": "code",
   "execution_count": 17,
   "metadata": {},
   "outputs": [
    {
     "data": {
      "text/plain": [
       "17.0"
      ]
     },
     "execution_count": 17,
     "metadata": {},
     "output_type": "execute_result"
    }
   ],
   "source": [
    "#1d\n",
    "\n",
    "def s_n(n):\n",
    "    #n = int(input(\"Enter an integer: \"))\n",
    "\n",
    "    sn = 0\n",
    "\n",
    "    for k in range(1, n+1):\n",
    "        sn += (k**2) + (k/2)\n",
    "\n",
    "    return float(sn)\n",
    "\n",
    "    print (sn)\n",
    "s_n(3)"
   ]
  },
  {
   "cell_type": "code",
   "execution_count": null,
   "metadata": {},
   "outputs": [],
   "source": [
    "#2\n"
   ]
  }
 ],
 "metadata": {
  "kernelspec": {
   "display_name": "Python 3",
   "language": "python",
   "name": "python3"
  },
  "language_info": {
   "codemirror_mode": {
    "name": "ipython",
    "version": 3
   },
   "file_extension": ".py",
   "mimetype": "text/x-python",
   "name": "python",
   "nbconvert_exporter": "python",
   "pygments_lexer": "ipython3",
   "version": "3.9.6"
  }
 },
 "nbformat": 4,
 "nbformat_minor": 5
}
