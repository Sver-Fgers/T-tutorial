{
 "cells": [
  {
   "cell_type": "code",
   "execution_count": 13,
   "metadata": {},
   "outputs": [
    {
     "name": "stdout",
     "output_type": "stream",
     "text": [
      "{'ATP': ('507.2', '259.0', '15400.0'), 'CTP': ('483.2', '271.0', '9000.0'), 'GTP': ('523.2', '253.0', '13700.0'), 'UTP': ('484.2', '262.0', '10000.0'), 'dATP': ('491.2', '259.0', '15200.0'), 'dCTP': ('467.2', '271.0', '9300.0'), 'dGTP': ('507.2', '253.0', '13700.0'), 'dTTP': ('482.2', '267.0', '9600.0')}\n"
     ]
    }
   ],
   "source": [
    "with open (r\"C:\\Users\\Victor_Nxx\\Documents\\00-Vaults\\Public\\T - tutorial\\Python\\School docs\\mock_exam\\mock 1\\nucleotides.txt\", \"r\") as file: #open the file\n",
    "    next(file) #use to skip the firstline \n",
    "    # read_file = file.readlines() #to read all the file content as individual string\n",
    "\n",
    "    # print(read_file)\n",
    "    \n",
    "    \"\"\" the contents\n",
    "    next line skips = Nucleotide,Molecular_Weight,Absorbance_Maximum,Molar_Extinction_Coefficient # skip this line\n",
    "    ATP,507.2,259.0,15400.0\n",
    "    CTP,483.2,271.0,9000.0\n",
    "    GTP,523.2,253.0,13700.0\n",
    "    UTP,484.2,262.0,10000.0\n",
    "    dATP,491.2,259.0,15200.0\n",
    "    dCTP,467.2,271.0,9300.0\n",
    "    dGTP,507.2,253.0,13700.0\n",
    "    dTTP,482.2,267.0,9600.0\n",
    "    \"\"\"\n",
    "    \n",
    "    data = {}\n",
    "\n",
    "\n",
    "\n",
    "    for line in file: # read the contents of the file, line by line as strings\n",
    "        parts = line.strip().split(\",\")\n",
    "\n",
    "        # [\"ATP, \"507.2\", \"259.0, \"15400.0\"]\n",
    "        # .\n",
    "        # .\n",
    "        # .\n",
    "        # .\n",
    "        # [\"dTTP\",\"482.2\",\"267.0\",\"9600.0\"]\n",
    "\n",
    "        # store the elements in a column\n",
    "\n",
    "        nucleotide = parts[0] \n",
    "        molecular_weight = parts[1]\n",
    "        absorbance_maximum = parts[2]\n",
    "        molar_extinction_coefficient = parts[3]\n",
    "\n",
    "        # save contents in the dictionary\n",
    "        data[nucleotide] = (molecular_weight, absorbance_maximum, molar_extinction_coefficient)\n",
    "\n",
    "print(data)\n",
    "\n"
   ]
  },
  {
   "cell_type": "code",
   "execution_count": 30,
   "id": "6aad8af3",
   "metadata": {},
   "outputs": [
    {
     "name": "stdout",
     "output_type": "stream",
     "text": [
      "{'Lagos': ('27.3', '1500'), 'Cairo': ('22.0', '30'), 'London': ('15.5', '1150'), 'Tokyo': ('16.3', '1300'), 'Nairobi': ('19.8', '900')}\n"
     ]
    }
   ],
   "source": [
    "# ✅ Question 1: Cities and Weather Data\n",
    "# A file cities_weather.txt contains city names, their average yearly temperature (°C), and annual rainfall (mm).\n",
    "# (a) Write a function load_weather(filename) that reads the file and returns a list of tuples, each containing the city name, average temperature, and rainfall.\n",
    "# file path = C:\\Users\\Victor_Nxx\\Documents\\00-Vaults\\Public\\T - tutorial\\Python\\Practice docs\\02-06-25 - cities_weather.txt\n",
    "\n",
    "def load_weather():\n",
    "\n",
    "    with open(r\"C:\\Users\\Victor_Nxx\\Documents\\00-Vaults\\Public\\T - tutorial\\Python\\Practice docs\\02-06-25 - cities_weather.txt\", \"r\") as file: #open the file\n",
    "        next(file) #skip the first line \n",
    "\n",
    "        cities_weather = {}\n",
    "\n",
    "        # break down contents of cities_weathers.txt and save\n",
    "        for line in file: #to loop through each line individually\n",
    "            parts = line.strip().split(\",\") # remove whitespace and add a comma seperator\n",
    "\n",
    "            # save by index position into in a variable\n",
    "            city = parts[0] \n",
    "            temperature = parts[1]\n",
    "            rainfall= parts[2]\n",
    "\n",
    "            cities_weather[city] = (temperature, rainfall) # add key and values to the dictionary \n",
    "    \n",
    "    print(cities_weather) # print result\n",
    "load_weather()"
   ]
  },
  {
   "cell_type": "code",
   "execution_count": null,
   "id": "ebdaf1bb",
   "metadata": {},
   "outputs": [],
   "source": []
  },
  {
   "cell_type": "code",
   "execution_count": null,
   "id": "4dd73221",
   "metadata": {},
   "outputs": [],
   "source": []
  }
 ],
 "metadata": {
  "kernelspec": {
   "display_name": "Python 3",
   "language": "python",
   "name": "python3"
  },
  "language_info": {
   "codemirror_mode": {
    "name": "ipython",
    "version": 3
   },
   "file_extension": ".py",
   "mimetype": "text/x-python",
   "name": "python",
   "nbconvert_exporter": "python",
   "pygments_lexer": "ipython3",
   "version": "3.11.2"
  }
 },
 "nbformat": 4,
 "nbformat_minor": 5
}
