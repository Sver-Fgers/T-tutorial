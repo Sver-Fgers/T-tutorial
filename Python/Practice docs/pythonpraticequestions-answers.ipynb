{
 "cells": [
  {
   "cell_type": "code",
   "execution_count": null,
   "id": "36b1fafa",
   "metadata": {},
   "outputs": [
    {
     "name": "stdout",
     "output_type": "stream",
     "text": [
      "My favourite animal is lion\n"
     ]
    }
   ],
   "source": [
    "#1 \n",
    "species = \"lion\"\n",
    "print(f\"My favourite animal is {species}\")"
   ]
  },
  {
   "cell_type": "code",
   "execution_count": null,
   "id": "6f1bc69a",
   "metadata": {},
   "outputs": [
    {
     "name": "stdout",
     "output_type": "stream",
     "text": [
      "<class 'int'>\n",
      "<class 'float'>\n",
      "<class 'str'>\n"
     ]
    }
   ],
   "source": [
    "#2\n",
    "a = 5\n",
    "b = 2.5\n",
    "c = \"7\"\n",
    "\n",
    "\n",
    "print(type(a))\n",
    "print(type(b))\n",
    "print(type(c))"
   ]
  },
  {
   "cell_type": "code",
   "execution_count": 10,
   "id": "05ee1f7e",
   "metadata": {},
   "outputs": [
    {
     "name": "stdout",
     "output_type": "stream",
     "text": [
      "12\n"
     ]
    }
   ],
   "source": [
    "#3\n",
    "new_c = int(c) + a\n",
    "\n",
    "print(new_c)"
   ]
  },
  {
   "cell_type": "code",
   "execution_count": 11,
   "id": "596d35c4",
   "metadata": {},
   "outputs": [
    {
     "name": "stdout",
     "output_type": "stream",
     "text": [
      "2.25\n",
      "2\n",
      "1\n",
      "6561\n"
     ]
    }
   ],
   "source": [
    "#4\n",
    "x = 9 \n",
    "y = 4\n",
    "\n",
    "print(x/y)\n",
    "print(x//y)\n",
    "print(x%y)\n",
    "print(x**y)"
   ]
  },
  {
   "cell_type": "code",
   "execution_count": 15,
   "id": "84df215f",
   "metadata": {},
   "outputs": [
    {
     "name": "stdout",
     "output_type": "stream",
     "text": [
      "16.0\n",
      "2.0\n",
      "2.0\n"
     ]
    }
   ],
   "source": [
    "#5\n",
    "gene_level = float(4.0)\n",
    "\n",
    "print(gene_level*gene_level)\n",
    "print(gene_level/2)\n",
    "print(gene_level**0.5)"
   ]
  },
  {
   "cell_type": "code",
   "execution_count": 16,
   "id": "f285eda8",
   "metadata": {},
   "outputs": [
    {
     "name": "stdout",
     "output_type": "stream",
     "text": [
      "False\n",
      "True\n",
      "False\n"
     ]
    }
   ],
   "source": [
    "#6\n",
    "a = \"chimpanzee\"\n",
    "b = \"gorilla\"\n",
    "\n",
    "print(a>b)\n",
    "print(a<b)\n",
    "print(a==b)"
   ]
  },
  {
   "cell_type": "code",
   "execution_count": 18,
   "id": "c99608c5",
   "metadata": {},
   "outputs": [
    {
     "name": "stdout",
     "output_type": "stream",
     "text": [
      "False\n"
     ]
    }
   ],
   "source": [
    "#7\n",
    "temperature = 36.5\n",
    "a = 37\n",
    "\n",
    "check = temperature > a\n",
    "\n",
    "print(check)\n"
   ]
  },
  {
   "cell_type": "code",
   "execution_count": 32,
   "id": "99dc7968",
   "metadata": {},
   "outputs": [
    {
     "name": "stdout",
     "output_type": "stream",
     "text": [
      "A\n",
      "C\n",
      "GCT\n",
      "CGATCGTA\n"
     ]
    }
   ],
   "source": [
    "#8\n",
    "sequence = \"ATGCTAGC\"\n",
    "\n",
    "print(sequence[0])\n",
    "print(sequence[7])\n",
    "print(sequence[2:5])\n",
    "print(sequence[::-1])"
   ]
  },
  {
   "cell_type": "code",
   "execution_count": 40,
   "id": "af28a351",
   "metadata": {},
   "outputs": [
    {
     "name": "stdout",
     "output_type": "stream",
     "text": [
      "Homo Sapiens\n"
     ]
    }
   ],
   "source": [
    "#9\n",
    "name = \"homo sapiens\"\n",
    "\n",
    "cap = name.title()\n",
    "print(cap)"
   ]
  },
  {
   "cell_type": "code",
   "execution_count": 48,
   "id": "aa5edd67",
   "metadata": {},
   "outputs": [
    {
     "name": "stdout",
     "output_type": "stream",
     "text": [
      "13\n",
      "6.5\n"
     ]
    }
   ],
   "source": [
    "#10\n",
    "a = int(input(\"pick a number: \"))\n",
    "b = int(input(\"pick a another number: \"))\n",
    "\n",
    "sum = a + b\n",
    "average = sum/2\n",
    "print(sum)\n",
    "print(average)\n"
   ]
  },
  {
   "cell_type": "code",
   "execution_count": 50,
   "id": "220049d3",
   "metadata": {},
   "outputs": [
    {
     "name": "stdout",
     "output_type": "stream",
     "text": [
      "7\n"
     ]
    }
   ],
   "source": [
    "#11\n",
    "dna = input(\"type a dna_sequence: \")\n",
    "\n",
    "print(len(dna))"
   ]
  },
  {
   "cell_type": "code",
   "execution_count": 53,
   "id": "9e8f7817",
   "metadata": {},
   "outputs": [
    {
     "name": "stdout",
     "output_type": "stream",
     "text": [
      "5.0\n"
     ]
    }
   ],
   "source": [
    "#12\n",
    "def calculate_mean(a, b, c):\n",
    "    mean = (a + b + c)/3\n",
    "    print (mean)\n",
    "\n",
    "calculate_mean(3, 7, 5)\n"
   ]
  },
  {
   "cell_type": "code",
   "execution_count": 56,
   "id": "22e3121e",
   "metadata": {},
   "outputs": [
    {
     "name": "stdout",
     "output_type": "stream",
     "text": [
      "2\n"
     ]
    }
   ],
   "source": [
    "#13\n",
    "def counter(dna_string):\n",
    "    check = dna_string.count(\"A\") \n",
    "    print(check)\n",
    "\n",
    "counter(\"ATGCTAGC\")"
   ]
  },
  {
   "cell_type": "code",
   "execution_count": 57,
   "id": "bcd2b6a9",
   "metadata": {},
   "outputs": [
    {
     "name": "stdout",
     "output_type": "stream",
     "text": [
      "0.40263518300186596\n"
     ]
    }
   ],
   "source": [
    "#14\n",
    "import random\n",
    "\n",
    "a = random.random()\n",
    "\n",
    "print(a)\n",
    "\n",
    "\n"
   ]
  },
  {
   "cell_type": "code",
   "execution_count": 59,
   "id": "8f1d9b8f",
   "metadata": {},
   "outputs": [
    {
     "name": "stdout",
     "output_type": "stream",
     "text": [
      "5\n"
     ]
    }
   ],
   "source": [
    "#15\n",
    "\n",
    "b = random.randint(1,6)\n",
    "\n",
    "print(b)"
   ]
  },
  {
   "cell_type": "code",
   "execution_count": null,
   "id": "b242c87d",
   "metadata": {},
   "outputs": [
    {
     "name": "stdout",
     "output_type": "stream",
     "text": [
      "10\n"
     ]
    }
   ],
   "source": [
    "#16\n",
    "a = str(input(\"type in a string: \"))\n",
    "\n",
    "conv = int(a)\n",
    "\n",
    "print(conv + conv)\n",
    "\n",
    "\"\"\"if the user enters 2.5 it wont work because it is a float number\"\"\""
   ]
  },
  {
   "cell_type": "code",
   "execution_count": 67,
   "id": "cce98bb2",
   "metadata": {},
   "outputs": [
    {
     "name": "stdout",
     "output_type": "stream",
     "text": [
      "8\n"
     ]
    }
   ],
   "source": [
    "#17\n",
    "a = float(input(\"type in a string: \"))\n",
    "\n",
    "conv = int(a)\n",
    "\n",
    "print(conv + conv)"
   ]
  },
  {
   "cell_type": "code",
   "execution_count": 75,
   "id": "bef3d8b3",
   "metadata": {},
   "outputs": [
    {
     "name": "stdout",
     "output_type": "stream",
     "text": [
      "False\n"
     ]
    }
   ],
   "source": [
    "#18\n",
    "n = 7 \n",
    "\n",
    "check = n%2 \n",
    "odd = check < 1\n",
    "print((odd))"
   ]
  },
  {
   "cell_type": "code",
   "execution_count": 79,
   "id": "3fc6f31b",
   "metadata": {},
   "outputs": [
    {
     "name": "stdout",
     "output_type": "stream",
     "text": [
      "True\n"
     ]
    }
   ],
   "source": [
    "#19\n",
    "def is_palindrome(s):\n",
    "    comp = s == s[::-1]\n",
    "    print(comp)\n",
    "is_palindrome(\"racecar\")    "
   ]
  },
  {
   "cell_type": "code",
   "execution_count": 83,
   "id": "33928131",
   "metadata": {},
   "outputs": [
    {
     "name": "stdout",
     "output_type": "stream",
     "text": [
      "obi is a \\n big boy\n"
     ]
    }
   ],
   "source": [
    "#20\n",
    "a = input(\"type in a string: \")\n",
    "print(rf\"{a}\")"
   ]
  },
  {
   "cell_type": "code",
   "execution_count": null,
   "id": "c57c5ebc",
   "metadata": {},
   "outputs": [],
   "source": []
  }
 ],
 "metadata": {
  "kernelspec": {
   "display_name": "Python 3",
   "language": "python",
   "name": "python3"
  },
  "language_info": {
   "codemirror_mode": {
    "name": "ipython",
    "version": 3
   },
   "file_extension": ".py",
   "mimetype": "text/x-python",
   "name": "python",
   "nbconvert_exporter": "python",
   "pygments_lexer": "ipython3",
   "version": "3.9.6"
  }
 },
 "nbformat": 4,
 "nbformat_minor": 5
}
