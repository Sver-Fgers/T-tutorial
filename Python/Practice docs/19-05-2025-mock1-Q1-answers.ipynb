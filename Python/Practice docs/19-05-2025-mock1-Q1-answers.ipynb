{
 "cells": [
  {
   "cell_type": "code",
   "execution_count": null,
   "metadata": {},
   "outputs": [
    {
     "name": "stdout",
     "output_type": "stream",
     "text": [
      "the sum of the numbers 4 is 40\n"
     ]
    },
    {
     "data": {
      "text/plain": [
       "'the runtime complexity is an O(n) linear time complexity because\\nwe have a loop which means multiple O(1) constant time complexity'"
      ]
     },
     "execution_count": 1,
     "metadata": {},
     "output_type": "execute_result"
    }
   ],
   "source": [
    "#1\n",
    "n = float(input(\"Enter a number: \"))\n",
    "\n",
    "tn = 0\n",
    "\n",
    "if n.is_integer() and n > 0:\n",
    "    n = int(n)\n",
    "    for k in range(1, n + 1):\n",
    "        tn += ((k**3)+(2*k)) // 3\n",
    "    print(\"the sum of the numbers\", n, \"is\", tn)\n",
    "\n",
    "else:\n",
    "    print(\"error; not a positive integer\")\n",
    "\n",
    "\n",
    "\"\"\"the runtime complexity is an O(n) linear time complexity because\n",
    "we have a loop which means multiple O(1) constant time complexity\"\"\"\n"
   ]
  },
  {
   "cell_type": "code",
   "execution_count": null,
   "id": "5ce8e272",
   "metadata": {},
   "outputs": [
    {
     "name": "stdout",
     "output_type": "stream",
     "text": [
      "the sum of the numbers 10 is 11\n"
     ]
    }
   ],
   "source": [
    "#2\n",
    "def calculate_U(n):\n",
    "    U = 0\n",
    "    \n",
    "    if n == 0:\n",
    "\n",
    "        print(1)\n",
    "\n",
    "    else:\n",
    "\n",
    "        for k in range(1, n + 1):\n",
    "        \n",
    "            U += (1 + (1//(k**2)))\n",
    "\n",
    "        print(\"the sum of the numbers\", n, \"is\", U)\n",
    "\n",
    "calculate_U(10)\n",
    "\n",
    "\"\"\"the runtime complexity is an O(n) linear time complexity because\n",
    "we have a loop which means multiple O(1) constant time complexity\"\"\""
   ]
  },
  {
   "cell_type": "code",
   "execution_count": 37,
   "id": "e2ea8afd",
   "metadata": {},
   "outputs": [
    {
     "name": "stdout",
     "output_type": "stream",
     "text": [
      "k = 1 : -1\n",
      "k = 2 : -1\n",
      "k = 3 : -2\n",
      "k = 4 : -2\n"
     ]
    },
    {
     "data": {
      "text/plain": [
       "'the runtime complexity is an O(n) linear time complexity because\\nwe have a loop which means multiple O(1) constant time complexity'"
      ]
     },
     "execution_count": 37,
     "metadata": {},
     "output_type": "execute_result"
    }
   ],
   "source": [
    "#3\n",
    "\n",
    "n = int(input(\"Enter a number: \"))\n",
    "\n",
    "vn = 0\n",
    "\n",
    "for k in range(1, n + 1):\n",
    "    vn += (((-1)**k)*k) // (k + 1)\n",
    "    print(\"k =\", k, \":\", vn)\n",
    "\n",
    "\"\"\"the runtime complexity is an O(n) linear time complexity because\n",
    "we have a loop which means multiple O(1) constant time complexity\"\"\""
   ]
  },
  {
   "cell_type": "code",
   "execution_count": 35,
   "id": "8b914038",
   "metadata": {},
   "outputs": [
    {
     "name": "stdout",
     "output_type": "stream",
     "text": [
      "the sum of the numbers 2 is 6.0\n",
      "compared to exp(2) and the difference between both= False , -1.3890560989306504\n"
     ]
    }
   ],
   "source": [
    "#4\n",
    "import math\n",
    "def compute_W(n):\n",
    "    w = 0\n",
    "    \n",
    "    for k in range(1, n + 1):\n",
    "        w += ((2**k) + k) / (math.factorial(k))\n",
    "        comp = w == math.exp(2)\n",
    "        difference = w - math.exp(2)\n",
    "    print(\"the sum of the numbers\", n, \"is\", w )\n",
    "    print(\"compared to exp(2) and the difference between both=\", comp, \",\", difference)\n",
    "\n",
    "compute_W(2)"
   ]
  },
  {
   "cell_type": "code",
   "execution_count": 34,
   "id": "84fb3f8c",
   "metadata": {},
   "outputs": [
    {
     "name": "stdout",
     "output_type": "stream",
     "text": [
      "the sum of the numbers 100 is 11.80179754623332\n"
     ]
    }
   ],
   "source": [
    "#5\n",
    "n = int(input(\"Enter a number: \"))\n",
    "\n",
    "xn = 0\n",
    "\n",
    "for k in range(1, n + 1):\n",
    "    xn += (math.log(k + 1)) / k\n",
    "\n",
    "print(\"the sum of the numbers\", n, \"is\", xn)\n"
   ]
  },
  {
   "cell_type": "code",
   "execution_count": 42,
   "id": "63d57d11",
   "metadata": {},
   "outputs": [
    {
     "name": "stdout",
     "output_type": "stream",
     "text": [
      "user did not input a positive integer\n"
     ]
    }
   ],
   "source": [
    "#6\n",
    "n = float(input(\"Enter a number: \"))\n",
    "\n",
    "yn = 0\n",
    "\n",
    "if n == int(n) and n > 0:\n",
    "    n = int(n)\n",
    "    for k in range(1, n + 1):\n",
    "        yn += math.sin((k * math.pi)/4)\n",
    "    print(\"the sum of number\", n, \"is\", yn)\n",
    "\n",
    "else:\n",
    "    print(\"user did not input a positive integer\")"
   ]
  },
  {
   "cell_type": "code",
   "execution_count": 50,
   "id": "2e4b7756",
   "metadata": {},
   "outputs": [
    {
     "name": "stdout",
     "output_type": "stream",
     "text": [
      "the sum of the numbers 5 is -1.6918\n"
     ]
    }
   ],
   "source": [
    "#7\n",
    "def calculate_Z(n):\n",
    "    z = 0\n",
    "    for k in range(1, n + 1):\n",
    "        z += ((k**2) * math.cos(k)) / (2**k)\n",
    "    print(f\"the sum of the numbers {n} is {z:.4f}\")\n",
    "calculate_Z(5)"
   ]
  },
  {
   "cell_type": "code",
   "execution_count": null,
   "id": "8578cde9",
   "metadata": {},
   "outputs": [],
   "source": []
  }
 ],
 "metadata": {
  "kernelspec": {
   "display_name": "Python 3",
   "language": "python",
   "name": "python3"
  },
  "language_info": {
   "codemirror_mode": {
    "name": "ipython",
    "version": 3
   },
   "file_extension": ".py",
   "mimetype": "text/x-python",
   "name": "python",
   "nbconvert_exporter": "python",
   "pygments_lexer": "ipython3",
   "version": "3.11.2"
  }
 },
 "nbformat": 4,
 "nbformat_minor": 5
}
