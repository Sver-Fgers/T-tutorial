{
 "cells": [
  {
   "cell_type": "code",
   "execution_count": 1,
   "metadata": {},
   "outputs": [
    {
     "name": "stdout",
     "output_type": "stream",
     "text": [
      "Original: GCTAGTCGATCGTAGCTAGCTACGATCGTAGCATCGATCGTTAGCTAGCGTACGATCGTGCTAGCGT\n",
      "Reverse Complement: ACGCTAGCACGATCGTACGCTAGCTAACGATCGATGCTACGATCGTAGCTAGCTACGATCGACTAGC\n"
     ]
    }
   ],
   "source": [
    "def reverse_complement(dna_sequence):\n",
    "    # Step 1: Reverse the sequence\n",
    "    reversed_sequence = dna_sequence[::-1]\n",
    "\n",
    "    reversed_complement_sequence = \"\"\n",
    "    for base in reversed_sequence:\n",
    "        if base == \"A\":\n",
    "            reversed_complement_sequence += \"T\"\n",
    "\n",
    "        elif base == \"T\":\n",
    "            reversed_complement_sequence += \"A\"\n",
    "\n",
    "        elif base == \"C\":\n",
    "            reversed_complement_sequence += \"G\"\n",
    "\n",
    "        elif base == \"G\":\n",
    "            reversed_complement_sequence += \"C\"\n",
    "        \n",
    "        \n",
    "    # Convert back to uppercase\n",
    "    return reversed_complement_sequence\n",
    "\n",
    "# Test the function\n",
    "dna = \"GCTAGTCGATCGTAGCTAGCTACGATCGTAGCATCGATCGTTAGCTAGCGTACGATCGTGCTAGCGT\"\n",
    "print(f\"Original: {dna}\")\n",
    "print(f\"Reverse Complement: {reverse_complement(dna)}\")\n"
   ]
  },
  {
   "cell_type": "code",
   "execution_count": 2,
   "metadata": {},
   "outputs": [
    {
     "name": "stdout",
     "output_type": "stream",
     "text": [
      "print CG is found in ATGCGT\n",
      "print CAA is found in TTGCAA\n",
      "print TAG is found in CGTAGG\n"
     ]
    }
   ],
   "source": [
    "def seq_checker():\n",
    "\n",
    "    seq_list_1 = [\"ATGCGT\", \"CGTAGG\", \"TTGCAA\"]\n",
    "    seq_list_2 = [\"CG\", \"CAA\", \"TAG\"]\n",
    "    \n",
    "    for seq2 in seq_list_2:\n",
    "        for seq1 in seq_list_1:\n",
    "            if seq2 in seq1:\n",
    "                print(f\"print {seq2} is found in {seq1}\")\n",
    "                break\n",
    "        else:\n",
    "            new = reverse_complement(seq2)\n",
    "            for seq1 in seq_list_1:\n",
    "                if new in seq1:\n",
    "                    print(f\"the reverse complement of {seq2} is {new}\")\n",
    "                    break\n",
    "            else:\n",
    "                print(f\"the sequence {seq2} and its complement was not found\")\n",
    "\n",
    "            \n",
    "seq_checker()"
   ]
  }
 ],
 "metadata": {
  "kernelspec": {
   "display_name": "Python 3",
   "language": "python",
   "name": "python3"
  },
  "language_info": {
   "codemirror_mode": {
    "name": "ipython",
    "version": 3
   },
   "file_extension": ".py",
   "mimetype": "text/x-python",
   "name": "python",
   "nbconvert_exporter": "python",
   "pygments_lexer": "ipython3",
   "version": "3.11.2"
  }
 },
 "nbformat": 4,
 "nbformat_minor": 2
}
