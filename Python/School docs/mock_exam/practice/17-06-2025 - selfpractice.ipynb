{
 "cells": [
  {
   "attachments": {
    "image.png": {
     "image/png": "[encoded data removed]"
    }
   },
   "cell_type": "markdown",
   "metadata": {},
   "source": [
    "\n",
    "1) You are given a file named codon_table.txt that contains a list of DNA codons and the amino acids they produce. Each line in the file has 4 values:\n",
    "G T T V  \n",
    "G T C V  \n",
    "G T A V  \n",
    "T A A *  \n",
    "T A G *  \n",
    "\n",
    "    a) Read the file and store the contents in a dictionary.\n",
    "        The key should be a tuple of the 3 DNA bases.\n",
    "        The value should be the amino acid.\n",
    "\n",
    "    b) Convert this dictionary into a pandas DataFrame with the following structure:\n",
    "        Columns: First, Second, Third, AminoAcid\n",
    "        Custom index: a string made by joining the 3 bases (e.g. \"GTT\", \"TAA\")\n",
    "\n",
    "    c) Print the DataFrame.\n",
    "\n",
    "    ![image.png](attachment:image.png)"
   ]
  },
  {
   "cell_type": "code",
   "execution_count": 2,
   "id": "66249e3d",
   "metadata": {},
   "outputs": [],
   "source": [
    "\n",
    "# 1) You are given a file named codon_table.txt that contains a list of DNA codons and the amino acids they produce. Each line in the file has 4 values:\n",
    "# G T T V  \n",
    "# G T C V  \n",
    "# G T A V  \n",
    "# T A A *  \n",
    "# T A G *  \n",
    "\n",
    "#     a) Read the file and store the contents in a dictionary.\n",
    "#         The key should be a tuple of the 3 DNA bases.\n",
    "#         The value should be the amino acid.\n",
    "\n",
    "#     b) Convert this dictionary into a pandas DataFrame with the following structure:\n",
    "#         Columns: First, Second, Third, AminoAcid\n",
    "#         Custom index: a string made by joining the 3 bases (e.g. \"GTT\", \"TAA\")\n",
    "\n",
    "#     c) Print the DataFrame.\n",
    "\n",
    "#     ![image.png](attachment:image.png)"
   ]
  },
  {
   "cell_type": "code",
   "execution_count": null,
   "id": "96f11cbf",
   "metadata": {},
   "outputs": [
    {
     "name": "stdout",
     "output_type": "stream",
     "text": [
      "{('G', 'T', 'T'): 'V', ('G', 'T', 'C'): 'V', ('G', 'T', 'A'): 'V', ('G', 'T', 'G'): 'V', ('T', 'A', 'A'): '*', ('T', 'A', 'G'): '*', ('T', 'G', 'A'): '*', ('A', 'T', 'G'): 'M', ('A', 'A', 'T'): 'N', ('A', 'A', 'C'): 'N', ('A', 'A', 'G'): 'K', ('A', 'A', 'A'): 'K'}\n"
     ]
    }
   ],
   "source": [
    "#1a\n",
    "\n",
    "codon_dict = {}\n",
    "\n",
    "with open(r\"C:\\Users\\Victor_Nxx\\Documents\\Projects\\Public\\T - tutorial\\Python\\School docs\\mock_exam\\practice\\codon.txt\",\"r\") as f:\n",
    "    # read = f.readlines()\n",
    "    # print(read)\n",
    "\n",
    "    for line in f:\n",
    "        parts = line.strip().split(\" \")\n",
    "        b1 = parts[0]\n",
    "        b2 = parts[1]\n",
    "        b3 = parts[2]\n",
    "        aa = parts[3]\n",
    "\n",
    "        codon_dict[(b1, b2, b3)] = aa\n",
    "\n",
    "    \n",
    "    print(codon_dict)\n",
    "\n"
   ]
  },
  {
   "cell_type": "code",
   "execution_count": null,
   "id": "19f01108",
   "metadata": {},
   "outputs": [
    {
     "name": "stdout",
     "output_type": "stream",
     "text": [
      "[['G', 'T', 'T', 'V'], ['G', 'T', 'C', 'V'], ['G', 'T', 'A', 'V'], ['G', 'T', 'G', 'V'], ['T', 'A', 'A', '*'], ['T', 'A', 'G', '*'], ['T', 'G', 'A', '*'], ['A', 'T', 'G', 'M'], ['A', 'A', 'T', 'N'], ['A', 'A', 'C', 'N'], ['A', 'A', 'G', 'K'], ['A', 'A', 'A', 'K']]\n",
      "    First Second Third Amino acids\n",
      "GTT     G      T     T           V\n",
      "GTC     G      T     C           V\n",
      "GTA     G      T     A           V\n",
      "GTG     G      T     G           V\n",
      "TAA     T      A     A           *\n",
      "TAG     T      A     G           *\n",
      "TGA     T      G     A           *\n",
      "ATG     A      T     G           M\n",
      "AAT     A      A     T           N\n",
      "AAC     A      A     C           N\n",
      "AAG     A      A     G           K\n",
      "AAA     A      A     A           K\n"
     ]
    }
   ],
   "source": [
    "#1b\n",
    "\n",
    "import pandas as pd \n",
    "\n",
    "base = []\n",
    "\n",
    "for i, j in codon_dict.items():\n",
    "    new = [i[0], i[1],  i[2], j]\n",
    "    base.append(new)\n",
    "\n",
    "print(base)\n",
    "\n",
    "df = pd.DataFrame(base, columns = [\"First\", \"Second\", \"Third\", \"Amino acids\"])\n",
    "\n",
    "df.index = df[\"First\"] + df[\"Second\"] + df[\"Third\"]\n",
    "\n",
    "print(df)\n"
   ]
  },
  {
   "cell_type": "code",
   "execution_count": null,
   "id": "656602f5",
   "metadata": {},
   "outputs": [],
   "source": []
  }
 ],
 "metadata": {
  "kernelspec": {
   "display_name": "Python 3",
   "language": "python",
   "name": "python3"
  },
  "language_info": {
   "codemirror_mode": {
    "name": "ipython",
    "version": 3
   },
   "file_extension": ".py",
   "mimetype": "text/x-python",
   "name": "python",
   "nbconvert_exporter": "python",
   "pygments_lexer": "ipython3",
   "version": "3.11.2"
  }
 },
 "nbformat": 4,
 "nbformat_minor": 5
}
