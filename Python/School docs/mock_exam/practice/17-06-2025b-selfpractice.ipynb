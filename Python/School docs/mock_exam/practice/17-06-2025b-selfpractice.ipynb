{
 "cells": [
  {
   "cell_type": "code",
   "execution_count": 133,
   "id": "ce98542e",
   "metadata": {},
   "outputs": [
    {
     "name": "stdout",
     "output_type": "stream",
     "text": [
      "{'V': ['GTA'], '*': ['TGA'], 'M': ['ATG'], 'N': ['AAC'], 'K': ['AAA'], 'L': ['CTC']}\n"
     ]
    }
   ],
   "source": [
    "# 1. Practice Question 1: Reverse Codon Mapping and Grouping\n",
    "# a) You're given a file called codon_to_amino.txt. Each line contains 3 DNA bases and the amino acid they code for. Some amino acids may have multiple codons.\n",
    "# b) Read the file and create a dictionary where:\n",
    "# \tThe key is the amino acid.\n",
    "# \tThe value is a list of all codons (as strings, e.g., 'GTT') that produce that amino acid.\n",
    "# c) Print the dictionary in alphabetical order of the amino acid.\n",
    "# d) Convert it into a pandas DataFrame with columns:\n",
    "# \tAminoAcid\n",
    "# \tCodons (a string showing codons separated by commas)\n",
    "\n",
    "\n",
    "#1a,b\n",
    "\n",
    "data = {}\n",
    "\n",
    "with open(r\"/Users/bosslistic10/Documents/t-programming/Python/Practice docs/codon_to_amino.txt\", \"r\") as f:\n",
    "    # read = f.readlines()\n",
    "    # print(read)\n",
    "\n",
    "\n",
    "    for line in f:\n",
    "        parts = line.strip().split()\n",
    "        b1 = parts[0]\n",
    "        b2 = parts[1]\n",
    "        b3 = parts[2]\n",
    "        aa = parts[3]\n",
    "\n",
    "        data[aa] = [b1 + b2 + b3] # create dictionary with the + to make string \n",
    "print(data)\n",
    "\n",
    "\n"
   ]
  },
  {
   "cell_type": "code",
   "execution_count": 134,
   "id": "94a2e4d8",
   "metadata": {},
   "outputs": [
    {
     "name": "stdout",
     "output_type": "stream",
     "text": [
      "* ['TGA']\n",
      "K ['AAA']\n",
      "L ['CTC']\n",
      "M ['ATG']\n",
      "N ['AAC']\n",
      "V ['GTA']\n"
     ]
    }
   ],
   "source": [
    "\n",
    "#1c\n",
    "\n",
    "for i,j in sorted(data.items()): # loop through the dict items to sort by alphabetical order\n",
    "    print(i,j)\n"
   ]
  },
  {
   "cell_type": "code",
   "execution_count": 135,
   "id": "ba39bdfb",
   "metadata": {},
   "outputs": [
    {
     "name": "stdout",
     "output_type": "stream",
     "text": [
      "[['V', 'G', 'T', 'A'], ['*', 'T', 'G', 'A'], ['M', 'A', 'T', 'G'], ['N', 'A', 'A', 'C'], ['K', 'A', 'A', 'A'], ['L', 'C', 'T', 'C']]\n"
     ]
    },
    {
     "data": {
      "text/html": [
       "<div>\n",
       "<style scoped>\n",
       "    .dataframe tbody tr th:only-of-type {\n",
       "        vertical-align: middle;\n",
       "    }\n",
       "\n",
       "    .dataframe tbody tr th {\n",
       "        vertical-align: top;\n",
       "    }\n",
       "\n",
       "    .dataframe thead th {\n",
       "        text-align: right;\n",
       "    }\n",
       "</style>\n",
       "<table border=\"1\" class=\"dataframe\">\n",
       "  <thead>\n",
       "    <tr style=\"text-align: right;\">\n",
       "      <th></th>\n",
       "      <th>Amino Acids</th>\n",
       "      <th>codon1</th>\n",
       "      <th>codon2</th>\n",
       "      <th>codon3</th>\n",
       "    </tr>\n",
       "  </thead>\n",
       "  <tbody>\n",
       "    <tr>\n",
       "      <th>0</th>\n",
       "      <td>V</td>\n",
       "      <td>G</td>\n",
       "      <td>T</td>\n",
       "      <td>A</td>\n",
       "    </tr>\n",
       "    <tr>\n",
       "      <th>1</th>\n",
       "      <td>*</td>\n",
       "      <td>T</td>\n",
       "      <td>G</td>\n",
       "      <td>A</td>\n",
       "    </tr>\n",
       "    <tr>\n",
       "      <th>2</th>\n",
       "      <td>M</td>\n",
       "      <td>A</td>\n",
       "      <td>T</td>\n",
       "      <td>G</td>\n",
       "    </tr>\n",
       "    <tr>\n",
       "      <th>3</th>\n",
       "      <td>N</td>\n",
       "      <td>A</td>\n",
       "      <td>A</td>\n",
       "      <td>C</td>\n",
       "    </tr>\n",
       "    <tr>\n",
       "      <th>4</th>\n",
       "      <td>K</td>\n",
       "      <td>A</td>\n",
       "      <td>A</td>\n",
       "      <td>A</td>\n",
       "    </tr>\n",
       "    <tr>\n",
       "      <th>5</th>\n",
       "      <td>L</td>\n",
       "      <td>C</td>\n",
       "      <td>T</td>\n",
       "      <td>C</td>\n",
       "    </tr>\n",
       "  </tbody>\n",
       "</table>\n",
       "</div>"
      ],
      "text/plain": [
       "  Amino Acids codon1 codon2 codon3\n",
       "0           V      G      T      A\n",
       "1           *      T      G      A\n",
       "2           M      A      T      G\n",
       "3           N      A      A      C\n",
       "4           K      A      A      A\n",
       "5           L      C      T      C"
      ]
     },
     "metadata": {},
     "output_type": "display_data"
    }
   ],
   "source": [
    "#1d\n",
    "\n",
    "import pandas as pd\n",
    "\n",
    "codon = [] # empty list to store new \n",
    "\n",
    "for i, j in data.items():\n",
    "    new = [i[0]] + list(j[0]) \n",
    "    codon.append(new)\n",
    "print(codon)\n",
    "\n",
    "df = pd.DataFrame(codon,columns = [\"Amino Acids\", \"codon1\", \"codon2\", \"codon3\"]) # create dataframe with columns \n",
    "\n",
    "display(df)\n",
    "\n",
    "\n"
   ]
  },
  {
   "cell_type": "code",
   "execution_count": 136,
   "id": "d4e17f81",
   "metadata": {},
   "outputs": [],
   "source": [
    "# 2. Practice Question 2: Translate Nucleotide Sequence to Protein\n",
    "# You are given a DNA nucleotide sequence in a file called nucleotide_sequence.txt. Your task is to:\n",
    "\n",
    "# a) Read the sequence from the file (all in one line, no spaces).\n",
    "# b) Split it into codons (groups of 3 letters).\n",
    "# c) Use a codon dictionary (same as from codon_to_amino.txt) to translate it into a protein sequence of amino acids.\n",
    "# d) Stop the translation if a stop codon (*) is encountered.\n",
    "# e) Create a final amino acid sequence string (e.g., \"MVK\"), and print the result.\n",
    "\n",
    "# Tip:\n",
    "# - Read nucleotide_sequence.txt and loop through the sequence 3 letters at a time.\n",
    "# - Use the dictionary to find the amino acid.\n",
    "# - Stop when you see * (e.g., \"TAA\" → *)."
   ]
  },
  {
   "cell_type": "code",
   "execution_count": 137,
   "id": "a1b2c563",
   "metadata": {},
   "outputs": [
    {
     "name": "stdout",
     "output_type": "stream",
     "text": [
      "ATGGTTGTCGTTAACTGATAAAGCTTAA\n",
      "\n",
      "ATG\n",
      "GTT\n",
      "GTC\n",
      "GTT\n",
      "AAC\n",
      "TGA\n",
      "TAA\n",
      "AGC\n",
      "TTA\n"
     ]
    }
   ],
   "source": [
    "#2a, b\n",
    "\n",
    "with open(r\"/Users/bosslistic10/Documents/t-programming/Python/Practice docs/nucleotide_sequence.txt\", \"r\") as f:\n",
    "    file = f.readline()\n",
    "\n",
    "    print(file)\n",
    "\n",
    "    for i in range(0, len(file)-2, 3):\n",
    "        cutting = file[i:i+3]\n",
    "        print(cutting)"
   ]
  },
  {
   "cell_type": "code",
   "execution_count": null,
   "id": "b45c1eb0",
   "metadata": {},
   "outputs": [],
   "source": []
  }
 ],
 "metadata": {
  "kernelspec": {
   "display_name": "Python (Jupyter)",
   "language": "python",
   "name": "my-jupyter-kernel"
  },
  "language_info": {
   "codemirror_mode": {
    "name": "ipython",
    "version": 3
   },
   "file_extension": ".py",
   "mimetype": "text/x-python",
   "name": "python",
   "nbconvert_exporter": "python",
   "pygments_lexer": "ipython3",
   "version": "3.9.6"
  }
 },
 "nbformat": 4,
 "nbformat_minor": 5
}
