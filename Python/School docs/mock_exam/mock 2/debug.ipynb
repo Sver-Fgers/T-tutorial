{
 "cells": [
  {
   "cell_type": "code",
   "execution_count": 29,
   "id": "c528e58f-5177-4762-91c4-6922ae022733",
   "metadata": {},
   "outputs": [],
   "source": [
    "class Bacteria:\n",
    "    def __init__(self, name):\n",
    "        self.name = name\n",
    "        self.enzymes = []\n"
   ]
  },
  {
   "cell_type": "code",
   "execution_count": 30,
   "id": "62d44b38-d07f-4873-955b-1090c69ed73b",
   "metadata": {},
   "outputs": [],
   "source": [
    "bacteria1 = Bacteria(\"E.coli\")\n",
    "bacteria2 = Bacteria(\"Streptococcus\") "
   ]
  },
  {
   "cell_type": "code",
   "execution_count": 31,
   "id": "2acb8980-fc8f-4190-8a31-7d809e4f5adc",
   "metadata": {},
   "outputs": [],
   "source": [
    "bacteria1.enzymes.append(\"fancyEnzyme1\")\n",
    "bacteria2.enzymes.append(\"fancyEnzyme2\")"
   ]
  },
  {
   "cell_type": "code",
   "execution_count": 32,
   "id": "dc7c4733-0da8-4338-8796-cdf31109f7d5",
   "metadata": {},
   "outputs": [
    {
     "name": "stdout",
     "output_type": "stream",
     "text": [
      "E.coli ['fancyEnzyme1']\n",
      "Streptococcus ['fancyEnzyme2']\n"
     ]
    }
   ],
   "source": [
    "print(bacteria1.name, bacteria1.enzymes)\n",
    "print(bacteria2.name, bacteria2.enzymes)"
   ]
  }
 ],
 "metadata": {
  "kernelspec": {
   "display_name": "Python (Jupyter)",
   "language": "python",
   "name": "my-jupyter-kernel"
  },
  "language_info": {
   "codemirror_mode": {
    "name": "ipython",
    "version": 3
   },
   "file_extension": ".py",
   "mimetype": "text/x-python",
   "name": "python",
   "nbconvert_exporter": "python",
   "pygments_lexer": "ipython3",
   "version": "3.9.6"
  }
 },
 "nbformat": 4,
 "nbformat_minor": 5
}
