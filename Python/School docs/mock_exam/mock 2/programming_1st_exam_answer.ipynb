{
 "cells": [
  {
   "cell_type": "code",
   "execution_count": 4,
   "metadata": {},
   "outputs": [],
   "source": [
    "# 1a\n",
    "# Ask for input\n",
    "P_0 = float(input(\"Enter P_0 (initial bacteria count): \"))\n",
    "r = float(input(\"Enter r (growth rate): \"))\n",
    "t = int(input(\"Enter t (time in hours): \"))"
   ]
  },
  {
   "cell_type": "code",
   "execution_count": 5,
   "metadata": {},
   "outputs": [
    {
     "name": "stdout",
     "output_type": "stream",
     "text": [
      "P_t = 671.56\n"
     ]
    }
   ],
   "source": [
    "# 1b\n",
    "# Initialize P_t\n",
    "P_t = 0\n",
    "\n",
    "# Calculate the sum\n",
    "for i in range(1, t + 1):\n",
    "    P_t += r**i\n",
    "\n",
    "# Multiply by P_0\n",
    "P_t *= P_0\n",
    "\n",
    "# Print the result with 2 decimal places\n",
    "print(f\"P_t = {P_t:.2f}\")"
   ]
  },
  {
   "cell_type": "code",
   "execution_count": 6,
   "metadata": {},
   "outputs": [],
   "source": [
    "# 1c\n",
    "# The algorithm has a time complexity of O(t) because the loop runs t times.\n",
    "# The space complexity is O(1) because we only use a few variables.\n"
   ]
  },
  {
   "cell_type": "code",
   "execution_count": 9,
   "metadata": {},
   "outputs": [
    {
     "name": "stdout",
     "output_type": "stream",
     "text": [
      "P_t = 243.10\n"
     ]
    }
   ],
   "source": [
    "# 1d\n",
    "def calculate_P_t(P_0, r, h, t):\n",
    "    if t == 0:\n",
    "        return 0\n",
    "    elif t % h == 1:\n",
    "        return (calculate_P_t(P_0, r, h, t - 1) + P_0) * r\n",
    "    else:\n",
    "        return calculate_P_t(P_0, r, h, t - 1) * r\n",
    "\n",
    "# Example usage\n",
    "P_0 = 100\n",
    "r = 1.1\n",
    "h = 2\n",
    "t = 3\n",
    "P_t = calculate_P_t(P_0, r, h, t)\n",
    "print(f\"P_t = {P_t:.2f}\")"
   ]
  },
  {
   "cell_type": "code",
   "execution_count": 8,
   "metadata": {},
   "outputs": [
    {
     "ename": "ValueError",
     "evalue": "invalid literal for int() with base 10: ''",
     "output_type": "error",
     "traceback": [
      "\u001b[0;31m---------------------------------------------------------------------------\u001b[0m",
      "\u001b[0;31mValueError\u001b[0m                                Traceback (most recent call last)",
      "Cell \u001b[0;32mIn[8], line 15\u001b[0m\n\u001b[1;32m     12\u001b[0m         \u001b[38;5;28;01mreturn\u001b[39;00m sn\n\u001b[1;32m     14\u001b[0m \u001b[38;5;66;03m# call the function and print the result\u001b[39;00m\n\u001b[0;32m---> 15\u001b[0m n \u001b[38;5;241m=\u001b[39m \u001b[38;5;28;43mint\u001b[39;49m\u001b[43m(\u001b[49m\u001b[38;5;28;43minput\u001b[39;49m\u001b[43m(\u001b[49m\u001b[38;5;124;43m\"\u001b[39;49m\u001b[38;5;124;43mEnter an integer: \u001b[39;49m\u001b[38;5;124;43m\"\u001b[39;49m\u001b[43m)\u001b[49m\u001b[43m)\u001b[49m\n\u001b[1;32m     16\u001b[0m \u001b[38;5;28mprint\u001b[39m(\u001b[38;5;124m\"\u001b[39m\u001b[38;5;124mS_n =\u001b[39m\u001b[38;5;124m\"\u001b[39m, sn_rec(n))\n",
      "\u001b[0;31mValueError\u001b[0m: invalid literal for int() with base 10: ''"
     ]
    }
   ],
   "source": [
    "# 2a \n",
    "#  A recursive function is a function that calls itself to solve a problem.\n",
    "\n",
    "def sn_rec(n):\n",
    "\n",
    "    if n == 1:\n",
    "        return 1.5\n",
    "    else:\n",
    "        recursive_call= sn_rec(n-1)\n",
    "        operation = n**2 + (n / 2)\n",
    "        sn = float(recursive_call + operation)\n",
    "        return sn\n",
    "\n",
    "# call the function and print the result\n",
    "n = int(input(\"Enter an integer: \"))\n",
    "print(\"S_n =\", sn_rec(n))"
   ]
  },
  {
   "cell_type": "code",
   "execution_count": null,
   "metadata": {},
   "outputs": [
    {
     "name": "stdout",
     "output_type": "stream",
     "text": [
      "['ATP', '507.2', '259.0', '15400.0']\n",
      "['CTP', '483.2', '271.0', '9000.0']\n",
      "['GTP', '523.2', '253.0', '13700.0']\n",
      "['UTP', '484.2', '262.0', '10000.0']\n",
      "['dATP', '491.2', '259.0', '15200.0']\n",
      "['dCTP', '467.2', '271.0', '9300.0']\n",
      "['dGTP', '507.2', '253.0', '13700.0']\n",
      "['dTTP', '482.2', '267.0', '9600.0']\n",
      "Dictionary: {'ATP': (507.2, 259.0, 15400.0), 'CTP': (483.2, 271.0, 9000.0), 'GTP': (523.2, 253.0, 13700.0), 'UTP': (484.2, 262.0, 10000.0), 'dATP': (491.2, 259.0, 15200.0), 'dCTP': (467.2, 271.0, 9300.0), 'dGTP': (507.2, 253.0, 13700.0), 'dTTP': (482.2, 267.0, 9600.0)}\n",
      "(482.2, 267.0, 9600.0)\n"
     ]
    }
   ],
   "source": [
    "# 3a\n",
    "# Read the file and store the data in a dictionary\n",
    "data_dict = {}\n",
    "\n",
    "# Open the file and read line by line\n",
    "with open(r\"C:\\Users\\Victor_Nxx\\Documents\\.Programming\\practice\\python\\.T\\mock_exam\\nucleotides.txt\", \"r\") as file:\n",
    "    next(file)  # Skip the header line\n",
    "\n",
    "    \"\"\" the contents\n",
    "    Nucleotide,Molecular_Weight,Absorbance_Maximum,Molar_Extinction_Coefficient # skip this line\n",
    "    ATP,507.2,259.0,15400.0\n",
    "    CTP,483.2,271.0,9000.0\n",
    "    GTP,523.2,253.0,13700.0\n",
    "    UTP,484.2,262.0,10000.0\n",
    "    dATP,491.2,259.0,15200.0\n",
    "    dCTP,467.2,271.0,9300.0\n",
    "    dGTP,507.2,253.0,13700.0\n",
    "    dTTP,482.2,267.0,9600.0\n",
    "    \"\"\"\n",
    "\n",
    "    for line in file: # read the contents of the file one line by line as strings, very memory efficient\n",
    "        # Split the line into parts and print the output\n",
    "        parts = line.strip().split(\",\") # strip removes whitespace or newlines and split breaks substrings based on a seperator in this case \",\"\n",
    "        print(parts)\n",
    "\n",
    "        # dATP | 491.2 | 259.0 | 15200.0\n",
    "        nucleotide = parts[0]\n",
    "        molecular_weight = float(parts[1])\n",
    "        absorbance_maximum = float(parts[2])\n",
    "        molar_extinction_coefficient = float(parts[3])\n",
    "\n",
    "        # Store the data in the dictionary\n",
    "        data_dict[nucleotide] = (molecular_weight, absorbance_maximum, molar_extinction_coefficient)\n",
    "        \"\"\"# DICTIONARY OUTPUT WILL BE SOMETHING LIKE THIS \n",
    "        {   \"ATP\": (507.2, 259.0, 15400.0),\n",
    "            \"CTP\": (483.2, 271.0, 9000.0),\n",
    "            \"GTP\": (523.2, 253.0, 13700.0),\n",
    "        # ...other nucleotides } \"\"\"\n",
    "\n",
    "\n",
    "# Print the dictionary to verify\n",
    "print(\"Dictionary:\", data_dict)\n",
    "\n",
    "print(data_dict[nucleotide])\n"
   ]
  },
  {
   "cell_type": "code",
   "execution_count": null,
   "metadata": {},
   "outputs": [
    {
     "name": "stdout",
     "output_type": "stream",
     "text": [
      "dTTP (482.2, 267.0, 9600.0)\n",
      "dGTP (507.2, 253.0, 13700.0)\n",
      "dCTP (467.2, 271.0, 9300.0)\n",
      "dATP (491.2, 259.0, 15200.0)\n",
      "UTP (484.2, 262.0, 10000.0)\n",
      "GTP (523.2, 253.0, 13700.0)\n",
      "CTP (483.2, 271.0, 9000.0)\n",
      "ATP (507.2, 259.0, 15400.0)\n",
      "\n",
      "\n"
     ]
    }
   ],
   "source": [
    "# 3b\n",
    "# Sort the dictionary by key (that is the - nucleotide) in reverse order\n",
    "for nucleotide in sorted(data_dict.keys(), reverse=True): # assigning the key to nucleotide\n",
    "   print(f\"{nucleotide} {data_dict[nucleotide]}\") # printing the key and its value\n",
    "print(\"\\n\")\n",
    "            # or\n",
    "\n",
    "# using the dictionary data items\n",
    "# use two variables, one for key, one for value and print directly \n",
    "#for nucleotide, values in sorted(data_dict.items(), reverse=True):\n",
    "#    print(f\"{nucleotide} {values}\")\n",
    "\n"
   ]
  },
  {
   "cell_type": "code",
   "execution_count": null,
   "metadata": {},
   "outputs": [
    {
     "name": "stdout",
     "output_type": "stream",
     "text": [
      "dCTP (467.2, 271.0, 9300.0)\n",
      "dTTP (482.2, 267.0, 9600.0)\n",
      "CTP (483.2, 271.0, 9000.0)\n",
      "UTP (484.2, 262.0, 10000.0)\n",
      "dATP (491.2, 259.0, 15200.0)\n",
      "dGTP (507.2, 253.0, 13700.0)\n",
      "ATP (507.2, 259.0, 15400.0)\n",
      "GTP (523.2, 253.0, 13700.0)\n"
     ]
    },
    {
     "data": {
      "text/plain": [
       "'\\n# Sort the dictionary by molecular weight (index 0 of the tuple) using itemgetter\\nsorted_by_weight = sorted(data_dict, key=itemgetter(0))\\n\\n# Print the sorted key-value pairs\\nfor nucleotide in sorted_by_weight:\\n    print(f\"{nucleotide} {data_dict[nucleotide]}\")\\n'"
      ]
     },
     "execution_count": 14,
     "metadata": {},
     "output_type": "execute_result"
    }
   ],
   "source": [
    "# 3c\n",
    "# Sort the dictionary by molecular weight\n",
    "# using the itemgetter function from the operator module\n",
    "\n",
    "from operator import itemgetter\n",
    "\n",
    "sorted_by_weight = sorted(data_dict.items(), key=itemgetter(1))\n",
    "\n",
    "# Print the sorted key-value pairs\n",
    "for nucleotide, values in sorted_by_weight:\n",
    "    print(f\"{nucleotide} {values}\")\n",
    "\n",
    "\"\"\"\n",
    "# Sort the dictionary by molecular weight (index 0 of the tuple) using itemgetter\n",
    "sorted_by_weight = sorted(data_dict, key=itemgetter(0))\n",
    "\n",
    "# Print the sorted key-value pairs\n",
    "for nucleotide in sorted_by_weight:\n",
    "    print(f\"{nucleotide} {data_dict[nucleotide]}\")\n",
    "\"\"\"\n"
   ]
  },
  {
   "cell_type": "code",
   "execution_count": null,
   "metadata": {},
   "outputs": [
    {
     "ename": "ModuleNotFoundError",
     "evalue": "No module named 'pandas'",
     "output_type": "error",
     "traceback": [
      "\u001b[1;31m---------------------------------------------------------------------------\u001b[0m",
      "\u001b[1;31mModuleNotFoundError\u001b[0m                       Traceback (most recent call last)",
      "Cell \u001b[1;32mIn[8], line 1\u001b[0m\n\u001b[1;32m----> 1\u001b[0m \u001b[38;5;28;01mimport\u001b[39;00m \u001b[38;5;21;01mpandas\u001b[39;00m \u001b[38;5;28;01mas\u001b[39;00m \u001b[38;5;21;01mpd\u001b[39;00m\n\u001b[0;32m      3\u001b[0m \u001b[38;5;66;03m# Create a DataFrame from the dictionary\u001b[39;00m\n\u001b[0;32m      4\u001b[0m df \u001b[38;5;241m=\u001b[39m pd\u001b[38;5;241m.\u001b[39mDataFrame\u001b[38;5;241m.\u001b[39mfrom_dict(data_dict, orient\u001b[38;5;241m=\u001b[39m\u001b[38;5;124m'\u001b[39m\u001b[38;5;124mindex\u001b[39m\u001b[38;5;124m'\u001b[39m, columns\u001b[38;5;241m=\u001b[39m[\u001b[38;5;124m'\u001b[39m\u001b[38;5;124mMolecular weight (g/mol)\u001b[39m\u001b[38;5;124m'\u001b[39m, \u001b[38;5;124m'\u001b[39m\u001b[38;5;124mAbsorbance Maximum at pH 7.0 (nm)\u001b[39m\u001b[38;5;124m'\u001b[39m, \u001b[38;5;124m'\u001b[39m\u001b[38;5;124mMolar Extinction Coefficient at pH 7.0\u001b[39m\u001b[38;5;124m'\u001b[39m])\n",
      "\u001b[1;31mModuleNotFoundError\u001b[0m: No module named 'pandas'"
     ]
    }
   ],
   "source": [
    "# 3d\n",
    "import pandas as pd\n",
    "\n",
    "# Create a DataFrame from the dictionary\n",
    "df = pd.DataFrame.from_dict(data_dict, orient='index', columns=['Molecular weight (g/mol)', 'Absorbance Maximum at pH 7.0 (nm)', 'Molar Extinction Coefficient at pH 7.0'])\n",
    "\n",
    "# Print the DataFrame\n",
    "print(df)"
   ]
  },
  {
   "cell_type": "code",
   "execution_count": null,
   "metadata": {},
   "outputs": [],
   "source": [
    "# 3e\n",
    "# Transpose the DataFrame\n",
    "df_transposed = df.transpose()\n",
    "\n",
    "# Print the transposed DataFrame\n",
    "print(df_transposed)"
   ]
  },
  {
   "cell_type": "code",
   "execution_count": null,
   "metadata": {},
   "outputs": [
    {
     "ename": "ModuleNotFoundError",
     "evalue": "No module named 'pandas'",
     "output_type": "error",
     "traceback": [
      "\u001b[1;31m---------------------------------------------------------------------------\u001b[0m",
      "\u001b[1;31mModuleNotFoundError\u001b[0m                       Traceback (most recent call last)",
      "Cell \u001b[1;32mIn[11], line 2\u001b[0m\n\u001b[0;32m      1\u001b[0m \u001b[38;5;66;03m# 4 \u001b[39;00m\n\u001b[1;32m----> 2\u001b[0m \u001b[38;5;28;01mimport\u001b[39;00m \u001b[38;5;21;01mpandas\u001b[39;00m \u001b[38;5;28;01mas\u001b[39;00m \u001b[38;5;21;01mpd\u001b[39;00m\n\u001b[0;32m      4\u001b[0m \u001b[38;5;66;03m# Load the DataFrame from the file\u001b[39;00m\n\u001b[0;32m      5\u001b[0m df \u001b[38;5;241m=\u001b[39m pd\u001b[38;5;241m.\u001b[39mread_csv(\u001b[38;5;124m\"\u001b[39m\u001b[38;5;124mdataframe.csv\u001b[39m\u001b[38;5;124m\"\u001b[39m, sep\u001b[38;5;241m=\u001b[39m\u001b[38;5;124m\"\u001b[39m\u001b[38;5;130;01m\\t\u001b[39;00m\u001b[38;5;124m\"\u001b[39m, index_col\u001b[38;5;241m=\u001b[39m\u001b[38;5;241m0\u001b[39m)\n",
      "\u001b[1;31mModuleNotFoundError\u001b[0m: No module named 'pandas'"
     ]
    }
   ],
   "source": [
    "# 4 \n",
    "import pandas as pd\n",
    "\n",
    "# Load the DataFrame from the file\n",
    "df = pd.read_csv(\"dataframe.csv\", sep=\"\\t\", index_col=0)\n",
    "\n",
    "# Define the sequence\n",
    "s = \"AGCTTTTCGTAC\"\n",
    "\n",
    "# Initialize the total molecular weight\n",
    "total_weight = 0\n",
    "\n",
    "# Calculate the molecular weight\n",
    "for nucleotide in s:\n",
    "    total_weight += df.loc[nucleotide, 'Molecular weight (g/mol)'] - 18\n",
    "\n",
    "# Round the result to one decimal place\n",
    "total_weight = round(total_weight, 1)\n",
    "\n",
    "# Print the result\n",
    "print(\"Molecular weight of ssDNA:\", total_weight, \"g/mol\")"
   ]
  },
  {
   "cell_type": "code",
   "execution_count": null,
   "metadata": {},
   "outputs": [
    {
     "name": "stdout",
     "output_type": "stream",
     "text": [
      "2-mers of s: {'ML': 2, 'LY': 1, 'YI': 1, 'IT': 1, 'TM': 1, 'LW': 1, 'WM': 1}\n"
     ]
    }
   ],
   "source": [
    "# 5a\n",
    "# Define the sequence\n",
    "s = \"MLYITMLWM\"\n",
    "\n",
    "# Initialize a dictionary to store the 2-mer frequencies\n",
    "frequencies = {}\n",
    "\n",
    "# Calculate the frequencies\n",
    "for i in range(len(s) - 1):\n",
    "    two_mer = s[i:i+2]\n",
    "    if two_mer in frequencies:\n",
    "        frequencies[two_mer] += 1\n",
    "    else:\n",
    "        frequencies[two_mer] = 1\n",
    "\n",
    "# Print the frequencies\n",
    "print(\"2-mers of s:\", frequencies)"
   ]
  },
  {
   "cell_type": "code",
   "execution_count": null,
   "metadata": {},
   "outputs": [
    {
     "name": "stdout",
     "output_type": "stream",
     "text": [
      "2-mer ML of s (2x) also present in t (1x)\n",
      "2-mer IT of s (1x) also present in t (1x)\n",
      "2-mer TM of s (1x) also present in t (1x)\n"
     ]
    }
   ],
   "source": [
    "# 5b\n",
    "# Define the sequences\n",
    "s = \"MLYITMLWM\"\n",
    "t = \"GIVITMLLM\"\n",
    "\n",
    "# Calculate the 2-mers of s\n",
    "frequencies_s = {}\n",
    "for i in range(len(s) - 1):\n",
    "    two_mer = s[i:i+2]\n",
    "    if two_mer in frequencies_s:\n",
    "        frequencies_s[two_mer] += 1\n",
    "    else:\n",
    "        frequencies_s[two_mer] = 1\n",
    "\n",
    "# Calculate the 2-mers of t\n",
    "frequencies_t = {}\n",
    "for i in range(len(t) - 1):\n",
    "    two_mer = t[i:i+2]\n",
    "    if two_mer in frequencies_t:\n",
    "        frequencies_t[two_mer] += 1\n",
    "    else:\n",
    "        frequencies_t[two_mer] = 1\n",
    "\n",
    "# Check if 2-mers of s are present in t\n",
    "for two_mer, count in frequencies_s.items():\n",
    "    if two_mer in frequencies_t:\n",
    "        print(f\"2-mer {two_mer} of s ({count}x) also present in t ({frequencies_t[two_mer]}x)\")"
   ]
  }
 ],
 "metadata": {
  "kernelspec": {
   "display_name": "Python (Jupyter)",
   "language": "python",
   "name": "my-jupyter-kernel"
  },
  "language_info": {
   "codemirror_mode": {
    "name": "ipython",
    "version": 3
   },
   "file_extension": ".py",
   "mimetype": "text/x-python",
   "name": "python",
   "nbconvert_exporter": "python",
   "pygments_lexer": "ipython3",
   "version": "3.9.6"
  }
 },
 "nbformat": 4,
 "nbformat_minor": 2
}
