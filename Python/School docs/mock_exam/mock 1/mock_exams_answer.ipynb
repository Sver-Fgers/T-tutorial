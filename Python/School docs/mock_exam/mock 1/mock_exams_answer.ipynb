{
 "cells": [
  {
   "cell_type": "code",
   "execution_count": null,
   "metadata": {},
   "outputs": [
    {
     "name": "stdout",
     "output_type": "stream",
     "text": [
      "S_n = 35.0\n"
     ]
    }
   ],
   "source": [
    "# 1a\n",
    "# Step 1: Read an integer from the user\n",
    "n = int(input(\"Enter an integer: \"))\n",
    "\n",
    "# Step 2: Calculate S_n (total of the summation)\n",
    "S_n = 0 # updates based on loop\n",
    "for k in range(1, n + 1): # from beginning to the end inclusive\n",
    "    S_n += k**2 + (k / 2)\n",
    "\n",
    "# Step 3: Print the result\n",
    "print(\"S_n =\", S_n)\n"
   ]
  },
  {
   "cell_type": "code",
   "execution_count": 5,
   "metadata": {},
   "outputs": [
    {
     "name": "stdout",
     "output_type": "stream",
     "text": [
      "n is a natural number.\n"
     ]
    }
   ],
   "source": [
    "# 1b\n",
    "# checking if n(user input) is a natural number\n",
    "# A natural number is a positive integer (1, 2, 3, ...). If the user inputs a float, we need to check if it’s a natural number by\n",
    "# Converting the input to a float.\n",
    "# Checking if the float is equal to its integer version (e.g., 3.0 == 3) and if it’s greater than 0 \n",
    "\n",
    "n = float(input(\"Enter a number: \"))\n",
    "if n == int(n) and n > 0:\n",
    "    print(\"n is a natural number.\")\n",
    "else:\n",
    "    print(\"n is not a natural number.\")"
   ]
  },
  {
   "cell_type": "code",
   "execution_count": null,
   "metadata": {},
   "outputs": [],
   "source": [
    "# 1c\n",
    "# In which run-time complexity class is your implementation of task a? Use the common rules to justify your answer.\n",
    "\n",
    "# The implementation in task 1(a) has a linear time complexity, denoted as O(n)\n",
    "# This is because the for loop runs from 1 to n, and the number of iterations is directly proportional to n\n"
   ]
  },
  {
   "cell_type": "code",
   "execution_count": 3,
   "metadata": {},
   "outputs": [
    {
     "name": "stdout",
     "output_type": "stream",
     "text": [
      "S_n = 35.0\n"
     ]
    }
   ],
   "source": [
    "# 1d\n",
    "def sn(n):\n",
    "    S_n = 0\n",
    "    for k in range(1, n + 1):\n",
    "        S_n += k**2 + (k / 2)\n",
    "    return float(S_n)\n",
    "\n",
    "# Example usage\n",
    "n = int(input(\"Enter an integer: \"))\n",
    "print(\"S_n =\", sn(n))\n"
   ]
  },
  {
   "cell_type": "code",
   "execution_count": null,
   "metadata": {},
   "outputs": [
    {
     "name": "stdout",
     "output_type": "stream",
     "text": [
      "S_n = 17.0\n"
     ]
    }
   ],
   "source": [
    "# 2a \n",
    "#  A recursive function is a function that calls itself to solve a problem.\n",
    "\n",
    "def sn_rec(n):\n",
    "\n",
    "    if n == 1:\n",
    "        return 1.5\n",
    "    else:\n",
    "        recursive_call= sn_rec(n-1)\n",
    "        operation = n**2 + (n / 2)\n",
    "        sn = float(recursive_call + operation)\n",
    "        return sn\n",
    "\n",
    "# call the function and print the result\n",
    "n = int(input(\"Enter an integer: \"))\n",
    "print(\"S_n =\", sn_rec(n))"
   ]
  },
  {
   "cell_type": "code",
   "execution_count": 2,
   "metadata": {},
   "outputs": [
    {
     "name": "stdout",
     "output_type": "stream",
     "text": [
      "['ATP', '507.2', '259.0', '15400.0']\n",
      "['CTP', '483.2', '271.0', '9000.0']\n",
      "['GTP', '523.2', '253.0', '13700.0']\n",
      "['UTP', '484.2', '262.0', '10000.0']\n",
      "['dATP', '491.2', '259.0', '15200.0']\n",
      "['dCTP', '467.2', '271.0', '9300.0']\n",
      "['dGTP', '507.2', '253.0', '13700.0']\n",
      "['dTTP', '482.2', '267.0', '9600.0']\n",
      "Dictionary: {'ATP': (507.2, 259.0, 15400.0), 'CTP': (483.2, 271.0, 9000.0), 'GTP': (523.2, 253.0, 13700.0), 'UTP': (484.2, 262.0, 10000.0), 'dATP': (491.2, 259.0, 15200.0), 'dCTP': (467.2, 271.0, 9300.0), 'dGTP': (507.2, 253.0, 13700.0), 'dTTP': (482.2, 267.0, 9600.0)}\n",
      "(482.2, 267.0, 9600.0)\n"
     ]
    }
   ],
   "source": [
    "# 3a\n",
    "# Read the file and store the data in a dictionary\n",
    "data_dict = {}\n",
    "\n",
    "# Open the file and read line by line\n",
    "with open(r\"C:\\Users\\Victor_Nxx\\Documents\\00-Vaults\\Public\\T - tutorial\\Python\\School docs\\mock_exam\\mock 1\\nucleotides.txt\", \"r\") as file:\n",
    "    next(file)  # Skip the header line\n",
    "\n",
    "    \"\"\" the contents\n",
    "    Nucleotide,Molecular_Weight,Absorbance_Maximum,Molar_Extinction_Coefficient # skip this line\n",
    "    ATP,507.2,259.0,15400.0\n",
    "    CTP,483.2,271.0,9000.0\n",
    "    GTP,523.2,253.0,13700.0\n",
    "    UTP,484.2,262.0,10000.0\n",
    "    dATP,491.2,259.0,15200.0\n",
    "    dCTP,467.2,271.0,9300.0\n",
    "    dGTP,507.2,253.0,13700.0\n",
    "    dTTP,482.2,267.0,9600.0\n",
    "    \"\"\"\n",
    "\n",
    "    for line in file: # read the contents of the file one line by line as strings, very memory efficient\n",
    "        # Split the line into parts and print the output\n",
    "        parts = line.strip().split(\",\") # strip removes whitespace or newlines and split breaks substrings based on a seperator in this case \",\"\n",
    "        print(parts)\n",
    "\n",
    "        # dATP | 491.2 | 259.0 | 15200.0\n",
    "        nucleotide = parts[0]\n",
    "        molecular_weight = float(parts[1])\n",
    "        absorbance_maximum = float(parts[2])\n",
    "        molar_extinction_coefficient = float(parts[3])\n",
    "\n",
    "        # Store the data in the dictionary\n",
    "        data_dict[nucleotide] = (molecular_weight, absorbance_maximum, molar_extinction_coefficient)\n",
    "        \"\"\"# DICTIONARY OUTPUT WILL BE SOMETHING LIKE THIS \n",
    "        {   \"ATP\": (507.2, 259.0, 15400.0),\n",
    "            \"CTP\": (483.2, 271.0, 9000.0),\n",
    "            \"GTP\": (523.2, 253.0, 13700.0),\n",
    "        # ...other nucleotides } \"\"\"\n",
    "\n",
    "\n",
    "# Print the dictionary to verify\n",
    "print(\"Dictionary:\", data_dict)\n",
    "\n",
    "print(data_dict[nucleotide])\n"
   ]
  },
  {
   "cell_type": "code",
   "execution_count": 7,
   "metadata": {},
   "outputs": [
    {
     "name": "stdout",
     "output_type": "stream",
     "text": [
      "dTTP (482.2, 267.0, 9600.0)\n",
      "dGTP (507.2, 253.0, 13700.0)\n",
      "dCTP (467.2, 271.0, 9300.0)\n",
      "dATP (491.2, 259.0, 15200.0)\n",
      "UTP (484.2, 262.0, 10000.0)\n",
      "GTP (523.2, 253.0, 13700.0)\n",
      "CTP (483.2, 271.0, 9000.0)\n",
      "ATP (507.2, 259.0, 15400.0)\n",
      "\n",
      "\n"
     ]
    }
   ],
   "source": [
    "# 3b\n",
    "# Sort the dictionary by key (that is the - nucleotide) in reverse order\n",
    "for nucleotide in sorted(data_dict.keys(), reverse=True): # assigning the key to nucleotide\n",
    "   print(f\"{nucleotide} {data_dict[nucleotide]}\") # printing the key and its value\n",
    "print(\"\\n\")\n",
    "            # or\n",
    "\n",
    "# using the dictionary data items\n",
    "# use two variables, one for key, one for value and print directly \n",
    "#for nucleotide, values in sorted(data_dict.items(), reverse=True):\n",
    "#    print(f\"{nucleotide} {values}\")\n",
    "\n"
   ]
  },
  {
   "cell_type": "code",
   "execution_count": null,
   "metadata": {},
   "outputs": [
    {
     "name": "stdout",
     "output_type": "stream",
     "text": [
      "dCTP (467.2, 271.0, 9300.0)\n",
      "dTTP (482.2, 267.0, 9600.0)\n",
      "CTP (483.2, 271.0, 9000.0)\n",
      "UTP (484.2, 262.0, 10000.0)\n",
      "dATP (491.2, 259.0, 15200.0)\n",
      "dGTP (507.2, 253.0, 13700.0)\n",
      "ATP (507.2, 259.0, 15400.0)\n",
      "GTP (523.2, 253.0, 13700.0)\n"
     ]
    },
    {
     "data": {
      "text/plain": [
       "'\\n# Sort the dictionary by molecular weight (index 0 of the tuple) using itemgetter\\nsorted_by_weight = sorted(data_dict, key=itemgetter(0))\\n\\n# Print the sorted key-value pairs\\nfor nucleotide in sorted_by_weight:\\n    print(f\"{nucleotide} {data_dict[nucleotide]}\")\\n'"
      ]
     },
     "execution_count": 14,
     "metadata": {},
     "output_type": "execute_result"
    }
   ],
   "source": [
    "# 3c\n",
    "# Sort the dictionary by molecular weight\n",
    "# using the itemgetter function from the operator module\n",
    "\n",
    "from operator import itemgetter\n",
    "\n",
    "sorted_by_weight = sorted(data_dict.items(), key=itemgetter(1))\n",
    "\n",
    "# Print the sorted key-value pairs\n",
    "for nucleotide, values in sorted_by_weight:\n",
    "    print(f\"{nucleotide} {values}\")\n",
    "\n",
    "\"\"\"\n",
    "# Sort the dictionary by molecular weight (index 0 of the tuple) using itemgetter\n",
    "sorted_by_weight = sorted(data_dict, key=itemgetter(0))\n",
    "\n",
    "# Print the sorted key-value pairs\n",
    "for nucleotide in sorted_by_weight:\n",
    "    print(f\"{nucleotide} {data_dict[nucleotide]}\")\n",
    "\"\"\"\n"
   ]
  },
  {
   "cell_type": "code",
   "execution_count": 1,
   "metadata": {},
   "outputs": [
    {
     "ename": "NameError",
     "evalue": "name 'data_dict' is not defined",
     "output_type": "error",
     "traceback": [
      "\u001b[1;31m---------------------------------------------------------------------------\u001b[0m",
      "\u001b[1;31mNameError\u001b[0m                                 Traceback (most recent call last)",
      "Cell \u001b[1;32mIn[1], line 5\u001b[0m\n\u001b[0;32m      2\u001b[0m \u001b[38;5;28;01mimport\u001b[39;00m \u001b[38;5;21;01mpandas\u001b[39;00m \u001b[38;5;28;01mas\u001b[39;00m \u001b[38;5;21;01mpd\u001b[39;00m\n\u001b[0;32m      4\u001b[0m \u001b[38;5;66;03m# Create a DataFrame from the dictionary\u001b[39;00m\n\u001b[1;32m----> 5\u001b[0m df \u001b[38;5;241m=\u001b[39m pd\u001b[38;5;241m.\u001b[39mDataFrame\u001b[38;5;241m.\u001b[39mfrom_dict(\u001b[43mdata_dict\u001b[49m, orient\u001b[38;5;241m=\u001b[39m\u001b[38;5;124m'\u001b[39m\u001b[38;5;124mindex\u001b[39m\u001b[38;5;124m'\u001b[39m, columns\u001b[38;5;241m=\u001b[39m[\u001b[38;5;124m'\u001b[39m\u001b[38;5;124mMolecular weight (g/mol)\u001b[39m\u001b[38;5;124m'\u001b[39m, \u001b[38;5;124m'\u001b[39m\u001b[38;5;124mAbsorbance Maximum at pH 7.0 (nm)\u001b[39m\u001b[38;5;124m'\u001b[39m, \u001b[38;5;124m'\u001b[39m\u001b[38;5;124mMolar Extinction Coefficient at pH 7.0\u001b[39m\u001b[38;5;124m'\u001b[39m])\n\u001b[0;32m      7\u001b[0m \u001b[38;5;66;03m# Print the DataFrame\u001b[39;00m\n\u001b[0;32m      8\u001b[0m \u001b[38;5;28mprint\u001b[39m(df)\n",
      "\u001b[1;31mNameError\u001b[0m: name 'data_dict' is not defined"
     ]
    }
   ],
   "source": [
    "# 3d\n",
    "import pandas as pd\n",
    "\n",
    "# Create a DataFrame from the dictionary\n",
    "df = pd.DataFrame.from_dict(data_dict, orient='index', columns=['Molecular weight (g/mol)', 'Absorbance Maximum at pH 7.0 (nm)', 'Molar Extinction Coefficient at pH 7.0'])\n",
    "\n",
    "# Print the DataFrame\n",
    "print(df)"
   ]
  },
  {
   "cell_type": "code",
   "execution_count": null,
   "metadata": {},
   "outputs": [],
   "source": [
    "# 3e\n",
    "# Transpose the DataFrame\n",
    "df_transposed = df.transpose()\n",
    "\n",
    "# Print the transposed DataFrame\n",
    "print(df_transposed)"
   ]
  },
  {
   "cell_type": "code",
   "execution_count": 2,
   "metadata": {},
   "outputs": [
    {
     "ename": "FileNotFoundError",
     "evalue": "[Errno 2] No such file or directory: 'dataframe.csv'",
     "output_type": "error",
     "traceback": [
      "\u001b[1;31m---------------------------------------------------------------------------\u001b[0m",
      "\u001b[1;31mFileNotFoundError\u001b[0m                         Traceback (most recent call last)",
      "Cell \u001b[1;32mIn[2], line 5\u001b[0m\n\u001b[0;32m      2\u001b[0m \u001b[38;5;28;01mimport\u001b[39;00m \u001b[38;5;21;01mpandas\u001b[39;00m \u001b[38;5;28;01mas\u001b[39;00m \u001b[38;5;21;01mpd\u001b[39;00m\n\u001b[0;32m      4\u001b[0m \u001b[38;5;66;03m# Load the DataFrame from the file\u001b[39;00m\n\u001b[1;32m----> 5\u001b[0m df \u001b[38;5;241m=\u001b[39m \u001b[43mpd\u001b[49m\u001b[38;5;241;43m.\u001b[39;49m\u001b[43mread_csv\u001b[49m\u001b[43m(\u001b[49m\u001b[38;5;124;43m\"\u001b[39;49m\u001b[38;5;124;43mdataframe.csv\u001b[39;49m\u001b[38;5;124;43m\"\u001b[39;49m\u001b[43m,\u001b[49m\u001b[43m \u001b[49m\u001b[43msep\u001b[49m\u001b[38;5;241;43m=\u001b[39;49m\u001b[38;5;124;43m\"\u001b[39;49m\u001b[38;5;130;43;01m\\t\u001b[39;49;00m\u001b[38;5;124;43m\"\u001b[39;49m\u001b[43m,\u001b[49m\u001b[43m \u001b[49m\u001b[43mindex_col\u001b[49m\u001b[38;5;241;43m=\u001b[39;49m\u001b[38;5;241;43m0\u001b[39;49m\u001b[43m)\u001b[49m\n\u001b[0;32m      7\u001b[0m \u001b[38;5;66;03m# Define the sequence\u001b[39;00m\n\u001b[0;32m      8\u001b[0m s \u001b[38;5;241m=\u001b[39m \u001b[38;5;124m\"\u001b[39m\u001b[38;5;124mAGCTTTTCGTAC\u001b[39m\u001b[38;5;124m\"\u001b[39m\n",
      "File \u001b[1;32mc:\\Users\\Victor_Nxx\\AppData\\Local\\Programs\\Python\\Python311\\Lib\\site-packages\\pandas\\io\\parsers\\readers.py:1026\u001b[0m, in \u001b[0;36mread_csv\u001b[1;34m(filepath_or_buffer, sep, delimiter, header, names, index_col, usecols, dtype, engine, converters, true_values, false_values, skipinitialspace, skiprows, skipfooter, nrows, na_values, keep_default_na, na_filter, verbose, skip_blank_lines, parse_dates, infer_datetime_format, keep_date_col, date_parser, date_format, dayfirst, cache_dates, iterator, chunksize, compression, thousands, decimal, lineterminator, quotechar, quoting, doublequote, escapechar, comment, encoding, encoding_errors, dialect, on_bad_lines, delim_whitespace, low_memory, memory_map, float_precision, storage_options, dtype_backend)\u001b[0m\n\u001b[0;32m   1013\u001b[0m kwds_defaults \u001b[38;5;241m=\u001b[39m _refine_defaults_read(\n\u001b[0;32m   1014\u001b[0m     dialect,\n\u001b[0;32m   1015\u001b[0m     delimiter,\n\u001b[1;32m   (...)\u001b[0m\n\u001b[0;32m   1022\u001b[0m     dtype_backend\u001b[38;5;241m=\u001b[39mdtype_backend,\n\u001b[0;32m   1023\u001b[0m )\n\u001b[0;32m   1024\u001b[0m kwds\u001b[38;5;241m.\u001b[39mupdate(kwds_defaults)\n\u001b[1;32m-> 1026\u001b[0m \u001b[38;5;28;01mreturn\u001b[39;00m \u001b[43m_read\u001b[49m\u001b[43m(\u001b[49m\u001b[43mfilepath_or_buffer\u001b[49m\u001b[43m,\u001b[49m\u001b[43m \u001b[49m\u001b[43mkwds\u001b[49m\u001b[43m)\u001b[49m\n",
      "File \u001b[1;32mc:\\Users\\Victor_Nxx\\AppData\\Local\\Programs\\Python\\Python311\\Lib\\site-packages\\pandas\\io\\parsers\\readers.py:620\u001b[0m, in \u001b[0;36m_read\u001b[1;34m(filepath_or_buffer, kwds)\u001b[0m\n\u001b[0;32m    617\u001b[0m _validate_names(kwds\u001b[38;5;241m.\u001b[39mget(\u001b[38;5;124m\"\u001b[39m\u001b[38;5;124mnames\u001b[39m\u001b[38;5;124m\"\u001b[39m, \u001b[38;5;28;01mNone\u001b[39;00m))\n\u001b[0;32m    619\u001b[0m \u001b[38;5;66;03m# Create the parser.\u001b[39;00m\n\u001b[1;32m--> 620\u001b[0m parser \u001b[38;5;241m=\u001b[39m \u001b[43mTextFileReader\u001b[49m\u001b[43m(\u001b[49m\u001b[43mfilepath_or_buffer\u001b[49m\u001b[43m,\u001b[49m\u001b[43m \u001b[49m\u001b[38;5;241;43m*\u001b[39;49m\u001b[38;5;241;43m*\u001b[39;49m\u001b[43mkwds\u001b[49m\u001b[43m)\u001b[49m\n\u001b[0;32m    622\u001b[0m \u001b[38;5;28;01mif\u001b[39;00m chunksize \u001b[38;5;129;01mor\u001b[39;00m iterator:\n\u001b[0;32m    623\u001b[0m     \u001b[38;5;28;01mreturn\u001b[39;00m parser\n",
      "File \u001b[1;32mc:\\Users\\Victor_Nxx\\AppData\\Local\\Programs\\Python\\Python311\\Lib\\site-packages\\pandas\\io\\parsers\\readers.py:1620\u001b[0m, in \u001b[0;36mTextFileReader.__init__\u001b[1;34m(self, f, engine, **kwds)\u001b[0m\n\u001b[0;32m   1617\u001b[0m     \u001b[38;5;28mself\u001b[39m\u001b[38;5;241m.\u001b[39moptions[\u001b[38;5;124m\"\u001b[39m\u001b[38;5;124mhas_index_names\u001b[39m\u001b[38;5;124m\"\u001b[39m] \u001b[38;5;241m=\u001b[39m kwds[\u001b[38;5;124m\"\u001b[39m\u001b[38;5;124mhas_index_names\u001b[39m\u001b[38;5;124m\"\u001b[39m]\n\u001b[0;32m   1619\u001b[0m \u001b[38;5;28mself\u001b[39m\u001b[38;5;241m.\u001b[39mhandles: IOHandles \u001b[38;5;241m|\u001b[39m \u001b[38;5;28;01mNone\u001b[39;00m \u001b[38;5;241m=\u001b[39m \u001b[38;5;28;01mNone\u001b[39;00m\n\u001b[1;32m-> 1620\u001b[0m \u001b[38;5;28mself\u001b[39m\u001b[38;5;241m.\u001b[39m_engine \u001b[38;5;241m=\u001b[39m \u001b[38;5;28;43mself\u001b[39;49m\u001b[38;5;241;43m.\u001b[39;49m\u001b[43m_make_engine\u001b[49m\u001b[43m(\u001b[49m\u001b[43mf\u001b[49m\u001b[43m,\u001b[49m\u001b[43m \u001b[49m\u001b[38;5;28;43mself\u001b[39;49m\u001b[38;5;241;43m.\u001b[39;49m\u001b[43mengine\u001b[49m\u001b[43m)\u001b[49m\n",
      "File \u001b[1;32mc:\\Users\\Victor_Nxx\\AppData\\Local\\Programs\\Python\\Python311\\Lib\\site-packages\\pandas\\io\\parsers\\readers.py:1880\u001b[0m, in \u001b[0;36mTextFileReader._make_engine\u001b[1;34m(self, f, engine)\u001b[0m\n\u001b[0;32m   1878\u001b[0m     \u001b[38;5;28;01mif\u001b[39;00m \u001b[38;5;124m\"\u001b[39m\u001b[38;5;124mb\u001b[39m\u001b[38;5;124m\"\u001b[39m \u001b[38;5;129;01mnot\u001b[39;00m \u001b[38;5;129;01min\u001b[39;00m mode:\n\u001b[0;32m   1879\u001b[0m         mode \u001b[38;5;241m+\u001b[39m\u001b[38;5;241m=\u001b[39m \u001b[38;5;124m\"\u001b[39m\u001b[38;5;124mb\u001b[39m\u001b[38;5;124m\"\u001b[39m\n\u001b[1;32m-> 1880\u001b[0m \u001b[38;5;28mself\u001b[39m\u001b[38;5;241m.\u001b[39mhandles \u001b[38;5;241m=\u001b[39m \u001b[43mget_handle\u001b[49m\u001b[43m(\u001b[49m\n\u001b[0;32m   1881\u001b[0m \u001b[43m    \u001b[49m\u001b[43mf\u001b[49m\u001b[43m,\u001b[49m\n\u001b[0;32m   1882\u001b[0m \u001b[43m    \u001b[49m\u001b[43mmode\u001b[49m\u001b[43m,\u001b[49m\n\u001b[0;32m   1883\u001b[0m \u001b[43m    \u001b[49m\u001b[43mencoding\u001b[49m\u001b[38;5;241;43m=\u001b[39;49m\u001b[38;5;28;43mself\u001b[39;49m\u001b[38;5;241;43m.\u001b[39;49m\u001b[43moptions\u001b[49m\u001b[38;5;241;43m.\u001b[39;49m\u001b[43mget\u001b[49m\u001b[43m(\u001b[49m\u001b[38;5;124;43m\"\u001b[39;49m\u001b[38;5;124;43mencoding\u001b[39;49m\u001b[38;5;124;43m\"\u001b[39;49m\u001b[43m,\u001b[49m\u001b[43m \u001b[49m\u001b[38;5;28;43;01mNone\u001b[39;49;00m\u001b[43m)\u001b[49m\u001b[43m,\u001b[49m\n\u001b[0;32m   1884\u001b[0m \u001b[43m    \u001b[49m\u001b[43mcompression\u001b[49m\u001b[38;5;241;43m=\u001b[39;49m\u001b[38;5;28;43mself\u001b[39;49m\u001b[38;5;241;43m.\u001b[39;49m\u001b[43moptions\u001b[49m\u001b[38;5;241;43m.\u001b[39;49m\u001b[43mget\u001b[49m\u001b[43m(\u001b[49m\u001b[38;5;124;43m\"\u001b[39;49m\u001b[38;5;124;43mcompression\u001b[39;49m\u001b[38;5;124;43m\"\u001b[39;49m\u001b[43m,\u001b[49m\u001b[43m \u001b[49m\u001b[38;5;28;43;01mNone\u001b[39;49;00m\u001b[43m)\u001b[49m\u001b[43m,\u001b[49m\n\u001b[0;32m   1885\u001b[0m \u001b[43m    \u001b[49m\u001b[43mmemory_map\u001b[49m\u001b[38;5;241;43m=\u001b[39;49m\u001b[38;5;28;43mself\u001b[39;49m\u001b[38;5;241;43m.\u001b[39;49m\u001b[43moptions\u001b[49m\u001b[38;5;241;43m.\u001b[39;49m\u001b[43mget\u001b[49m\u001b[43m(\u001b[49m\u001b[38;5;124;43m\"\u001b[39;49m\u001b[38;5;124;43mmemory_map\u001b[39;49m\u001b[38;5;124;43m\"\u001b[39;49m\u001b[43m,\u001b[49m\u001b[43m \u001b[49m\u001b[38;5;28;43;01mFalse\u001b[39;49;00m\u001b[43m)\u001b[49m\u001b[43m,\u001b[49m\n\u001b[0;32m   1886\u001b[0m \u001b[43m    \u001b[49m\u001b[43mis_text\u001b[49m\u001b[38;5;241;43m=\u001b[39;49m\u001b[43mis_text\u001b[49m\u001b[43m,\u001b[49m\n\u001b[0;32m   1887\u001b[0m \u001b[43m    \u001b[49m\u001b[43merrors\u001b[49m\u001b[38;5;241;43m=\u001b[39;49m\u001b[38;5;28;43mself\u001b[39;49m\u001b[38;5;241;43m.\u001b[39;49m\u001b[43moptions\u001b[49m\u001b[38;5;241;43m.\u001b[39;49m\u001b[43mget\u001b[49m\u001b[43m(\u001b[49m\u001b[38;5;124;43m\"\u001b[39;49m\u001b[38;5;124;43mencoding_errors\u001b[39;49m\u001b[38;5;124;43m\"\u001b[39;49m\u001b[43m,\u001b[49m\u001b[43m \u001b[49m\u001b[38;5;124;43m\"\u001b[39;49m\u001b[38;5;124;43mstrict\u001b[39;49m\u001b[38;5;124;43m\"\u001b[39;49m\u001b[43m)\u001b[49m\u001b[43m,\u001b[49m\n\u001b[0;32m   1888\u001b[0m \u001b[43m    \u001b[49m\u001b[43mstorage_options\u001b[49m\u001b[38;5;241;43m=\u001b[39;49m\u001b[38;5;28;43mself\u001b[39;49m\u001b[38;5;241;43m.\u001b[39;49m\u001b[43moptions\u001b[49m\u001b[38;5;241;43m.\u001b[39;49m\u001b[43mget\u001b[49m\u001b[43m(\u001b[49m\u001b[38;5;124;43m\"\u001b[39;49m\u001b[38;5;124;43mstorage_options\u001b[39;49m\u001b[38;5;124;43m\"\u001b[39;49m\u001b[43m,\u001b[49m\u001b[43m \u001b[49m\u001b[38;5;28;43;01mNone\u001b[39;49;00m\u001b[43m)\u001b[49m\u001b[43m,\u001b[49m\n\u001b[0;32m   1889\u001b[0m \u001b[43m\u001b[49m\u001b[43m)\u001b[49m\n\u001b[0;32m   1890\u001b[0m \u001b[38;5;28;01massert\u001b[39;00m \u001b[38;5;28mself\u001b[39m\u001b[38;5;241m.\u001b[39mhandles \u001b[38;5;129;01mis\u001b[39;00m \u001b[38;5;129;01mnot\u001b[39;00m \u001b[38;5;28;01mNone\u001b[39;00m\n\u001b[0;32m   1891\u001b[0m f \u001b[38;5;241m=\u001b[39m \u001b[38;5;28mself\u001b[39m\u001b[38;5;241m.\u001b[39mhandles\u001b[38;5;241m.\u001b[39mhandle\n",
      "File \u001b[1;32mc:\\Users\\Victor_Nxx\\AppData\\Local\\Programs\\Python\\Python311\\Lib\\site-packages\\pandas\\io\\common.py:873\u001b[0m, in \u001b[0;36mget_handle\u001b[1;34m(path_or_buf, mode, encoding, compression, memory_map, is_text, errors, storage_options)\u001b[0m\n\u001b[0;32m    868\u001b[0m \u001b[38;5;28;01melif\u001b[39;00m \u001b[38;5;28misinstance\u001b[39m(handle, \u001b[38;5;28mstr\u001b[39m):\n\u001b[0;32m    869\u001b[0m     \u001b[38;5;66;03m# Check whether the filename is to be opened in binary mode.\u001b[39;00m\n\u001b[0;32m    870\u001b[0m     \u001b[38;5;66;03m# Binary mode does not support 'encoding' and 'newline'.\u001b[39;00m\n\u001b[0;32m    871\u001b[0m     \u001b[38;5;28;01mif\u001b[39;00m ioargs\u001b[38;5;241m.\u001b[39mencoding \u001b[38;5;129;01mand\u001b[39;00m \u001b[38;5;124m\"\u001b[39m\u001b[38;5;124mb\u001b[39m\u001b[38;5;124m\"\u001b[39m \u001b[38;5;129;01mnot\u001b[39;00m \u001b[38;5;129;01min\u001b[39;00m ioargs\u001b[38;5;241m.\u001b[39mmode:\n\u001b[0;32m    872\u001b[0m         \u001b[38;5;66;03m# Encoding\u001b[39;00m\n\u001b[1;32m--> 873\u001b[0m         handle \u001b[38;5;241m=\u001b[39m \u001b[38;5;28;43mopen\u001b[39;49m\u001b[43m(\u001b[49m\n\u001b[0;32m    874\u001b[0m \u001b[43m            \u001b[49m\u001b[43mhandle\u001b[49m\u001b[43m,\u001b[49m\n\u001b[0;32m    875\u001b[0m \u001b[43m            \u001b[49m\u001b[43mioargs\u001b[49m\u001b[38;5;241;43m.\u001b[39;49m\u001b[43mmode\u001b[49m\u001b[43m,\u001b[49m\n\u001b[0;32m    876\u001b[0m \u001b[43m            \u001b[49m\u001b[43mencoding\u001b[49m\u001b[38;5;241;43m=\u001b[39;49m\u001b[43mioargs\u001b[49m\u001b[38;5;241;43m.\u001b[39;49m\u001b[43mencoding\u001b[49m\u001b[43m,\u001b[49m\n\u001b[0;32m    877\u001b[0m \u001b[43m            \u001b[49m\u001b[43merrors\u001b[49m\u001b[38;5;241;43m=\u001b[39;49m\u001b[43merrors\u001b[49m\u001b[43m,\u001b[49m\n\u001b[0;32m    878\u001b[0m \u001b[43m            \u001b[49m\u001b[43mnewline\u001b[49m\u001b[38;5;241;43m=\u001b[39;49m\u001b[38;5;124;43m\"\u001b[39;49m\u001b[38;5;124;43m\"\u001b[39;49m\u001b[43m,\u001b[49m\n\u001b[0;32m    879\u001b[0m \u001b[43m        \u001b[49m\u001b[43m)\u001b[49m\n\u001b[0;32m    880\u001b[0m     \u001b[38;5;28;01melse\u001b[39;00m:\n\u001b[0;32m    881\u001b[0m         \u001b[38;5;66;03m# Binary mode\u001b[39;00m\n\u001b[0;32m    882\u001b[0m         handle \u001b[38;5;241m=\u001b[39m \u001b[38;5;28mopen\u001b[39m(handle, ioargs\u001b[38;5;241m.\u001b[39mmode)\n",
      "\u001b[1;31mFileNotFoundError\u001b[0m: [Errno 2] No such file or directory: 'dataframe.csv'"
     ]
    }
   ],
   "source": [
    "# 4 \n",
    "import pandas as pd\n",
    "\n",
    "# Load the DataFrame from the file\n",
    "df = pd.read_csv(\"dataframe.csv\", sep=\"\\t\", index_col=0)\n",
    "\n",
    "# Define the sequence\n",
    "s = \"AGCTTTTCGTAC\"\n",
    "\n",
    "# Initialize the total molecular weight\n",
    "total_weight = 0\n",
    "\n",
    "# Calculate the molecular weight\n",
    "for nucleotide in s:\n",
    "    total_weight += df.loc[nucleotide, 'Molecular weight (g/mol)'] - 18\n",
    "\n",
    "# Round the result to one decimal place\n",
    "total_weight = round(total_weight, 1)\n",
    "\n",
    "# Print the result\n",
    "print(\"Molecular weight of ssDNA:\", total_weight, \"g/mol\")"
   ]
  },
  {
   "cell_type": "code",
   "execution_count": 9,
   "metadata": {},
   "outputs": [
    {
     "name": "stdout",
     "output_type": "stream",
     "text": [
      "2-mers of s: {'ML': 2, 'LY': 1, 'YI': 1, 'IT': 1, 'TM': 1, 'LW': 1, 'WM': 1}\n"
     ]
    }
   ],
   "source": [
    "# 5a\n",
    "# Define the sequence\n",
    "s = \"MLYITMLWM\"\n",
    "\n",
    "# Initialize a dictionary to store the 2-mer frequencies\n",
    "frequencies = {}\n",
    "\n",
    "# Calculate the frequencies\n",
    "for i in range(len(s) - 1):\n",
    "    two_mer = s[i:i+2]\n",
    "    if two_mer in frequencies:\n",
    "        frequencies[two_mer] += 1\n",
    "    else:\n",
    "        frequencies[two_mer] = 1\n",
    "\n",
    "# Print the frequencies\n",
    "print(\"2-mers of s:\", frequencies)"
   ]
  },
  {
   "cell_type": "code",
   "execution_count": 10,
   "metadata": {},
   "outputs": [
    {
     "name": "stdout",
     "output_type": "stream",
     "text": [
      "2-mer ML of s (2x) also present in t (1x)\n",
      "2-mer IT of s (1x) also present in t (1x)\n",
      "2-mer TM of s (1x) also present in t (1x)\n"
     ]
    }
   ],
   "source": [
    "# 5b\n",
    "# Define the sequences\n",
    "s = \"MLYITMLWM\"\n",
    "t = \"GIVITMLLM\"\n",
    "\n",
    "# Calculate the 2-mers of s\n",
    "frequencies_s = {}\n",
    "for i in range(len(s) - 1):\n",
    "    two_mer = s[i:i+2]\n",
    "    if two_mer in frequencies_s:\n",
    "        frequencies_s[two_mer] += 1\n",
    "    else:\n",
    "        frequencies_s[two_mer] = 1\n",
    "\n",
    "# Calculate the 2-mers of t\n",
    "frequencies_t = {}\n",
    "for i in range(len(t) - 1):\n",
    "    two_mer = t[i:i+2]\n",
    "    if two_mer in frequencies_t:\n",
    "        frequencies_t[two_mer] += 1\n",
    "    else:\n",
    "        frequencies_t[two_mer] = 1\n",
    "\n",
    "# Check if 2-mers of s are present in t\n",
    "for two_mer, count in frequencies_s.items():\n",
    "    if two_mer in frequencies_t:\n",
    "        print(f\"2-mer {two_mer} of s ({count}x) also present in t ({frequencies_t[two_mer]}x)\")"
   ]
  }
 ],
 "metadata": {
  "kernelspec": {
   "display_name": "Python 3",
   "language": "python",
   "name": "python3"
  },
  "language_info": {
   "codemirror_mode": {
    "name": "ipython",
    "version": 3
   },
   "file_extension": ".py",
   "mimetype": "text/x-python",
   "name": "python",
   "nbconvert_exporter": "python",
   "pygments_lexer": "ipython3",
   "version": "3.11.2"
  }
 },
 "nbformat": 4,
 "nbformat_minor": 2
}
