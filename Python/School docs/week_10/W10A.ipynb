{
 "cells": [
  {
   "cell_type": "code",
   "execution_count": 13,
   "metadata": {},
   "outputs": [
    {
     "name": "stdout",
     "output_type": "stream",
     "text": [
      "[78, 92, 80, 67, 88, 72, 95, 60]\n"
     ]
    }
   ],
   "source": [
    "# Q1\n",
    "\n",
    "scores = [78, 92, 54, 80, 33, 67, 88, 45, 72, 95, 60]\n",
    "\n",
    "# list comprehension for scores equal to or greater than 60 \n",
    "\n",
    "passing_scores = [score for score in scores if score >= 60]\n",
    "\n",
    "print(passing_scores)"
   ]
  },
  {
   "cell_type": "code",
   "execution_count": 2,
   "metadata": {},
   "outputs": [
    {
     "name": "stdout",
     "output_type": "stream",
     "text": [
      "Processed sequences: ['ILMWYIYV', 'TQEGPIMKN']\n"
     ]
    }
   ],
   "source": [
    "# Q2\n",
    "original_sequences = [\n",
    "    \"ilmwyiyv\",\n",
    "    \"yiywgte\",\n",
    "    \"gmpae\",\n",
    "    \"tqegpimkn\",\n",
    "    \"ptvmcgd\",\n",
    "    \"afsp\"\n",
    "]\n",
    "\n",
    "def process_sequences(original_sequences):\n",
    "    # Filter and transform the sequences\n",
    "    sequences_upper = [seq.upper() for seq in original_sequences if len(seq) > 7]\n",
    "    return sequences_upper\n",
    "\n",
    "\n",
    "processed_sequences = process_sequences(original_sequences)\n",
    "print(\"Processed sequences:\", processed_sequences)\n"
   ]
  },
  {
   "cell_type": "code",
   "execution_count": null,
   "metadata": {},
   "outputs": [],
   "source": [
    "2\n",
    "original_sequences = [\n",
    "    \"ilmwyiyv\",\n",
    "    \"yiywgte\",\n",
    "    \"gmpae\",\n",
    "    \"tqegpimkn\",\n",
    "    \"ptvmcgd\",\n",
    "    \"afsp\"\n",
    "]\n",
    "\n",
    "def process_sequences(original_sequences):\n",
    "    # Filter and transform the sequences\n",
    "    sequences_upper = [seq.upper() for seq in original_sequences if len(seq) > 7]\n",
    "    return sequences_upper\n",
    "\n",
    "\n",
    "processed_sequences = process_sequences(original_sequences)\n",
    "print(\"Processed sequences:\", processed_sequences)\n"
   ]
  },
  {
   "cell_type": "code",
   "execution_count": 4,
   "metadata": {},
   "outputs": [
    {
     "name": "stdout",
     "output_type": "stream",
     "text": [
      "Amino acid counts: {'I': 4, 'L': 1, 'M': 4, 'W': 2, 'Y': 4, 'V': 2, 'G': 4, 'T': 3, 'E': 3, 'P': 4, 'A': 2, 'Q': 1, 'K': 1, 'N': 1, 'C': 1, 'D': 1, 'F': 1, 'S': 1}\n"
     ]
    }
   ],
   "source": [
    "# Q3\n",
    "sequences = [\n",
    "    \"ILMWYIYV\",\n",
    "    \"YIYWGTE\",\n",
    "    \"GMPAE\",\n",
    "    \"TQEGPIMKN\",\n",
    "    \"PTVMCGD\",\n",
    "    \"AFSP\"\n",
    "]\n",
    "\n",
    "# Combine all sequences into one string\n",
    "all_amino_acids = ''.join(sequences)\n",
    "\n",
    "# Dictionary comprehension to count occurrences\n",
    "amino_acid_counts = {amino_acid: all_amino_acids.count(amino_acid) for amino_acid in all_amino_acids}\n",
    "\n",
    "print(\"Amino acid counts:\", amino_acid_counts)\n"
   ]
  },
  {
   "cell_type": "code",
   "execution_count": 6,
   "metadata": {},
   "outputs": [
    {
     "name": "stdout",
     "output_type": "stream",
     "text": [
      "2\n",
      "3\n",
      "5\n"
     ]
    }
   ],
   "source": [
    "# Q4\n",
    "import random\n",
    "\n",
    "class Dice:\n",
    "    def __init__(self):\n",
    "        # Initialize the dice by throwing it\n",
    "        self.throw()\n",
    "\n",
    "    def throw(self):\n",
    "        # Set the upper surface to a random number between 1 and 6\n",
    "        self.up_surf = random.randint(1, 6)\n",
    "\n",
    "    def read(self):\n",
    "        # Return the value of the current upper surface\n",
    "        return self.up_surf\n",
    "\n",
    "\n",
    "dice = Dice()\n",
    "print(dice.read())  # First throw during initialization\n",
    "dice.throw()        # Throw the dice\n",
    "print(dice.read())  # Read the result of the throw\n",
    "dice.throw()        # Throw the dice again\n",
    "print(dice.read())  # Read the result of the second throw\n"
   ]
  },
  {
   "cell_type": "code",
   "execution_count": 9,
   "metadata": {},
   "outputs": [
    {
     "name": "stdout",
     "output_type": "stream",
     "text": [
      "King of Hearts\n"
     ]
    }
   ],
   "source": [
    "# Q5\n",
    "class Card:\n",
    "    def __init__(self, rank, suit):\n",
    "        # Initialize the card with rank and suit\n",
    "        self.rank = rank\n",
    "        self.suit = suit\n",
    "\n",
    "    def show(self):\n",
    "        # Return the card as a string in the form \"Rank of Suit\"\n",
    "        return f\"{self.rank} of {self.suit}\"\n",
    "\n",
    "\n",
    "card = Card(\"King\", \"Hearts\")  # Create a card with \"King\" as the rank and \"Hearts\" as the suit\n",
    "print(card.show())  # Show the card\n"
   ]
  },
  {
   "cell_type": "code",
   "execution_count": 11,
   "metadata": {},
   "outputs": [
    {
     "name": "stdout",
     "output_type": "stream",
     "text": [
      "Shuffled deck of cards:\n",
      "3 of Diamonds\n",
      "Jack of Hearts\n",
      "2 of Diamonds\n",
      "7 of Hearts\n",
      "5 of Clubs\n",
      "9 of Diamonds\n",
      "3 of Hearts\n",
      "3 of Spades\n",
      "4 of Clubs\n",
      "Jack of Spades\n",
      "5 of Hearts\n",
      "6 of Clubs\n",
      "Ace of Diamonds\n",
      "7 of Clubs\n",
      "Queen of Spades\n",
      "King of Hearts\n",
      "Queen of Clubs\n",
      "2 of Spades\n",
      "5 of Diamonds\n",
      "Ace of Hearts\n",
      "Queen of Hearts\n",
      "6 of Spades\n",
      "Ace of Clubs\n",
      "9 of Clubs\n",
      "8 of Diamonds\n",
      "King of Clubs\n",
      "2 of Hearts\n",
      "9 of Spades\n",
      "8 of Clubs\n",
      "9 of Hearts\n",
      "Jack of Clubs\n",
      "Jack of Diamonds\n",
      "10 of Hearts\n",
      "Queen of Diamonds\n",
      "2 of Clubs\n",
      "6 of Hearts\n",
      "10 of Diamonds\n",
      "4 of Spades\n",
      "4 of Diamonds\n",
      "8 of Hearts\n",
      "4 of Hearts\n",
      "5 of Spades\n",
      "King of Diamonds\n",
      "10 of Clubs\n",
      "7 of Spades\n",
      "6 of Diamonds\n",
      "Ace of Spades\n",
      "8 of Spades\n",
      "10 of Spades\n",
      "King of Spades\n",
      "3 of Clubs\n",
      "7 of Diamonds\n",
      "\n",
      "Drawn card from deck: 3 of Diamonds\n",
      "\n",
      "Remaining deck of cards:\n",
      "Jack of Hearts\n",
      "2 of Diamonds\n",
      "7 of Hearts\n",
      "5 of Clubs\n",
      "9 of Diamonds\n",
      "3 of Hearts\n",
      "3 of Spades\n",
      "4 of Clubs\n",
      "Jack of Spades\n",
      "5 of Hearts\n",
      "6 of Clubs\n",
      "Ace of Diamonds\n",
      "7 of Clubs\n",
      "Queen of Spades\n",
      "King of Hearts\n",
      "Queen of Clubs\n",
      "2 of Spades\n",
      "5 of Diamonds\n",
      "Ace of Hearts\n",
      "Queen of Hearts\n",
      "6 of Spades\n",
      "Ace of Clubs\n",
      "9 of Clubs\n",
      "8 of Diamonds\n",
      "King of Clubs\n",
      "2 of Hearts\n",
      "9 of Spades\n",
      "8 of Clubs\n",
      "9 of Hearts\n",
      "Jack of Clubs\n",
      "Jack of Diamonds\n",
      "10 of Hearts\n",
      "Queen of Diamonds\n",
      "2 of Clubs\n",
      "6 of Hearts\n",
      "10 of Diamonds\n",
      "4 of Spades\n",
      "4 of Diamonds\n",
      "8 of Hearts\n",
      "4 of Hearts\n",
      "5 of Spades\n",
      "King of Diamonds\n",
      "10 of Clubs\n",
      "7 of Spades\n",
      "6 of Diamonds\n",
      "Ace of Spades\n",
      "8 of Spades\n",
      "10 of Spades\n",
      "King of Spades\n",
      "3 of Clubs\n",
      "7 of Diamonds\n"
     ]
    }
   ],
   "source": [
    "# Q6\n",
    "import random\n",
    "\n",
    "class Card:\n",
    "    def __init__(self, rank, suit):\n",
    "        self.rank = rank\n",
    "        self.suit = suit\n",
    "\n",
    "    def show(self):\n",
    "        return f\"{self.rank} of {self.suit}\"\n",
    "\n",
    "class DeckOfCards:\n",
    "    def __init__(self):\n",
    "        # Initialize the deck with 52 cards\n",
    "        ranks = [\"2\", \"3\", \"4\", \"5\", \"6\", \"7\", \"8\", \"9\", \"10\", \"Jack\", \"Queen\", \"King\", \"Ace\"]\n",
    "        suits = [\"Hearts\", \"Diamonds\", \"Clubs\", \"Spades\"]\n",
    "        self.cards = [Card(rank, suit) for rank in ranks for suit in suits]\n",
    "        \n",
    "    def shuffle(self):\n",
    "        # Shuffle the deck randomly\n",
    "        random.shuffle(self.cards)\n",
    "        \n",
    "    def get_cards(self):\n",
    "        # Return the list of remaining cards\n",
    "        return self.cards\n",
    "        \n",
    "    def draw(self):\n",
    "        # Draw the top card and remove it from the deck\n",
    "        if self.cards:  # Ensure there are cards in the deck\n",
    "            return self.cards.pop(0)\n",
    "        else:\n",
    "            return None  # Return None if no cards are left\n",
    "\n",
    "\n",
    "deck = DeckOfCards()\n",
    "\n",
    "# Shuffle the deck\n",
    "deck.shuffle()\n",
    "\n",
    "# Show the shuffled deck\n",
    "print(\"Shuffled deck of cards:\")\n",
    "for card in deck.get_cards():\n",
    "    print(card.show())\n",
    "\n",
    "# Draw a card\n",
    "card = deck.draw()\n",
    "print(\"\\nDrawn card from deck:\", card.show() if card else \"No card left\")\n",
    "\n",
    "# Show remaining cards\n",
    "print(\"\\nRemaining deck of cards:\")\n",
    "for card in deck.get_cards():\n",
    "    print(card.show())\n"
   ]
  }
 ],
 "metadata": {
  "kernelspec": {
   "display_name": "Python 3",
   "language": "python",
   "name": "python3"
  },
  "language_info": {
   "codemirror_mode": {
    "name": "ipython",
    "version": 3
   },
   "file_extension": ".py",
   "mimetype": "text/x-python",
   "name": "python",
   "nbconvert_exporter": "python",
   "pygments_lexer": "ipython3",
   "version": "3.11.2"
  }
 },
 "nbformat": 4,
 "nbformat_minor": 2
}
