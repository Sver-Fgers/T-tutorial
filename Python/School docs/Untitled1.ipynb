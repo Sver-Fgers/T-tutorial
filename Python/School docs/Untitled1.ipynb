{
 "cells": [
  {
   "cell_type": "code",
   "execution_count": 24,
   "id": "68b6dc61-3ab7-44db-a52f-a42ccf996d9d",
   "metadata": {},
   "outputs": [
    {
     "name": "stdin",
     "output_type": "stream",
     "text": [
      "Enter a number between 1 and 10:  6\n"
     ]
    },
    {
     "name": "stdout",
     "output_type": "stream",
     "text": [
      "The roman numeral equivalent of the number is 'vi'\n"
     ]
    }
   ],
   "source": [
    "# r.SOWP(184.Q4)\n",
    "# using for loops and lists instead of if statements\n",
    "\n",
    "\n",
    "# numbers\n",
    "# num = [0,1,2,3,4,5,6,7,8,9,10]\n",
    "\n",
    "#---------------------------------------------------------------------------------------\n",
    "user_number = int(input(\"Enter a number between 1 and 10: \"))\n",
    "# roman numberals\n",
    "roman_num = [\"none\", \"i\", \"ii\", \"iii\", \"iv\", \"v\", \"vi\", \"vii\", \"viii\", \"ix\", \"x\"]\n",
    "\n",
    "if user_number >= 1 and user_number <=10:\n",
    "    print(f\"The roman numeral equivalent of the number is '{roman_num[user_number]}'\")\n",
    "else:\n",
    "    print(\"error\")\n",
    "\n",
    "# NB: if you choose complexity, complexity squared you wil6l get\n",
    "#----------------------------------------------------------------------------------------    \n",
    "#for i in range(5):\n",
    "    # pair the number list and its equivalent numeral list together and convert into a list\n",
    "    #output becomes num2rom = [(1, \"i\"), (2, \"ii\") etc)    \n",
    " #   num2rom = list(zip(num, rom_num))\n",
    "    \n",
    "    # if the user numbers is in numbers, compare the number position to the exact position \n",
    "    # in the roman numeral list and print the string there\n",
    "\n",
    "#if user_number in num:\n",
    " #   print(len(rom_num))\n",
    "    \n",
    "    #print(f\"The equivalent of {user_number} is {rom_num}\")\n",
    "    #print(num[user_number])\n",
    "  #  print(rom_num[user_number])\n",
    "\n",
    "#for i, j in zip(num[user_number], rom_num[user_number]):\n",
    " #   if i == j:\n",
    "  #      print(user_number)\n",
    " #   print(f\"The equivalent of {user_number} is {rom_num}\")\n",
    "#else:\n",
    " #   print(\"error\")\n",
    "        "
   ]
  },
  {
   "cell_type": "code",
   "execution_count": 53,
   "id": "5f895fc6-a0ad-45ef-840f-9983a217237e",
   "metadata": {},
   "outputs": [
    {
     "name": "stdout",
     "output_type": "stream",
     "text": [
      "error!!!\n",
      "Enter a valid input\n"
     ]
    }
   ],
   "source": [
    "# r.SOWP(185.Q7)\n",
    "\n",
    "# test and exam worths in points\n",
    "TEST1 = 25\n",
    "TEST2 = 25\n",
    "EXAM = 50\n",
    "A = 80 # distinction\n",
    "P = 60 # pass\n",
    "\n",
    "# passing criteria:\n",
    "# overall score must be greater than 50 points \n",
    "# exam must be atleast 25 points \n",
    "\n",
    "\n",
    "# overall score\n",
    "total = test1_score + test2_score + exam_score\n",
    " \n",
    "if ((test1_score or test2_score) < 0) or ((test1_score or test2_score) > 25) :\n",
    "    print(\"error!!!\\nEnter a valid input\")\n",
    "elif (exam_score < 0) or (exam_score < 50) :\n",
    "    print(\"error!!!\\nEnter a valid input\")\n",
    "else:\n",
    "    #  collect user data\n",
    "    exam_score = int(input(\"enter your exam score\"))\n",
    "    test1_score = int(input(\"enter your first test score\"))\n",
    "    test2_score = int(input(\"enter your second test score\"))\n",
    "\n",
    "\n",
    "    # find user grade\n",
    "    if total < EXAM or EXAM < TEST1:\n",
    "        print(\"your grade is 'F'\")\n",
    "    elif total >= A:\n",
    "        print(\"you got 'Distinction'\")\n",
    "    elif total < A and total >= P:\n",
    "        print(\"you got 'Credit'\")\n",
    "    elif total < P:\n",
    "        print(\"your got 'Pass'\")\n",
    "    else:\n",
    "        print(\"No entry found\")\n"
   ]
  },
  {
   "cell_type": "code",
   "execution_count": 45,
   "id": "3f374219-da63-4373-a720-c542422a3f43",
   "metadata": {},
   "outputs": [
    {
     "name": "stdout",
     "output_type": "stream",
     "text": [
      "true\n"
     ]
    }
   ],
   "source": [
    "# r.SOWP(185.Q9)\n",
    "# roulette wheel pocket form 0 to 36\n"
   ]
  },
  {
   "cell_type": "code",
   "execution_count": null,
   "id": "72062a39-9791-4a46-bc1a-ed4e33b1790a",
   "metadata": {},
   "outputs": [],
   "source": []
  }
 ],
 "metadata": {
  "kernelspec": {
   "display_name": "Python 3 (ipykernel)",
   "language": "python",
   "name": "python3"
  },
  "language_info": {
   "codemirror_mode": {
    "name": "ipython",
    "version": 3
   },
   "file_extension": ".py",
   "mimetype": "text/x-python",
   "name": "python",
   "nbconvert_exporter": "python",
   "pygments_lexer": "ipython3",
   "version": "3.11.2"
  }
 },
 "nbformat": 4,
 "nbformat_minor": 5
}
