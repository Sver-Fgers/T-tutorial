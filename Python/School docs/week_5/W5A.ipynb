{
 "cells": [
  {
   "cell_type": "code",
   "execution_count": 1,
   "id": "153b5594-f0dc-4b98-bd13-362c40d47222",
   "metadata": {},
   "outputs": [
    {
     "ename": "SyntaxError",
     "evalue": "(unicode error) 'unicodeescape' codec can't decode bytes in position 2-3: truncated \\UXXXXXXXX escape (1723588966.py, line 2)",
     "output_type": "error",
     "traceback": [
      "\u001b[1;36m  Cell \u001b[1;32mIn[1], line 2\u001b[1;36m\u001b[0m\n\u001b[1;33m    file = open(\"C:\\Users\\Victor_Nxx\\Documents\\...Tutoring\\T\\T Assignments\\virus_1fasta.sec\", \"r\")\u001b[0m\n\u001b[1;37m                                                                                            ^\u001b[0m\n\u001b[1;31mSyntaxError\u001b[0m\u001b[1;31m:\u001b[0m (unicode error) 'unicodeescape' codec can't decode bytes in position 2-3: truncated \\UXXXXXXXX escape\n"
     ]
    }
   ],
   "source": [
    "# method 1 using the open() function\n",
    "file = open(r\"C:\\Users\\Victor_Nxx\\Documents\\...Tutoring\\T\\T Assignments\\virus_1fasta.sec\", \"r\")\n",
    "header_1 = file.readline().strip()  # Read the header and strip any extra whitespace\n",
    "sequence_1 = file.readline().strip()[:100]  # Read the first 100 nucleotides\n",
    "file.close()  # Close the file manually\n",
    "print(f\"Viral genome in file virus_1.fasta has header: {header_1}\")\n",
    "print(f\"The first 100 nucleotides are: {sequence_1}\\n\")\n",
    "\n",
    "\n",
    "# Opening and reading virus_2.fasta\n",
    "file = open(r\"C:\\Users\\Victor_Nxx\\Documents\\...Tutoring\\T\\T Assignments\\virus_2fasta.sec\", \"r\")\n",
    "header_2 = file.readline().strip()\n",
    "sequence_2 = file.readline().strip()[:100]\n",
    "file.close()\n",
    "print(f\"Viral genome in file virus_2.fasta has header: {header_2}\")\n",
    "print(f\"The first 100 nucleotides are: {sequence_2}\\n\")\n",
    "\n",
    "# Opening and reading virus_3.fasta\n",
    "file = open(r\"C:\\Users\\Victor_Nxx\\Documents\\...Tutoring\\T\\T Assignments\\virus_3fasta.sec\", \"r\")\n",
    "header_3 = file.readline().strip()\n",
    "sequence_3 = file.readline().strip()[:100]\n",
    "file.close()\n",
    "print(f\"Viral genome in file virus_3.fasta has header: {header_3}\")\n",
    "print(f\"The first 100 nucleotides are: {sequence_3}\\n\")\n",
    "\n",
    "# Opening and reading virus_4.fasta\n",
    "file = open(r\"C:\\Users\\Victor_Nxx\\Documents\\...Tutoring\\T\\T Assignments\\virus_4fasta.sec\", \"r\")\n",
    "header_4 = file.readline().strip()\n",
    "sequence_4 = file.readline().strip()[:100]\n",
    "file.close()\n",
    "print(f\"Viral genome in file virus_4.fasta has header: {header_4}\")\n",
    "print(f\"The first 100 nucleotides are: {sequence_4}\")\n",
    "\n",
    "\n",
    "\n",
    "# method 2 - using with statement\n",
    "# Open and read the first file\n",
    "with open(\"C:\\\\Users\\\\Victor_Nxx\\\\Documents\\\\...Tutoring\\\\T\\\\T Assignments\\\\virus_1fasta.sec\", \"r\") as file:\n",
    "    header_1 = file.readline().strip()  # Read the header line and remove any extra whitespace\n",
    "    sequence_1 = file.readline().strip()[:100]  # Read the first 100 nucleotides\n",
    "\n",
    "print(f\"Viral genome in file virus_1.fasta has header: {header_1}\")\n",
    "print(f\"The first 100 nucleotides are: {sequence_1}\\n\")\n",
    "\n",
    "# Open and read the second file\n",
    "with open(\"C:\\\\Users\\\\Victor_Nxx\\\\Documents\\\\...Tutoring\\\\T\\\\T Assignments\\\\virus_2fasta.sec\", \"r\") as file:\n",
    "    header_2 = file.readline().strip()\n",
    "    sequence_2 = file.readline().strip()[:100]\n",
    "\n",
    "print(f\"Viral genome in file virus_2.fasta has header: {header_2}\")\n",
    "print(f\"The first 100 nucleotides are: {sequence_2}\\n\")\n",
    "\n",
    "# Open and read the third file\n",
    "with open(\"C:\\\\Users\\\\Victor_Nxx\\\\Documents\\\\...Tutoring\\\\T\\\\T Assignments\\\\virus_3fasta.sec\", \"r\") as file:\n",
    "    header_3 = file.readline().strip()\n",
    "    sequence_3 = file.readline().strip()[:100]\n",
    "\n",
    "print(f\"Viral genome in file virus_3.fasta has header: {header_3}\")\n",
    "print(f\"The first 100 nucleotides are: {sequence_3}\\n\")\n",
    "\n",
    "# Open and read the fourth file\n",
    "with open(\"C:\\\\Users\\\\Victor_Nxx\\\\Documents\\\\...Tutoring\\\\T\\\\T Assignments\\\\virus_4fasta.sec\", \"r\") as file:\n",
    "    header_4 = file.readline().strip()\n",
    "    sequence_4 = file.readline().strip()[:100]\n",
    "\n",
    "print(f\"Viral genome in file virus_4.fasta has header: {header_4}\")\n",
    "print(f\"The first 100 nucleotides are: {sequence_4}\")\n",
    "\n",
    "\n",
    "\n",
    "# method 3 - using functions\n",
    "# Define a function to read the header and the first 100 nucleotides of each genome file\n",
    "def read_genome_header_and_sequence(file_path):\n",
    "    with open(file_path, 'r') as file:\n",
    "        header = file.readline().strip()  # Read and strip any extra whitespace\n",
    "        sequence = file.readline().strip()[:100]  # Read first 100 nucleotides\n",
    "    print(f\"Header: {header}\")\n",
    "    print(f\"First 100 nucleotides: {sequence}\\n\")\n",
    "\n",
    "# \n",
    "read_genome_header_and_sequence(\"C:/Users/Victor_Nxx/Documents/...Tutoring/T/T Assignments/virus_1fasta.sec\")\n",
    "read_genome_header_and_sequence(\"C:/Users/Victor_Nxx/Documents/...Tutoring/T/T Assignments/virus_2fasta.sec\")\n",
    "read_genome_header_and_sequence(\"C:/Users/victor_Nxx/Documents/...Tutoring/T/T Assignments/virus_3fasta.sec\")\n",
    "read_genome_header_and_sequence(\"C:/Users/Victor_Nxx/Documents/...Tutoring/T/T Assignments/virus_4fasta.sec\")\n",
    "\n"
   ]
  },
  {
   "cell_type": "code",
   "execution_count": 11,
   "id": "0914dbe8-2631-46b0-a13e-439f443628e9",
   "metadata": {},
   "outputs": [
    {
     "name": "stdout",
     "output_type": "stream",
     "text": [
      "Contig headers are: \n",
      " dict_keys(['>virus_1_complete', '>virus_2_complete', '>virus_3_complete', '>virus_4_complete'])\n",
      "Contig sequences are: \n",
      " dict_values(['ATGGAGACCTTGAGACCAACAGATTTGAAGAGCTATTGCACCATCTTTGGGATAGACTTTTTTGAGCTTC', 'ATGTCACACAACGATACCCCCGCAAATAACACTAACGGCATAGCCGACGTTTACGCTGACGAGAATCCATGTGAAATAGC', 'ACTACAATAATTCATGTATAAAACTAAGGGCGTAACCGAAATCGGTTGAACCGAAACCGGTTAGTATAAA', 'ATGGAGAACCTTTTTCCTACAGGTTTACAAGAATATTGCAGCTATTTTAAAATTGATTTCTTTGAATTGC'])\n",
      "the items are: \n",
      " dict_items([('>virus_1_complete', 'ATGGAGACCTTGAGACCAACAGATTTGAAGAGCTATTGCACCATCTTTGGGATAGACTTTTTTGAGCTTC'), ('>virus_2_complete', 'ATGTCACACAACGATACCCCCGCAAATAACACTAACGGCATAGCCGACGTTTACGCTGACGAGAATCCATGTGAAATAGC'), ('>virus_3_complete', 'ACTACAATAATTCATGTATAAAACTAAGGGCGTAACCGAAATCGGTTGAACCGAAACCGGTTAGTATAAA'), ('>virus_4_complete', 'ATGGAGAACCTTTTTCCTACAGGTTTACAAGAATATTGCAGCTATTTTAAAATTGATTTCTTTGAATTGC')])\n"
     ]
    }
   ],
   "source": [
    "# 1b\n",
    "\n",
    "\n",
    "# Function to read and store genome data\n",
    "def store_genome_data(file_path):\n",
    "    with open(file_path, 'r') as file:\n",
    "        header = file.readline().strip()\n",
    "        sequence = file.readline().strip()\n",
    "    genomes[header] = sequence\n",
    "    return\n",
    "\n",
    "# Dictionary to hold genome data\n",
    "genomes = {}\n",
    "\n",
    "\n",
    "# Load each genome\n",
    "file_1 = r\"C:\\Users\\Victor_Nxx\\Documents\\...Tutoring\\T\\T Assignments\\virus_1fasta.sec\"\n",
    "file_2 = r\"C:\\Users\\Victor_Nxx\\Documents\\...Tutoring\\T\\T Assignments\\virus_2fasta.sec\"\n",
    "file_3 = r\"C:\\Users\\Victor_Nxx\\Documents\\...Tutoring\\T\\T Assignments\\virus_3fasta.sec\"\n",
    "file_4 = r\"C:\\Users\\Victor_Nxx\\Documents\\...Tutoring\\T\\T Assignments\\virus_4fasta.sec\"\n",
    "\n",
    "# a list to simplify using the files\n",
    "all_files=[file_1, file_2, file_3, file_4]\n",
    "\n",
    "# store_genome_data(r\"C:\\Users\\Victor_Nxx\\Documents\\...Tutoring\\T\\T Assignments\\virus_1fasta.sec\")\n",
    "# store_genome_data(r\"C:\\Users\\Victor_Nxx\\Documents\\...Tutoring\\T\\T Assignments\\virus_2fasta.sec\")\n",
    "# store_genome_data(r\"C:\\Users\\Victor_Nxx\\Documents\\...Tutoring\\T\\T Assignments\\virus_3fasta.sec\")\n",
    "# store_genome_data(r\"C:\\Users\\Victor_Nxx\\Documents\\...Tutoring\\T\\T Assignments\\virus_4fasta.sec\")\n",
    "\n",
    "for files in all_files:\n",
    "    store_genome_data(files)\n",
    "              \n",
    "\n",
    "# Print the (headers) of the file which in this case are the keys of the dictionary\n",
    "print(\"Contig headers are: \\n\", genomes.keys())\n",
    "\n"
   ]
  },
  {
   "cell_type": "code",
   "execution_count": 14,
   "id": "66c6113f-6543-40f5-9c5c-f0aa170ced93",
   "metadata": {},
   "outputs": [
    {
     "name": "stdout",
     "output_type": "stream",
     "text": [
      ">virus_1_complete has 41.43 gc_content\n",
      ">virus_2_complete has 47.50 gc_content\n",
      ">virus_3_complete has 35.71 gc_content\n",
      ">virus_4_complete has 30.00 gc_content\n"
     ]
    }
   ],
   "source": [
    "# 2a \n",
    "# Function to calculate GC content\n",
    "def calculate_gc_content(sequence):\n",
    "    g_count = sequence.count('G')\n",
    "    c_count = sequence.count('C')\n",
    "    gc_content = (g_count + c_count) / len(sequence) * 100\n",
    "    return gc_content # pass the result back to the function where it was called\n",
    "\n",
    "# headers_gc_content\n",
    "# loop to print genome header and gc content\n",
    "for i in genomes:\n",
    "    gc_content=calculate_gc_content(genomes[i]) # statement to access the genome sequences\n",
    "    print(f\"{i} has {gc_content:.2f} gc_content\")\n"
   ]
  },
  {
   "cell_type": "code",
   "execution_count": 15,
   "id": "37a87eda-749d-4f17-bc65-3ddc37c5cf8f",
   "metadata": {},
   "outputs": [
    {
     "name": "stdout",
     "output_type": "stream",
     "text": [
      ">virus_1_complete is 0.06kbp long\n",
      ">virus_2_complete is 0.07kbp long\n",
      ">virus_3_complete is 0.06kbp long\n",
      ">virus_4_complete is 0.06kbp long\n"
     ]
    }
   ],
   "source": [
    "# 2b\n",
    "# Function to calculate genome length in Kbp\n",
    "def calculate_genome_length(sequence):\n",
    "    length = len(sequence) / 1200\n",
    "    return length # Divide by 1000 to get Kbp\n",
    "\n",
    "\n",
    "# loop to print genome header and length\n",
    "for headers_length in genomes:\n",
    "    genome_length=calculate_genome_length(genomes[headers_length]) # statement to access the genome sequences length\n",
    "    print(f\"{headers_length} is {genome_length:.2f}kbp long\")\n"
   ]
  },
  {
   "cell_type": "code",
   "execution_count": 60,
   "id": "43dc9106-8de8-4175-a223-94faac729bcc",
   "metadata": {},
   "outputs": [
    {
     "name": "stdout",
     "output_type": "stream",
     "text": [
      ">virus_2_complete: Length = 0.07 Kbp, GC% = 47.5\n",
      ">virus_1_complete: Length = 0.06 Kbp, GC% = 41.42857142857143\n",
      ">virus_3_complete: Length = 0.06 Kbp, GC% = 35.714285714285715\n",
      ">virus_4_complete: Length = 0.06 Kbp, GC% = 30.0\n"
     ]
    }
   ],
   "source": [
    "# 2c and 2d\n",
    "# Dictionary to store genome statistics\n",
    "genome_stats = {}\n",
    "\n",
    "# Fill the dictionary with statistics\n",
    "for header, sequence in genomes.items():\n",
    "    gc_content = calculate_gc_content(sequence)\n",
    "    length_kbp = calculate_genome_length(sequence)\n",
    "    genome_stats[header] = {'GC%': gc_content, 'Length (Kbp)': length_kbp}\n",
    "\n",
    "# Sort and print genomes by length\n",
    "sorted_genomes = sorted(genome_stats.items(), key=lambda x: x[1]['Length (Kbp)'], reverse=True)\n",
    "for genome, stats in sorted_genomes:\n",
    "    print(f\"{genome}: Length = {stats['Length (Kbp)']:.2f} Kbp, GC% = {stats['GC%']}\")\n"
   ]
  },
  {
   "cell_type": "code",
   "execution_count": 63,
   "id": "dfa4db35-f995-49b4-a699-dd72ca3f4c69",
   "metadata": {},
   "outputs": [
    {
     "name": "stdout",
     "output_type": "stream",
     "text": [
      "K-mer counts for >virus_1_complete:, {'ATG': 1, 'TGG': 2, 'GGA': 2, 'GAG': 4, 'AGA': 5, 'GAC': 3, 'ACC': 3, 'CCT': 1, 'CTT': 4, 'TTG': 5, 'TGA': 3, 'CCA': 2, 'CAA': 1, 'AAC': 1, 'ACA': 1, 'CAG': 1, 'GAT': 2, 'ATT': 2, 'TTT': 6, 'GAA': 1, 'AAG': 1, 'AGC': 2, 'GCT': 2, 'CTA': 1, 'TAT': 1, 'TGC': 1, 'GCA': 1, 'CAC': 1, 'CAT': 1, 'ATC': 1, 'TCT': 1, 'GGG': 1, 'ATA': 1, 'TAG': 1, 'ACT': 1, 'TTC': 1}\n",
      "K-mer counts for >virus_2_complete:, {'ATG': 2, 'TGT': 2, 'GTC': 1, 'TCA': 1, 'CAC': 3, 'ACA': 3, 'CAA': 2, 'AAC': 3, 'ACG': 5, 'CGA': 3, 'GAT': 1, 'ATA': 4, 'TAC': 2, 'ACC': 1, 'CCC': 3, 'CCG': 2, 'CGC': 2, 'GCA': 2, 'AAA': 2, 'AAT': 3, 'TAA': 2, 'ACT': 1, 'CTA': 1, 'CGG': 1, 'GGC': 1, 'CAT': 2, 'TAG': 2, 'AGC': 2, 'GCC': 1, 'GAC': 2, 'CGT': 1, 'GTT': 1, 'TTT': 1, 'TTA': 1, 'GCT': 1, 'CTG': 1, 'TGA': 2, 'GAG': 1, 'AGA': 1, 'GAA': 2, 'ATC': 1, 'TCC': 1, 'CCA': 1, 'GTG': 1}\n",
      "K-mer counts for >virus_3_complete:, {'ACT': 2, 'CTA': 2, 'TAC': 1, 'ACA': 1, 'CAA': 1, 'AAT': 3, 'ATA': 3, 'TAA': 5, 'ATT': 1, 'TTC': 1, 'TCA': 1, 'CAT': 1, 'ATG': 1, 'TGT': 1, 'GTA': 3, 'TAT': 2, 'AAA': 5, 'AAC': 4, 'AAG': 1, 'AGG': 1, 'GGG': 1, 'GGC': 1, 'GCG': 1, 'CGT': 1, 'ACC': 3, 'CCG': 3, 'CGA': 2, 'GAA': 3, 'ATC': 1, 'TCG': 1, 'CGG': 2, 'GGT': 2, 'GTT': 2, 'TTG': 1, 'TGA': 1, 'TTA': 1, 'TAG': 1, 'AGT': 1}\n",
      "K-mer counts for >virus_4_complete:, {'ATG': 1, 'TGG': 1, 'GGA': 1, 'GAG': 1, 'AGA': 2, 'GAA': 3, 'AAC': 1, 'ACC': 1, 'CCT': 2, 'CTT': 2, 'TTT': 8, 'TTC': 2, 'TCC': 1, 'CTA': 2, 'TAC': 2, 'ACA': 2, 'CAG': 2, 'AGG': 1, 'GGT': 1, 'GTT': 1, 'TTA': 2, 'CAA': 1, 'AAG': 1, 'AAT': 3, 'ATA': 1, 'TAT': 2, 'ATT': 5, 'TTG': 4, 'TGC': 2, 'GCA': 1, 'AGC': 1, 'GCT': 1, 'TAA': 1, 'AAA': 2, 'TGA': 2, 'GAT': 1, 'TCT': 1}\n"
     ]
    }
   ],
   "source": [
    "# 3a\n",
    "# Function to count k-mers in a sequence\n",
    "def count_kmers(sequence, k=3):\n",
    "    kmers = {}\n",
    "    for i in range(len(sequence) - k + 1):\n",
    "        kmer = sequence[i:i + k]\n",
    "        kmers[kmer] = kmers.get(kmer, 0) + 1  # Increment k-mer count\n",
    "    return kmers\n",
    "\n",
    "# Example usage\n",
    "for kmers in genomes:\n",
    "    kmer_counts = count_kmers(genomes[kmers], 3)  # Change k if needed\n",
    "    print(f\"K-mer counts for {kmers}:, {kmer_counts}\")\n"
   ]
  },
  {
   "cell_type": "code",
   "execution_count": null,
   "id": "e9c2850c-ad08-46e2-bb19-9c6432ce766d",
   "metadata": {},
   "outputs": [],
   "source": [
    "#3b\n",
    "# Create k-mer count dictionaries for each genome\n",
    "genome_kmers = {}\n",
    "for header, sequence in genomes.items():\n",
    "    genome_kmers[header] = count_kmers(sequence, 3)\n",
    "\n",
    "# Print k-mer counts for one genome\n",
    "print(\"K-mer counts for virus_1:\", genome_kmers[\"virus_1\"])\n"
   ]
  },
  {
   "cell_type": "code",
   "execution_count": null,
   "id": "b7abb342-c8eb-4546-99a1-e36488d5c560",
   "metadata": {},
   "outputs": [],
   "source": [
    "# 4a\n",
    "# Function to get a set of k-mers\n",
    "def get_kmer_set(sequence, k=7):\n",
    "    kmer_set = set()\n",
    "    for i in range(len(sequence) - k + 1):\n",
    "        kmer = sequence[i:i + k]\n",
    "        kmer_set.add(kmer)\n",
    "    return kmer_set\n",
    "\n",
    "# Example usage\n",
    "large_kmer_sets = {header: get_kmer_set(sequence, 7) for header, sequence in genomes.items()}\n"
   ]
  },
  {
   "cell_type": "code",
   "execution_count": null,
   "id": "bf84e8d1-d226-4070-bda3-e426cc5cf4d0",
   "metadata": {},
   "outputs": [],
   "source": [
    "# 4b\n",
    "# Function to calculate overlap percentage between two k-mer sets\n",
    "def calculate_overlap(set1, set2):\n",
    "    shared_kmers = set1.intersection(set2)\n",
    "    total_kmers = set1.union(set2)\n",
    "    overlap_percentage = len(shared_kmers) / len(total_kmers) * 100\n",
    "    return len(shared_kmers), len(total_kmers), overlap_percentage\n",
    "\n",
    "# Example of comparing two genomes\n",
    "header1, header2 = \"virus_1\", \"virus_2\"\n",
    "shared, total, overlap = calculate_overlap(large_kmer_sets[header1], large_kmer_sets[header2])\n",
    "print(f\"{header1} and {header2} share {shared} out of {total} k-mers, {overlap:.2f}%\")\n"
   ]
  },
  {
   "cell_type": "code",
   "execution_count": null,
   "id": "27b7f8ef-0e25-47eb-8aa1-48b00db15082",
   "metadata": {},
   "outputs": [],
   "source": [
    "# 5a\n",
    "# Function to transcribe DNA to RNA\n",
    "def transcribe_dna_to_rna(sequence):\n",
    "    return sequence.replace('T', 'U')\n",
    "\n",
    "# Example usage\n",
    "rna_sequence = transcribe_dna_to_rna(genomes[\"virus_1\"][:100])\n",
    "print(\"First 100 RNA bases for virus_1:\", rna_sequence)\n"
   ]
  },
  {
   "cell_type": "code",
   "execution_count": null,
   "id": "c3b443cd-6682-4a17-b611-c7753f7536a8",
   "metadata": {},
   "outputs": [],
   "source": [
    "# 5b\n",
    "# Function to find all start codon positions\n",
    "def find_start_codons(rna_sequence, codon=\"AUG\"):\n",
    "    positions = []\n",
    "    start = 0\n",
    "    while start != -1:\n",
    "        start = rna_sequence.find(codon, start)\n",
    "        if start != -1:\n",
    "            positions.append(start)\n",
    "            start += 3\n",
    "    return positions\n",
    "\n",
    "# Example usage\n",
    "start_positions = find_start_codons(rna_sequence)\n",
    "print(\"Start codon positions for virus_1:\", start_positions)\n"
   ]
  },
  {
   "cell_type": "code",
   "execution_count": null,
   "id": "e63e230f-7fac-47fc-896c-1f12f661dca6",
   "metadata": {},
   "outputs": [],
   "source": [
    "# 5c\n",
    "# Function to translate RNA sequence to protein using a codon table\n",
    "def translate_to_protein(rna_sequence, start_pos):\n",
    "    codon_table = {...}  # Add codon to amino acid dictionary here\n",
    "    protein = \"\"\n",
    "    for i in range(start_pos, len(rna_sequence) - 2, 3):\n",
    "        codon = rna_sequence[i:i + 3]\n",
    "        amino_acid = codon_table.get(codon, \"\")\n",
    "        if amino_acid == \"*\":  # Stop codon\n",
    "            break\n",
    "        protein += amino_acid\n",
    "    return protein if len(protein) >= 20 else None\n",
    "\n",
    "# Translate from each start position\n",
    "proteins = [translate_to_protein(rna_sequence, pos) for pos in start_positions if translate_to_protein(rna_sequence, pos)]\n",
    "print(\"Predicted proteins for virus_1:\", proteins)\n"
   ]
  }
 ],
 "metadata": {
  "kernelspec": {
   "display_name": "Python 3 (ipykernel)",
   "language": "python",
   "name": "python3"
  },
  "language_info": {
   "codemirror_mode": {
    "name": "ipython",
    "version": 3
   },
   "file_extension": ".py",
   "mimetype": "text/x-python",
   "name": "python",
   "nbconvert_exporter": "python",
   "pygments_lexer": "ipython3",
   "version": "3.11.2"
  }
 },
 "nbformat": 4,
 "nbformat_minor": 5
}
