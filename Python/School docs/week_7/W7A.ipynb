{
 "cells": [
  {
   "cell_type": "code",
   "execution_count": 11,
   "id": "15ed3323-a8f1-4845-93c2-49eab2dbfb11",
   "metadata": {},
   "outputs": [
    {
     "name": "stdout",
     "output_type": "stream",
     "text": [
      "Escherichia_coli, Faecalibacterium, Clostridium, Akkermansia, Enterococcus, Lactobacillus, Ruminococcus, Prevotella, Streptococcus, Bacteroides\n",
      "\n",
      "5,30,5,2,5,20,5,8,5,15\n",
      "\n"
     ]
    }
   ],
   "source": [
    "with open(r'C:\\Users\\Victor_Nxx\\Documents\\...Tutoring\\T\\bacteria_abundances_W7.txt', 'r') as file:\n",
    "    lines = file.readlines() # converts the contents of the file into a list for easier manipulation\n",
    "    print(lines[0])  # Print header\n",
    "    print(lines[1])  # Print first row of data\n",
    "\n",
    "    # the conversion process\n",
    "    # Escherichia_coli  Faecalibacterium  Clostridium  -to list of string-  [\" Escherichia_coli  Faecalibacterium  Clostridium \",\n",
    "    # 10                20                15                                \" 10                20                15 \",\n",
    "    # 30                5                 10                                \" 30                5                 10 \", ]\n",
    "    # 25                30                20\n",
    "\n",
    "\n",
    "\n",
    "    # printing out the python description of the file object\n",
    "    # file.readlines()\n",
    "    #for line in file:\n",
    "    #    print(file)\n",
    "\n",
    "    # printing out the file contents \n",
    "    #for line in file:\n",
    "    #   print(line)\n",
    "\n"
   ]
  },
  {
   "cell_type": "code",
   "execution_count": 26,
   "id": "1406413d-e998-4000-8426-4a9aebd0a3f0",
   "metadata": {},
   "outputs": [
    {
     "name": "stdout",
     "output_type": "stream",
     "text": [
      "Most abundant bacteria value: 30\n",
      "Most abundant bacteria value: 25\n",
      "Most abundant bacteria value: 28\n",
      "Most abundant bacteria value: 32\n",
      "Most abundant bacteria value: 35\n",
      "Most abundant bacteria value: 25\n",
      "Most abundant bacteria value: 30\n",
      "Most abundant bacteria value: 28\n",
      "Most abundant bacteria value: 27\n",
      "Most abundant bacteria value: 35\n"
     ]
    }
   ],
   "source": [
    "#for line in lines[1:]:\n",
    "\n",
    "map(int, lines)\n",
    "\n",
    "    #parts = line.split()[1:] # convert the list into sub-strings\n",
    "    # eg [\"5,30,5,2,5,20,5,8,5,15\" \"7,25,8,1,5,22,8,6,10,8\"] becomes [\"5\", \"30\", \"5\", \"2\", \"5\", \"20\", \"5\", \"8\", \"5\", \"15\"]\n",
    "    #values = list(map(int, parts)) # the map method applies the function - int to every element(that is the substrings) in the list\n",
    "    #most_abundant = max(values) # convert back into a list because of the map object\n",
    "    # most_abundant = list(map(int, line.split()))\n",
    "    #print(f\"Most abundant bacteria value: {most_abundant}\")\n",
    "\n",
    "    #values = list(map(int, line.split()[1:]))\n",
    "    #most_abundant = max(values)\n",
    "    #print(f\"Most abundant bacteria value: {most_abundant}\")\n",
    "\n",
    "for line in lines[1:]:\n",
    "    values = list(map(int, line.split('\\n')))  # Split and convert to integers\n",
    "        \n",
    "    if values:  # Check if values is not empty\n",
    "        most_abundant = max(values)  # Find the maximum\n",
    "        print(f\"Most abundant bacteria value: {most_abundant}\")\n",
    "    else:\n",
    "        print(\"No data available for this line.\")\n",
    "\n",
    "    "
   ]
  },
  {
   "cell_type": "code",
   "execution_count": 33,
   "id": "aefffad6-e7fb-4057-965d-cdc5c4e392dc",
   "metadata": {},
   "outputs": [
    {
     "name": "stdout",
     "output_type": "stream",
     "text": [
      "\n",
      "Sick Patients Data:\n",
      "Escherichia_coli, Faecalibacterium, Clostridium, Akkermansia, Enterococcus, Lactobacillus, Ruminococcus, Prevotella, Streptococcus, Bacteroides\n",
      "25,10,12,1,10,5,3,4,5,10\n",
      "30,12,15,0,10,5,2,3,20,5\n",
      "28,15,14,2,6,5,3,2,8,12\n",
      "27,8,20,1,8,7,5,4,10,10\n",
      "35,5,18,0,11,3,2,5,6,15\n",
      "\n",
      "Healthy Patients Data:\n",
      "Escherichia_coli, Faecalibacterium, Clostridium, Akkermansia, Enterococcus, Lactobacillus, Ruminococcus, Prevotella, Streptococcus, Bacteroides\n",
      "5,30,5,2,5,20,5,8,5,15\n",
      "7,25,8,1,5,22,8,6,10,8\n",
      "6,28,10,3,1,18,4,7,5,18\n",
      "8,32,7,4,6,1,7,5,10,10\n",
      "4,35,6,2,2,15,4,9,3,10\n",
      "\n"
     ]
    }
   ],
   "source": [
    "header = lines[0]\n",
    "healthy = lines[1:6]\n",
    "sick = lines[6:11]\n",
    "\n",
    "with open('healthy_patients.txt', 'w') as h_file:\n",
    "    h_file.write(header + ''.join(healthy))\n",
    "\n",
    "with open('sick_patients.txt', 'w') as s_file:\n",
    "    s_file.write(header + ''.join(sick))\n",
    "\n",
    "\"\"\"\n",
    "with open('sick_patients.txt', 'r') as s_file:\n",
    "    sick_data = s_file.read()  # Read all content from the file\n",
    "    print(\"\\nSick Patients Data:\")\n",
    "    print(sick_data)  # Print the contents of the file\n",
    "\n",
    "with open('healthy_patients.txt', 'r') as h_file:\n",
    "    healthy_data = h_file.read()  # Read all content from the file\n",
    "    print(\"Healthy Patients Data:\")\n",
    "    print(healthy_data)  # Print the contents of the file\n",
    "\"\"\""
   ]
  },
  {
   "cell_type": "code",
   "execution_count": 41,
   "id": "70d51a38-2965-4396-98f5-df1e66460787",
   "metadata": {},
   "outputs": [
    {
     "name": "stdout",
     "output_type": "stream",
     "text": [
      "bacteria_list = ['Escherichia_coli,', 'Faecalibacterium,', 'Clostridium,', 'Akkermansia,', 'Enterococcus,', 'Lactobacillus,', 'Ruminococcus,', 'Prevotella,', 'Streptococcus,', 'Bacteroides']\n",
      "Healthy Patients Data: {'healthy0': [], 'healthy1': [], 'healthy2': [], 'healthy3': [], 'healthy4': []}\n",
      "Sick Patients Data: {'sick0': [], 'sick1': [], 'sick2': [], 'sick3': [], 'sick4': []}\n"
     ]
    }
   ],
   "source": [
    "healthy_dict = {}\n",
    "sick_dict = {}\n",
    "\n",
    "with open('healthy_patients.txt', 'r') as h_file:\n",
    "    healthy_data = h_file.readlines() # convert to list exempting the first line\n",
    "    for i, line in enumerate(healthy_data[1:], start=1):\n",
    "        healthy_dict[f'healthy{i}'] = list(map(int, line.split()[1:]))\n",
    "\n",
    "with open('sick_patients.txt', 'r') as s_file:\n",
    "    sick_data = s_file.readlines()\n",
    "    for i, line in enumerate(sick_data[1:], start=1):\n",
    "        sick_dict[f'sick{i}'] = list(map(int, line.split()[1:]))\n",
    "\n",
    "# list to show bacteria data based on example structure in the assignment\n",
    "bacteria_list = lines[0].split()\n",
    "print(f\"bacteria_list = {bacteria_list}\")\n",
    "\n",
    "#for i, line in enumerate(healthy_data[1:], start=1):\n",
    "  #  healthy_dict[f'healthy{i}'] = list(map(int, line.split()[1:]))\n",
    "\n",
    "#for i, line in enumerate(sick_data[1:], start=1):\n",
    " #   sick_dict[f'sick{i}'] = list(map(int, line.split()[1:]))\n",
    "\n",
    "print(\"Healthy Patients Data:\", healthy_dict)\n",
    "print(\"Sick Patients Data:\", sick_dict)\n"
   ]
  },
  {
   "cell_type": "code",
   "execution_count": 34,
   "id": "00eaa2c5-e207-4ab7-8908-8067c9dd5aa1",
   "metadata": {},
   "outputs": [
    {
     "name": "stdout",
     "output_type": "stream",
     "text": [
      "Healthy Averages: []\n",
      "Sick Averages: []\n"
     ]
    }
   ],
   "source": [
    "def calculate_averages(data_dict):\n",
    "    averages = [sum(values) / len(values) for values in zip(*data_dict.values())]\n",
    "    return averages\n",
    "\n",
    "healthy_avg = calculate_averages(healthy_dict)\n",
    "sick_avg = calculate_averages(sick_dict)\n",
    "\n",
    "print(\"Healthy Averages:\", healthy_avg)\n",
    "print(\"Sick Averages:\", sick_avg)"
   ]
  },
  {
   "cell_type": "code",
   "execution_count": null,
   "id": "91e35438-4093-418e-8fd5-0bf2885d71f1",
   "metadata": {},
   "outputs": [],
   "source": [
    "def calculate_std_dev(data_dict):\n",
    "    import math\n",
    "    std_devs = []\n",
    "    for values in zip(*data_dict.values()):\n",
    "        mean = sum(values) / len(values)\n",
    "        variance = sum((x - mean) ** 2 for x in values) / len(values)\n",
    "        std_devs.append(math.sqrt(variance))\n",
    "    return std_devs\n",
    "\n",
    "healthy_std = calculate_std_dev(healthy_dict)\n",
    "sick_std = calculate_std_dev(sick_dict)\n",
    "\n",
    "print(\"Healthy STD:\", healthy_std)\n",
    "print(\"Sick STD:\", sick_std)"
   ]
  },
  {
   "cell_type": "code",
   "execution_count": null,
   "id": "c5e81714-4874-4fec-b351-b4867f7e20f1",
   "metadata": {},
   "outputs": [],
   "source": [
    "# 2b\n",
    "with open('air_temperature_mean_summer.txt', 'r') as file:\n",
    "    preview = file.read(1000)\n",
    "    print(preview)\n"
   ]
  },
  {
   "cell_type": "code",
   "execution_count": null,
   "id": "ac37d929-f3bf-4acd-b289-1e0110cdb69f",
   "metadata": {},
   "outputs": [],
   "source": [
    "# 2c\n",
    "with open('air_temperature_mean_summer.txt', 'r') as file:\n",
    "    header = file.readline()\n",
    "    locations = header.strip().split('\\t')[1:]\n",
    "    print(\"Locations:\", locations)\n"
   ]
  },
  {
   "cell_type": "code",
   "execution_count": null,
   "id": "5a3eb387-7b13-4afe-9fd4-fb6e740cd4c1",
   "metadata": {},
   "outputs": [],
   "source": [
    "# 2d\n",
    "summer_dict = {}\n",
    "with open('air_temperature_mean_summer.txt', 'r') as file:\n",
    "    file.readline()  # Skip header\n",
    "    for line in file:\n",
    "        year, *temps = line.strip().split('\\t')\n",
    "        summer_dict[year] = temps\n",
    "\n",
    "print(summer_dict)\n"
   ]
  },
  {
   "cell_type": "code",
   "execution_count": null,
   "id": "dbf0e776-cfdb-463e-ae77-3e39cbe9093e",
   "metadata": {},
   "outputs": [],
   "source": [
    "# 2e\n",
    "def average_temperature_season(season_dict):\n",
    "    averages = []\n",
    "    for temps in season_dict.values():\n",
    "        avg = sum(map(float, temps)) / len(temps)\n",
    "        averages.append(avg)\n",
    "    return averages\n",
    "\n",
    "summer_avg = average_temperature_season(summer_dict)\n",
    "print(f\"Summer Average Temperature: {summer_avg}\")\n"
   ]
  },
  {
   "cell_type": "code",
   "execution_count": 43,
   "id": "d6c63cbf-e4dc-4b7a-895f-6108c6654673",
   "metadata": {},
   "outputs": [
    {
     "name": "stdout",
     "output_type": "stream",
     "text": [
      "bases\n"
     ]
    }
   ],
   "source": [
    "# 3a\n",
    "import random\n",
    "\n",
    "words = ['biome', 'bases', 'lyase', 'zymin', 'roots', 'sample', 'local', 'loops']\n",
    "def get_random_word(word_list):\n",
    "    return random.choice(word_list)\n",
    "\n",
    "print(get_random_word(words))\n"
   ]
  },
  {
   "cell_type": "code",
   "execution_count": 44,
   "id": "e587e613-9ffc-4651-ab5f-a811116beed1",
   "metadata": {},
   "outputs": [
    {
     "name": "stdout",
     "output_type": "stream",
     "text": [
      "[0, 2, 2, 2, 2]\n"
     ]
    }
   ],
   "source": [
    "# 3b\n",
    "def guess_comparator(guess, answer):\n",
    "    result = []\n",
    "    for g, a in zip(guess, answer):\n",
    "        if g == a:\n",
    "            result.append(2)\n",
    "        elif g in answer:\n",
    "            result.append(1)\n",
    "        else:\n",
    "            result.append(0)\n",
    "    return result\n",
    "\n",
    "print(guess_comparator('boots', 'roots'))\n"
   ]
  },
  {
   "cell_type": "code",
   "execution_count": 53,
   "id": "43fa20c7-3b19-4ed4-aa19-31cd951521d7",
   "metadata": {},
   "outputs": [
    {
     "name": "stdout",
     "output_type": "stream",
     "text": [
      "Guess a 5-letter word!\n",
      "Please enter a 5-letter word.\n",
      "Result: [0, 0, 0]\n",
      "Out of tries! The word was: zymin\n",
      "Please enter a 5-letter word.\n",
      "Result: [0, 0, 0]\n",
      "Out of tries! The word was: zymin\n",
      "Please enter a 5-letter word.\n",
      "Result: [0, 0, 0]\n",
      "Out of tries! The word was: zymin\n",
      "Please enter a 5-letter word.\n",
      "Result: [0, 0, 0]\n",
      "Out of tries! The word was: zymin\n",
      "Please enter a 5-letter word.\n",
      "Result: [0, 0, 0]\n",
      "Out of tries! The word was: zymin\n",
      "Please enter a 5-letter word.\n",
      "Result: [0, 0, 0]\n",
      "Out of tries! The word was: zymin\n"
     ]
    }
   ],
   "source": [
    "# 3c\n",
    "\n",
    "answer = get_random_word(words)\n",
    "tries = 6\n",
    "\n",
    "print(\"Guess a 5-letter word!\")\n",
    "for guesses in range(tries):\n",
    "    # collect user input\n",
    "    guess = input(\"Enter your guess: \").lower()\n",
    "    if len(guess) != 5:\n",
    "        print(\"Please enter a 5-letter word.\")\n",
    "    else:\n",
    "    \n",
    "    # comparision of user guess and actual answer\n",
    "    result = guess_comparator(guess, answer)\n",
    "    print(\"Result:\", result)\n",
    "    \n",
    "    # Check for valid input length\n",
    "\n",
    "    elif guess == answer:\n",
    "        print(\"Congratulations! You guessed the word!\")\n",
    "        break\n",
    "    else:\n",
    "        print(f\"Out of tries! The word was: {answer}\")\n"
   ]
  }
 ],
 "metadata": {
  "kernelspec": {
   "display_name": "Python 3 (ipykernel)",
   "language": "python",
   "name": "python3"
  },
  "language_info": {
   "codemirror_mode": {
    "name": "ipython",
    "version": 3
   },
   "file_extension": ".py",
   "mimetype": "text/x-python",
   "name": "python",
   "nbconvert_exporter": "python",
   "pygments_lexer": "ipython3",
   "version": "3.11.2"
  }
 },
 "nbformat": 4,
 "nbformat_minor": 5
}
