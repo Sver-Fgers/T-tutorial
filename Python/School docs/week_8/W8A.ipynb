{
 "cells": [
  {
   "cell_type": "code",
   "execution_count": null,
   "id": "d241e407-e969-418e-a4bb-8dac9ff7ac3e",
   "metadata": {},
   "outputs": [
    {
     "name": "stdout",
     "output_type": "stream",
     "text": [
      "[11, 33, 44, 77, 99, 22, 44, 55, 66]\n",
      "[11, 22, 33, 44, 55, 66, 77, 99]\n"
     ]
    }
   ],
   "source": [
    "# r.TW8\n",
    "# (Q1)\n",
    "# sorting two lists into another list in the right order without using any in-built functions\n",
    "l1 = [11, 33, 44, 77, 99] # List 1\n",
    "l2 = [22, 44, 55, 66] # list 2\n",
    "result = [] # list to hold the sorted list\n",
    "\n",
    "# solution 1 - methods\n",
    "# concatenate both l1 and l2 into result\n",
    "result = l1 + l2\n",
    "print(result)  # [11, 33, 44, 77, 99, 22, 44, 55, 66]\n",
    "\n",
    "# pop the required elements and insert them in the right order/\n",
    "# element 22\n",
    "pop_22 = result.pop(5)\n",
    "result.insert(1, pop_22)\n",
    "\n",
    "# element 44\n",
    "# remove the first duplicate of 44\n",
    "result.remove(44)\n",
    "pop_44 = result.pop(5)\n",
    "result.insert(3, pop_44)\n",
    "\n",
    "# element 55\n",
    "pop_55 = result.pop(6)\n",
    "result.insert(4, pop_55)\n",
    "\n",
    "# element 66\n",
    "pop_66 = result.pop(7)\n",
    "result.insert(5, pop_66)\n",
    "print(result)\n",
    "\n",
    "# the statement below produces a list that is out of index because of index shifting\n",
    "# for i in range(3):\n",
    "  #  l2.pop(i)\n",
    "# iterating in reverse order fixes this\n",
    "#for i in range(2, 0, -1):  # Start from 2 and go to 1\n",
    "#    pop_rest = l2.pop(i) # pop the remainin elements from the list \n",
    " #   result.insert(2, pop_rest) # insert them in position 2 after the element 33\n",
    "\n",
    "\n",
    " # solution 2 - loops\n",
    " # while loop\n",
    "l1 = [11, 33, 44, 77, 99]\n",
    "l2 = [22, 44, 55, 66]\n",
    "result = []\n",
    "\n",
    "# Merge l1 and l2 in sorted order\n",
    "i, j = 0, 0\n",
    "\n",
    "while i < len(l1) and j < len(l2):\n",
    "    if l1[i] < l2[j]:\n",
    "        result.append(l1[i])\n",
    "        i += 1\n",
    "    else:\n",
    "        result.append(l2[j])\n",
    "        j += 1\n",
    "\n",
    "# Add remaining elements\n",
    "result.extend(l1[i:])\n",
    "result.extend(l2[j:])\n",
    "\n",
    "print(result)  # Output: [11, 22, 33, 44, 44, 55, 66, 77, 99]\n",
    "\n"
   ]
  },
  {
   "cell_type": "code",
   "execution_count": 46,
   "id": "016e6b00",
   "metadata": {},
   "outputs": [
    {
     "name": "stdout",
     "output_type": "stream",
     "text": [
      "[11, 22, 33, 44, 44, 55, 66, 77, 99]\n"
     ]
    }
   ],
   "source": [
    "l1 = [11, 33, 44, 77, 99]\n",
    "l2 = [22, 44, 55, 66]\n",
    "result = []\n",
    "\n",
    "i, j = 0, 0\n",
    "\n",
    "# Iterate using a for loop to merge the lists\n",
    "for _ in range(len(l1) + len(l2)):\n",
    "    if i < len(l1) and (j >= len(l2) or l1[i] < l2[j]):\n",
    "        result.append(l1[i])\n",
    "        i += 1\n",
    "    else:\n",
    "        result.append(l2[j])\n",
    "        j += 1\n",
    "\n",
    "print(result)  # Output: [11, 22, 33, 44, 44, 55, 66, 77, 99]\n",
    "\n"
   ]
  },
  {
   "cell_type": "code",
   "execution_count": 61,
   "id": "caf440b6",
   "metadata": {},
   "outputs": [
    {
     "name": "stdout",
     "output_type": "stream",
     "text": [
      "['G', 'C', ',G', ',CC,', 'G']\n"
     ]
    }
   ],
   "source": [
    "# Q2\n",
    "# determining all l-mers with l = 3\n",
    "sequence = \"GACA,GA,CC,AG\"\n",
    "#sequence_list = [sequence.split() for sequence in sequence]\n",
    "#print(sequence_list)\n",
    "\n",
    "#for slice in sequence:\n",
    "#split_sequence = \n",
    "split_sequence = sequence.split('A')\n",
    "print(split_sequence)\n",
    "#print(sequence)\n",
    "    #sequence_list\n",
    "# involves breaking the elements into three, iterating with the first element after every break\n",
    "# GACAGACCAG i.e GAC, ACA, CAG, etc\n",
    "# slice the sequence after each iteration and print out the value\n",
    "#for slice in sequence:\n",
    "#    print(slice)\n",
    "\n"
   ]
  }
 ],
 "metadata": {
  "kernelspec": {
   "display_name": "Python 3",
   "language": "python",
   "name": "python3"
  },
  "language_info": {
   "codemirror_mode": {
    "name": "ipython",
    "version": 3
   },
   "file_extension": ".py",
   "mimetype": "text/x-python",
   "name": "python",
   "nbconvert_exporter": "python",
   "pygments_lexer": "ipython3",
   "version": "3.11.2"
  }
 },
 "nbformat": 4,
 "nbformat_minor": 5
}
