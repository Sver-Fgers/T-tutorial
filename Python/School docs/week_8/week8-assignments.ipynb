{
 "cells": [
  {
   "cell_type": "code",
   "execution_count": null,
   "metadata": {},
   "outputs": [],
   "source": [
    "# (Q1)\n",
    "# sorting two lists into another list in the right order without using any in-built functions\n",
    "l1 = [11, 33, 44, 77, 99] # List 1\n",
    "l2 = [22, 44, 55, 66] # list 2\n",
    "result = [] # list to hold the sorted list\n",
    "\n",
    "# solution 1 - methods\n",
    "# concatenate both l1 and l2 into result\n",
    "result = l1 + l2\n",
    "print(result)  # [11, 33, 44, 77, 99, 22, 44, 55, 66]\n",
    "\n",
    "# pop the required elements and insert them in the right order\n",
    "# element 22\n",
    "pop_22 = result.pop(5)\n",
    "result.insert(1, pop_22)\n",
    "\n",
    "# element 44\n",
    "# remove the first duplicate of 44\n",
    "result.remove(44)\n",
    "pop_44 = result.pop(5)\n",
    "result.insert(3, pop_44)\n",
    "\n",
    "# element 55\n",
    "pop_55 = result.pop(6)\n",
    "result.insert(4, pop_55)\n",
    "\n",
    "# element 66\n",
    "pop_66 = result.pop(7)\n",
    "result.insert(5, pop_66)\n",
    "print(result)\n",
    "\n",
    " # solution 2 - loops\n",
    " # while loop\n",
    "l1 = [11, 33, 44, 77, 99]\n",
    "l2 = [22, 44, 55, 66]\n",
    "result = []\n",
    "\n",
    "# Merge l1 and l2 in sorted order\n",
    "i, j = 0, 0\n",
    "\n",
    "while i < len(l1) and j < len(l2):\n",
    "    if l1[i] < l2[j]:\n",
    "        result.append(l1[i])\n",
    "        i += 1\n",
    "    else:\n",
    "        result.append(l2[j])\n",
    "        j += 1\n",
    "\n",
    "# Add remaining elements\n",
    "result.extend(l1[i:])\n",
    "result.extend(l2[j:])\n",
    "\n",
    "print(result)  # Output: [11, 22, 33, 44, 44, 55, 66, 77, 99]"
   ]
  },
  {
   "cell_type": "code",
   "execution_count": 2,
   "metadata": {},
   "outputs": [
    {
     "name": "stdout",
     "output_type": "stream",
     "text": [
      "GAC\n",
      "ACA\n",
      "CAG\n",
      "AGA\n",
      "GAC\n",
      "ACC\n",
      "CCA\n",
      "CAG\n",
      "\n",
      "\n",
      "['GAC', 'ACA', 'CAG', 'AGA', 'GAC', 'ACC', 'CCA', 'CAG']\n",
      "GAC\n",
      "ACA\n",
      "CAG\n",
      "AGA\n",
      "GAC\n",
      "ACC\n",
      "CCA\n",
      "CAG\n"
     ]
    }
   ],
   "source": [
    "# Q2\n",
    "sequence = \"GACAGACCAG\"\n",
    "l = 3\n",
    "\n",
    "\n",
    "for i in range(len(sequence) - l + 1): \n",
    "   l_mer = sequence[i:i + l]\n",
    "   print(l_mer)\n",
    "print(\"\\n\")\n",
    "\n",
    "# using list comprehenshion\n",
    "list_sequence = [sequence[i:i+l] for i in range(len(sequence)-l + 1)]\n",
    "print(list_sequence) # print the elements of the list\n",
    "\n",
    "# for loop to print the characters in the index positions\n",
    "for element in range(len(list_sequence)):\n",
    "   print(list_sequence[element])\n"
   ]
  },
  {
   "cell_type": "code",
   "execution_count": 3,
   "metadata": {},
   "outputs": [
    {
     "name": "stdout",
     "output_type": "stream",
     "text": [
      "Sequence: GACAGACCAG\n",
      "l = 3\n",
      "GAC: 2\n",
      "ACA: 1\n",
      "CAG: 2\n",
      "AGA: 1\n",
      "ACC: 1\n",
      "CCA: 1\n"
     ]
    }
   ],
   "source": [
    "# Q3\n",
    "frequencies = {}\n",
    "\n",
    "# Count l-mers using a loop\n",
    "for i in range(len(sequence) - l + 1):\n",
    "    l_mer = sequence[i:i + l]\n",
    "    frequencies[l_mer] = frequencies.get(l_mer, 0) + 1\n",
    "\n",
    "# Print results\n",
    "print(\"Sequence:\", sequence)\n",
    "print(\"l = 3\")\n",
    "for l_mer, freq in frequencies.items():\n",
    "    print(f\"{l_mer}: {freq}\")\n"
   ]
  },
  {
   "cell_type": "code",
   "execution_count": 4,
   "metadata": {},
   "outputs": [
    {
     "name": "stdout",
     "output_type": "stream",
     "text": [
      "Frequencies saved to '3mer_frequencies.txt'\n"
     ]
    }
   ],
   "source": [
    "# Q4\n",
    "# Count l-mers\n",
    "l_mers = [sequence[i:i + l] for i in range(len(sequence) - l + 1)]\n",
    "frequencies = {mer: l_mers.count(mer) for mer in set(l_mers)}\n",
    "\n",
    "# Write to file\n",
    "with open(\"3mer_frequencies.txt\", \"w\") as file:\n",
    "    file.write(f\"Sequence: {sequence}\\n\")\n",
    "    file.write(f\"l = {l}\\n\")\n",
    "    file.write(\"l-mers frequencies:\\n\")\n",
    "    for l_mer, freq in frequencies.items():\n",
    "        file.write(f\"{l_mer}: {freq}\\n\")\n",
    "\n",
    "print(\"Frequencies saved to '3mer_frequencies.txt'\")\n"
   ]
  },
  {
   "cell_type": "code",
   "execution_count": null,
   "metadata": {},
   "outputs": [],
   "source": [
    "# Q5\n",
    "filename = \"cognames.txt\"\n",
    "\n",
    "# Read file and create dictionary\n",
    "cog_dict = {}\n",
    "with open(filename) as file:\n",
    "    for line in file:\n",
    "        parts = line.strip().split(\"\\t\")\n",
    "        COG, func, name = parts[0], parts[1], parts[2]\n",
    "        cog_dict[COG] = (func, name)\n",
    "\n",
    "# Print sorted dictionary in reverse order\n",
    "for cog in sorted(cog_dict.keys(), reverse=True):\n",
    "    func, name = cog_dict[cog]\n",
    "    print(f\"{cog} {func} {name}\")\n"
   ]
  },
  {
   "cell_type": "code",
   "execution_count": null,
   "metadata": {},
   "outputs": [],
   "source": [
    "# Q6\n",
    "COG_input = input(\"Provide a COG ID: \")\n",
    "if COG_input in cog_dict:\n",
    "    func, name = cog_dict[COG_input]\n",
    "    print(f\"{COG_input} ({func}) {name}\")\n",
    "else:\n",
    "    print(f\"{COG_input} not found.\")\n"
   ]
  },
  {
   "cell_type": "code",
   "execution_count": null,
   "metadata": {},
   "outputs": [],
   "source": [
    "# Q7\n",
    "# Filter dictionary for ribosomal proteins\n",
    "for cog, (func, name) in cog_dict.items():\n",
    "    if \"Ribosomal protein\" in name:\n",
    "        print(f\"{cog} {func} {name}\")\n"
   ]
  },
  {
   "cell_type": "code",
   "execution_count": 5,
   "metadata": {},
   "outputs": [
    {
     "ename": "NameError",
     "evalue": "name 'cog_dict' is not defined",
     "output_type": "error",
     "traceback": [
      "\u001b[1;31m---------------------------------------------------------------------------\u001b[0m",
      "\u001b[1;31mNameError\u001b[0m                                 Traceback (most recent call last)",
      "Cell \u001b[1;32mIn[5], line 3\u001b[0m\n\u001b[0;32m      1\u001b[0m \u001b[38;5;66;03m# Q8\u001b[39;00m\n\u001b[0;32m      2\u001b[0m search_text \u001b[38;5;241m=\u001b[39m \u001b[38;5;28minput\u001b[39m(\u001b[38;5;124m\"\u001b[39m\u001b[38;5;124mGene product search text: \u001b[39m\u001b[38;5;124m\"\u001b[39m)\n\u001b[1;32m----> 3\u001b[0m \u001b[38;5;28;01mfor\u001b[39;00m cog, (func, name) \u001b[38;5;129;01min\u001b[39;00m \u001b[43mcog_dict\u001b[49m\u001b[38;5;241m.\u001b[39mitems():\n\u001b[0;32m      4\u001b[0m     \u001b[38;5;28;01mif\u001b[39;00m search_text\u001b[38;5;241m.\u001b[39mlower() \u001b[38;5;129;01min\u001b[39;00m name\u001b[38;5;241m.\u001b[39mlower():\n\u001b[0;32m      5\u001b[0m         \u001b[38;5;28mprint\u001b[39m(\u001b[38;5;124mf\u001b[39m\u001b[38;5;124m\"\u001b[39m\u001b[38;5;132;01m{\u001b[39;00mcog\u001b[38;5;132;01m}\u001b[39;00m\u001b[38;5;124m: (\u001b[39m\u001b[38;5;132;01m{\u001b[39;00mfunc\u001b[38;5;132;01m}\u001b[39;00m\u001b[38;5;124m) \u001b[39m\u001b[38;5;132;01m{\u001b[39;00mname\u001b[38;5;132;01m}\u001b[39;00m\u001b[38;5;124m\"\u001b[39m)\n",
      "\u001b[1;31mNameError\u001b[0m: name 'cog_dict' is not defined"
     ]
    }
   ],
   "source": [
    "# Q8\n",
    "search_text = input(\"Gene product search text: \")\n",
    "for cog, (func, name) in cog_dict.items():\n",
    "    if search_text.lower() in name.lower():\n",
    "        print(f\"{cog}: ({func}) {name}\")\n",
    "\n"
   ]
  },
  {
   "cell_type": "code",
   "execution_count": null,
   "metadata": {},
   "outputs": [],
   "source": [
    "# Q9\n",
    "import re\n",
    "\n",
    "tree = \"((1:0.2,(2:0.33,3:0.4)4:1)5:0.1)6;\"\n",
    "# Find numbers after colons\n",
    "branch_lengths = [float(num) for num in re.findall(r\":([\\d.]+)\", tree)]\n",
    "print(\"The extracted numbers are:\", \", \".join(map(str, branch_lengths)))\n",
    "print(\"The sum of branch lengths is:\", sum(branch_lengths))\n"
   ]
  }
 ],
 "metadata": {
  "kernelspec": {
   "display_name": "Python 3",
   "language": "python",
   "name": "python3"
  },
  "language_info": {
   "codemirror_mode": {
    "name": "ipython",
    "version": 3
   },
   "file_extension": ".py",
   "mimetype": "text/x-python",
   "name": "python",
   "nbconvert_exporter": "python",
   "pygments_lexer": "ipython3",
   "version": "3.11.2"
  }
 },
 "nbformat": 4,
 "nbformat_minor": 2
}
