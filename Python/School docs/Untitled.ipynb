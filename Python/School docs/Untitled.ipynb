{
 "cells": [
  {
   "cell_type": "code",
   "execution_count": null,
   "id": "36d67167-f243-4197-9e41-e6101786db7e",
   "metadata": {},
   "outputs": [],
   "source": [
    "def evaluate_guess(guess, answer):\n",
    "    result = []  # Start with an empty result list\n",
    "    answer_used = [False] * len(answer)  # List to track matched characters in the answer\n",
    "\n",
    "    # Step 1: Check for exact matches (2)\n",
    "    for i in range(len(guess)):\n",
    "        if guess[i] == answer[i]:\n",
    "            result.append(2)  # Exact match\n",
    "            answer_used[i] = True  # Mark this character as matched\n",
    "\n",
    "        else:\n",
    "            result.append(0)  # Placeholder for now\n",
    "\n",
    "    # Step 2: Check for misplaced matches (1)\n",
    "    for i in range(len(guess)):\n",
    "        if result[i] == 0:  # Only check for misplaced matches if it wasn't an exact match\n",
    "            for j in range(len(answer)):\n",
    "                if not answer_used[j] and guess[i] == answer[j]:  # If the character exists and is not used yet\n",
    "                    result[i] = 1  # Misplaced match\n",
    "                    answer_used[j] = True  # Mark this character as used\n",
    "                    break  # Stop searching for this character\n",
    "\n",
    "    return result\n"
   ]
  },
  {
   "cell_type": "code",
   "execution_count": 1,
   "id": "d0dd5876-4f6b-4c41-be93-df0a61d89a6b",
   "metadata": {},
   "outputs": [
    {
     "name": "stdout",
     "output_type": "stream",
     "text": [
      "[0, 2, 2, 2, 2]\n",
      "[2, 0, 0, 2, 2]\n"
     ]
    }
   ],
   "source": [
    "def evaluate_guess(guess, answer):\n",
    "    # Initialize result list\n",
    "    result = [0] * len(guess)\n",
    "    answer_chars = list(answer)  # Convert answer to a list for mutable operations\n",
    "\n",
    "    # Step 1: Check for exact matches (2)\n",
    "    for i in range(len(guess)):\n",
    "        if guess[i] == answer[i]:\n",
    "            result[i] = 2  # Exact match\n",
    "            answer_chars[i] = None  # Remove matched character to avoid duplicate checks\n",
    "\n",
    "    # Step 2: Check for misplaced matches (1)\n",
    "    for i in range(len(guess)):\n",
    "        if result[i] == 0 and guess[i] in answer_chars:  # Check if the letter exists in the remaining answer\n",
    "            result[i] = 1  # Misplaced match\n",
    "            answer_chars[answer_chars.index(guess[i])] = None  # Remove matched character\n",
    "\n",
    "    return result\n",
    "\n",
    "# Test the function\n",
    "print(evaluate_guess('boots', 'roots'))  # Output: [0, 2, 2, 2, 2]\n",
    "print(evaluate_guess('rests', 'roots'))  # Output: [2, 0, 1, 2, 2]\n"
   ]
  },
  {
   "cell_type": "code",
   "execution_count": null,
   "id": "af9f8cdc-a44c-4afd-83f1-a08406661d37",
   "metadata": {},
   "outputs": [],
   "source": [
    "def evaluate_guess(guess, answer):\n",
    "    answer_chars = list(answer)  # Convert answer to a list for mutable operations\n",
    "    result = []  # Start with an empty list\n",
    "\n",
    "    # Step 1: Check for exact matches (2)\n",
    "    for i in range(len(guess)):\n",
    "        if guess[i] == answer[i]:\n",
    "            result.append(2)  # Exact match\n",
    "            answer_chars[i] = None  # Remove matched character\n",
    "        else:\n",
    "            result.append(0)  # Placeholder for now\n",
    "\n",
    "    # Step 2: Check for misplaced matches (1)\n",
    "    for i in range(len(guess)):\n",
    "        if result[i] == 0 and guess[i] in answer_chars:  # Check if the letter exists in the remaining answer\n",
    "            result[i] = 1  # Misplaced match\n",
    "            answer_chars[answer_chars.index(guess[i])] = None  # Remove matched character\n",
    "\n",
    "    return result\n",
    "\n",
    "# Test the function\n",
    "print(evaluate_guess('boots', 'roots'))  # Output: [0, 2, 2, 2, 2]\n",
    "print(evaluate_guess('rests', 'roots'))  # Output: [2, 0, 1, 2, 2]\n"
   ]
  },
  {
   "cell_type": "code",
   "execution_count": 1,
   "id": "af226bc3-8e73-4932-9e38-d8165ae9f235",
   "metadata": {},
   "outputs": [
    {
     "name": "stdout",
     "output_type": "stream",
     "text": [
      "Welcome to the word game! Try to guess the word.\n"
     ]
    },
    {
     "name": "stdin",
     "output_type": "stream",
     "text": [
      "Enter your guess (5-letter word):  test\n"
     ]
    },
    {
     "name": "stdout",
     "output_type": "stream",
     "text": [
      "Please enter a 5-letter word.\n"
     ]
    },
    {
     "name": "stdin",
     "output_type": "stream",
     "text": [
      "Enter your guess (5-letter word):  moons\n"
     ]
    },
    {
     "name": "stdout",
     "output_type": "stream",
     "text": [
      "Result: [0, 2, 2, 0, 2]\n",
      "Try again!\n"
     ]
    },
    {
     "name": "stdin",
     "output_type": "stream",
     "text": [
      "Enter your guess (5-letter word):  roots\n"
     ]
    },
    {
     "name": "stdout",
     "output_type": "stream",
     "text": [
      "Result: [0, 2, 2, 0, 2]\n",
      "Try again!\n"
     ]
    },
    {
     "name": "stdin",
     "output_type": "stream",
     "text": [
      "Enter your guess (5-letter word):  loops\n"
     ]
    },
    {
     "name": "stdout",
     "output_type": "stream",
     "text": [
      "Result: [2, 2, 2, 2, 2]\n",
      "Congratulations! You guessed the word: loops\n"
     ]
    }
   ],
   "source": [
    "import random\n",
    "\n",
    "# Word list\n",
    "words = ['biome', 'bases', 'lyase', 'zymin', 'roots', 'sample', 'local', 'loops']\n",
    "\n",
    "# Function to choose a random word\n",
    "def random_word():\n",
    "    choosen_word = random.choice(words)\n",
    "    return choosen_word\n",
    "\n",
    "# Function to evaluate the guess\n",
    "def evaluate_guess(guess, answer):\n",
    "    answer_chars = list(answer)  # Convert answer to a list for mutable operations\n",
    "    result = []  # Start with an empty list\n",
    "\n",
    "    # Step 1: Check for exact matches (2)\n",
    "    for i in range(len(guess)):\n",
    "        if guess[i] == answer[i]:\n",
    "            result.append(2)  # Exact match\n",
    "            answer_chars[i] = None  # Remove matched character\n",
    "        else:\n",
    "            result.append(0)  # Placeholder for now\n",
    "\n",
    "    # Step 2: Check for misplaced matches (1)\n",
    "    for i in range(len(guess)):\n",
    "        if result[i] == 0 and guess[i] in answer_chars:  # Check if the letter exists in the remaining answer\n",
    "            result[i] = 1  # Misplaced match\n",
    "            answer_chars[answer_chars.index(guess[i])] = None  # Remove matched character\n",
    "\n",
    "    return result\n",
    "\n",
    "# Main game function\n",
    "def play_game():\n",
    "    answer = random_word()  # Randomly select the answer\n",
    "    print(\"Welcome to the word game! Try to guess the word.\")\n",
    "    \n",
    "    while True:\n",
    "        guess = input(\"Enter your guess (5-letter word): \").lower()\n",
    "        \n",
    "        # Check for valid input length\n",
    "        if len(guess) != 5:\n",
    "            print(\"Please enter a 5-letter word.\")\n",
    "            continue\n",
    "        \n",
    "        # Evaluate the guess\n",
    "        result = evaluate_guess(guess, answer)\n",
    "        print(\"Result:\", result)\n",
    "        \n",
    "        if result == [2, 2, 2, 2, 2]:  # Check if the guess is correct\n",
    "            print(\"Congratulations! You guessed the word:\", answer)\n",
    "            break\n",
    "        else:\n",
    "            print(\"Try again!\")\n",
    "\n",
    "# Start the game\n",
    "play_game()\n"
   ]
  }
 ],
 "metadata": {
  "kernelspec": {
   "display_name": "Python 3 (ipykernel)",
   "language": "python",
   "name": "python3"
  },
  "language_info": {
   "codemirror_mode": {
    "name": "ipython",
    "version": 3
   },
   "file_extension": ".py",
   "mimetype": "text/x-python",
   "name": "python",
   "nbconvert_exporter": "python",
   "pygments_lexer": "ipython3",
   "version": "3.11.2"
  }
 },
 "nbformat": 4,
 "nbformat_minor": 5
}
