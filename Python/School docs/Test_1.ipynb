{
 "cells": [
  {
   "cell_type": "code",
   "execution_count": 21,
   "id": "26c69f50-af83-4247-86ab-48ef2be70dd6",
   "metadata": {},
   "outputs": [
    {
     "data": {
      "text/plain": [
       "['ArithmeticError',\n",
       " 'AssertionError',\n",
       " 'AttributeError',\n",
       " 'BaseException',\n",
       " 'BaseExceptionGroup',\n",
       " 'BlockingIOError',\n",
       " 'BrokenPipeError',\n",
       " 'BufferError',\n",
       " 'BytesWarning',\n",
       " 'ChildProcessError',\n",
       " 'ConnectionAbortedError',\n",
       " 'ConnectionError',\n",
       " 'ConnectionRefusedError',\n",
       " 'ConnectionResetError',\n",
       " 'DeprecationWarning',\n",
       " 'EOFError',\n",
       " 'Ellipsis',\n",
       " 'EncodingWarning',\n",
       " 'EnvironmentError',\n",
       " 'Exception',\n",
       " 'ExceptionGroup',\n",
       " 'False',\n",
       " 'FileExistsError',\n",
       " 'FileNotFoundError',\n",
       " 'FloatingPointError',\n",
       " 'FutureWarning',\n",
       " 'GeneratorExit',\n",
       " 'IOError',\n",
       " 'ImportError',\n",
       " 'ImportWarning',\n",
       " 'IndentationError',\n",
       " 'IndexError',\n",
       " 'InterruptedError',\n",
       " 'IsADirectoryError',\n",
       " 'KeyError',\n",
       " 'KeyboardInterrupt',\n",
       " 'LookupError',\n",
       " 'MemoryError',\n",
       " 'ModuleNotFoundError',\n",
       " 'NameError',\n",
       " 'None',\n",
       " 'NotADirectoryError',\n",
       " 'NotImplemented',\n",
       " 'NotImplementedError',\n",
       " 'OSError',\n",
       " 'OverflowError',\n",
       " 'PendingDeprecationWarning',\n",
       " 'PermissionError',\n",
       " 'ProcessLookupError',\n",
       " 'RecursionError',\n",
       " 'ReferenceError',\n",
       " 'ResourceWarning',\n",
       " 'RuntimeError',\n",
       " 'RuntimeWarning',\n",
       " 'StopAsyncIteration',\n",
       " 'StopIteration',\n",
       " 'SyntaxError',\n",
       " 'SyntaxWarning',\n",
       " 'SystemError',\n",
       " 'SystemExit',\n",
       " 'TabError',\n",
       " 'TimeoutError',\n",
       " 'True',\n",
       " 'TypeError',\n",
       " 'UnboundLocalError',\n",
       " 'UnicodeDecodeError',\n",
       " 'UnicodeEncodeError',\n",
       " 'UnicodeError',\n",
       " 'UnicodeTranslateError',\n",
       " 'UnicodeWarning',\n",
       " 'UserWarning',\n",
       " 'ValueError',\n",
       " 'Warning',\n",
       " 'WindowsError',\n",
       " 'ZeroDivisionError',\n",
       " '__IPYTHON__',\n",
       " '__build_class__',\n",
       " '__debug__',\n",
       " '__doc__',\n",
       " '__import__',\n",
       " '__loader__',\n",
       " '__name__',\n",
       " '__package__',\n",
       " '__spec__',\n",
       " 'abs',\n",
       " 'aiter',\n",
       " 'all',\n",
       " 'anext',\n",
       " 'any',\n",
       " 'ascii',\n",
       " 'bin',\n",
       " 'bool',\n",
       " 'breakpoint',\n",
       " 'bytearray',\n",
       " 'bytes',\n",
       " 'callable',\n",
       " 'chr',\n",
       " 'classmethod',\n",
       " 'compile',\n",
       " 'complex',\n",
       " 'copyright',\n",
       " 'credits',\n",
       " 'delattr',\n",
       " 'dict',\n",
       " 'dir',\n",
       " 'display',\n",
       " 'divmod',\n",
       " 'enumerate',\n",
       " 'eval',\n",
       " 'exec',\n",
       " 'execfile',\n",
       " 'filter',\n",
       " 'float',\n",
       " 'format',\n",
       " 'frozenset',\n",
       " 'get_ipython',\n",
       " 'getattr',\n",
       " 'globals',\n",
       " 'hasattr',\n",
       " 'hash',\n",
       " 'help',\n",
       " 'hex',\n",
       " 'id',\n",
       " 'input',\n",
       " 'int',\n",
       " 'isinstance',\n",
       " 'issubclass',\n",
       " 'iter',\n",
       " 'len',\n",
       " 'license',\n",
       " 'list',\n",
       " 'locals',\n",
       " 'map',\n",
       " 'max',\n",
       " 'memoryview',\n",
       " 'min',\n",
       " 'next',\n",
       " 'object',\n",
       " 'oct',\n",
       " 'open',\n",
       " 'ord',\n",
       " 'pow',\n",
       " 'print',\n",
       " 'property',\n",
       " 'range',\n",
       " 'repr',\n",
       " 'reversed',\n",
       " 'round',\n",
       " 'runfile',\n",
       " 'set',\n",
       " 'setattr',\n",
       " 'slice',\n",
       " 'sorted',\n",
       " 'staticmethod',\n",
       " 'str',\n",
       " 'sum',\n",
       " 'super',\n",
       " 'tuple',\n",
       " 'type',\n",
       " 'vars',\n",
       " 'zip']"
      ]
     },
     "execution_count": 21,
     "metadata": {},
     "output_type": "execute_result"
    }
   ],
   "source": [
    "dir(__builtins__)"
   ]
  },
  {
   "cell_type": "code",
   "execution_count": 14,
   "id": "7bf6e907-986a-4a9a-b225-9219b7a8544c",
   "metadata": {},
   "outputs": [
    {
     "ename": "SyntaxError",
     "evalue": "incomplete input (317250881.py, line 2)",
     "output_type": "error",
     "traceback": [
      "\u001b[1;36m  Cell \u001b[1;32mIn[14], line 2\u001b[1;36m\u001b[0m\n\u001b[1;33m    print(\"Hello, World!\" # single line statement\u001b[0m\n\u001b[1;37m                                                 ^\u001b[0m\n\u001b[1;31mSyntaxError\u001b[0m\u001b[1;31m:\u001b[0m incomplete input\n"
     ]
    }
   ],
   "source": [
    "# Syntax Error: Missing closing parenthesis\n",
    "print(\"Hello, World!\" # single line statement\n"
   ]
  },
  {
   "cell_type": "code",
   "execution_count": 16,
   "id": "62d9f9e4-8cd8-4674-afe8-cf941e4c95de",
   "metadata": {},
   "outputs": [
    {
     "name": "stdout",
     "output_type": "stream",
     "text": [
      "The average is: 7.5\n"
     ]
    }
   ],
   "source": [
    "# Logical Error: The program is supposed to calculate the average of two numbers\n",
    "a = 5\n",
    "b = 10\n",
    "average = (a + b) / 2  # Incorrect calculation, should be (a + b) / 2\n",
    "print(\"The average is:\", average)\n"
   ]
  },
  {
   "cell_type": "code",
   "execution_count": null,
   "id": "cf5e4a0e-3a18-483e-85da-5296854ceef2",
   "metadata": {},
   "outputs": [],
   "source": [
    "# Runtime Error: Division by zero\n",
    "a = 10\n",
    "b = 0\n",
    "result = a / b  # This will cause a ZeroDivisionError\n",
    "print(\"Result:\", result)\n"
   ]
  },
  {
   "cell_type": "code",
   "execution_count": null,
   "id": "0b8fd50b-8d07-45f8-aede-cea3bd6e2fe4",
   "metadata": {},
   "outputs": [],
   "source": [
    "# Time Limit Exceeded: Infinite loop\n",
    "while True:\n",
    "    pass  # Infinite loop that will run indefinitely\n"
   ]
  },
  {
   "cell_type": "code",
   "execution_count": 13,
   "id": "36ae7170-7dc6-44ab-b8d4-ee6b9d1f8dac",
   "metadata": {},
   "outputs": [
    {
     "name": "stdout",
     "output_type": "stream",
     "text": [
      "i am a boy i am a man\n"
     ]
    }
   ],
   "source": [
    "# order of operation ( precedence level)\n",
    "#2+3*4-8/9**4\n",
    "\n",
    "new = \"i am a boy\"\n",
    "old = \" i am a man\" \n",
    "print(new+old)\n",
    "\n",
    "\n"
   ]
  },
  {
   "cell_type": "code",
   "execution_count": 8,
   "id": "4130174b-6d47-408b-b83c-7d21ca08d3e4",
   "metadata": {},
   "outputs": [
    {
     "data": {
      "text/plain": [
       "'\\n(2**3) is evaluated first i.e 2x2x2 = 8\\nthen (5-8) = -3\\nthen 3*4 = 12\\nwhich is then -3 + 12 - 8\\n+ has a higher level than - so it is evaluated first -3 + 12 = 9\\nthen 9 - 8 = 1 as the final answer\\n'"
      ]
     },
     "execution_count": 8,
     "metadata": {},
     "output_type": "execute_result"
    }
   ],
   "source": [
    "# specifying precedence level\n",
    "\n",
    "(5-8)+3*4-(2**3)\n",
    "\n",
    "'''\n",
    "(2**3) is evaluated first i.e 2x2x2 = 8\n",
    "then (5-8) = -3\n",
    "then 3*4 = 12\n",
    "which is then -3 + 12 - 8\n",
    "+ has a higher level than - so it is evaluated first -3 + 12 = 9\n",
    "then 9 - 8 = 1 as the final answer\n",
    "'''"
   ]
  },
  {
   "cell_type": "code",
   "execution_count": null,
   "id": "ecdb70c8-fab2-4fb7-a024-204666e7d819",
   "metadata": {},
   "outputs": [],
   "source": []
  },
  {
   "cell_type": "code",
   "execution_count": 4,
   "id": "6d16b335-9ddc-4553-bf57-a1cbefbacf8c",
   "metadata": {},
   "outputs": [
    {
     "ename": "IndentationError",
     "evalue": "expected an indented block after 'if' statement on line 3 (1116842586.py, line 4)",
     "output_type": "error",
     "traceback": [
      "\u001b[1;36m  Cell \u001b[1;32mIn[4], line 4\u001b[1;36m\u001b[0m\n\u001b[1;33m    print (\"no\")\u001b[0m\n\u001b[1;37m    ^\u001b[0m\n\u001b[1;31mIndentationError\u001b[0m\u001b[1;31m:\u001b[0m expected an indented block after 'if' statement on line 3\n"
     ]
    }
   ],
   "source": [
    "#condition\n",
    "\n",
    "if 5 > 3:\n",
    "print (\"no\")"
   ]
  },
  {
   "cell_type": "code",
   "execution_count": null,
   "id": "52adc63f-df7a-49c3-bab6-ef1ac543a790",
   "metadata": {},
   "outputs": [],
   "source": [
    "for variable name in range( number of times to repeat ):\n",
    "    statements to be repeated\n",
    "\n",
    "range(start, stop)\n"
   ]
  },
  {
   "cell_type": "code",
   "execution_count": 10,
   "id": "39ff2409-fcdf-4947-8312-83aa18bd493e",
   "metadata": {},
   "outputs": [
    {
     "data": {
      "text/plain": [
       "[1, 2, 3, 4]"
      ]
     },
     "execution_count": 10,
     "metadata": {},
     "output_type": "execute_result"
    }
   ],
   "source": [
    "nums = [1, 2, 3, 4]\n",
    "nums"
   ]
  },
  {
   "cell_type": "code",
   "execution_count": 11,
   "id": "fe7770fa-8a29-49b3-92ad-a4310da2eed2",
   "metadata": {},
   "outputs": [
    {
     "data": {
      "text/plain": [
       "[1, 2, 3, 4]"
      ]
     },
     "execution_count": 11,
     "metadata": {},
     "output_type": "execute_result"
    }
   ],
   "source": [
    "nums"
   ]
  },
  {
   "cell_type": "code",
   "execution_count": 12,
   "id": "f17a833e-0c38-4e23-9ba2-bd63c3cff927",
   "metadata": {},
   "outputs": [
    {
     "data": {
      "text/plain": [
       "[1, 3, 4]"
      ]
     },
     "execution_count": 12,
     "metadata": {},
     "output_type": "execute_result"
    }
   ],
   "source": [
    "nums.remove(2)\n",
    "nums"
   ]
  },
  {
   "cell_type": "code",
   "execution_count": 13,
   "id": "838b9fd1-61ea-4a21-a895-6a19875792c2",
   "metadata": {},
   "outputs": [
    {
     "data": {
      "text/plain": [
       "[1, 3]"
      ]
     },
     "execution_count": 13,
     "metadata": {},
     "output_type": "execute_result"
    }
   ],
   "source": [
    "nums.remove(4)\n",
    "nums"
   ]
  },
  {
   "cell_type": "code",
   "execution_count": 15,
   "id": "6031edbc-567e-481d-8bc9-2f8b53ffaa62",
   "metadata": {},
   "outputs": [
    {
     "name": "stdout",
     "output_type": "stream",
     "text": [
      "hello HELLO\n"
     ]
    }
   ],
   "source": [
    "my_string = \"hello\"\n",
    "new_string = my_string.upper()  # \"HELLO\", but my_string is still \"hello\"\n",
    "print(my_string, new_string)"
   ]
  },
  {
   "cell_type": "code",
   "execution_count": 16,
   "id": "5da67caa-b800-444d-aedc-fa3e402d5f33",
   "metadata": {},
   "outputs": [
    {
     "data": {
      "text/plain": [
       "[1, 4, 3]"
      ]
     },
     "execution_count": 16,
     "metadata": {},
     "output_type": "execute_result"
    }
   ],
   "source": [
    "nums.insert(1, 4)\n",
    "nums"
   ]
  },
  {
   "cell_type": "code",
   "execution_count": 1,
   "id": "f1401b99-c13f-425a-bbc6-5a77af130bc2",
   "metadata": {},
   "outputs": [
    {
     "name": "stdout",
     "output_type": "stream",
     "text": [
      "Don't panic!\n",
      "['D', 'o', 'n', \"'\", 't', ' ', 'p', 'a', 'n', 'i', 'c', '!']\n",
      "['o', 'n', 't', 'p', 'a', 'n']\n"
     ]
    },
    {
     "ename": "NameError",
     "evalue": "name 'new_phrase' is not defined",
     "output_type": "error",
     "traceback": [
      "\u001b[1;31m---------------------------------------------------------------------------\u001b[0m",
      "\u001b[1;31mNameError\u001b[0m                                 Traceback (most recent call last)",
      "Cell \u001b[1;32mIn[1], line 48\u001b[0m\n\u001b[0;32m     30\u001b[0m \u001b[38;5;124;03m\"\"\"\u001b[39;00m\n\u001b[0;32m     31\u001b[0m \u001b[38;5;124;03m# method 2\u001b[39;00m\n\u001b[0;32m     32\u001b[0m \u001b[38;5;124;03mfor i in range(4):\u001b[39;00m\n\u001b[1;32m   (...)\u001b[0m\n\u001b[0;32m     44\u001b[0m \u001b[38;5;124;03mnew_phrase = ''.join(plist)\u001b[39;00m\n\u001b[0;32m     45\u001b[0m \u001b[38;5;124;03m\"\"\"\u001b[39;00m\n\u001b[0;32m     47\u001b[0m \u001b[38;5;28mprint\u001b[39m(plist)\n\u001b[1;32m---> 48\u001b[0m \u001b[38;5;28mprint\u001b[39m(\u001b[43mnew_phrase\u001b[49m)\n",
      "\u001b[1;31mNameError\u001b[0m: name 'new_phrase' is not defined"
     ]
    }
   ],
   "source": [
    "phrase = \"Don't panic!\"\n",
    "plist = list(phrase)\n",
    "print(phrase)\n",
    "print(plist)\n",
    "\n",
    "# method 1\n",
    "# remove this letters from the list\n",
    "for letter in [\"D\",\"'\",\"i\",\"c\",\"!\",\" \"]:\n",
    "    plist.remove(letter)\n",
    "\n",
    "# remove the last two values\n",
    "for i in range (2):\n",
    "    plist.pop()\n",
    "\n",
    "# insert \"a\" in position 3 to create on tap \n",
    "plist.insert(3, \"a\")\n",
    "\n",
    "# convert the list to a string\n",
    "new_string= \"\".join(plist)\n",
    "new_string= new_string[:2] + \" \" + new_string[2:]\n",
    "\n",
    "# print out the list and the string\n",
    "print(plist)\n",
    "print(new_string) \n",
    "\"\"\"\n",
    "\n",
    "\"\"\"\n",
    "# method 2\n",
    "for i in range(4):\n",
    "    plist.pop()\n",
    "plist.pop(0)\n",
    "plist.remove(\"'\")\n",
    "plist.extend([plist.pop(), plist.pop()])\n",
    "plist.insert(2, plist.pop(3))\n",
    "new_phrase = ''.join(plist)\n",
    "\n",
    "# method 3\n",
    "new_phrase = ''.join(plist[1:3])\n",
    "new_phrase = new_phrase + ''.join([plist[5], plist[4], plist[7], plist[6]])\n",
    "new_phrase = ''.join(plist)\n",
    "\n",
    "\"\"\"\n",
    "\n",
    "print(plist)\n",
    "print(new_phrase)"
   ]
  },
  {
   "cell_type": "code",
   "execution_count": 10,
   "id": "df1f7ea4-83a3-4ed7-bf20-aeb3272e2375",
   "metadata": {},
   "outputs": [
    {
     "name": "stdout",
     "output_type": "stream",
     "text": [
      "['D', 'o', 'n', \"'\", 't', ' ', 'p', 'a']\n"
     ]
    }
   ],
   "source": [
    "phrase = \"Don't panic!\"\n",
    "plist = list(phrase)\n",
    "for i in range(4):\n",
    "    plist.pop()\n",
    "#plist.pop(0)\n",
    "#plist.remove(\"'\")\n",
    "#plist.extend([plist.pop(), plist.pop()])\n",
    "#plist.insert(2, plist.pop(3))\n",
    "print(plist)"
   ]
  },
  {
   "cell_type": "code",
   "execution_count": 12,
   "id": "c8ad9a6a-c02f-44ee-bd26-e76302607579",
   "metadata": {},
   "outputs": [
    {
     "name": "stdout",
     "output_type": "stream",
     "text": [
      "[1, 2, 3, 4, 5, 6, 7]\n"
     ]
    }
   ],
   "source": [
    "my_list = [1,2,3,4]\n",
    "my_list.extend([5,6, 7])\n",
    "print(my_list)"
   ]
  },
  {
   "cell_type": "code",
   "execution_count": 59,
   "id": "41c5fdfb-869f-4fb2-9c2a-ee724aeb754e",
   "metadata": {},
   "outputs": [
    {
     "data": {
      "text/plain": [
       "\"The Hitchhiker's Guide to the Galaxy\""
      ]
     },
     "execution_count": 59,
     "metadata": {},
     "output_type": "execute_result"
    }
   ],
   "source": [
    "#saying = \"Don't panic!\"\n",
    "#letters = list(saying)\n",
    "#letters[::2]\n",
    "\n",
    "book = \"The Hitchhiker's Guide to the Galaxy\"\n",
    "booklist=list(book)\n",
    "backwards = booklist[::-1]\n",
    "\"\".join(backwards)\n"
   ]
  },
  {
   "cell_type": "code",
   "execution_count": 13,
   "id": "484bd771-a88e-4562-96c6-7a54360d456c",
   "metadata": {},
   "outputs": [
    {
     "name": "stdout",
     "output_type": "stream",
     "text": [
      "{'a': 0, 'b': 0, 'c': 0}\n"
     ]
    }
   ],
   "source": [
    "keys = ['a', 'b', 'c']\n",
    "new_dict = dict.fromkeys(keys, 0) \n",
    "print(new_dict)  # Output: {'a': 0, 'b': 0, 'c': 0}\n",
    "\n"
   ]
  },
  {
   "cell_type": "code",
   "execution_count": 14,
   "id": "07922059-b222-4a32-958d-789599a0e095",
   "metadata": {},
   "outputs": [
    {
     "name": "stdout",
     "output_type": "stream",
     "text": [
      "1\n",
      "Not Found\n"
     ]
    }
   ],
   "source": [
    "my_dict = {'a': 1, 'b': 2}\n",
    "print(my_dict.get('a'))  # Output: 1\n",
    "print(my_dict.get('c', 'Not Found'))  # Output: Not Found\n"
   ]
  },
  {
   "cell_type": "code",
   "execution_count": 15,
   "id": "eda9f8c6-a580-4ce3-883a-1e49d6d3d58d",
   "metadata": {},
   "outputs": [
    {
     "name": "stdout",
     "output_type": "stream",
     "text": [
      "1\n",
      "{'b': 2}\n"
     ]
    }
   ],
   "source": [
    "my_dict = {'a': 1, 'b': 2}\n",
    "print(my_dict.pop('a'))  # Output: 1\n",
    "print(my_dict)  # Output: {'b': 2}\n"
   ]
  },
  {
   "cell_type": "code",
   "execution_count": null,
   "id": "cac12cf5-88cd-4e7b-b90f-e6aff61fc160",
   "metadata": {},
   "outputs": [],
   "source": [
    "my_dict = {'a': 1}\n",
    "my_dict.update({'b': 2, 'c': 3})\n",
    "print(my_dict)  # Output: {'a': 1, 'b': 2, 'c': 3}\n"
   ]
  },
  {
   "cell_type": "code",
   "execution_count": 4,
   "id": "c4e4bd80-99ad-42e3-b328-030a21d3cd89",
   "metadata": {},
   "outputs": [
    {
     "name": "stdout",
     "output_type": "stream",
     "text": [
      "{97: 1, 98: 2, 99: 3, 100: 4}\n"
     ]
    }
   ],
   "source": [
    "# Function to populate a dictionary\n",
    "\n",
    "my_dict = {}  # Start with an empty dictionary\n",
    "\n",
    "def populate_dict():\n",
    "    for i in range(1,5):  # Loop from 1 to 5\n",
    "        key =  chr(96 + i) # Convert numbers to letters ('a', 'b', 'c', ...)\n",
    "        value = i  # Use the loop index as the value\n",
    "        my_dict.update({key: value})  # Update the dictionary with the new key-value pair\n",
    "    return my_dict\n",
    "\n",
    "# Call the function\n",
    "result = populate_dict()\n",
    "print(result)  # Output: {'a': 1, 'b': 2, 'c': 3, 'd': 4, 'e': 5}\n"
   ]
  },
  {
   "cell_type": "code",
   "execution_count": 1,
   "id": "9eb39a09-b932-45cf-b4f3-8fac601e2e2f",
   "metadata": {},
   "outputs": [
    {
     "name": "stdout",
     "output_type": "stream",
     "text": [
      "[1, 2, 3, 4]\n",
      "99\n"
     ]
    }
   ],
   "source": []
  }
 ],
 "metadata": {
  "kernelspec": {
   "display_name": "Python 3 (ipykernel)",
   "language": "python",
   "name": "python3"
  },
  "language_info": {
   "codemirror_mode": {
    "name": "ipython",
    "version": 3
   },
   "file_extension": ".py",
   "mimetype": "text/x-python",
   "name": "python",
   "nbconvert_exporter": "python",
   "pygments_lexer": "ipython3",
   "version": "3.11.2"
  }
 },
 "nbformat": 4,
 "nbformat_minor": 5
}
