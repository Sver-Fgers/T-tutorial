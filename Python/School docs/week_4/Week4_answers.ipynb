{
 "cells": [
  {
   "cell_type": "markdown",
   "metadata": {},
   "source": [
    "### 1a. Commenting Variables and Steps\n",
    "\n",
    "Here is a revised version of the code with comments explaining each variable and specifying which are local or global:"
   ]
  },
  {
   "cell_type": "code",
   "execution_count": 556,
   "metadata": {},
   "outputs": [
    {
     "name": "stdout",
     "output_type": "stream",
     "text": [
      "Average treatment counts per RNA sequence: [121.0, 515.0, 180.0, 250.0, 500.0, 1.33, 301.67, 131.0, 531.67, 112.67]\n",
      "Average control counts per RNA sequence: [141.0, 287.67, 178.67, 246.67, 300.0, 1.0, 301.67, 150.0, 308.33, 134.67]\n",
      "Average count for control experiment: 204.8 total counts: 2048\n",
      "Average count for control experiment: 203.8 total counts: 2038\n",
      "Average count for control experiment: 206.3 total counts: 2063\n",
      "Average count for treatment experiment: 264.2 total counts: 2642\n",
      "Average count for treatment experiment: 267.0 total counts: 2670\n",
      "Average count for treatment experiment: 262.1 total counts: 2621\n"
     ]
    }
   ],
   "source": [
    "# Global variable: List of RNA sequences to analyze\n",
    "rna_sequences = [\n",
    "    'GGGCUAGCGUAUCGAUGCUA', 'CGCUAUAAAUGCGUAGGUC', 'CUAGCGGUAAUCGCAUUA', \n",
    "    'AUGCUAGGCUAUUAGCGA', 'UAGGCAUAAAGGCUAUGC', 'CUAGCGGUAAUCGCAUU', \n",
    "    'GCUAUGCAGGCAAUUGCUA', 'GGGCCGUAUCGAUGCUAGCGUAC', 'AGGCGAUAUAAACGCUUA', 'GGGCGGUCAUUAACGGAUUUGA'\n",
    "]\n",
    "\n",
    "# Global variables: Each treatment and control list contains expression counts of each gene under respective conditions\n",
    "treatment_1 = [120, 520, 180, 250, 500, 2, 300, 130, 530, 110] # List of expression counts for treatment 1\n",
    "treatment_2 = [125, 510, 185, 245, 505, 0, 310, 135, 540, 115] # List of expression counts for treatment 2\n",
    "treatment_3 = [118, 515, 175, 255, 495, 2, 295, 128, 525, 113] # List of expression counts for treatment 3\n",
    "\n",
    "control_1 = [140, 290, 178, 240, 300, 0, 305, 150, 310, 135]    # List of expression counts for control 1\n",
    "control_2 = [145, 285, 182, 248, 295, 0, 298, 148, 300, 137]    # List of expression counts for control 2\n",
    "control_3 = [138, 288, 176, 252, 305, 3, 302, 152, 315, 132]    # List of expression counts for control 3\n",
    "\n",
    "# Function to calculate average counts for each gene in the treatment group\n",
    "def process_treatment_counts():\n",
    "    total_treatment_counts = []  # Local variable: stores average counts per gene for treatment\n",
    "    for i in range(len(rna_sequences)):\n",
    "        # Local variable: average count of a gene across all treatment replicates\n",
    "        average_count = (treatment_1[i] + treatment_2[i] + treatment_3[i]) / 3 \n",
    "        total_treatment_counts.append(average_count)  # Append average to the list\n",
    "    # Print average treatment counts with 2 decimal places\n",
    "    print(f\"Average treatment counts per RNA sequence: {[round(count, 2) for count in total_treatment_counts]}\")\n",
    "\n",
    "# Function to calculate average counts for each gene in the control group\n",
    "def process_control_counts():\n",
    "    total_control_counts = []  # Local variable: stores average counts per gene for control\n",
    "    for i in range(len(rna_sequences)):\n",
    "        # Local variable: average count of a gene across all control replicates\n",
    "        average_count = (control_1[i] + control_2[i] + control_3[i]) / 3\n",
    "        total_control_counts.append(average_count)  # Append average to the list\n",
    "    # Print average control counts with 2 decimal places\n",
    "    print(f\"Average control counts per RNA sequence: {[round(count, 2) for count in total_control_counts]}\")\n",
    "\n",
    "# Function to calculate the average count across a single experiment (either control or treatment)\n",
    "def calculate_average_count_per_experiment(expression_counts, experiment_type):\n",
    "    total_counts = 0  # Local variable: stores the sum of counts in one experiment\n",
    "    for count in expression_counts:\n",
    "        total_counts += count  # Sum all counts in the experiment\n",
    "    # Local variable: average count for the experiment\n",
    "    average_count = total_counts / len(expression_counts)\n",
    "    # Print average count with 2 decimal places\n",
    "    print(f\"Average count for {experiment_type} experiment: {round(average_count, 2)} total counts: {total_counts}\")\n",
    "\n",
    "# Run functions for processing treatment and control counts\n",
    "process_treatment_counts()\n",
    "process_control_counts()\n",
    "\n",
    "# Calculate and print average counts for each control and treatment replicate\n",
    "for control_experiment in [control_1, control_2, control_3]:\n",
    "    calculate_average_count_per_experiment(control_experiment, 'control')\n",
    "for treatment_experiment in [treatment_1, treatment_2, treatment_3]:\n",
    "    calculate_average_count_per_experiment(treatment_experiment, 'treatment')\n"
   ]
  },
  {
   "cell_type": "markdown",
   "metadata": {},
   "source": [
    "### 1c. Observing Data Anomalies\n",
    "\n",
    "One of the sequences (index 5) has consistently very low counts in both control and treatment groups (0 or 2), which might indicate an error in sequencing, such as incomplete reads. This sequence may need to be examined further or excluded from analysis if it's an outlier."
   ]
  },
  {
   "cell_type": "markdown",
   "metadata": {},
   "source": [
    "Exercise 2: Comparing Sequences for Similarity\n",
    "2a. Calculating Similarity Between Sequences"
   ]
  },
  {
   "cell_type": "code",
   "execution_count": 557,
   "metadata": {},
   "outputs": [
    {
     "name": "stdout",
     "output_type": "stream",
     "text": [
      "Sequences 2 and 5 are 97.14% similar:\n",
      "  CUAGCGGUAAUCGCAUUA\n",
      "  CUAGCGGUAAUCGCAUU\n",
      "\n"
     ]
    }
   ],
   "source": [
    "from difflib import SequenceMatcher\n",
    "\n",
    "# Function to compare similarity between all sequences and print pairs with >90% similarity\n",
    "def find_similar_sequences(sequences, threshold=0.9):\n",
    "    for seq_1_index in range(len(sequences)):\n",
    "        for seq_2_index in range(seq_1_index + 1, len(sequences)):\n",
    "            similarity = SequenceMatcher(None, sequences[seq_1_index], sequences[seq_2_index]).ratio()\n",
    "            if similarity > threshold:\n",
    "                print(f\"Sequences {seq_1_index} and {seq_2_index} are {similarity*100:.2f}% similar:\\n  {sequences[seq_1_index]}\\n  {sequences[seq_2_index]}\\n\")\n",
    "    \n",
    "find_similar_sequences(rna_sequences)\n"
   ]
  },
  {
   "cell_type": "markdown",
   "metadata": {},
   "source": [
    "### 2b. List Comprehension (Optional)\n",
    "\n",
    "You could use a list comprehension to generate the list of similar pairs instead of printing them directly."
   ]
  },
  {
   "cell_type": "code",
   "execution_count": 558,
   "metadata": {},
   "outputs": [
    {
     "name": "stdout",
     "output_type": "stream",
     "text": [
      "Similar sequences found: [('CUAGCGGUAAUCGCAUUA', 'CUAGCGGUAAUCGCAUU', 0.9714285714285714)]\n"
     ]
    }
   ],
   "source": [
    "def find_similar_sequences(sequences, threshold=0.9):\n",
    "    similarity = [(rna_sequences[seq_1_index], rna_sequences[seq_2_index], SequenceMatcher(None, rna_sequences[seq_1_index], rna_sequences[seq_2_index]).ratio()) for seq_1_index in range(len(rna_sequences)) for seq_2_index in range(seq_1_index + 1, len(rna_sequences)) if SequenceMatcher(None, rna_sequences[seq_1_index], rna_sequences[seq_2_index]).ratio() > 0.9]\n",
    "    if similarity:\n",
    "        print(f\"Similar sequences found: {similarity}\")\n",
    "find_similar_sequences(rna_sequences)"
   ]
  },
  {
   "cell_type": "markdown",
   "metadata": {},
   "source": [
    "### Exercise 3: Analyzing Expression Ratios Between Treatment and Control"
   ]
  },
  {
   "cell_type": "code",
   "execution_count": 559,
   "metadata": {},
   "outputs": [
    {
     "name": "stdout",
     "output_type": "stream",
     "text": [
      "Gene 0 - Treatment: 121.00, Control: 141.00, Fold Change: 0.86\n",
      "Gene 1 - Treatment: 515.00, Control: 287.67, Fold Change: 1.79\n",
      "Gene 2 - Treatment: 180.00, Control: 178.67, Fold Change: 1.01\n",
      "Gene 3 - Treatment: 250.00, Control: 246.67, Fold Change: 1.01\n",
      "Gene 4 - Treatment: 500.00, Control: 300.00, Fold Change: 1.67\n",
      "Gene 5 - Treatment: 1.33, Control: 1.00, Fold Change: 1.33\n",
      "Gene 6 - Treatment: 301.67, Control: 301.67, Fold Change: 1.00\n",
      "Gene 7 - Treatment: 131.00, Control: 150.00, Fold Change: 0.87\n",
      "Gene 8 - Treatment: 531.67, Control: 308.33, Fold Change: 1.72\n",
      "Gene 9 - Treatment: 112.67, Control: 134.67, Fold Change: 0.84\n",
      "\n",
      "Upregulated genes: [('CGCUAUAAAUGCGUAGGUC', 1.7902665121668597), ('UAGGCAUAAAGGCUAUGC', 1.6666666666666667), ('CUAGCGGUAAUCGCAUU', 1.3333333333333333), ('AGGCGAUAUAAACGCUUA', 1.7243243243243243)]\n",
      "Downregulated genes: [('GGGCUAGCGUAUCGAUGCUA', 0.8581560283687943), ('GGGCCGUAUCGAUGCUAGCGUAC', 0.8733333333333333), ('GGGCGGUCAUUAACGGAUUUGA', 0.8366336633663367)]\n"
     ]
    }
   ],
   "source": [
    "# Calculate averages, ratios, and classify high/low changes in expression\n",
    "def analyze_expression_changes():\n",
    "    upregulated = []\n",
    "    downregulated = []\n",
    "    \n",
    "    \n",
    "    for seq_index in range(len(rna_sequences)):\n",
    "        # Calculate average expression counts for treatment and control\n",
    "        avg_treatment = (treatment_1[seq_index] + treatment_2[seq_index] + treatment_3[seq_index]) / 3\n",
    "        avg_control = (control_1[seq_index] + control_2[seq_index] + control_3[seq_index]) / 3  \n",
    "\n",
    "        fold_change = avg_treatment / avg_control\n",
    "        \n",
    "        # Threshold: Upregulation if fold change > 1.1, downregulation if < 0.9\n",
    "        if fold_change and fold_change > 1.1:\n",
    "            upregulated.append((rna_sequences[seq_index], fold_change))\n",
    "        elif fold_change and fold_change < 0.9:\n",
    "            downregulated.append((rna_sequences[seq_index], fold_change))\n",
    "        # Print each gene's information with fold change rounded to 2 decimals\n",
    "        print(f\"Gene {seq_index} - Treatment: {avg_treatment:.2f}, Control: {avg_control:.2f}, Fold Change: {fold_change:.2f}\")\n",
    "    \n",
    "    # Output up/down regulated genes\n",
    "    print(\"\\nUpregulated genes:\", upregulated)\n",
    "    print(\"Downregulated genes:\", downregulated)\n",
    "\n",
    "analyze_expression_changes()\n",
    "\n"
   ]
  },
  {
   "cell_type": "markdown",
   "metadata": {},
   "source": [
    "### Exercise 4: Identifying Motifs Within Sequences\n",
    "### 4a. Finding Sequences with Over 60% Similarity\n",
    "\n",
    "We'll use the SequenceMatcher function to identify pairs of sequences with over 60% similarity, which could indicate the presence of shared motifs."
   ]
  },
  {
   "cell_type": "code",
   "execution_count": 560,
   "metadata": {},
   "outputs": [
    {
     "name": "stdout",
     "output_type": "stream",
     "text": [
      "Sequences 0 and 2 are 78.95% similar:\n",
      "  GGGCUAGCGUAUCGAUGCUA\n",
      "  CUAGCGGUAAUCGCAUUA\n",
      "\n",
      "Sequences 0 and 5 are 75.68% similar:\n",
      "  GGGCUAGCGUAUCGAUGCUA\n",
      "  CUAGCGGUAAUCGCAUU\n",
      "\n",
      "Sequences 0 and 6 are 71.79% similar:\n",
      "  GGGCUAGCGUAUCGAUGCUA\n",
      "  GCUAUGCAGGCAAUUGCUA\n",
      "\n",
      "Sequences 0 and 7 are 79.07% similar:\n",
      "  GGGCUAGCGUAUCGAUGCUA\n",
      "  GGGCCGUAUCGAUGCUAGCGUAC\n",
      "\n",
      "Sequences 0 and 9 are 61.90% similar:\n",
      "  GGGCUAGCGUAUCGAUGCUA\n",
      "  GGGCGGUCAUUAACGGAUUUGA\n",
      "\n",
      "Sequences 1 and 6 are 68.42% similar:\n",
      "  CGCUAUAAAUGCGUAGGUC\n",
      "  GCUAUGCAGGCAAUUGCUA\n",
      "\n",
      "Sequences 1 and 8 are 64.86% similar:\n",
      "  CGCUAUAAAUGCGUAGGUC\n",
      "  AGGCGAUAUAAACGCUUA\n",
      "\n",
      "Sequences 2 and 5 are 97.14% similar:\n",
      "  CUAGCGGUAAUCGCAUUA\n",
      "  CUAGCGGUAAUCGCAUU\n",
      "\n",
      "Sequences 2 and 6 are 75.68% similar:\n",
      "  CUAGCGGUAAUCGCAUUA\n",
      "  GCUAUGCAGGCAAUUGCUA\n",
      "\n",
      "Sequences 2 and 8 are 72.22% similar:\n",
      "  CUAGCGGUAAUCGCAUUA\n",
      "  AGGCGAUAUAAACGCUUA\n",
      "\n",
      "Sequences 3 and 4 are 61.11% similar:\n",
      "  AUGCUAGGCUAUUAGCGA\n",
      "  UAGGCAUAAAGGCUAUGC\n",
      "\n",
      "Sequences 4 and 8 are 72.22% similar:\n",
      "  UAGGCAUAAAGGCUAUGC\n",
      "  AGGCGAUAUAAACGCUUA\n",
      "\n",
      "Sequences 5 and 6 are 72.22% similar:\n",
      "  CUAGCGGUAAUCGCAUU\n",
      "  GCUAUGCAGGCAAUUGCUA\n",
      "\n",
      "Sequences 5 and 8 are 68.57% similar:\n",
      "  CUAGCGGUAAUCGCAUU\n",
      "  AGGCGAUAUAAACGCUUA\n",
      "\n",
      "Sequences 8 and 9 are 70.00% similar:\n",
      "  AGGCGAUAUAAACGCUUA\n",
      "  GGGCGGUCAUUAACGGAUUUGA\n",
      "\n"
     ]
    }
   ],
   "source": [
    "from difflib import SequenceMatcher\n",
    "\n",
    "# Function to find sequences with >60% similarity\n",
    "def find_similar_sequences_with_motifs(sequences, threshold=0.6):\n",
    "    similar_sequences = []\n",
    "    for seq_1_index in range(len(sequences)):\n",
    "        for seq_2_index in range(seq_1_index + 1, len(sequences)):\n",
    "            similarity = SequenceMatcher(None, sequences[seq_1_index], sequences[seq_2_index]).ratio()\n",
    "            if similarity > threshold:\n",
    "                print(f\"Sequences {seq_1_index} and {seq_2_index} are {similarity*100:.2f}% similar:\\n  {sequences[seq_1_index]}\\n  {sequences[seq_2_index]}\\n\")\n",
    "                similar_sequences.append((sequences[seq_1_index], sequences[seq_2_index], similarity))\n",
    "    return similar_sequences\n",
    "\n",
    "# Execute function and print results\n",
    "similar_sequences = find_similar_sequences_with_motifs(rna_sequences)\n"
   ]
  },
  {
   "cell_type": "markdown",
   "metadata": {},
   "source": [
    "4b. Searching for Motifs in a Specific Sequence\n",
    "\n",
    "We'll take the sequence 'GGGCUAGCGUAUCGAUGCUA' and generate all possible substrings of length 4, then count if they occurr in the other RNA sequences."
   ]
  },
  {
   "cell_type": "code",
   "execution_count": 561,
   "metadata": {},
   "outputs": [
    {
     "name": "stdout",
     "output_type": "stream",
     "text": [
      "{'UAGC', 'CGAU', 'GCUA', 'AUCG', 'CUAG', 'GAUG', 'UAUC', 'GGGC', 'UCGA', 'GCGU', 'UGCU', 'AUGC', 'GUAU', 'CGUA', 'GGCU', 'AGCG'}\n",
      "Occurrences of each 4-nucleotide substring in other sequences:\n",
      "UAGC: 5\n",
      "CGAU: 3\n",
      "GCUA: 6\n",
      "AUCG: 4\n",
      "CUAG: 5\n",
      "GAUG: 2\n",
      "UAUC: 2\n",
      "GGGC: 3\n",
      "UCGA: 2\n",
      "GCGU: 3\n",
      "UGCU: 4\n",
      "AUGC: 6\n",
      "GUAU: 2\n",
      "CGUA: 3\n",
      "GGCU: 3\n",
      "AGCG: 5\n"
     ]
    }
   ],
   "source": [
    "# This solution is using dictionaries, while we have not worked with them yet but they will be covered in the next lesson\n",
    "# Function to generate all substrings of a given length\n",
    "\n",
    "def get_substrings(sequence, length):\n",
    "    #initialize an empty list to store the substrings\n",
    "    substrings = []\n",
    "    #iterate over the sequence and get all substrings of the given length\n",
    "    #we use len(sequence)-length+1 to make sure we don't go out of bounds\n",
    "    for i in range(len(sequence)-length+1):\n",
    "        #get the substring of the given length\n",
    "        sub = sequence[i:i+length]\n",
    "        #append the substring to the list\n",
    "        substrings.append(sub)\n",
    "    #make it a set to remove duplicates\n",
    "    substrings = set(substrings)\n",
    "    return substrings\n",
    "\n",
    "# Define the target sequence and generate 4-nucleotide substrings\n",
    "target_sequence = 'GGGCUAGCGUAUCGAUGCUA'\n",
    "\n",
    "substrings = get_substrings(target_sequence, 4)\n",
    "\n",
    "# Count occurrences of each substring in other sequences\n",
    "def count_substring_occurrences(substrings, rna_sequences):\n",
    "    motif_occurrences = {}\n",
    "    #iterate over the motifs and the sequences\n",
    "    for motif in substrings:\n",
    "        for rna_sequence in rna_sequences:\n",
    "            #check if the motif is in the sequence\n",
    "            if motif in rna_sequence:\n",
    "                #if it is, increment the count\n",
    "                if motif in motif_occurrences:\n",
    "                    motif_occurrences[motif] += 1\n",
    "                else:\n",
    "                    motif_occurrences[motif] = 1\n",
    "    return motif_occurrences\n",
    "\n",
    "# Get and print occurrences of each substring\n",
    "print (substrings)\n",
    "substring_occurrences = count_substring_occurrences(substrings, rna_sequences)\n",
    "\n",
    "print(\"Occurrences of each 4-nucleotide substring in other sequences:\")\n",
    "for substring, count in substring_occurrences.items():\n",
    "    print(f\"{substring}: {count}\")\n"
   ]
  },
  {
   "cell_type": "markdown",
   "metadata": {},
   "source": [
    "4c. Repeating the Process for a Second Sequence\n",
    "\n",
    "For the sequence 'CGCUAUAAAUGCGUAGGUC', we'll use 5-nucleotide substrings"
   ]
  },
  {
   "cell_type": "code",
   "execution_count": 562,
   "metadata": {},
   "outputs": [
    {
     "name": "stdout",
     "output_type": "stream",
     "text": [
      "\n",
      "Occurrences of each 5-nucleotide substring in other sequences (CGCUAUAAAUGCGUAGGUC):\n",
      "AAAUG: 1\n",
      "CUAUA: 1\n",
      "UAUAA: 2\n",
      "CGUAG: 1\n",
      "AUGCG: 1\n",
      "AAUGC: 1\n",
      "AGGUC: 1\n",
      "UGCGU: 1\n",
      "GCUAU: 4\n",
      "CGCUA: 1\n",
      "UAAAU: 1\n",
      "GUAGG: 1\n",
      "GCGUA: 3\n",
      "AUAAA: 3\n",
      "UAGGU: 1\n"
     ]
    }
   ],
   "source": [
    "# Define a new target sequence and generate 5-nucleotide substrings\n",
    "target_sequence_2 = 'CGCUAUAAAUGCGUAGGUC'\n",
    "motif5 = get_substrings(target_sequence_2, 5)\n",
    "\n",
    "# Get and print occurrences of each 5-nucleotide substring in other sequences\n",
    "motif5_occurrences = count_substring_occurrences(motif5, rna_sequences)\n",
    "print(\"\\nOccurrences of each 5-nucleotide substring in other sequences (CGCUAUAAAUGCGUAGGUC):\")\n",
    "for substring, count in motif5_occurrences.items():\n",
    "    print(f\"{substring}: {count}\")\n"
   ]
  },
  {
   "cell_type": "markdown",
   "metadata": {},
   "source": [
    "Exercise 5: Compiling and Reporting Gene Expression Data with Motif Information\n",
    "\n",
    "In this exercise, we’ll summarize the expression analysis data, including average counts, fold changes, and motif presence, then format and display it for clearer insights.\n",
    "5a. Putting Everything Together"
   ]
  },
  {
   "cell_type": "code",
   "execution_count": 563,
   "metadata": {},
   "outputs": [
    {
     "name": "stdout",
     "output_type": "stream",
     "text": [
      "\n",
      "Gene Expression Report:\n",
      "Sequence\t\t|\tAvg Control\t|\tAvg Treatment\t|\tFold Change\t|\tMotif\t|\n",
      "================================================================================================================\n",
      "GGGCUAGCGUAUCGAUGCUA\t|\t141.0\t\t|\t121.0\t\t|\t0.86\t\t|\tNone\t|\n",
      "CGCUAUAAAUGCGUAGGUC\t|\t287.67\t\t|\t515.0\t\t|\t1.79\t\t|\tAUAAA\t|\n",
      "CUAGCGGUAAUCGCAUUA\t|\t178.67\t\t|\t180.0\t\t|\t1.01\t\t|\tNone\t|\n",
      "AUGCUAGGCUAUUAGCGA\t|\t246.67\t\t|\t250.0\t\t|\t1.01\t\t|\tNone\t|\n",
      "UAGGCAUAAAGGCUAUGC\t|\t300.0\t\t|\t500.0\t\t|\t1.67\t\t|\tAUAAA\t|\n",
      "CUAGCGGUAAUCGCAUU\t|\t1.0\t\t|\t1.33\t\t|\t1.33\t\t|\tNone\t|\n",
      "GCUAUGCAGGCAAUUGCUA\t|\t301.67\t\t|\t301.67\t\t|\t1.0\t\t|\tNone\t|\n",
      "GGGCCGUAUCGAUGCUAGCGUAC\t|\t150.0\t\t|\t131.0\t\t|\t0.87\t\t|\tNone\t|\n",
      "AGGCGAUAUAAACGCUUA\t|\t308.33\t\t|\t531.67\t\t|\t1.72\t\t|\tAUAAA\t|\n",
      "GGGCGGUCAUUAACGGAUUUGA\t|\t134.67\t\t|\t112.67\t\t|\t0.84\t\t|\tNone\t|\n"
     ]
    }
   ],
   "source": [
    "# Define a function to calculate fold change safely\n",
    "def calculate_fold_change(treatment_avg, control_avg):\n",
    "    return treatment_avg / control_avg if control_avg > 0 else None\n",
    "\n",
    "# Compile and report the information\n",
    "def compile_gene_expression_report():\n",
    "    report = []\n",
    "    #we choose the motifs to look for\n",
    "    motif = 'AUAAA'\n",
    "    for seq_1_index in range(len(rna_sequences)):\n",
    "        sequence = rna_sequences[seq_1_index]\n",
    "        avg_treatment = (treatment_1[seq_1_index] + treatment_2[seq_1_index] + treatment_3[seq_1_index]) / 3\n",
    "        avg_control = (control_1[seq_1_index] + control_2[seq_1_index] + control_3[seq_1_index]) / 3\n",
    "        fold_change = calculate_fold_change(avg_treatment, avg_control)\n",
    "        if motif in sequence:\n",
    "            motifs_report = motif\n",
    "        else:\n",
    "            motifs_report = 'None'\n",
    "        # Add formatted data to report\n",
    "        report.append((sequence, round(avg_control, 2), round(avg_treatment, 2), round(fold_change, 2), motifs_report))\n",
    "\n",
    "    # Print the report in a formatted way\n",
    "    # this is just an example done through trial and error, you can format it as you like\n",
    "    # in the future lessons with pandas we will learn how to make better tables\n",
    "    print(\"\\nGene Expression Report:\")\n",
    "    print(f\"{'Sequence'}\\t\\t|\\t{'Avg Control'}\\t|\\t{'Avg Treatment'}\\t|\\t{'Fold Change'}\\t|\\t{'Motif'}\\t|\")\n",
    "    print(\"=\" * 112)\n",
    "    for seq, avg_ctrl, avg_trt, fc, motif in report:\n",
    "        print(f\"{seq}\\t|\\t{avg_ctrl}\\t\\t|\\t{avg_trt:}\\t\\t|\\t{fc}\\t\\t|\\t{motif}\\t|\")\n",
    "\n",
    "# Run the function to print the report\n",
    "compile_gene_expression_report()\n"
   ]
  },
  {
   "cell_type": "markdown",
   "metadata": {},
   "source": [
    "### Exercise 6: Reformat RNA Sequences into Codons"
   ]
  },
  {
   "cell_type": "code",
   "execution_count": 564,
   "metadata": {},
   "outputs": [
    {
     "name": "stdout",
     "output_type": "stream",
     "text": [
      "Formatted RNA sequences with codons:\n",
      "GGG-CUA-GCG-UAU-CGA-UGC-UA\n",
      "CGC-UAU-AAA-UGC-GUA-GGU-C\n",
      "CUA-GCG-GUA-AUC-GCA-UUA\n",
      "AUG-CUA-GGC-UAU-UAG-CGA\n",
      "UAG-GCA-UAA-AGG-CUA-UGC\n",
      "CUA-GCG-GUA-AUC-GCA-UU\n",
      "GCU-AUG-CAG-GCA-AUU-GCU-A\n",
      "GGG-CCG-UAU-CGA-UGC-UAG-CGU-AC\n",
      "AGG-CGA-UAU-AAA-CGC-UUA\n",
      "GGG-CGG-UCA-UUA-ACG-GAU-UUG-A\n"
     ]
    }
   ],
   "source": [
    "# Function to format sequences into codons separated by hyphens\n",
    "def format_sequences_as_codons(sequences):\n",
    "    formatted_sequences = []\n",
    "    for sequence in sequences:\n",
    "        codons = [sequence[i:i+3] for i in range(0, len(sequence), 3)]\n",
    "        formatted_sequence = '-'.join(codons)\n",
    "        formatted_sequences.append(formatted_sequence)\n",
    "    return formatted_sequences\n",
    "\n",
    "# Reformat and print each RNA sequence\n",
    "formatted_sequences = format_sequences_as_codons(rna_sequences)\n",
    "print(\"Formatted RNA sequences with codons:\")\n",
    "for seq in formatted_sequences:\n",
    "    print(seq)\n"
   ]
  }
 ],
 "metadata": {
  "kernelspec": {
   "display_name": "base",
   "language": "python",
   "name": "python3"
  },
  "language_info": {
   "codemirror_mode": {
    "name": "ipython",
    "version": 3
   },
   "file_extension": ".py",
   "mimetype": "text/x-python",
   "name": "python",
   "nbconvert_exporter": "python",
   "pygments_lexer": "ipython3",
   "version": "3.12.4"
  }
 },
 "nbformat": 4,
 "nbformat_minor": 2
}
