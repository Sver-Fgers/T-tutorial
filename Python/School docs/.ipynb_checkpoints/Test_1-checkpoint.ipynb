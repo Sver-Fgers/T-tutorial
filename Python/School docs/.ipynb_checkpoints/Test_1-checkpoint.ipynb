{
 "cells": [
  {
   "cell_type": "code",
   "execution_count": 7,
   "id": "26c69f50-af83-4247-86ab-48ef2be70dd6",
   "metadata": {},
   "outputs": [
    {
     "data": {
      "text/plain": [
       "2"
      ]
     },
     "execution_count": 7,
     "metadata": {},
     "output_type": "execute_result"
    }
   ],
   "source": [
    "# Expressions\n",
    "\n",
    "2**3\n",
    "\n",
    "2\n",
    "\n",
    "\n",
    "# These rules for putting operators and values together to form expressions are a fundamental part of Python as a programming language, just\n",
    "# like the grammar rules that help us communicate. Here’s an example:\n",
    "#    This is a grammatically correct English sentence.\n",
    "#    This grammatically is sentence not English correct a.\n",
    "\n",
    "#if you don't follw the rules, the interpreter screams error messages at you \n"
   ]
  },
  {
   "cell_type": "code",
   "execution_count": 14,
   "id": "7bf6e907-986a-4a9a-b225-9219b7a8544c",
   "metadata": {},
   "outputs": [
    {
     "ename": "SyntaxError",
     "evalue": "incomplete input (317250881.py, line 2)",
     "output_type": "error",
     "traceback": [
      "\u001b[1;36m  Cell \u001b[1;32mIn[14], line 2\u001b[1;36m\u001b[0m\n\u001b[1;33m    print(\"Hello, World!\" # single line statement\u001b[0m\n\u001b[1;37m                                                 ^\u001b[0m\n\u001b[1;31mSyntaxError\u001b[0m\u001b[1;31m:\u001b[0m incomplete input\n"
     ]
    }
   ],
   "source": [
    "# Syntax Error: Missing closing parenthesis\n",
    "print(\"Hello, World!\" # single line statement\n"
   ]
  },
  {
   "cell_type": "code",
   "execution_count": 16,
   "id": "62d9f9e4-8cd8-4674-afe8-cf941e4c95de",
   "metadata": {},
   "outputs": [
    {
     "name": "stdout",
     "output_type": "stream",
     "text": [
      "The average is: 7.5\n"
     ]
    }
   ],
   "source": [
    "# Logical Error: The program is supposed to calculate the average of two numbers\n",
    "a = 5\n",
    "b = 10\n",
    "average = (a + b) / 2  # Incorrect calculation, should be (a + b) / 2\n",
    "print(\"The average is:\", average)\n"
   ]
  },
  {
   "cell_type": "code",
   "execution_count": null,
   "id": "cf5e4a0e-3a18-483e-85da-5296854ceef2",
   "metadata": {},
   "outputs": [],
   "source": [
    "# Runtime Error: Division by zero\n",
    "a = 10\n",
    "b = 0\n",
    "result = a / b  # This will cause a ZeroDivisionError\n",
    "print(\"Result:\", result)\n"
   ]
  },
  {
   "cell_type": "code",
   "execution_count": null,
   "id": "0b8fd50b-8d07-45f8-aede-cea3bd6e2fe4",
   "metadata": {},
   "outputs": [],
   "source": [
    "# Time Limit Exceeded: Infinite loop\n",
    "while True:\n",
    "    pass  # Infinite loop that will run indefinitely\n"
   ]
  },
  {
   "cell_type": "code",
   "execution_count": 13,
   "id": "36ae7170-7dc6-44ab-b8d4-ee6b9d1f8dac",
   "metadata": {},
   "outputs": [
    {
     "name": "stdout",
     "output_type": "stream",
     "text": [
      "i am a boy i am a man\n"
     ]
    }
   ],
   "source": [
    "# order of operation ( precedence level)\n",
    "\n",
    "#2+3*4-8/9**4\n",
    "\n",
    "new = \"i am a boy\"\n",
    "old = \" i am a man\" \n",
    "print(new+old)\n",
    "\n",
    "\n"
   ]
  },
  {
   "cell_type": "code",
   "execution_count": 8,
   "id": "4130174b-6d47-408b-b83c-7d21ca08d3e4",
   "metadata": {},
   "outputs": [
    {
     "data": {
      "text/plain": [
       "'\\n(2**3) is evaluated first i.e 2x2x2 = 8\\nthen (5-8) = -3\\nthen 3*4 = 12\\nwhich is then -3 + 12 - 8\\n+ has a higher level than - so it is evaluated first -3 + 12 = 9\\nthen 9 - 8 = 1 as the final answer\\n'"
      ]
     },
     "execution_count": 8,
     "metadata": {},
     "output_type": "execute_result"
    }
   ],
   "source": [
    "# specifying precedence level\n",
    "\n",
    "(5-8)+3*4-(2**3)\n",
    "\n",
    "'''\n",
    "(2**3) is evaluated first i.e 2x2x2 = 8\n",
    "then (5-8) = -3\n",
    "then 3*4 = 12\n",
    "which is then -3 + 12 - 8\n",
    "+ has a higher level than - so it is evaluated first -3 + 12 = 9\n",
    "then 9 - 8 = 1 as the final answer\n",
    "'''"
   ]
  },
  {
   "cell_type": "code",
   "execution_count": null,
   "id": "ecdb70c8-fab2-4fb7-a024-204666e7d819",
   "metadata": {},
   "outputs": [],
   "source": []
  }
 ],
 "metadata": {
  "kernelspec": {
   "display_name": "Python 3 (ipykernel)",
   "language": "python",
   "name": "python3"
  },
  "language_info": {
   "codemirror_mode": {
    "name": "ipython",
    "version": 3
   },
   "file_extension": ".py",
   "mimetype": "text/x-python",
   "name": "python",
   "nbconvert_exporter": "python",
   "pygments_lexer": "ipython3",
   "version": "3.11.2"
  }
 },
 "nbformat": 4,
 "nbformat_minor": 5
}
