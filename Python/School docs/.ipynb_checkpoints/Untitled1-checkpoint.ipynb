{
 "cells": [
  {
   "cell_type": "code",
   "execution_count": 24,
   "id": "68b6dc61-3ab7-44db-a52f-a42ccf996d9d",
   "metadata": {},
   "outputs": [
    {
     "name": "stdin",
     "output_type": "stream",
     "text": [
      "Enter a number between 1 and 10:  6\n"
     ]
    },
    {
     "name": "stdout",
     "output_type": "stream",
     "text": [
      "The roman numeral equivalent of the number is 'vi'\n"
     ]
    }
   ],
   "source": [
    "# r.SOWP(184.Q4)\n",
    "# using for loops and lists instead of if statements\n",
    "\n",
    "\n",
    "# numbers\n",
    "# num = [0,1,2,3,4,5,6,7,8,9,10]\n",
    "\n",
    "#---------------------------------------------------------------------------------------\n",
    "user_number = int(input(\"Enter a number between 1 and 10: \"))\n",
    "# roman numberals\n",
    "roman_num = [\"none\", \"i\", \"ii\", \"iii\", \"iv\", \"v\", \"vi\", \"vii\", \"viii\", \"ix\", \"x\"]\n",
    "\n",
    "if user_number >= 1 and user_number <=10:\n",
    "    print(f\"The roman numeral equivalent of the number is '{roman_num[user_number]}'\")\n",
    "else:\n",
    "    print(\"error\")\n",
    "\n",
    "# NB: if you choose complexity, complexity squared you wil6l get\n",
    "#----------------------------------------------------------------------------------------    \n",
    "#for i in range(5):\n",
    "    # pair the number list and its equivalent numeral list together and convert into a list\n",
    "    #output becomes num2rom = [(1, \"i\"), (2, \"ii\") etc)    \n",
    " #   num2rom = list(zip(num, rom_num))\n",
    "    \n",
    "    # if the user numbers is in numbers, compare the number position to the exact position \n",
    "    # in the roman numeral list and print the string there\n",
    "\n",
    "#if user_number in num:\n",
    " #   print(len(rom_num))\n",
    "    \n",
    "    #print(f\"The equivalent of {user_number} is {rom_num}\")\n",
    "    #print(num[user_number])\n",
    "  #  print(rom_num[user_number])\n",
    "\n",
    "#for i, j in zip(num[user_number], rom_num[user_number]):\n",
    " #   if i == j:\n",
    "  #      print(user_number)\n",
    " #   print(f\"The equivalent of {user_number} is {rom_num}\")\n",
    "#else:\n",
    " #   print(\"error\")\n",
    "        "
   ]
  },
  {
   "cell_type": "code",
   "execution_count": 26,
   "id": "5f895fc6-a0ad-45ef-840f-9983a217237e",
   "metadata": {},
   "outputs": [
    {
     "name": "stdin",
     "output_type": "stream",
     "text": [
      "enter your exam score 4\n",
      "enter your first test score 4\n",
      "enter your second test score 4\n"
     ]
    },
    {
     "ename": "NameError",
     "evalue": "name 'test1score' is not defined",
     "output_type": "error",
     "traceback": [
      "\u001b[1;31m---------------------------------------------------------------------------\u001b[0m",
      "\u001b[1;31mNameError\u001b[0m                                 Traceback (most recent call last)",
      "Cell \u001b[1;32mIn[26], line 19\u001b[0m\n\u001b[0;32m     16\u001b[0m test2_score \u001b[38;5;241m=\u001b[39m \u001b[38;5;28mint\u001b[39m(\u001b[38;5;28minput\u001b[39m(\u001b[38;5;124m\"\u001b[39m\u001b[38;5;124menter your second test score\u001b[39m\u001b[38;5;124m\"\u001b[39m))\n\u001b[0;32m     18\u001b[0m \u001b[38;5;66;03m# find user grade\u001b[39;00m\n\u001b[1;32m---> 19\u001b[0m \u001b[38;5;28;01mif\u001b[39;00m (\u001b[43mtest1score\u001b[49m \u001b[38;5;129;01mor\u001b[39;00m test2score) \u001b[38;5;241m<\u001b[39m \u001b[38;5;241m0\u001b[39m \u001b[38;5;129;01mor\u001b[39;00m (test1score \u001b[38;5;129;01mor\u001b[39;00m test2score) \u001b[38;5;241m<\u001b[39m \u001b[38;5;241m25\u001b[39m \u001b[38;5;241m&\u001b[39m (exam) \u001b[38;5;241m<\u001b[39m \u001b[38;5;241m0\u001b[39m \u001b[38;5;129;01mand\u001b[39;00m (exam) \u001b[38;5;241m<\u001b[39m \u001b[38;5;241m50\u001b[39m :\n\u001b[0;32m     20\u001b[0m     \u001b[38;5;28mprint\u001b[39m(\u001b[38;5;124m\"\u001b[39m\u001b[38;5;124merror\u001b[39m\u001b[38;5;124m\"\u001b[39m)\n\u001b[0;32m     21\u001b[0m \u001b[38;5;28;01melif\u001b[39;00m total \u001b[38;5;241m<\u001b[39m EXAM \u001b[38;5;129;01mor\u001b[39;00m exam \u001b[38;5;241m<\u001b[39m TEST1:\n",
      "\u001b[1;31mNameError\u001b[0m: name 'test1score' is not defined"
     ]
    }
   ],
   "source": [
    "# r.SOWP(185.Q7)\n",
    "\n",
    "# test and exam worths in points\n",
    "TEST1 = 25\n",
    "TEST2 = 25\n",
    "EXAM = 50\n",
    "A = 80 # distinction\n",
    "C = \n",
    "P <= 60 # pass\n",
    "# passing criteria:\n",
    "# overall score must be greater than 50 points \n",
    "# exam must be atleast 25 points \n",
    "total = TEST1 + TEST2 + EXAM\n",
    "\n",
    "#  collect user data \n",
    "exam_score = int(input(\"enter your exam score\"))\n",
    "test1_score = int(input(\"enter your first test score\"))\n",
    "test2_score = int(input(\"enter your second test score\"))\n",
    "\n",
    "# find user grade\n",
    "if (test1score or test2score) < 0 or (test1score or test2score) < 25 & (exam) < 0 and (exam) < 50 :\n",
    "    print(\"error\")\n",
    "elif total < EXAM or EXAM < TEST1:\n",
    "    print(\"your grade is 'F'\")\n",
    "elif total >= 80:\n",
    "    print(\"you got 'Distinction'\")\n",
    "elif total <= 80 and total >= 60:\n",
    "    print(\"you got 'Credit'\")\n"
   ]
  },
  {
   "cell_type": "code",
   "execution_count": 40,
   "id": "3f374219-da63-4373-a720-c542422a3f43",
   "metadata": {},
   "outputs": [
    {
     "name": "stdout",
     "output_type": "stream",
     "text": [
      "false\n"
     ]
    }
   ],
   "source": [
    "P >= 60 # pass\n",
    "if 5 > P:\n",
    "    print(\"true\")\n",
    "else:\n",
    "    print(\"false\")\n"
   ]
  },
  {
   "cell_type": "code",
   "execution_count": null,
   "id": "72062a39-9791-4a46-bc1a-ed4e33b1790a",
   "metadata": {},
   "outputs": [],
   "source": []
  }
 ],
 "metadata": {
  "kernelspec": {
   "display_name": "Python 3 (ipykernel)",
   "language": "python",
   "name": "python3"
  },
  "language_info": {
   "codemirror_mode": {
    "name": "ipython",
    "version": 3
   },
   "file_extension": ".py",
   "mimetype": "text/x-python",
   "name": "python",
   "nbconvert_exporter": "python",
   "pygments_lexer": "ipython3",
   "version": "3.11.2"
  }
 },
 "nbformat": 4,
 "nbformat_minor": 5
}
