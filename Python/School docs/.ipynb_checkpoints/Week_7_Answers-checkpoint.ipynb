{
 "cells": [
  {
   "cell_type": "code",
   "execution_count": 11,
   "id": "15ed3323-a8f1-4845-93c2-49eab2dbfb11",
   "metadata": {},
   "outputs": [
    {
     "name": "stdout",
     "output_type": "stream",
     "text": [
      "Escherichia_coli, Faecalibacterium, Clostridium, Akkermansia, Enterococcus, Lactobacillus, Ruminococcus, Prevotella, Streptococcus, Bacteroides\n",
      "\n",
      "5,30,5,2,5,20,5,8,5,15\n",
      "\n"
     ]
    }
   ],
   "source": [
    "with open(r'C:\\Users\\Victor_Nxx\\Documents\\...Tutoring\\T\\bacteria_abundances_W7.txt', 'r') as file:\n",
    "    lines = file.readlines() # converts the contents of the file into a list for easier manipulation\n",
    "    print(lines[0])  # Print header\n",
    "    print(lines[1])  # Print first row of data\n",
    "\n",
    "    # the conversion process\n",
    "    # Escherichia_coli  Faecalibacterium  Clostridium  -to list of string-  [\" Escherichia_coli  Faecalibacterium  Clostridium \",\n",
    "    # 10                20                15                                \" 10                20                15 \",\n",
    "    # 30                5                 10                                \" 30                5                 10 \", ]\n",
    "    # 25                30                20\n",
    "\n",
    "\n",
    "\n",
    "    # printing out the python description of the file object\n",
    "    # file.readlines()\n",
    "    #for line in file:\n",
    "    #    print(file)\n",
    "\n",
    "    # printing out the file contents \n",
    "    #for line in file:\n",
    "    #   print(line)\n",
    "\n"
   ]
  },
  {
   "cell_type": "code",
   "execution_count": 26,
   "id": "1406413d-e998-4000-8426-4a9aebd0a3f0",
   "metadata": {},
   "outputs": [
    {
     "name": "stdout",
     "output_type": "stream",
     "text": [
      "Most abundant bacteria value: 30\n",
      "Most abundant bacteria value: 25\n",
      "Most abundant bacteria value: 28\n",
      "Most abundant bacteria value: 32\n",
      "Most abundant bacteria value: 35\n",
      "Most abundant bacteria value: 25\n",
      "Most abundant bacteria value: 30\n",
      "Most abundant bacteria value: 28\n",
      "Most abundant bacteria value: 27\n",
      "Most abundant bacteria value: 35\n"
     ]
    }
   ],
   "source": [
    "#for line in lines[1:]:\n",
    "    #parts = line.split()[1:] # convert the list into sub-strings\n",
    "    # eg [\"5,30,5,2,5,20,5,8,5,15\"] becomes [\"5\", \"30\", \"5\", \"2\", \"5\", \"20\", \"5\", \"8\", \"5\", \"15\"]\n",
    "    #values = list(map(int, parts)) # the map method applies the function - int to every element(that is the substrings) in the list\n",
    "    #most_abundant = max(values) # convert back into a list because of the map object\n",
    "    # most_abundant = list(map(int, line.split()))\n",
    "    #print(f\"Most abundant bacteria value: {most_abundant}\")\n",
    "\n",
    "    #values = list(map(int, line.split()[1:]))\n",
    "    #most_abundant = max(values)\n",
    "    #print(f\"Most abundant bacteria value: {most_abundant}\")\n",
    "\n",
    "for line in lines[1:]:\n",
    "    values = list(map(int, line.split(',')))  # Split and convert to integers\n",
    "        \n",
    "    if values:  # Check if values is not empty\n",
    "        most_abundant = max(values)  # Find the maximum\n",
    "        print(f\"Most abundant bacteria value: {most_abundant}\")\n",
    "    else:\n",
    "        print(\"No data available for this line.\")\n",
    "\n",
    "    "
   ]
  },
  {
   "cell_type": "code",
   "execution_count": 33,
   "id": "aefffad6-e7fb-4057-965d-cdc5c4e392dc",
   "metadata": {},
   "outputs": [
    {
     "name": "stdout",
     "output_type": "stream",
     "text": [
      "\n",
      "Sick Patients Data:\n",
      "Escherichia_coli, Faecalibacterium, Clostridium, Akkermansia, Enterococcus, Lactobacillus, Ruminococcus, Prevotella, Streptococcus, Bacteroides\n",
      "25,10,12,1,10,5,3,4,5,10\n",
      "30,12,15,0,10,5,2,3,20,5\n",
      "28,15,14,2,6,5,3,2,8,12\n",
      "27,8,20,1,8,7,5,4,10,10\n",
      "35,5,18,0,11,3,2,5,6,15\n",
      "\n",
      "Healthy Patients Data:\n",
      "Escherichia_coli, Faecalibacterium, Clostridium, Akkermansia, Enterococcus, Lactobacillus, Ruminococcus, Prevotella, Streptococcus, Bacteroides\n",
      "5,30,5,2,5,20,5,8,5,15\n",
      "7,25,8,1,5,22,8,6,10,8\n",
      "6,28,10,3,1,18,4,7,5,18\n",
      "8,32,7,4,6,1,7,5,10,10\n",
      "4,35,6,2,2,15,4,9,3,10\n",
      "\n"
     ]
    }
   ],
   "source": [
    "header = lines[0]\n",
    "healthy = lines[1:6]\n",
    "sick = lines[6:11]\n",
    "\n",
    "with open('healthy_patients.txt', 'w') as h_file:\n",
    "    h_file.write(header + ''.join(healthy))\n",
    "\n",
    "with open('sick_patients.txt', 'w') as s_file:\n",
    "    s_file.write(header + ''.join(sick))\n",
    "\n",
    "\"\"\"\n",
    "with open('sick_patients.txt', 'r') as s_file:\n",
    "    sick_data = s_file.read()  # Read all content from the file\n",
    "    print(\"\\nSick Patients Data:\")\n",
    "    print(sick_data)  # Print the contents of the file\n",
    "\n",
    "with open('healthy_patients.txt', 'r') as h_file:\n",
    "    healthy_data = h_file.read()  # Read all content from the file\n",
    "    print(\"Healthy Patients Data:\")\n",
    "    print(healthy_data)  # Print the contents of the file\n",
    "\"\"\""
   ]
  },
  {
   "cell_type": "code",
   "execution_count": 37,
   "id": "70d51a38-2965-4396-98f5-df1e66460787",
   "metadata": {},
   "outputs": [
    {
     "name": "stdout",
     "output_type": "stream",
     "text": [
      "bacteria_list = ['Escherichia_coli,', 'Faecalibacterium,', 'Clostridium,', 'Akkermansia,', 'Enterococcus,', 'Lactobacillus,', 'Ruminococcus,', 'Prevotella,', 'Streptococcus,', 'Bacteroides']\n"
     ]
    },
    {
     "ename": "AttributeError",
     "evalue": "'list' object has no attribute 'split'",
     "output_type": "error",
     "traceback": [
      "\u001b[1;31m---------------------------------------------------------------------------\u001b[0m",
      "\u001b[1;31mAttributeError\u001b[0m                            Traceback (most recent call last)",
      "Cell \u001b[1;32mIn[37], line 15\u001b[0m\n\u001b[0;32m     12\u001b[0m \u001b[38;5;28mprint\u001b[39m(\u001b[38;5;124mf\u001b[39m\u001b[38;5;124m\"\u001b[39m\u001b[38;5;124mbacteria_list = \u001b[39m\u001b[38;5;132;01m{\u001b[39;00mbacteria_list\u001b[38;5;132;01m}\u001b[39;00m\u001b[38;5;124m\"\u001b[39m)\n\u001b[0;32m     14\u001b[0m \u001b[38;5;28;01mfor\u001b[39;00m i, line \u001b[38;5;129;01min\u001b[39;00m \u001b[38;5;28menumerate\u001b[39m(healthy_data[\u001b[38;5;241m1\u001b[39m:], start\u001b[38;5;241m=\u001b[39m\u001b[38;5;241m1\u001b[39m):\n\u001b[1;32m---> 15\u001b[0m     healthy_dict[\u001b[38;5;124mf\u001b[39m\u001b[38;5;124m'\u001b[39m\u001b[38;5;124mhealthy\u001b[39m\u001b[38;5;132;01m{\u001b[39;00mi\u001b[38;5;132;01m}\u001b[39;00m\u001b[38;5;124m'\u001b[39m] \u001b[38;5;241m=\u001b[39m \u001b[38;5;28mlist\u001b[39m(\u001b[38;5;28mmap\u001b[39m(\u001b[38;5;28mint\u001b[39m, \u001b[43mlines\u001b[49m\u001b[38;5;241;43m.\u001b[39;49m\u001b[43msplit\u001b[49m()[\u001b[38;5;241m1\u001b[39m:]))\n\u001b[0;32m     17\u001b[0m \u001b[38;5;28;01mfor\u001b[39;00m i, line \u001b[38;5;129;01min\u001b[39;00m \u001b[38;5;28menumerate\u001b[39m(sick_data[\u001b[38;5;241m1\u001b[39m:], start\u001b[38;5;241m=\u001b[39m\u001b[38;5;241m1\u001b[39m):\n\u001b[0;32m     18\u001b[0m     sick_dict[\u001b[38;5;124mf\u001b[39m\u001b[38;5;124m'\u001b[39m\u001b[38;5;124msick\u001b[39m\u001b[38;5;132;01m{\u001b[39;00mi\u001b[38;5;132;01m}\u001b[39;00m\u001b[38;5;124m'\u001b[39m] \u001b[38;5;241m=\u001b[39m \u001b[38;5;28mlist\u001b[39m(\u001b[38;5;28mmap\u001b[39m(\u001b[38;5;28mint\u001b[39m, lines\u001b[38;5;241m.\u001b[39msplit()[\u001b[38;5;241m1\u001b[39m:]))\n",
      "\u001b[1;31mAttributeError\u001b[0m: 'list' object has no attribute 'split'"
     ]
    }
   ],
   "source": [
    "healthy_dict = {}\n",
    "sick_dict = {}\n",
    "\n",
    "with open('healthy_patients.txt', 'r') as h_file:\n",
    "    healthy_data = h_file.readlines() # convert to list exempting the first line\n",
    "\n",
    "with open('sick_patients.txt', 'r') as s_file:\n",
    "    sick_data = s_file.readlines()\n",
    "\n",
    "# list to show bacteria data based on example structure in the assignment\n",
    "bacteria_list = lines[0].split()\n",
    "print(f\"bacteria_list = {bacteria_list}\")\n",
    "\n",
    "for i, line in enumerate(healthy_data[1:], start=1):\n",
    "    healthy_dict[f'healthy{i}'] = list(map(int, lines.split()[1:]))\n",
    "\n",
    "for i, line in enumerate(sick_data[1:], start=1):\n",
    "    sick_dict[f'sick{i}'] = list(map(int, lines.split()[1:]))\n",
    "\n",
    "print(\"Healthy Patients Data:\", healthy_dict)\n",
    "print(\"Sick Patients Data:\", sick_dict)\n"
   ]
  },
  {
   "cell_type": "code",
   "execution_count": 34,
   "id": "00eaa2c5-e207-4ab7-8908-8067c9dd5aa1",
   "metadata": {},
   "outputs": [
    {
     "name": "stdout",
     "output_type": "stream",
     "text": [
      "Healthy Averages: []\n",
      "Sick Averages: []\n"
     ]
    }
   ],
   "source": [
    "def calculate_averages(data_dict):\n",
    "    averages = [sum(values) / len(values) for values in zip(*data_dict.values())]\n",
    "    return averages\n",
    "\n",
    "healthy_avg = calculate_averages(healthy_dict)\n",
    "sick_avg = calculate_averages(sick_dict)\n",
    "\n",
    "print(\"Healthy Averages:\", healthy_avg)\n",
    "print(\"Sick Averages:\", sick_avg)"
   ]
  },
  {
   "cell_type": "code",
   "execution_count": null,
   "id": "91e35438-4093-418e-8fd5-0bf2885d71f1",
   "metadata": {},
   "outputs": [],
   "source": [
    "def calculate_std_dev(data_dict):\n",
    "    import math\n",
    "    std_devs = []\n",
    "    for values in zip(*data_dict.values()):\n",
    "        mean = sum(values) / len(values)\n",
    "        variance = sum((x - mean) ** 2 for x in values) / len(values)\n",
    "        std_devs.append(math.sqrt(variance))\n",
    "    return std_devs\n",
    "\n",
    "healthy_std = calculate_std_dev(healthy_dict)\n",
    "sick_std = calculate_std_dev(sick_dict)\n",
    "\n",
    "print(\"Healthy STD:\", healthy_std)\n",
    "print(\"Sick STD:\", sick_std)"
   ]
  }
 ],
 "metadata": {
  "kernelspec": {
   "display_name": "Python 3 (ipykernel)",
   "language": "python",
   "name": "python3"
  },
  "language_info": {
   "codemirror_mode": {
    "name": "ipython",
    "version": 3
   },
   "file_extension": ".py",
   "mimetype": "text/x-python",
   "name": "python",
   "nbconvert_exporter": "python",
   "pygments_lexer": "ipython3",
   "version": "3.11.2"
  }
 },
 "nbformat": 4,
 "nbformat_minor": 5
}
