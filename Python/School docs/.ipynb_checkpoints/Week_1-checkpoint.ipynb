{
 "cells": [
  {
   "cell_type": "code",
   "execution_count": 32,
   "id": "0392123c-e334-42b6-ac29-abfb75b6dcd7",
   "metadata": {},
   "outputs": [
    {
     "name": "stdout",
     "output_type": "stream",
     "text": [
      "Checking for species with population sizes between 300 and 1000.\n",
      "The species between 300 and 1000 individuals are: Elephant, Giraffe \n",
      "\n",
      "Checking for species with population sizes between 600 and 2000.\n",
      "The species between 600 and 2000 individuals are: Zebra, Giraffe \n",
      "\n"
     ]
    }
   ],
   "source": [
    "# Question 1a\n",
    "species_names = [\"Elephant\", \"Zebra\", \"Lion\", \"Giraffe\", \"Rhinoceros\"]\n",
    "population_sizes = [500, 1200, 250, 800, 80]\n",
    "\n",
    "def find_species_between(threshold_1, threshold_2):\n",
    "    # Define the lower and upper limits\n",
    "    # low, high = min(threshold_1, threshold_2), max(threshold_1, threshold_2)\n",
    "    low = min(threshold_1, threshold_2)\n",
    "    high = max(threshold_1, threshold_2)\n",
    "    print(f\"Checking for species with population sizes between {low} and {high}.\") \n",
    "    \n",
    "    # Find species within the population range\n",
    "    species_in_range = [name for name, size in zip(species_names, population_sizes) if low <= size <= high]\n",
    "\n",
    "    # Print the results\n",
    "    if species_in_range:\n",
    "        print(f\"The species between {low} and {high} individuals are: {', '.join(species_in_range)} \\n\")\n",
    "    else:\n",
    "        print(f\"No species between {low} and {high} individuals.\")\n",
    "\n",
    "# Test cases\n",
    "# case 1\n",
    "threshold_1 = 300\n",
    "threshold_2 = 1000\n",
    "find_species_between(threshold_1, threshold_2)\n",
    "\n",
    "# case 2\n",
    "threshold_1 = 2000\n",
    "threshold_2 = 600\n",
    "find_species_between(threshold_1, threshold_2)\n"
   ]
  },
  {
   "cell_type": "code",
   "execution_count": 10,
   "id": "6c3867dc-66f5-4b66-9bc3-ce526246da7b",
   "metadata": {},
   "outputs": [
    {
     "name": "stdout",
     "output_type": "stream",
     "text": [
      "Species in range 0-500: Elephant, Lion, Rhinoceros\n",
      "\n",
      "Species in range 500-1000: Elephant, Giraffe\n",
      "\n",
      "Species in range 1000-1500: Zebra\n",
      "\n",
      "No species in range 1500-2000.\n"
     ]
    }
   ],
   "source": [
    "# Question 1b\n",
    "def species_in_intervals():\n",
    "    intervals = [(0, 500), (500, 1000), (1000, 1500), (1500, 2000)]\n",
    "    \n",
    "    for low, high in intervals:\n",
    "        species_in_range = []\n",
    "        for i in range(len(population_sizes)):\n",
    "            if low <= population_sizes[i] <= high:\n",
    "                species_in_range.append(species_names[i])\n",
    "        \n",
    "        if species_in_range:\n",
    "            print(f\"Species in range {low}-{high}: {', '.join(species_in_range)}\\n\")\n",
    "        else:\n",
    "            print(f\"No species in range {low}-{high}.\")\n",
    "\n",
    "species_in_intervals()\n"
   ]
  },
  {
   "cell_type": "code",
   "execution_count": 34,
   "id": "a5d800fd-d599-4b73-b766-8ab2583c8f44",
   "metadata": {},
   "outputs": [
    {
     "name": "stdout",
     "output_type": "stream",
     "text": [
      "The sequence contains 41 Cs and Gs out of 80 nucleotides.\n",
      "Resulting in a GC ratio of 51.25%\n"
     ]
    }
   ],
   "source": [
    "# Question 2a\n",
    "\n",
    "# The given DNA Sequence\n",
    "plasmid_DNA = 'ATGCGCTAGCTAGGCTATTATGATGAAGGATAATGACGCATGCACCCATGACTGGACTTGCAGGGCAATACGGCAGCGAC'\n",
    "\n",
    "# function \n",
    "def count_gc_for_loop(dna_sequence):\n",
    "    count = 0  # Initialize count to zero\n",
    "    for nucleotide in dna_sequence:\n",
    "        if nucleotide == 'C' or nucleotide == 'G':  # Check if it's C or G\n",
    "            count += 1  # Increment count if true\n",
    "            \n",
    "    gc_ratio = (count / len(dna_sequence)) * 100 if len(dna_sequence) > 0 else 0 # Calculate GC ratio safely\n",
    "    \n",
    "    print(f\"The sequence contains {count} Cs and Gs out of {len(dna_sequence)} nucleotides.\")\n",
    "    print(f\"Resulting in a GC ratio of {gc_ratio:.2f}%\")\n",
    "\n",
    "# Execute the function to get results\n",
    "count_gc_for_loop(plasmid_DNA)\n",
    "\n"
   ]
  },
  {
   "cell_type": "code",
   "execution_count": 18,
   "id": "fe59a14d-2459-46dd-acee-03050fa91fab",
   "metadata": {},
   "outputs": [
    {
     "name": "stdout",
     "output_type": "stream",
     "text": [
      "The sequence contains 41 Cs and Gs out of 80 nucleotides.\n",
      "Resulting in a GC ratio of 51.25%\n"
     ]
    }
   ],
   "source": [
    "# Question 2b\n",
    "\n",
    "def count_gc_while_loop(dna_sequence):\n",
    "    count = 0  # set the count to zero\n",
    "    i = 0  # do the same for index counter\n",
    "\n",
    "    while i < len(dna_sequence):\n",
    "        if dna_sequence[i] in 'CG':\n",
    "            count += 1  # Increment count for C or G\n",
    "        i += 1  # Move to the next nucleotide\n",
    "\n",
    "    gc_ratio = (count / len(dna_sequence)) * 100 if len(dna_sequence) > 0 else 0  # Calculate GC ratio safely\n",
    "    print(f\"The sequence contains {count} Cs and Gs out of {len(dna_sequence)} nucleotides.\")\n",
    "    print(f\"Resulting in a GC ratio of {gc_ratio:.2f}%\")\n",
    "\n",
    "# Call the function with the plasmid_DNA sequence to execute and print results\n",
    "count_gc_while_loop(plasmid_DNA)\n"
   ]
  },
  {
   "cell_type": "code",
   "execution_count": 19,
   "id": "ac754db6-2b7f-44fc-804a-4285f7278ec7",
   "metadata": {},
   "outputs": [
    {
     "name": "stdout",
     "output_type": "stream",
     "text": [
      "The sequence contains 9 occurrences of 'AT'.\n"
     ]
    }
   ],
   "source": [
    "# Question 2c\n",
    "\n",
    "def count_at(dna_sequence):\n",
    "    count = 0  # Initialize count to zero\n",
    "\n",
    "    \n",
    "    for i in range(len(dna_sequence) - 1):  # Iterate through the sequence\n",
    "        if dna_sequence[i:i + 2] == 'AT':  # Check for the 'AT' occurrence\n",
    "            count += 1  # Increment count if found\n",
    "\n",
    "    print(f\"The sequence contains {count} occurrences of 'AT'.\")\n",
    "\n",
    "# Call the function with the plasmid_DNA sequence\n",
    "count_at(plasmid_DNA)\n"
   ]
  },
  {
   "cell_type": "code",
   "execution_count": null,
   "id": "6ba79ab7-b2d0-41c2-9228-e3c210b4fe58",
   "metadata": {},
   "outputs": [],
   "source": [
    "# Question 3a\n",
    "\n",
    "# DNA sequence lists\n",
    "DNA_list_1 = [\"ATGCGT\", \"CGTAGG\", \"TTGCAA\"]\n",
    "DNA_list_2 = [\"CG\", \"CAA\", \"TAG\"]\n",
    "\n",
    "\n",
    "# Here, we’ll check if each sequence in DNA_list_2 is found in any sequence in DNA_list_1. i.e if what is in DNA_list_2 is also in DNA_list 1\n",
    "\n",
    "# Function to find sequences\n",
    "def find_sequence(dna_list_1, dna_list_2):\n",
    "    for seq2 in dna_list_2:\n",
    "        found = False  # Track if the sequence is found\n",
    "        for seq1 in dna_list_1:\n",
    "            if seq2 in seq1:  # Check if seq2 is in seq1\n",
    "                print(f\"The sequence {seq2} is found in {seq1}.\")\n",
    "                found = True\n",
    "                break  # Stop searching once we find a match\n",
    "        if not found:\n",
    "            print(f\"The sequence {seq2} is not found in any sequence.\")\n",
    "            \n",
    "# Call the function\n",
    "find_sequence(DNA_list_1, DNA_list_2)\n"
   ]
  },
  {
   "cell_type": "code",
   "execution_count": 85,
   "id": "edbe6ee6-afa6-4334-9ba3-c84e0bba6b4c",
   "metadata": {},
   "outputs": [
    {
     "name": "stdout",
     "output_type": "stream",
     "text": [
      "The sequence CG is found in ATGCGT.\n",
      "The sequence CAA is found in TTGCAA.\n",
      "The sequence TAG is found in CGTAGG.\n"
     ]
    }
   ],
   "source": [
    "# Question 3b\n",
    "\n",
    "DNA_list_1 = [\"ATGCGT\", \"CGTAGG\", \"TTGCAA\"]\n",
    "DNA_list_2 = [\"CG\", \"CAA\", \"TAG\"]\n",
    "\n",
    "# Function to get reverse complement (using the method provided in Assignment 2)\n",
    "def reverse_complement(dna_sequence):\n",
    "    reversed_sequence = dna_sequence[::-1]\n",
    "    complement = reversed_sequence.replace('A', 't').replace('T', 'a').replace('C', 'g').replace('G', 'c')\n",
    "    return complement.upper()\n",
    "\n",
    "# Main function to check for sequence or reverse complement\n",
    "def find_sequence_or_reverse(dna_list_1, dna_list_2):\n",
    "    for seq2 in dna_list_2:\n",
    "        found = False  # Track if the sequence or reverse complement is found\n",
    "        \n",
    "        # Check if seq2 is in any sequence in dna_list_1\n",
    "        for seq1 in dna_list_1:\n",
    "            if seq2 in seq1:\n",
    "                print(f\"The sequence {seq2} is found in {seq1}.\")\n",
    "                found = True\n",
    "                break\n",
    "        \n",
    "        # If seq2 isn't found, check its reverse complement\n",
    "        if not found:\n",
    "            rev_comp = reverse_complement(seq2)\n",
    "            for seq1 in dna_list_1:\n",
    "                if rev_comp in seq1:\n",
    "                    print(f\"The reverse complement of {seq2} ({rev_comp}) is found in {seq1}.\")\n",
    "                    found = True\n",
    "                    break\n",
    "            \n",
    "            # If neither seq2 nor its reverse complement is found\n",
    "            if not found:\n",
    "                print(f\"The sequence {seq2} and its reverse complement are not found in any sequence.\")\n",
    "\n",
    "# Call the function\n",
    "find_sequence_or_reverse(DNA_list_1, DNA_list_2)\n"
   ]
  },
  {
   "cell_type": "code",
   "execution_count": 38,
   "id": "564599a4-0a0f-441a-91cd-62c60b0ab945",
   "metadata": {},
   "outputs": [
    {
     "name": "stdout",
     "output_type": "stream",
     "text": [
      "At day 1 of the exponential growth phase, there are 20 bacteria.\n",
      "At day 2 of the exponential growth phase, there are 40 bacteria.\n",
      "At day 3 of the exponential growth phase, there are 80 bacteria.\n",
      "At day 4 of the exponential growth phase, there are 160 bacteria.\n",
      "At day 5 of the exponential growth phase, there are 320 bacteria.\n",
      "At day 6 of the exponential growth phase, there are 640 bacteria.\n",
      "At day 7 of the exponential growth phase, there are 1280 bacteria.\n"
     ]
    }
   ],
   "source": [
    "# Question 4a\n",
    "\n",
    "def bacteria_growth():\n",
    "    bacteria = 10 # initial number of bacterias\n",
    "    day = 0 # starting day\n",
    "    while bacteria < 1000: # run throught the code as long as the number of bacteria at each day is less than 1000\n",
    "        bacteria *= 2 # Double the numnber of bacteria after each day\n",
    "        day += 1\n",
    "        print(f\"At day {day} of the exponential growth phase, there are {bacteria} bacteria.\")\n",
    "\n",
    "# function call\n",
    "bacteria_growth()"
   ]
  },
  {
   "cell_type": "code",
   "execution_count": 37,
   "id": "7ae04d69-6981-42bf-88ba-4b40019e757d",
   "metadata": {},
   "outputs": [
    {
     "name": "stdout",
     "output_type": "stream",
     "text": [
      "At day 1 of the death phase, there are 900 bacteria.\n",
      "At day 2 of the death phase, there are 810 bacteria.\n",
      "At day 3 of the death phase, there are 729 bacteria.\n",
      "At day 4 of the death phase, there are 657 bacteria.\n",
      "At day 5 of the death phase, there are 592 bacteria.\n",
      "At day 6 of the death phase, there are 533 bacteria.\n",
      "At day 7 of the death phase, there are 480 bacteria.\n",
      "At day 8 of the death phase, there are 432 bacteria.\n",
      "At day 9 of the death phase, there are 389 bacteria.\n",
      "At day 10 of the death phase, there are 351 bacteria.\n",
      "At day 11 of the death phase, there are 316 bacteria.\n",
      "At day 12 of the death phase, there are 285 bacteria.\n",
      "At day 13 of the death phase, there are 257 bacteria.\n",
      "At day 14 of the death phase, there are 232 bacteria.\n",
      "At day 15 of the death phase, there are 209 bacteria.\n",
      "At day 16 of the death phase, there are 189 bacteria.\n",
      "At day 17 of the death phase, there are 171 bacteria.\n",
      "At day 18 of the death phase, there are 154 bacteria.\n",
      "At day 19 of the death phase, there are 139 bacteria.\n",
      "At day 20 of the death phase, there are 126 bacteria.\n",
      "At day 21 of the death phase, there are 114 bacteria.\n",
      "At day 22 of the death phase, there are 103 bacteria.\n",
      "At day 23 of the death phase, there are 93 bacteria.\n",
      "At day 24 of the death phase, there are 83 bacteria.\n",
      "At day 25 of the death phase, there are 73 bacteria.\n",
      "At day 26 of the death phase, there are 63 bacteria.\n",
      "At day 27 of the death phase, there are 53 bacteria.\n",
      "At day 28 of the death phase, there are 43 bacteria.\n",
      "At day 29 of the death phase, there are 33 bacteria.\n",
      "At day 30 of the death phase, there are 23 bacteria.\n",
      "At day 31 of the death phase, there are 13 bacteria.\n",
      "At day 32 of the death phase, there are 3 bacteria.\n",
      "At day 33 of the death phase, there are 0 bacteria.\n"
     ]
    }
   ],
   "source": [
    "# Question 4b \n",
    "\n",
    "def bacteria_lifecycle():\n",
    "    bacteria = 1000\n",
    "    day = 0  # Starting on day 7, because the stationary phase lasted 7 days\n",
    "\n",
    "    # Death phase\n",
    "    while bacteria > 0:\n",
    "        bacteria = max(bacteria - max(int(bacteria * 0.1), 10), 0)\n",
    "        day += 1\n",
    "        print(f\"At day {day} of the death phase, there are {bacteria} bacteria.\")\n",
    "\n",
    "\n",
    "# Function call\n",
    "bacteria_lifecycle()\n"
   ]
  },
  {
   "cell_type": "code",
   "execution_count": 24,
   "id": "16bc8db7-aac9-4cce-9429-5a13b16ba65f",
   "metadata": {},
   "outputs": [
    {
     "name": "stdout",
     "output_type": "stream",
     "text": [
      "The bacteria went through exponential, stationary, and death phases in 49 days.\n"
     ]
    }
   ],
   "source": [
    "# Question 4c\n",
    "\n",
    "def bacteria_lifecycle_with_days():\n",
    "    bacteria = 10\n",
    "    total_days = 0\n",
    "\n",
    "    # Growth phase\n",
    "    while bacteria < 1000:\n",
    "        total_days += 1\n",
    "        bacteria *= 2\n",
    "\n",
    "    # Stationary phase (7 days)\n",
    "    total_days += 7\n",
    "    \n",
    "    # Death phase\n",
    "    while bacteria > 0:\n",
    "        bacteria = max(bacteria - max(int(bacteria * 0.1), 10), 0)\n",
    "        total_days += 1\n",
    "    \n",
    "    print(f\"The bacteria went through exponential, stationary, and death phases in {total_days} days.\")\n",
    "\n",
    "# function call\n",
    "bacteria_lifecycle_with_days()"
   ]
  },
  {
   "cell_type": "code",
   "execution_count": 71,
   "id": "57aa790c-6aaa-4735-931d-7bcb0fe20877",
   "metadata": {},
   "outputs": [
    {
     "name": "stdout",
     "output_type": "stream",
     "text": [
      "In 2001, there are 650 rabbits.\n",
      "In 2002, there are 845 rabbits.\n",
      "In 2003, there are 1098 rabbits.\n",
      "In 2004, there are 1427 rabbits.\n",
      "In 2005, there are 1855 rabbits.\n",
      "In 2006, there are 2411 rabbits.\n",
      "In 2007, there are 3134 rabbits.\n",
      "In 2008, there are 4074 rabbits.\n",
      "In 2009, there are 5296 rabbits.\n",
      "In 2010, there are 6884 rabbits.\n"
     ]
    }
   ],
   "source": [
    "# Question 5a\n",
    "\n",
    "def rabbit_growth():\n",
    "    rabbits = 500 # inital rabbit population\n",
    "    year = 2000 # starting year\n",
    "        \n",
    "    for i in range(10):\n",
    "        rabbits = int(rabbits * 1.3)\n",
    "        year += 1\n",
    "        print(f\"In {year}, there are {rabbits} rabbits.\")\n",
    "\n",
    "rabbit_growth()\n"
   ]
  },
  {
   "cell_type": "code",
   "execution_count": 74,
   "id": "40a16a93-dc67-4be3-9318-09f3efceb74e",
   "metadata": {},
   "outputs": [
    {
     "name": "stdout",
     "output_type": "stream",
     "text": [
      "In 2011, there are 8449 rabbits and 50 foxes.\n",
      "In 2012, there are 10483 rabbits and 50 foxes.\n",
      "In 2013, there are 13127 rabbits and 50 foxes.\n",
      "In 2014, there are 16565 rabbits and 50 foxes.\n",
      "In 2015, there are 21034 rabbits and 50 foxes.\n",
      "In 2016, there are 26844 rabbits and 50 foxes.\n",
      "In 2017, there are 34397 rabbits and 50 foxes.\n",
      "In 2018, there are 44216 rabbits and 50 foxes.\n",
      "In 2019, there are 56980 rabbits and 50 foxes.\n",
      "In 2020, there are 73574 rabbits and 50 foxes.\n"
     ]
    }
   ],
   "source": [
    "# Question 5b\n",
    "\n",
    "def rabbit_fox_interaction():\n",
    "    rabbits = 6884 # total population of rabbits after 10 years\n",
    "    year = 2010 # staring year for when predators where introduced\n",
    "    foxes = 50\n",
    "\n",
    "    for i in range(10):\n",
    "        rabbits = int(rabbits * 1.3)  # continue Increasing rabbit population by 30%\n",
    "        rabbits -= foxes * 10         # Remove 10 rabbits per fox\n",
    "        rabbits = max(rabbits, 0)     # Ensure rabbit population doesn't go below 0\n",
    "        year += 1\n",
    "        print(f\"In {year}, there are {rabbits} rabbits and {foxes} foxes.\")\n",
    "\n",
    "rabbit_fox_interaction()\n",
    "\n"
   ]
  },
  {
   "cell_type": "code",
   "execution_count": 79,
   "id": "dbeca851-2d6a-4947-bbfa-623369fe8ab2",
   "metadata": {},
   "outputs": [
    {
     "name": "stdout",
     "output_type": "stream",
     "text": [
      "In 2011, there are 8449 rabbits and 100 foxes.\n",
      "In 2012, there are 9983 rabbits and 200 foxes.\n",
      "In 2013, there are 10977 rabbits and 400 foxes.\n",
      "In 2014, there are 10270 rabbits and 160 foxes.\n",
      "In 2015, there are 11751 rabbits and 320 foxes.\n",
      "In 2016, there are 12076 rabbits and 640 foxes.\n",
      "In 2017, there are 9298 rabbits and 256 foxes.\n",
      "In 2018, there are 9527 rabbits and 512 foxes.\n",
      "In 2019, there are 7265 rabbits and 204 foxes.\n",
      "In 2020, there are 7404 rabbits and 408 foxes.\n"
     ]
    }
   ],
   "source": [
    "# Question 5C\n",
    "\n",
    "def predator_prey_dynamics():\n",
    "\n",
    "# Initial values for 2010\n",
    "    rabbits = 6884  # Starting rabbit population after 10 years of growth\n",
    "    foxes = 50      # Starting fox population in 2010\n",
    "    year = 2010\n",
    "\n",
    "# Simulate population dynamics from 2010 to 2020\n",
    "    for i in range(10):\n",
    "        previous_rabbits = rabbits  # Track the previous year's rabbit population\n",
    "    \n",
    "    # Annual growth of rabbits by 30%\n",
    "        rabbits = int(rabbits * 1.3)\n",
    "        year += 1\n",
    "        \n",
    "    # Predation: Each fox eats 10 rabbits\n",
    "        rabbits -= foxes * 10\n",
    "        rabbits = max(rabbits, 0)  # Ensure rabbits don’t go below 0\n",
    "    \n",
    "    # Adjust fox population based on rabbit population change\n",
    "        if rabbits > previous_rabbits:\n",
    "            foxes *= 2  # Fox population doubles if rabbits increased\n",
    "        else:\n",
    "            foxes = int(foxes * 0.4)  # Fox population reduces by 60% if rabbits decreased\n",
    "\n",
    "    # Print the year and populations\n",
    "        print(f\"In {year}, there are {rabbits} rabbits and {foxes} foxes.\")\n",
    "   \n",
    "\n",
    "predator_prey_dynamics()"
   ]
  },
  {
   "cell_type": "code",
   "execution_count": 83,
   "id": "66100b5f-df8a-4f98-be25-7016f6574b74",
   "metadata": {},
   "outputs": [
    {
     "name": "stdout",
     "output_type": "stream",
     "text": [
      "\n",
      "Predation rate: 9 rabbits per fox\n",
      "In 2011, there are 8499 rabbits and 100 foxes.\n",
      "In 2012, there are 10148 rabbits and 200 foxes.\n",
      "In 2013, there are 11392 rabbits and 400 foxes.\n",
      "In 2014, there are 11209 rabbits and 160 foxes.\n",
      "In 2015, there are 13131 rabbits and 320 foxes.\n",
      "In 2016, there are 14190 rabbits and 640 foxes.\n",
      "In 2017, there are 12687 rabbits and 256 foxes.\n",
      "In 2018, there are 14189 rabbits and 512 foxes.\n",
      "In 2019, there are 13837 rabbits and 204 foxes.\n",
      "In 2020, there are 16152 rabbits and 408 foxes.\n",
      "In 2021, there are 17325 rabbits and 816 foxes.\n",
      "In 2022, there are 15178 rabbits and 326 foxes.\n",
      "In 2023, there are 16797 rabbits and 652 foxes.\n",
      "In 2024, there are 15968 rabbits and 260 foxes.\n",
      "In 2025, there are 18418 rabbits and 520 foxes.\n",
      "In 2026, there are 19263 rabbits and 1040 foxes.\n",
      "In 2027, there are 15681 rabbits and 416 foxes.\n",
      "In 2028, there are 16641 rabbits and 832 foxes.\n",
      "In 2029, there are 14145 rabbits and 332 foxes.\n",
      "In 2030, there are 15400 rabbits and 664 foxes.\n",
      "In 2031, there are 14044 rabbits and 265 foxes.\n",
      "In 2032, there are 15872 rabbits and 530 foxes.\n",
      "In 2033, there are 15863 rabbits and 212 foxes.\n",
      "In 2034, there are 18713 rabbits and 424 foxes.\n",
      "In 2035, there are 20510 rabbits and 848 foxes.\n",
      "In 2036, there are 19031 rabbits and 339 foxes.\n",
      "In 2037, there are 21689 rabbits and 678 foxes.\n",
      "In 2038, there are 22093 rabbits and 1356 foxes.\n",
      "In 2039, there are 16516 rabbits and 542 foxes.\n",
      "In 2040, there are 16592 rabbits and 1084 foxes.\n",
      "In 2041, there are 11813 rabbits and 433 foxes.\n",
      "In 2042, there are 11459 rabbits and 173 foxes.\n",
      "In 2043, there are 13339 rabbits and 346 foxes.\n",
      "In 2044, there are 14226 rabbits and 692 foxes.\n",
      "In 2045, there are 12265 rabbits and 276 foxes.\n",
      "In 2046, there are 13460 rabbits and 552 foxes.\n",
      "In 2047, there are 12530 rabbits and 220 foxes.\n",
      "In 2048, there are 14309 rabbits and 440 foxes.\n",
      "In 2049, there are 14641 rabbits and 880 foxes.\n",
      "In 2050, there are 11113 rabbits and 352 foxes.\n",
      "\n",
      "Predation rate: 8 rabbits per fox\n",
      "In 2011, there are 8549 rabbits and 100 foxes.\n",
      "In 2012, there are 10313 rabbits and 200 foxes.\n",
      "In 2013, there are 11806 rabbits and 400 foxes.\n",
      "In 2014, there are 12147 rabbits and 800 foxes.\n",
      "In 2015, there are 9391 rabbits and 320 foxes.\n",
      "In 2016, there are 9648 rabbits and 640 foxes.\n",
      "In 2017, there are 7422 rabbits and 256 foxes.\n",
      "In 2018, there are 7600 rabbits and 512 foxes.\n",
      "In 2019, there are 5784 rabbits and 204 foxes.\n",
      "In 2020, there are 5887 rabbits and 408 foxes.\n",
      "In 2021, there are 4389 rabbits and 163 foxes.\n",
      "In 2022, there are 4401 rabbits and 326 foxes.\n",
      "In 2023, there are 3113 rabbits and 130 foxes.\n",
      "In 2024, there are 3006 rabbits and 52 foxes.\n",
      "In 2025, there are 3491 rabbits and 104 foxes.\n",
      "In 2026, there are 3706 rabbits and 208 foxes.\n",
      "In 2027, there are 3153 rabbits and 83 foxes.\n",
      "In 2028, there are 3434 rabbits and 166 foxes.\n",
      "In 2029, there are 3136 rabbits and 66 foxes.\n",
      "In 2030, there are 3548 rabbits and 132 foxes.\n",
      "In 2031, there are 3556 rabbits and 264 foxes.\n",
      "In 2032, there are 2510 rabbits and 105 foxes.\n",
      "In 2033, there are 2423 rabbits and 42 foxes.\n",
      "In 2034, there are 2813 rabbits and 84 foxes.\n",
      "In 2035, there are 2984 rabbits and 168 foxes.\n",
      "In 2036, there are 2535 rabbits and 67 foxes.\n",
      "In 2037, there are 2759 rabbits and 134 foxes.\n",
      "In 2038, there are 2514 rabbits and 53 foxes.\n",
      "In 2039, there are 2844 rabbits and 106 foxes.\n",
      "In 2040, there are 2849 rabbits and 212 foxes.\n",
      "In 2041, there are 2007 rabbits and 84 foxes.\n",
      "In 2042, there are 1937 rabbits and 33 foxes.\n",
      "In 2043, there are 2254 rabbits and 66 foxes.\n",
      "In 2044, there are 2402 rabbits and 132 foxes.\n",
      "In 2045, there are 2066 rabbits and 52 foxes.\n",
      "In 2046, there are 2269 rabbits and 104 foxes.\n",
      "In 2047, there are 2117 rabbits and 41 foxes.\n",
      "In 2048, there are 2424 rabbits and 82 foxes.\n",
      "In 2049, there are 2495 rabbits and 164 foxes.\n",
      "In 2050, there are 1931 rabbits and 65 foxes.\n"
     ]
    }
   ],
   "source": [
    "# Question 5d\n",
    "\n",
    "# simulating the predator-prey dynamics to the year 2050\n",
    "\n",
    "\n",
    "def predator_prey_dynamics(predation_rate):\n",
    "    rabbits = 6884\n",
    "    foxes = 50\n",
    "    year = 2010\n",
    "    previous_rabbits = rabbits\n",
    "\n",
    "    # Project population from 2010 to 2050\n",
    "    for i in range(40):\n",
    "        # The Rabbit population growth will be\n",
    "        rabbits = int(rabbits * 1.3) - foxes * predation_rate\n",
    "        rabbits = max(rabbits, 0)  # This Ensures the rabbit population doesn't go negative\n",
    "        year += 1\n",
    "        \n",
    "        # The Predator dynamics based on rabbit population changes\n",
    "        if rabbits > previous_rabbits:\n",
    "            foxes *= 2  # The population of the foxes doubles if those of the rabbits increase\n",
    "        else:\n",
    "            foxes = int(foxes * 0.4)  # and the foxes population decreases by 60% if rabbits decrease\n",
    "        \n",
    "        previous_rabbits = rabbits\n",
    "        foxes = max(foxes, 0)  # Ensure fox population doesn't go negative\n",
    "\n",
    "        # Print the populations of the animals for each year\n",
    "        print(f\"In {year}, there are {rabbits} rabbits and {foxes} foxes.\")\n",
    "\n",
    "# Testing the simulation with different predation rate\n",
    "print(\"\\nPredation rate: 9 rabbits per fox\")\n",
    "predator_prey_dynamics(predation_rate=9)\n",
    "\n",
    "print(\"\\nPredation rate: 8 rabbits per fox\")\n",
    "predator_prey_dynamics(predation_rate=8)"
   ]
  },
  {
   "cell_type": "code",
   "execution_count": null,
   "id": "95be334c-0401-4297-b1d3-e4e33346c0ee",
   "metadata": {},
   "outputs": [],
   "source": []
  }
 ],
 "metadata": {
  "kernelspec": {
   "display_name": "Python 3 (ipykernel)",
   "language": "python",
   "name": "python3"
  },
  "language_info": {
   "codemirror_mode": {
    "name": "ipython",
    "version": 3
   },
   "file_extension": ".py",
   "mimetype": "text/x-python",
   "name": "python",
   "nbconvert_exporter": "python",
   "pygments_lexer": "ipython3",
   "version": "3.11.2"
  }
 },
 "nbformat": 4,
 "nbformat_minor": 5
}
