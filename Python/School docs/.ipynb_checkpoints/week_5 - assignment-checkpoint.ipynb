{
 "cells": [
  {
   "cell_type": "code",
   "execution_count": 1,
   "id": "153b5594-f0dc-4b98-bd13-362c40d47222",
   "metadata": {},
   "outputs": [
    {
     "ename": "FileNotFoundError",
     "evalue": "[Errno 2] No such file or directory: 'C:\\\\Users\\\\school\\\\Downloads\\\\virus_1fasta.sec'",
     "output_type": "error",
     "traceback": [
      "\u001b[1;31m---------------------------------------------------------------------------\u001b[0m",
      "\u001b[1;31mFileNotFoundError\u001b[0m                         Traceback (most recent call last)",
      "Cell \u001b[1;32mIn[1], line 2\u001b[0m\n\u001b[0;32m      1\u001b[0m \u001b[38;5;66;03m# For virus_1fasta.sec\u001b[39;00m\n\u001b[1;32m----> 2\u001b[0m file \u001b[38;5;241m=\u001b[39m \u001b[38;5;28;43mopen\u001b[39;49m\u001b[43m(\u001b[49m\u001b[38;5;124;43mr\u001b[39;49m\u001b[38;5;124;43m\"\u001b[39;49m\u001b[38;5;124;43mC:\u001b[39;49m\u001b[38;5;124;43m\\\u001b[39;49m\u001b[38;5;124;43mUsers\u001b[39;49m\u001b[38;5;124;43m\\\u001b[39;49m\u001b[38;5;124;43mschool\u001b[39;49m\u001b[38;5;124;43m\\\u001b[39;49m\u001b[38;5;124;43mDownloads\u001b[39;49m\u001b[38;5;124;43m\\\u001b[39;49m\u001b[38;5;124;43mvirus_1fasta.sec\u001b[39;49m\u001b[38;5;124;43m\"\u001b[39;49m\u001b[43m,\u001b[49m\u001b[43m \u001b[49m\u001b[38;5;124;43m\"\u001b[39;49m\u001b[38;5;124;43mr\u001b[39;49m\u001b[38;5;124;43m\"\u001b[39;49m\u001b[43m)\u001b[49m\n\u001b[0;32m      3\u001b[0m header_1 \u001b[38;5;241m=\u001b[39m file\u001b[38;5;241m.\u001b[39mreadline()\u001b[38;5;241m.\u001b[39mstrip()  \u001b[38;5;66;03m# Read and strip the header\u001b[39;00m\n\u001b[0;32m      4\u001b[0m sequence_1 \u001b[38;5;241m=\u001b[39m file\u001b[38;5;241m.\u001b[39mreadline()\u001b[38;5;241m.\u001b[39mstrip()[:\u001b[38;5;241m100\u001b[39m]  \u001b[38;5;66;03m# Read first 100 nucleotides\u001b[39;00m\n",
      "File \u001b[1;32m~\\AppData\\Local\\Programs\\Python\\Python311\\Lib\\site-packages\\IPython\\core\\interactiveshell.py:324\u001b[0m, in \u001b[0;36m_modified_open\u001b[1;34m(file, *args, **kwargs)\u001b[0m\n\u001b[0;32m    317\u001b[0m \u001b[38;5;28;01mif\u001b[39;00m file \u001b[38;5;129;01min\u001b[39;00m {\u001b[38;5;241m0\u001b[39m, \u001b[38;5;241m1\u001b[39m, \u001b[38;5;241m2\u001b[39m}:\n\u001b[0;32m    318\u001b[0m     \u001b[38;5;28;01mraise\u001b[39;00m \u001b[38;5;167;01mValueError\u001b[39;00m(\n\u001b[0;32m    319\u001b[0m         \u001b[38;5;124mf\u001b[39m\u001b[38;5;124m\"\u001b[39m\u001b[38;5;124mIPython won\u001b[39m\u001b[38;5;124m'\u001b[39m\u001b[38;5;124mt let you open fd=\u001b[39m\u001b[38;5;132;01m{\u001b[39;00mfile\u001b[38;5;132;01m}\u001b[39;00m\u001b[38;5;124m by default \u001b[39m\u001b[38;5;124m\"\u001b[39m\n\u001b[0;32m    320\u001b[0m         \u001b[38;5;124m\"\u001b[39m\u001b[38;5;124mas it is likely to crash IPython. If you know what you are doing, \u001b[39m\u001b[38;5;124m\"\u001b[39m\n\u001b[0;32m    321\u001b[0m         \u001b[38;5;124m\"\u001b[39m\u001b[38;5;124myou can use builtins\u001b[39m\u001b[38;5;124m'\u001b[39m\u001b[38;5;124m open.\u001b[39m\u001b[38;5;124m\"\u001b[39m\n\u001b[0;32m    322\u001b[0m     )\n\u001b[1;32m--> 324\u001b[0m \u001b[38;5;28;01mreturn\u001b[39;00m \u001b[43mio_open\u001b[49m\u001b[43m(\u001b[49m\u001b[43mfile\u001b[49m\u001b[43m,\u001b[49m\u001b[43m \u001b[49m\u001b[38;5;241;43m*\u001b[39;49m\u001b[43margs\u001b[49m\u001b[43m,\u001b[49m\u001b[43m \u001b[49m\u001b[38;5;241;43m*\u001b[39;49m\u001b[38;5;241;43m*\u001b[39;49m\u001b[43mkwargs\u001b[49m\u001b[43m)\u001b[49m\n",
      "\u001b[1;31mFileNotFoundError\u001b[0m: [Errno 2] No such file or directory: 'C:\\\\Users\\\\school\\\\Downloads\\\\virus_1fasta.sec'"
     ]
    }
   ],
   "source": [
    "# For virus_1fasta.sec\n",
    "file = open(r\"C:\\Users\\school\\Downloads\\virus_1fasta.sec\", \"r\")\n",
    "header_1 = file.readline().strip()  # Read and strip the header\n",
    "sequence_1 = file.readline().strip()[:100]  # Read first 100 nucleotides\n",
    "file.close()  # Close the file\n",
    "print(f\"Viral genome in file virus_1fasta.sec has header: {header_1}\")\n",
    "print(f\"The first 100 nucleotides are: {sequence_1}\\n\")\n",
    "\n",
    "# For virus_2fasta.sec\n",
    "file = open(r\"C:\\Users\\school\\Downloads\\virus_2fasta.sec\", \"r\")\n",
    "header_2 = file.readline().strip()\n",
    "sequence_2 = file.readline().strip()[:100]\n",
    "file.close()\n",
    "print(f\"Viral genome in file virus_2fasta.sec has header: {header_2}\")\n",
    "print(f\"The first 100 nucleotides are: {sequence_2}\\n\")\n",
    "\n",
    "# For virus_3fasta.sec\n",
    "file = open(r\"C:\\Users\\school\\Downloads\\virus_3fasta.sec\", \"r\")\n",
    "header_3 = file.readline().strip()\n",
    "sequence_3 = file.readline().strip()[:100]\n",
    "file.close()\n",
    "print(f\"Viral genome in file virus_3fasta.sec has header: {header_3}\")\n",
    "print(f\"The first 100 nucleotides are: {sequence_3}\\n\")\n",
    "\n",
    "# For virus_4fasta.sec\n",
    "file = open(r\"C:\\Users\\school\\Downloads\\virus_4fasta.sec\", \"r\")\n",
    "header_4 = file.readline().strip()\n",
    "sequence_4 = file.readline().strip()[:100]\n",
    "file.close()\n",
    "print(f\"Viral genome in file virus_4fasta.sec has header: {header_4}\")\n",
    "print(f\"The first 100 nucleotides are: {sequence_4}\")\n"
   ]
  },
  {
   "cell_type": "code",
   "execution_count": 11,
   "id": "0914dbe8-2631-46b0-a13e-439f443628e9",
   "metadata": {},
   "outputs": [
    {
     "name": "stdout",
     "output_type": "stream",
     "text": [
      "Contig headers are: \n",
      " dict_keys(['>virus_1_complete', '>virus_2_complete', '>virus_3_complete', '>virus_4_complete'])\n",
      "Contig sequences are: \n",
      " dict_values(['ATGGAGACCTTGAGACCAACAGATTTGAAGAGCTATTGCACCATCTTTGGGATAGACTTTTTTGAGCTTC', 'ATGTCACACAACGATACCCCCGCAAATAACACTAACGGCATAGCCGACGTTTACGCTGACGAGAATCCATGTGAAATAGC', 'ACTACAATAATTCATGTATAAAACTAAGGGCGTAACCGAAATCGGTTGAACCGAAACCGGTTAGTATAAA', 'ATGGAGAACCTTTTTCCTACAGGTTTACAAGAATATTGCAGCTATTTTAAAATTGATTTCTTTGAATTGC'])\n",
      "the items are: \n",
      " dict_items([('>virus_1_complete', 'ATGGAGACCTTGAGACCAACAGATTTGAAGAGCTATTGCACCATCTTTGGGATAGACTTTTTTGAGCTTC'), ('>virus_2_complete', 'ATGTCACACAACGATACCCCCGCAAATAACACTAACGGCATAGCCGACGTTTACGCTGACGAGAATCCATGTGAAATAGC'), ('>virus_3_complete', 'ACTACAATAATTCATGTATAAAACTAAGGGCGTAACCGAAATCGGTTGAACCGAAACCGGTTAGTATAAA'), ('>virus_4_complete', 'ATGGAGAACCTTTTTCCTACAGGTTTACAAGAATATTGCAGCTATTTTAAAATTGATTTCTTTGAATTGC')])\n"
     ]
    }
   ],
   "source": [
    "# 1b\n",
    "\n",
    "# Function to read and store genome data\n",
    "def store_genome_data(file_path):\n",
    "    with open(file_path, 'r') as file:\n",
    "        header = file.readline().strip()\n",
    "        sequence = file.readline().strip()\n",
    "    genomes[header] = sequence\n",
    "    return\n",
    "\n",
    "# Dictionary to hold genome data\n",
    "genomes = {}\n",
    "\n",
    "\n",
    "# Load each genome\n",
    "file_1 = r\"C:\\Users\\school\\Downloads\\virus_1fasta.sec\"\"\n",
    "file_2 = r\"C:\\Users\\school\\Downloads\\virus_2fasta.sec\"\"\n",
    "file_3 = r\"C:\\Users\\school\\Downloads\\virus_3fasta.sec\"\n",
    "file_4 = r\"C:\\Users\\school\\Downloads\\virus_4fasta.sec\"\n",
    "\n",
    "# a list to simplify using the files\n",
    "all_files=[file_1, file_2, file_3, file_4]\n",
    "\n",
    "# store_genome_data(r\"C:\\Users\\Victor_Nxx\\Documents\\...Tutoring\\T\\T Assignments\\virus_1fasta.sec\")\n",
    "# store_genome_data(r\"C:\\Users\\Victor_Nxx\\Documents\\...Tutoring\\T\\T Assignments\\virus_2fasta.sec\")\n",
    "# store_genome_data(r\"C:\\Users\\Victor_Nxx\\Documents\\...Tutoring\\T\\T Assignments\\virus_3fasta.sec\")\n",
    "# store_genome_data(r\"C:\\Users\\Victor_Nxx\\Documents\\...Tutoring\\T\\T Assignments\\virus_4fasta.sec\")\n",
    "\n",
    "for files in all_files:\n",
    "    store_genome_data(files)\n",
    "              \n",
    "\n",
    "# Print the (headers) of the file which in this case are the keys of the dictionary\n",
    "print(\"Contig headers are: \\n\", genomes.keys())\n",
    "\n"
   ]
  },
  {
   "cell_type": "code",
   "execution_count": 14,
   "id": "66c6113f-6543-40f5-9c5c-f0aa170ced93",
   "metadata": {},
   "outputs": [
    {
     "name": "stdout",
     "output_type": "stream",
     "text": [
      ">virus_1_complete has 41.43 gc_content\n",
      ">virus_2_complete has 47.50 gc_content\n",
      ">virus_3_complete has 35.71 gc_content\n",
      ">virus_4_complete has 30.00 gc_content\n"
     ]
    }
   ],
   "source": [
    "# 2a \n",
    "# Function to calculate GC content\n",
    "def calculate_gc_content(sequence):\n",
    "    g_count = sequence.count('G')\n",
    "    c_count = sequence.count('C')\n",
    "    gc_content = (g_count + c_count) / len(sequence) * 100\n",
    "    return gc_content # pass the result back to the function where it was called\n",
    "\n",
    "# headers_gc_content\n",
    "# loop to print genome header and gc content\n",
    "for i in genomes:\n",
    "    gc_content=calculate_gc_content(genomes[i]) # statement to access the genome sequences\n",
    "    print(f\"{i} has {gc_content:.2f} gc_content\")\n"
   ]
  },
  {
   "cell_type": "code",
   "execution_count": 15,
   "id": "37a87eda-749d-4f17-bc65-3ddc37c5cf8f",
   "metadata": {},
   "outputs": [
    {
     "name": "stdout",
     "output_type": "stream",
     "text": [
      ">virus_1_complete is 0.06kbp long\n",
      ">virus_2_complete is 0.07kbp long\n",
      ">virus_3_complete is 0.06kbp long\n",
      ">virus_4_complete is 0.06kbp long\n"
     ]
    }
   ],
   "source": [
    "# 2b\n",
    "# Function to calculate genome length in Kbp\n",
    "def calculate_genome_length(sequence):\n",
    "    length = len(sequence) / 1000\n",
    "    return length # Divide by 1000 to get Kbp\n",
    "\n",
    "\n",
    "# loop to print genome header and length\n",
    "for headers_length in genomes:\n",
    "    genome_length=calculate_genome_length(genomes[headers_length]) # statement to access the genome sequences length\n",
    "    print(f\"{headers_length} is {genome_length:.2f}kbp long\")\n"
   ]
  },
  {
   "cell_type": "code",
   "execution_count": 60,
   "id": "43dc9106-8de8-4175-a223-94faac729bcc",
   "metadata": {},
   "outputs": [
    {
     "name": "stdout",
     "output_type": "stream",
     "text": [
      ">virus_2_complete: Length = 0.07 Kbp, GC% = 47.5\n",
      ">virus_1_complete: Length = 0.06 Kbp, GC% = 41.42857142857143\n",
      ">virus_3_complete: Length = 0.06 Kbp, GC% = 35.714285714285715\n",
      ">virus_4_complete: Length = 0.06 Kbp, GC% = 30.0\n"
     ]
    }
   ],
   "source": [
    "# 2c and 2d\n",
    "# Dictionary to store genome statistics\n",
    "genome_stats = {}\n",
    "\n",
    "# Fill the dictionary with statistics\n",
    "for header, sequence in genomes.items():\n",
    "    gc_content = calculate_gc_content(sequence)\n",
    "    length_kbp = calculate_genome_length(sequence)\n",
    "    genome_stats[header] = {'GC%': gc_content, 'Length (Kbp)': length_kbp}\n",
    "\n",
    "# Sort and print genomes by length\n",
    "sorted_genomes = sorted(genome_stats.items(), key=lambda x: x[1]['Length (Kbp)'], reverse=True)\n",
    "for genome, stats in sorted_genomes:\n",
    "    print(f\"{genome}: Length = {stats['Length (Kbp)']:.2f} Kbp, GC% = {stats['GC%']}\")\n"
   ]
  },
  {
   "cell_type": "code",
   "execution_count": 63,
   "id": "dfa4db35-f995-49b4-a699-dd72ca3f4c69",
   "metadata": {},
   "outputs": [
    {
     "name": "stdout",
     "output_type": "stream",
     "text": [
      "K-mer counts for >virus_1_complete:, {'ATG': 1, 'TGG': 2, 'GGA': 2, 'GAG': 4, 'AGA': 5, 'GAC': 3, 'ACC': 3, 'CCT': 1, 'CTT': 4, 'TTG': 5, 'TGA': 3, 'CCA': 2, 'CAA': 1, 'AAC': 1, 'ACA': 1, 'CAG': 1, 'GAT': 2, 'ATT': 2, 'TTT': 6, 'GAA': 1, 'AAG': 1, 'AGC': 2, 'GCT': 2, 'CTA': 1, 'TAT': 1, 'TGC': 1, 'GCA': 1, 'CAC': 1, 'CAT': 1, 'ATC': 1, 'TCT': 1, 'GGG': 1, 'ATA': 1, 'TAG': 1, 'ACT': 1, 'TTC': 1}\n",
      "K-mer counts for >virus_2_complete:, {'ATG': 2, 'TGT': 2, 'GTC': 1, 'TCA': 1, 'CAC': 3, 'ACA': 3, 'CAA': 2, 'AAC': 3, 'ACG': 5, 'CGA': 3, 'GAT': 1, 'ATA': 4, 'TAC': 2, 'ACC': 1, 'CCC': 3, 'CCG': 2, 'CGC': 2, 'GCA': 2, 'AAA': 2, 'AAT': 3, 'TAA': 2, 'ACT': 1, 'CTA': 1, 'CGG': 1, 'GGC': 1, 'CAT': 2, 'TAG': 2, 'AGC': 2, 'GCC': 1, 'GAC': 2, 'CGT': 1, 'GTT': 1, 'TTT': 1, 'TTA': 1, 'GCT': 1, 'CTG': 1, 'TGA': 2, 'GAG': 1, 'AGA': 1, 'GAA': 2, 'ATC': 1, 'TCC': 1, 'CCA': 1, 'GTG': 1}\n",
      "K-mer counts for >virus_3_complete:, {'ACT': 2, 'CTA': 2, 'TAC': 1, 'ACA': 1, 'CAA': 1, 'AAT': 3, 'ATA': 3, 'TAA': 5, 'ATT': 1, 'TTC': 1, 'TCA': 1, 'CAT': 1, 'ATG': 1, 'TGT': 1, 'GTA': 3, 'TAT': 2, 'AAA': 5, 'AAC': 4, 'AAG': 1, 'AGG': 1, 'GGG': 1, 'GGC': 1, 'GCG': 1, 'CGT': 1, 'ACC': 3, 'CCG': 3, 'CGA': 2, 'GAA': 3, 'ATC': 1, 'TCG': 1, 'CGG': 2, 'GGT': 2, 'GTT': 2, 'TTG': 1, 'TGA': 1, 'TTA': 1, 'TAG': 1, 'AGT': 1}\n",
      "K-mer counts for >virus_4_complete:, {'ATG': 1, 'TGG': 1, 'GGA': 1, 'GAG': 1, 'AGA': 2, 'GAA': 3, 'AAC': 1, 'ACC': 1, 'CCT': 2, 'CTT': 2, 'TTT': 8, 'TTC': 2, 'TCC': 1, 'CTA': 2, 'TAC': 2, 'ACA': 2, 'CAG': 2, 'AGG': 1, 'GGT': 1, 'GTT': 1, 'TTA': 2, 'CAA': 1, 'AAG': 1, 'AAT': 3, 'ATA': 1, 'TAT': 2, 'ATT': 5, 'TTG': 4, 'TGC': 2, 'GCA': 1, 'AGC': 1, 'GCT': 1, 'TAA': 1, 'AAA': 2, 'TGA': 2, 'GAT': 1, 'TCT': 1}\n"
     ]
    }
   ],
   "source": [
    "# 3a\n",
    "# Function to count k-mers in a sequence\n",
    "def count_kmers(sequence, k=3):\n",
    "    kmers = {}\n",
    "    for i in range(len(sequence) - k + 1):\n",
    "        kmer = sequence[i:i + k]\n",
    "        kmers[kmer] = kmers.get(kmer, 0) + 1  # Increment k-mer count\n",
    "    return kmers\n",
    "\n",
    "# Example usage\n",
    "for kmers in genomes:\n",
    "    kmer_counts = count_kmers(genomes[kmers], 3)  # Change k if needed\n",
    "    print(f\"K-mer counts for {kmers}:, {kmer_counts}\")\n"
   ]
  },
  {
   "cell_type": "code",
   "execution_count": 2,
   "id": "e9c2850c-ad08-46e2-bb19-9c6432ce766d",
   "metadata": {},
   "outputs": [
    {
     "ename": "NameError",
     "evalue": "name 'genomes' is not defined",
     "output_type": "error",
     "traceback": [
      "\u001b[1;31m---------------------------------------------------------------------------\u001b[0m",
      "\u001b[1;31mNameError\u001b[0m                                 Traceback (most recent call last)",
      "Cell \u001b[1;32mIn[2], line 4\u001b[0m\n\u001b[0;32m      1\u001b[0m \u001b[38;5;66;03m#3c\u001b[39;00m\n\u001b[0;32m      2\u001b[0m \u001b[38;5;66;03m# Create k-mer count dictionaries for each genome\u001b[39;00m\n\u001b[0;32m      3\u001b[0m genome_kmers \u001b[38;5;241m=\u001b[39m {}\n\u001b[1;32m----> 4\u001b[0m \u001b[38;5;28;01mfor\u001b[39;00m header, sequence \u001b[38;5;129;01min\u001b[39;00m \u001b[43mgenomes\u001b[49m\u001b[38;5;241m.\u001b[39mitems():\n\u001b[0;32m      5\u001b[0m     genome_kmers[header] \u001b[38;5;241m=\u001b[39m count_kmers(sequence, \u001b[38;5;241m3\u001b[39m)\n\u001b[0;32m      7\u001b[0m \u001b[38;5;66;03m# Print k-mer counts for one genome\u001b[39;00m\n",
      "\u001b[1;31mNameError\u001b[0m: name 'genomes' is not defined"
     ]
    }
   ],
   "source": [
    "#3c\n",
    "# Create k-mer count dictionaries for each genome\n",
    "genome_kmers = {}\n",
    "for header, sequence in genomes.items():\n",
    "    genome_kmers[header] = count_kmers(sequence, 3)\n",
    "\n",
    "# Print k-mer counts for one genome\n",
    "print(\"K-mer counts for virus_1:\", genome_kmers[\"virus_1\"])\n"
   ]
  },
  {
   "cell_type": "code",
   "execution_count": null,
   "id": "b7abb342-c8eb-4546-99a1-e36488d5c560",
   "metadata": {},
   "outputs": [],
   "source": [
    "# 4a\n",
    "\n",
    "# Generate sets of 7-mers for virus_1fasta.sec\n",
    "k = 7\n",
    "large_kmer_set_1 = set()\n",
    "for i in range(len(sequence_1) - k + 1):\n",
    "    kmer = sequence_1[i:i + k]\n",
    "    large_kmer_set_1.add(kmer)\n",
    "\n",
    "# Repeating for virus_2fasta.sec\n",
    "large_kmer_set_2 = set()\n",
    "for i in range(len(sequence_2) - k + 1):\n",
    "    kmer = sequence_2[i:i + k]\n",
    "    large_kmer_set_2.add(kmer)\n",
    "\n"
   ]
  },
  {
   "cell_type": "code",
   "execution_count": 4,
   "id": "bf84e8d1-d226-4070-bda3-e426cc5cf4d0",
   "metadata": {},
   "outputs": [
    {
     "ename": "NameError",
     "evalue": "name 'large_kmer_sets' is not defined",
     "output_type": "error",
     "traceback": [
      "\u001b[1;31m---------------------------------------------------------------------------\u001b[0m",
      "\u001b[1;31mNameError\u001b[0m                                 Traceback (most recent call last)",
      "Cell \u001b[1;32mIn[4], line 12\u001b[0m\n\u001b[0;32m     10\u001b[0m \u001b[38;5;66;03m# comparing between two genomes\u001b[39;00m\n\u001b[0;32m     11\u001b[0m header_1, header_2 \u001b[38;5;241m=\u001b[39m \u001b[38;5;124m\"\u001b[39m\u001b[38;5;124mvirus_1\u001b[39m\u001b[38;5;124m\"\u001b[39m, \u001b[38;5;124m\"\u001b[39m\u001b[38;5;124mvirus_2\u001b[39m\u001b[38;5;124m\"\u001b[39m\n\u001b[1;32m---> 12\u001b[0m shared, total, overlap \u001b[38;5;241m=\u001b[39m calculate_overlap(\u001b[43mlarge_kmer_sets\u001b[49m[header_1], large_kmer_sets[header_2])\n\u001b[0;32m     13\u001b[0m \u001b[38;5;28mprint\u001b[39m(\u001b[38;5;124mf\u001b[39m\u001b[38;5;124m\"\u001b[39m\u001b[38;5;132;01m{\u001b[39;00mheader_1\u001b[38;5;132;01m}\u001b[39;00m\u001b[38;5;124m and \u001b[39m\u001b[38;5;132;01m{\u001b[39;00mheader_2\u001b[38;5;132;01m}\u001b[39;00m\u001b[38;5;124m share \u001b[39m\u001b[38;5;132;01m{\u001b[39;00mshared\u001b[38;5;132;01m}\u001b[39;00m\u001b[38;5;124m out of \u001b[39m\u001b[38;5;132;01m{\u001b[39;00mtotal\u001b[38;5;132;01m}\u001b[39;00m\u001b[38;5;124m k-mers, \u001b[39m\u001b[38;5;132;01m{\u001b[39;00moverlap\u001b[38;5;132;01m:\u001b[39;00m\u001b[38;5;124m.2f\u001b[39m\u001b[38;5;132;01m}\u001b[39;00m\u001b[38;5;124m%\u001b[39m\u001b[38;5;124m\"\u001b[39m)\n",
      "\u001b[1;31mNameError\u001b[0m: name 'large_kmer_sets' is not defined"
     ]
    }
   ],
   "source": [
    "# 4b\n",
    "# Function to calculate overlap percentage between two k-mer sets\n",
    "def calculate_overlap(set1, set2):\n",
    "    shared_kmers = set1.intersection(set2)\n",
    "    total_kmers = set1.union(set2)\n",
    "    overlap_percentage = len(shared_kmers) / len(total_kmers) * 100\n",
    "    return len(shared_kmers), len(total_kmers), overlap_percentage\n",
    "\n",
    "\n",
    "# comparing between two genomes\n",
    "header_1, header_2 = \"virus_1\", \"virus_2\"\n",
    "shared, total, overlap = calculate_overlap(large_kmer_sets[header_1], large_kmer_sets[header_2])\n",
    "print(f\"{header_1} and {header_2} share {shared} out of {total} k-mers, {overlap:.2f}%\")\n"
   ]
  }
 ],
 "metadata": {
  "kernelspec": {
   "display_name": "Python 3 (ipykernel)",
   "language": "python",
   "name": "python3"
  },
  "language_info": {
   "codemirror_mode": {
    "name": "ipython",
    "version": 3
   },
   "file_extension": ".py",
   "mimetype": "text/x-python",
   "name": "python",
   "nbconvert_exporter": "python",
   "pygments_lexer": "ipython3",
   "version": "3.11.2"
  }
 },
 "nbformat": 4,
 "nbformat_minor": 5
}
