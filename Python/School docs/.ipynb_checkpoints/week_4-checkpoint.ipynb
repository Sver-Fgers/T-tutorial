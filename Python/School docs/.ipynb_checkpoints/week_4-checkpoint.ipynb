{
 "cells": [
  {
   "cell_type": "code",
   "execution_count": 20,
   "id": "d91e3f09-5de1-433f-96b1-9c78948ac6cb",
   "metadata": {},
   "outputs": [
    {
     "name": "stdout",
     "output_type": "stream",
     "text": [
      "The average count for control experiment 1 is 204.8 \n",
      " The average count for control experiment 2 is 203.8 \n",
      " The average count for control experiment 3 is 206.3\n"
     ]
    },
    {
     "data": {
      "text/plain": [
       "'\\n# Function to calculate average count for each experiment type (control or treatment)\\ndef calculate_average_count_per_experiment(expression_counts, experiment_type): \\n    total_counts = 0  # Local variable to store the sum of counts\\n    \\n    for count in expression_counts: \\n        total_counts += count  # Add each count to the total\\n    # Calculate the average count\\n    average_count = total_counts / len(expression_counts)  # Local variable\\n    \\n    # Print the average and total counts with formatting\\n    print(f\"Average count for {experiment_type} experiment: {average_count} total counts: {total_counts}\")\\n    \\n\\n# Call functions to process treatment and control counts and calculate averages for each experiment\\nprocess_treatment_counts() \\n\\n#process_control_counts() \\n\\n# Loop through each control experiment set and calculate averages\\nfor control_experiment in [control_1, control_2, control_3]: \\n    calculate_average_count_per_experiment(control_experiment, \\'control\\') \\n\\n# Loop through each treatment experiment set and calculate averages\\nfor treatment_experiment in [treatment_1, treatment_2, treatment_3]: \\n    calculate_average_count_per_experiment(treatment_experiment, \\'treatment\\')\\n\\n'"
      ]
     },
     "execution_count": 20,
     "metadata": {},
     "output_type": "execute_result"
    }
   ],
   "source": [
    "# Question 1\n",
    "\n",
    "# Global variable storing RNA sequences\n",
    "rna_sequences = [ \n",
    "    'GGGCUAGCGUAUCGAUGCUA', 'CGCUAUAAAUGCGUAGGUC', 'CUAGCGGUAAUCGCAUUA',  \n",
    "    'AUGCUAGGCUAUUAGCGA', 'UAGGCAUAAAGGCUAUGC', 'CUAGCGGUAAUCGCAUU', \n",
    "    'GCUAUGCAGGCAAUUGCUA', 'GGGCCGUAUCGAUGCUAGCGUAC', 'AGGCGAUAUAAACGCUUA', \n",
    "    'GGGCGGUCAUUAACGGAUUUGA']\n",
    "\n",
    "# Global variables storing expression counts for plants under treatment conditions\n",
    "treatment_1 = [120, 520, 180, 250, 500, 2, 300, 130, 530, 110]\n",
    "treatment_2 = [125, 510, 185, 245, 505, 0, 310, 135, 540, 115]\n",
    "treatment_3 = [118, 515, 175, 255, 495, 2, 295, 128, 525, 113]\n",
    "\n",
    "# Global variables storing expression counts for plants under control conditions\n",
    "control_1 = [140, 290, 178, 240, 300, 0, 305, 150, 310, 135]\n",
    "control_2 = [145, 285, 182, 248, 295, 0, 298, 148, 300, 137]\n",
    "control_3 = [138, 288, 176, 252, 305, 3, 302, 152, 315, 132]\n",
    "\n",
    "# Function to calculate the average counts for treatment group\n",
    "def process_treatment_counts(): \n",
    "    total_treatment_counts = []  # Local variable to store average counts for each sequence\n",
    "    \n",
    "    for i in range(len(rna_sequences)): \n",
    "        # Calculate the average count for the ith RNA sequence across three treatment sets\n",
    "        average_count = (treatment_1[i] + treatment_2[i] + treatment_3[i]) / 3  # Local variable\n",
    "        total_treatment_counts.append(average_count)  # Append average to the local list\n",
    "    \n",
    "    # Print the average counts for treatment group\n",
    "    #print(f\"Average treatment counts per RNA sequence: {total_treatment_counts}\")\n",
    "    #print(f\"Average treatment counts per RNA sequence: {[f'{count:.2f}' for count in total_treatment_counts]}\")\n",
    "    print(f\"Average treatment counts per RNA sequence: {[round(count, 2) for count in total_treatment_counts]}\")\n",
    "\n",
    "# Function to calculate the average counts for control group\n",
    "def process_control_counts(): \n",
    "    total_control_counts = []  # Local variable to store average counts for each sequence\n",
    "    \n",
    "    for i in range(len(rna_sequences)): \n",
    "        # Calculate the average count for the ith RNA sequence across three control sets\n",
    "        average_count = (control_1[i] + control_2[i] + control_3[i]) / 3  # Local variable\n",
    "        total_control_counts.append(average_count)  # Append average to the local list\n",
    "    \n",
    "    # Print the average counts for control group\n",
    "   #  print(f\"Average control counts per RNA sequence: {total_control_counts}\")\n",
    "    print(f\"Average control counts per RNA sequence: {[f'{count:.2f}' for count in total_control_counts]}\")\n",
    "\n",
    "\n",
    "# calculatiing the average count for each experiment type \n",
    "\n",
    "\"\"\"\n",
    "for i in range(1):\n",
    "    average_count_1 = sum(control_1)/len(control_1)\n",
    "    average_count_2 = sum(control_2)/len(control_2)\n",
    "    average_count_3 = sum(control_3)/len(control_3)\n",
    "print(f\"The average count for control experiment 1 is {average_count_1} \\n The average count for control experiment 2 is {average_count_2} \\n The average count for control experiment 3 is {average_count_3}\")\n",
    "\"\"\"\n",
    "\n",
    "\n",
    "# Function to calculate average count for each experiment type (control or treatment)\n",
    "def calculate_average_count_per_experiment(expression_counts, experiment_type): \n",
    "    total_counts = 0  # Local variable to store the sum of counts\n",
    "    \n",
    "    for count in expression_counts: \n",
    "        total_counts += count  # Add each count to the total\n",
    "    # Calculate the average count\n",
    "    average_count = total_counts / len(expression_counts)  # Local variable\n",
    "    \n",
    "    # Print the average and total counts with formatting\n",
    "    print(f\"Average count for {experiment_type} experiment: {average_count} total counts: {total_counts}\")\n",
    "    \n",
    "\n",
    "# Call functions to process treatment and control counts and calculate averages for each experiment\n",
    "process_treatment_counts() \n",
    "process_control_counts() \n",
    "\n",
    "# Loop through each control experiment set and calculate averages\n",
    "for control_experiment in [control_1, control_2, control_3]: \n",
    "    calculate_average_count_per_experiment(control_experiment, 'control') \n",
    "\n",
    "# Loop through each treatment experiment set and calculate averages\n",
    "for treatment_experiment in [treatment_1, treatment_2, treatment_3]: \n",
    "    calculate_average_count_per_experiment(treatment_experiment, 'treatment')\n",
    "\n",
    "\"\"\""
   ]
  },
  {
   "cell_type": "code",
   "execution_count": 2,
   "id": "22666ce6-17ef-4a4f-9066-207b8378018f",
   "metadata": {},
   "outputs": [
    {
     "ename": "NameError",
     "evalue": "name 'total_treatment_counts' is not defined",
     "output_type": "error",
     "traceback": [
      "\u001b[1;31m---------------------------------------------------------------------------\u001b[0m",
      "\u001b[1;31mNameError\u001b[0m                                 Traceback (most recent call last)",
      "Cell \u001b[1;32mIn[2], line 3\u001b[0m\n\u001b[0;32m      1\u001b[0m \u001b[38;5;66;03m# 1b\u001b[39;00m\n\u001b[1;32m----> 3\u001b[0m \u001b[38;5;28mprint\u001b[39m(\u001b[38;5;124mf\u001b[39m\u001b[38;5;124m\"\u001b[39m\u001b[38;5;124mAverage treatment counts per RNA sequence: \u001b[39m\u001b[38;5;132;01m{\u001b[39;00m[\u001b[38;5;124mf\u001b[39m\u001b[38;5;124m'\u001b[39m\u001b[38;5;132;01m{\u001b[39;00mcount\u001b[38;5;132;01m:\u001b[39;00m\u001b[38;5;124m.2f\u001b[39m\u001b[38;5;132;01m}\u001b[39;00m\u001b[38;5;124m'\u001b[39m\u001b[38;5;250m \u001b[39m\u001b[38;5;28;01mfor\u001b[39;00m\u001b[38;5;250m \u001b[39mcount\u001b[38;5;250m \u001b[39m\u001b[38;5;129;01min\u001b[39;00m\u001b[38;5;250m \u001b[39m\u001b[43mtotal_treatment_counts\u001b[49m]\u001b[38;5;132;01m}\u001b[39;00m\u001b[38;5;124m\"\u001b[39m)\n\u001b[0;32m      4\u001b[0m \u001b[38;5;28mprint\u001b[39m(\u001b[38;5;124mf\u001b[39m\u001b[38;5;124m\"\u001b[39m\u001b[38;5;124mAverage control counts per RNA sequence: \u001b[39m\u001b[38;5;132;01m{\u001b[39;00m[\u001b[38;5;124mf\u001b[39m\u001b[38;5;124m'\u001b[39m\u001b[38;5;132;01m{\u001b[39;00mcount\u001b[38;5;132;01m:\u001b[39;00m\u001b[38;5;124m.2f\u001b[39m\u001b[38;5;132;01m}\u001b[39;00m\u001b[38;5;124m'\u001b[39m\u001b[38;5;250m \u001b[39m\u001b[38;5;28;01mfor\u001b[39;00m\u001b[38;5;250m \u001b[39mcount\u001b[38;5;250m \u001b[39m\u001b[38;5;129;01min\u001b[39;00m\u001b[38;5;250m \u001b[39mtotal_control_counts]\u001b[38;5;132;01m}\u001b[39;00m\u001b[38;5;124m\"\u001b[39m)\n",
      "\u001b[1;31mNameError\u001b[0m: name 'total_treatment_counts' is not defined"
     ]
    }
   ],
   "source": [
    "# 1b\n",
    "\n",
    "\n"
   ]
  },
  {
   "cell_type": "code",
   "execution_count": null,
   "id": "d43a120f-1933-4d88-931a-9f0e2f90a258",
   "metadata": {},
   "outputs": [],
   "source": [
    "# 1c\n",
    "\n",
    "# The wierdness in one of the sequences is because of the low count which might suggest an error in sequencing or \n",
    "# an unusual response in gene expression."
   ]
  },
  {
   "cell_type": "code",
   "execution_count": 3,
   "id": "66ba55f8-aaed-439b-846b-7f080932ac4e",
   "metadata": {},
   "outputs": [
    {
     "name": "stdout",
     "output_type": "stream",
     "text": [
      "Sequences 3 and 6 are similar with 0.97 similarity.\n"
     ]
    }
   ],
   "source": [
    "# Question 2a \n",
    "from difflib import SequenceMatcher\n",
    "\n",
    "for i in range(len(rna_sequences)):\n",
    "    for j in range(i + 1, len(rna_sequences)):\n",
    "        similarity = SequenceMatcher(None, rna_sequences[i], rna_sequences[j]).ratio()\n",
    "        if similarity > 0.9:\n",
    "            print(f\"Sequences {i+1} and {j+1} are similar with {similarity:.2f} similarity.\")\n"
   ]
  },
  {
   "cell_type": "code",
   "execution_count": 4,
   "id": "1a05b89b-4388-4588-874f-2aa5e6d684ff",
   "metadata": {},
   "outputs": [
    {
     "name": "stdout",
     "output_type": "stream",
     "text": [
      "[(3, 6, 0.9714285714285714)]\n"
     ]
    }
   ],
   "source": [
    "# 2b\n",
    "similar_pairs = [\n",
    "    (i + 1, j + 1, SequenceMatcher(None, rna_sequences[i], rna_sequences[j]).ratio())\n",
    "    for i in range(len(rna_sequences))\n",
    "    for j in range(i + 1, len(rna_sequences))\n",
    "    if SequenceMatcher(None, rna_sequences[i], rna_sequences[j]).ratio() > 0.9\n",
    "]\n",
    "print(similar_pairs)\n"
   ]
  },
  {
   "cell_type": "code",
   "execution_count": 5,
   "id": "bfa199e3-e8e1-43a6-aa43-d34fe4442cec",
   "metadata": {},
   "outputs": [
    {
     "name": "stdout",
     "output_type": "stream",
     "text": [
      "All Genes Data:\n",
      "Gene 1: Treatment Avg = 121.00, Control Avg = 141.00, Ratio = 0.86\n",
      "Gene 2: Treatment Avg = 515.00, Control Avg = 287.67, Ratio = 1.79\n",
      "Gene 3: Treatment Avg = 180.00, Control Avg = 178.67, Ratio = 1.01\n",
      "Gene 4: Treatment Avg = 250.00, Control Avg = 246.67, Ratio = 1.01\n",
      "Gene 5: Treatment Avg = 500.00, Control Avg = 300.00, Ratio = 1.67\n",
      "Gene 6: Treatment Avg = 1.33, Control Avg = 1.00, Ratio = 1.33\n",
      "Gene 7: Treatment Avg = 301.67, Control Avg = 301.67, Ratio = 1.00\n",
      "Gene 8: Treatment Avg = 131.00, Control Avg = 150.00, Ratio = 0.87\n",
      "Gene 9: Treatment Avg = 531.67, Control Avg = 308.33, Ratio = 1.72\n",
      "Gene 10: Treatment Avg = 112.67, Control Avg = 134.67, Ratio = 0.84\n",
      "\n",
      "Upregulated Genes (Ratio > 1.5):\n",
      "Gene 2: Treatment Avg = 515.00, Control Avg = 287.67, Ratio = 1.79\n",
      "Gene 5: Treatment Avg = 500.00, Control Avg = 300.00, Ratio = 1.67\n",
      "Gene 9: Treatment Avg = 531.67, Control Avg = 308.33, Ratio = 1.72\n",
      "\n",
      "Downregulated Genes (Ratio < 0.5):\n"
     ]
    }
   ],
   "source": [
    "# Question 3 \n",
    "\n",
    "# Calculate average expression for each RNA sequence in treatment and control\n",
    "treatment_averages = [(t1 + t2 + t3) / 3 for t1, t2, t3 in zip(treatment_1, treatment_2, treatment_3)]\n",
    "control_averages = [(c1 + c2 + c3) / 3 for c1, c2, c3 in zip(control_1, control_2, control_3)]\n",
    "\n",
    "# Calculate ratios and identify significant changes\n",
    "upregulated_genes = []\n",
    "downregulated_genes = []\n",
    "\n",
    "print(\"All Genes Data:\")\n",
    "for i, (t_avg, c_avg) in enumerate(zip(treatment_averages, control_averages)):\n",
    "    ratio = t_avg / c_avg if c_avg != 0 else None\n",
    "    if ratio is not None:\n",
    "        if ratio > 1.5:\n",
    "            upregulated_genes.append((i + 1, t_avg, c_avg, ratio))\n",
    "        elif ratio < 0.5:\n",
    "            downregulated_genes.append((i + 1, t_avg, c_avg, ratio))\n",
    "    \n",
    "    print(f\"Gene {i + 1}: Treatment Avg = {t_avg:.2f}, Control Avg = {c_avg:.2f}, Ratio = {ratio:.2f}\" if ratio else \"undefined\")\n",
    "\n",
    "# Print significant changes\n",
    "print(\"\\nUpregulated Genes (Ratio > 1.5):\")\n",
    "for gene in upregulated_genes:\n",
    "    print(f\"Gene {gene[0]}: Treatment Avg = {gene[1]:.2f}, Control Avg = {gene[2]:.2f}, Ratio = {gene[3]:.2f}\")\n",
    "\n",
    "print(\"\\nDownregulated Genes (Ratio < 0.5):\")\n",
    "for gene in downregulated_genes:\n",
    "    print(f\"Gene {gene[0]}: Treatment Avg = {gene[1]:.2f}, Control Avg = {gene[2]:.2f}, Ratio = {gene[3]:.2f}\")\n"
   ]
  },
  {
   "cell_type": "code",
   "execution_count": 24,
   "id": "78eab22a-bbaa-43b9-b14a-6875d6f92a0c",
   "metadata": {},
   "outputs": [
    {
     "name": "stdout",
     "output_type": "stream",
     "text": [
      "Sequences 1 and 3 have more than 60% similarity: 0.79\n",
      "CGCUAUAAAUGCGUAGGUC CUAGCGGUAAUCGCAUUA\n",
      "Sequences 1 and 6 have more than 60% similarity: 0.76\n",
      "CGCUAUAAAUGCGUAGGUC CUAGCGGUAAUCGCAUU\n",
      "Sequences 1 and 7 have more than 60% similarity: 0.72\n",
      "CGCUAUAAAUGCGUAGGUC GCUAUGCAGGCAAUUGCUA\n",
      "Sequences 1 and 8 have more than 60% similarity: 0.79\n",
      "CGCUAUAAAUGCGUAGGUC GGGCCGUAUCGAUGCUAGCGUAC\n",
      "Sequences 1 and 10 have more than 60% similarity: 0.62\n",
      "CGCUAUAAAUGCGUAGGUC GGGCGGUCAUUAACGGAUUUGA\n",
      "Sequences 2 and 7 have more than 60% similarity: 0.68\n",
      "CUAGCGGUAAUCGCAUUA GGGCCGUAUCGAUGCUAGCGUAC\n",
      "Sequences 2 and 9 have more than 60% similarity: 0.65\n",
      "CUAGCGGUAAUCGCAUUA GGGCGGUCAUUAACGGAUUUGA\n",
      "Sequences 3 and 6 have more than 60% similarity: 0.97\n",
      "AUGCUAGGCUAUUAGCGA GGGCCGUAUCGAUGCUAGCGUAC\n",
      "Sequences 3 and 7 have more than 60% similarity: 0.76\n",
      "AUGCUAGGCUAUUAGCGA AGGCGAUAUAAACGCUUA\n",
      "Sequences 3 and 9 have more than 60% similarity: 0.72\n"
     ]
    },
    {
     "ename": "IndexError",
     "evalue": "list index out of range",
     "output_type": "error",
     "traceback": [
      "\u001b[1;31m---------------------------------------------------------------------------\u001b[0m",
      "\u001b[1;31mIndexError\u001b[0m                                Traceback (most recent call last)",
      "Cell \u001b[1;32mIn[24], line 11\u001b[0m\n\u001b[0;32m      9\u001b[0m \u001b[38;5;28;01mif\u001b[39;00m similarity \u001b[38;5;241m>\u001b[39m \u001b[38;5;241m0.6\u001b[39m:  \u001b[38;5;66;03m# Condition to check for more than 60% similarity\u001b[39;00m\n\u001b[0;32m     10\u001b[0m     \u001b[38;5;28mprint\u001b[39m(\u001b[38;5;124mf\u001b[39m\u001b[38;5;124m\"\u001b[39m\u001b[38;5;124mSequences \u001b[39m\u001b[38;5;132;01m{\u001b[39;00mi\u001b[38;5;241m+\u001b[39m\u001b[38;5;241m1\u001b[39m\u001b[38;5;132;01m}\u001b[39;00m\u001b[38;5;124m and \u001b[39m\u001b[38;5;132;01m{\u001b[39;00mj\u001b[38;5;241m+\u001b[39m\u001b[38;5;241m1\u001b[39m\u001b[38;5;132;01m}\u001b[39;00m\u001b[38;5;124m have more than 60% similarity: \u001b[39m\u001b[38;5;132;01m{\u001b[39;00msimilarity\u001b[38;5;132;01m:\u001b[39;00m\u001b[38;5;124m.2f\u001b[39m\u001b[38;5;132;01m}\u001b[39;00m\u001b[38;5;124m\"\u001b[39m)\n\u001b[1;32m---> 11\u001b[0m     \u001b[38;5;28mprint\u001b[39m(rna_sequences[i\u001b[38;5;241m+\u001b[39m\u001b[38;5;241m1\u001b[39m], \u001b[43mrna_sequences\u001b[49m\u001b[43m[\u001b[49m\u001b[43mi\u001b[49m\u001b[38;5;241;43m+\u001b[39;49m\u001b[43mj\u001b[49m\u001b[43m]\u001b[49m)\n",
      "\u001b[1;31mIndexError\u001b[0m: list index out of range"
     ]
    }
   ],
   "source": [
    "# Question 4a\n",
    "\n",
    "from difflib import SequenceMatcher\n",
    "\n",
    "# Iterate through each pair of RNA sequences and check similarity\n",
    "for i in range(len(rna_sequences)):\n",
    "    for j in range(i + 1, len(rna_sequences)):\n",
    "        similarity = SequenceMatcher(None, rna_sequences[i], rna_sequences[j]).ratio()\n",
    "        if similarity > 0.6:  # Condition to check for more than 60% similarity\n",
    "            print(f\"Sequences {i+1} and {j+1} have more than 60% similarity: {similarity:.2f}\")\n",
    "            print(rna_sequences[i+1], rna_sequences[i+j])\n"
   ]
  },
  {
   "cell_type": "code",
   "execution_count": 7,
   "id": "c0296181-3eae-48d9-978c-bf4ab80b0d06",
   "metadata": {},
   "outputs": [
    {
     "name": "stdout",
     "output_type": "stream",
     "text": [
      "Substring 'GGGC' occurs 2 times in other sequences.\n",
      "Substring 'GGCU' occurs 2 times in other sequences.\n",
      "Substring 'GCUA' occurs 7 times in other sequences.\n",
      "Substring 'CUAG' occurs 4 times in other sequences.\n",
      "Substring 'UAGC' occurs 4 times in other sequences.\n",
      "Substring 'AGCG' occurs 4 times in other sequences.\n",
      "Substring 'GCGU' occurs 2 times in other sequences.\n",
      "Substring 'CGUA' occurs 3 times in other sequences.\n",
      "Substring 'GUAU' occurs 1 times in other sequences.\n",
      "Substring 'UAUC' occurs 1 times in other sequences.\n",
      "Substring 'AUCG' occurs 3 times in other sequences.\n",
      "Substring 'UCGA' occurs 1 times in other sequences.\n",
      "Substring 'CGAU' occurs 2 times in other sequences.\n",
      "Substring 'GAUG' occurs 1 times in other sequences.\n",
      "Substring 'AUGC' occurs 5 times in other sequences.\n",
      "Substring 'UGCU' occurs 3 times in other sequences.\n",
      "Substring 'GCUA' occurs 7 times in other sequences.\n"
     ]
    }
   ],
   "source": [
    "# 4b\n",
    "\n",
    "# Sequence to check for motifs\n",
    "sequence = 'GGGCUAGCGUAUCGAUGCUA'\n",
    "\n",
    "# Generate all 4-character substrings from the sequence\n",
    "substrings_4 = [sequence[i:i+4] for i in range(len(sequence) - 3)]\n",
    "\n",
    "# Check each substring's occurrence in other sequences\n",
    "for substring in substrings_4:\n",
    "    count = sum(seq.count(substring) for seq in rna_sequences if seq != sequence)\n",
    "    print(f\"Substring '{substring}' occurs {count} times in other sequences.\")\n"
   ]
  },
  {
   "cell_type": "code",
   "execution_count": null,
   "id": "eeb1557a-caf2-469f-87b4-1b8c3825ca41",
   "metadata": {},
   "outputs": [],
   "source": [
    "# 4c\n",
    "\n",
    "# Sequence to check for motifs\n",
    "sequence = 'CGCUAUAAAUGCGUAGGUC'\n",
    "\n",
    "# Generate all 5-character substrings from the sequence\n",
    "substrings_5 = [sequence[i:i+5] for i in range(len(sequence) - 4)]\n",
    "\n",
    "# Check each substring's occurrence in other sequences\n",
    "for substring in substrings_5:\n",
    "    count = sum(seq.count(substring) for seq in rna_sequences if seq != sequence)\n",
    "    print(f\"Substring '{substring}' occurs {count} times in other sequences.\")\n"
   ]
  },
  {
   "cell_type": "code",
   "execution_count": 8,
   "id": "494ece10-3359-475f-a5c8-933a7c22dabb",
   "metadata": {},
   "outputs": [
    {
     "name": "stdout",
     "output_type": "stream",
     "text": [
      "RNA Sequence Summary:\n",
      "RNA: GGGCUAGCGUAUCGAUGCUA, Control Avg: 141.00, Treatment Avg: 121.00, Fold Change: 0.8581560283687943, Motif: No motif\n",
      "RNA: CGCUAUAAAUGCGUAGGUC, Control Avg: 287.67, Treatment Avg: 515.00, Fold Change: 1.7902665121668597, Motif: No motif\n",
      "RNA: CUAGCGGUAAUCGCAUUA, Control Avg: 178.67, Treatment Avg: 180.00, Fold Change: 1.0074626865671643, Motif: No motif\n",
      "RNA: AUGCUAGGCUAUUAGCGA, Control Avg: 246.67, Treatment Avg: 250.00, Fold Change: 1.0135135135135136, Motif: No motif\n",
      "RNA: UAGGCAUAAAGGCUAUGC, Control Avg: 300.00, Treatment Avg: 500.00, Fold Change: 1.6666666666666667, Motif: No motif\n",
      "RNA: CUAGCGGUAAUCGCAUU, Control Avg: 1.00, Treatment Avg: 1.33, Fold Change: 1.3333333333333333, Motif: No motif\n",
      "RNA: GCUAUGCAGGCAAUUGCUA, Control Avg: 301.67, Treatment Avg: 301.67, Fold Change: 1.0, Motif: No motif\n",
      "RNA: GGGCCGUAUCGAUGCUAGCGUAC, Control Avg: 150.00, Treatment Avg: 131.00, Fold Change: 0.8733333333333333, Motif: No motif\n",
      "RNA: AGGCGAUAUAAACGCUUA, Control Avg: 308.33, Treatment Avg: 531.67, Fold Change: 1.7243243243243243, Motif: No motif\n",
      "RNA: GGGCGGUCAUUAACGGAUUUGA, Control Avg: 134.67, Treatment Avg: 112.67, Fold Change: 0.8366336633663367, Motif: No motif\n"
     ]
    }
   ],
   "source": [
    "# Question 5\n",
    "\n",
    "# Sample data from previous exercises for control and treatment averages\n",
    "treatment_averages = [(t1 + t2 + t3) / 3 for t1, t2, t3 in zip(treatment_1, treatment_2, treatment_3)]\n",
    "control_averages = [(c1 + c2 + c3) / 3 for c1, c2, c3 in zip(control_1, control_2, control_3)]\n",
    "\n",
    "# Combine information for each RNA sequence\n",
    "print(\"RNA Sequence Summary:\")\n",
    "for i, (rna, c_avg, t_avg) in enumerate(zip(rna_sequences, control_averages, treatment_averages)):\n",
    "    # Calculate fold change, or use \"undefined\" if control avg is zero\n",
    "    fold_change = t_avg / c_avg if c_avg != 0 else 'undefined'\n",
    "    \n",
    "    # Placeholder for motifs; assume \"No motif\" (updated based on Exercise 4 if motifs are found)\n",
    "    motif = \"No motif\"\n",
    "    \n",
    "    # Print formatted information for each RNA sequence\n",
    "    print(f\"RNA: {rna}, Control Avg: {c_avg:.2f}, Treatment Avg: {t_avg:.2f}, Fold Change: {fold_change}, Motif: {motif}\")\n"
   ]
  },
  {
   "cell_type": "code",
   "execution_count": 9,
   "id": "b8d4b41f-9640-4fcf-acfa-3d118f52182e",
   "metadata": {},
   "outputs": [
    {
     "name": "stdout",
     "output_type": "stream",
     "text": [
      "Formatted RNA Sequences:\n",
      "RNA Sequence 1: GGG-CUA-GCG-UAU-CGA-UGC-UA\n",
      "RNA Sequence 2: CGC-UAU-AAA-UGC-GUA-GGU-C\n",
      "RNA Sequence 3: CUA-GCG-GUA-AUC-GCA-UUA\n",
      "RNA Sequence 4: AUG-CUA-GGC-UAU-UAG-CGA\n",
      "RNA Sequence 5: UAG-GCA-UAA-AGG-CUA-UGC\n",
      "RNA Sequence 6: CUA-GCG-GUA-AUC-GCA-UU\n",
      "RNA Sequence 7: GCU-AUG-CAG-GCA-AUU-GCU-A\n",
      "RNA Sequence 8: GGG-CCG-UAU-CGA-UGC-UAG-CGU-AC\n",
      "RNA Sequence 9: AGG-CGA-UAU-AAA-CGC-UUA\n",
      "RNA Sequence 10: GGG-CGG-UCA-UUA-ACG-GAU-UUG-A\n"
     ]
    }
   ],
   "source": [
    "# Question 6\n",
    "\n",
    "# Function to split an RNA sequence into codons and join with hyphens\n",
    "def format_codons(sequence):\n",
    "    return '-'.join([sequence[i:i+3] for i in range(0, len(sequence), 3)])\n",
    "\n",
    "# Apply the function to each RNA sequence and print the formatted output\n",
    "print(\"Formatted RNA Sequences:\")\n",
    "formatted_sequences = [format_codons(seq) for seq in rna_sequences]\n",
    "for i, formatted_seq in enumerate(formatted_sequences, start=1):\n",
    "    print(f\"RNA Sequence {i}: {formatted_seq}\")\n"
   ]
  },
  {
   "cell_type": "code",
   "execution_count": 4,
   "id": "1f59c4f6-8439-4716-8869-c31f313d1ff3",
   "metadata": {},
   "outputs": [
    {
     "name": "stdin",
     "output_type": "stream",
     "text": [
      "enter a number multiplied by 2 3*2\n"
     ]
    },
    {
     "name": "stdout",
     "output_type": "stream",
     "text": [
      "3*2\n"
     ]
    }
   ],
   "source": [
    "num = (input(\"enter a number multiplied by 2\"))\n",
    "print(num)"
   ]
  },
  {
   "cell_type": "code",
   "execution_count": 6,
   "id": "20bff7c8-1db0-474a-93ff-0885301f362e",
   "metadata": {},
   "outputs": [
    {
     "name": "stdin",
     "output_type": "stream",
     "text": [
      "Enter a number:  434\n",
      "Enter a string:  qtertq\n"
     ]
    },
    {
     "name": "stdout",
     "output_type": "stream",
     "text": [
      "qtertq\n"
     ]
    }
   ],
   "source": [
    "num = eval(input('Enter a number: '))\n",
    "string = input('Enter a string: ')\n",
    "print(string)"
   ]
  },
  {
   "cell_type": "code",
   "execution_count": 7,
   "id": "1aae2ff7-fb61-4edb-8398-9c6e6d1be130",
   "metadata": {},
   "outputs": [
    {
     "name": "stdout",
     "output_type": "stream",
     "text": [
      "ABCDEFGHIJK\n"
     ]
    }
   ],
   "source": [
    "s =\"abcdefghijk\"\n",
    "s =s.upper()\n",
    "print(s)"
   ]
  },
  {
   "cell_type": "code",
   "execution_count": null,
   "id": "3752335a-fe3b-4cf5-8db5-418e99b13571",
   "metadata": {},
   "outputs": [],
   "source": []
  }
 ],
 "metadata": {
  "kernelspec": {
   "display_name": "Python 3 (ipykernel)",
   "language": "python",
   "name": "python3"
  },
  "language_info": {
   "codemirror_mode": {
    "name": "ipython",
    "version": 3
   },
   "file_extension": ".py",
   "mimetype": "text/x-python",
   "name": "python",
   "nbconvert_exporter": "python",
   "pygments_lexer": "ipython3",
   "version": "3.11.2"
  }
 },
 "nbformat": 4,
 "nbformat_minor": 5
}
