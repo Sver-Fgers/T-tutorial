{
 "cells": [
  {
   "cell_type": "code",
   "execution_count": null,
   "id": "32be75b2-2e09-4cf8-83df-9c8271abbec7",
   "metadata": {},
   "outputs": [],
   "source": [
    "# Import the custom script function\n",
    "import sys\n",
    "sys.path.append(r'C:\\Users\\Victor_Nxx\\Documents\\...Tutoring\\T')\n",
    "\n",
    "from week6_accessory_functions import create_random_genome\n",
    "\n"
   ]
  },
  {
   "cell_type": "code",
   "execution_count": 20,
   "id": "6362e371-720a-412d-bdd9-caf077a8de41",
   "metadata": {},
   "outputs": [
    {
     "name": "stdout",
     "output_type": "stream",
     "text": [
      "Help on function create_random_genome in module week6_accessory_functions:\n",
      "\n",
      "create_random_genome(genome_size: int, gc_percent: float) -> str\n",
      "    Generates a random genomic DNA sequence of a specified size and GC content.\n",
      "    \n",
      "    Parameters:\n",
      "    -----------\n",
      "    genome_size : int\n",
      "        The desired length of the genomic sequence (must be a positive integer).\n",
      "    gc_percent : float\n",
      "        The GC content as a decimal (e.g., 0.4 for 40% GC content).\n",
      "        Must be between 0 and 1 (inclusive).\n",
      "    \n",
      "    Returns:\n",
      "    --------\n",
      "    str\n",
      "        A string containing the random genomic DNA sequence.\n",
      "    \n",
      "    Raises:\n",
      "    -------\n",
      "    ValueError\n",
      "        If genome_size is not a positive integer or gc_percent is not between 0 and 1.\n",
      "    \n",
      "    Example:\n",
      "    --------\n",
      "    >>> create_random_genome(10, 0.5)\n",
      "    'ATGCGTACGA'\n",
      "    \n",
      "    >>> create_random_genome(20, 0.3)\n",
      "    'AATGTTTAAGGTTATATTGA'\n",
      "    \n",
      "    Notes:\n",
      "    ------\n",
      "    - The generated sequence will contain only 'A', 'T', 'G', and 'C'.\n",
      "    - The GC content of the sequence may slightly vary due to random generation but will be close to the specified percentage.\n",
      "\n"
     ]
    }
   ],
   "source": [
    "# Using the function to generate 3 random genomes\n",
    "help(create_random_genome)  # Understand its functionality\n",
    "\n",
    "import random"
   ]
  },
  {
   "cell_type": "code",
   "execution_count": 19,
   "id": "6188303c-ec73-4b29-b5f8-304af8799f28",
   "metadata": {},
   "outputs": [
    {
     "name": "stdout",
     "output_type": "stream",
     "text": [
      "r_genome_1 is 269050 bases long\n",
      "r_genome_2 is 376869 bases long\n",
      "r_genome_3 is 333797 bases long\n"
     ]
    }
   ],
   "source": [
    "\n",
    "\n",
    "# use of dictionaries to create dynamics variables (key : value) pairss\n",
    "# size variables --- size_3 , size_2, size_3\n",
    "# GC percent --- gc_percent_1, gc_percent_2, gc_percent_3\n",
    "# r_genomes --- r_genome_1, r_genome_2, and r_genome_3.\n",
    "size = {}\n",
    "gc_percent = {}\n",
    "r_genome = {}\n",
    "\n",
    "# Generate values and update the dictionaries\n",
    "for i in range(1, 4): \n",
    "    size[f\"size_{i}\"] = random.randint(100000, 500000) # size[\"size_1\"] = 200000\n",
    "    gc_percent[f\"gc_percent_{i}\"] = random.uniform(0.2, 0.8) # gc_percent[\"gc_percent_1\"] = 0.7\n",
    "    r_genome[f\"r_genome_{i}\"] = create_random_genome(size[f\"size_{i}\"], gc_percent[f\"gc_percent_{i}\"]) \n",
    "    # r_genome[\"r_genome_1\"] = create_random_genome(200000, 0.3)\n",
    "    # r_genome[\"r_genome_1\"] = 'AATGTTTAAGGTTATATTGA'    \n",
    "\n",
    "# Print results\n",
    "for i in range(1, 4):\n",
    "    genome = r_genome[f\"r_genome_{i}\"]\n",
    "    print(f\"r_genome_{i} is {len(genome)} bases long\")\n"
   ]
  },
  {
   "cell_type": "code",
   "execution_count": 14,
   "id": "b12e345e-c085-4872-b679-e91dc5bb66c1",
   "metadata": {},
   "outputs": [
    {
     "name": "stdout",
     "output_type": "stream",
     "text": [
      "r_genome_1 is 157730 bases long\n",
      "r_genome_2 is 298309 bases long\n",
      "r_genome_3 is 314203 bases long\n"
     ]
    }
   ],
   "source": [
    "\n",
    "# Random genome sizes and GC content\n",
    "size_1 = random.randint(100000, 500000)\n",
    "size_2 = random.randint(100000, 500000)\n",
    "size_3 = random.randint(100000, 500000)\n",
    "\n",
    "gc_content_1 = random.uniform(0.2, 0.8)\n",
    "gc_content_2 = random.uniform(0.2, 0.8)\n",
    "gc_content_3 = random.uniform(0.2, 0.8)\n",
    "\n",
    "# Creating genomes\n",
    "r_genome_1 = create_random_genome(size_1, gc_content_1)\n",
    "r_genome_2 = create_random_genome(size_2, gc_content_2)\n",
    "r_genome_3 = create_random_genome(size_3, gc_content_3)\n",
    "\n",
    "# Print genome lengths\n",
    "print(f\"r_genome_1 is {len(r_genome_1)} bases long\")\n",
    "print(f\"r_genome_2 is {len(r_genome_2)} bases long\")\n",
    "print(f\"r_genome_3 is {len(r_genome_3)} bases long\")\n",
    "\n"
   ]
  },
  {
   "cell_type": "code",
   "execution_count": 29,
   "id": "1bb49c2f-13a2-42fe-8ad8-1ce375b6a2a0",
   "metadata": {},
   "outputs": [
    {
     "name": "stdout",
     "output_type": "stream",
     "text": [
      "GC content of r_genome_1: 0.59%\n",
      "GC content of r_genome_2: 0.80%\n",
      "GC content of r_genome_3: 0.65%\n"
     ]
    }
   ],
   "source": [
    "from custom_module import gc_content_DNA\n",
    "\n",
    "# Calculate and print GC content\n",
    "gc_1 = gc_content_DNA(r_genome_1)\n",
    "gc_2 = gc_content_DNA(r_genome_2)\n",
    "gc_3 = gc_content_DNA(r_genome_3)\n",
    "\n",
    "print(f\"GC content of r_genome_1: {gc_1:.2f}%\")\n",
    "print(f\"GC content of r_genome_2: {gc_2:.2f}%\")\n",
    "print(f\"GC content of r_genome_3: {gc_3:.2f}%\")\n",
    "\n"
   ]
  },
  {
   "cell_type": "code",
   "execution_count": 36,
   "id": "74226e5a-9134-4c92-bb57-41e051b17b3e",
   "metadata": {},
   "outputs": [
    {
     "name": "stdout",
     "output_type": "stream",
     "text": [
      "GC content of r_genome_1: 0.21%\n",
      "GC content of r_genome_2: 0.63%\n",
      "GC content of r_genome_3: 0.72%\n"
     ]
    }
   ],
   "source": [
    "# calculate gc content using dictionary\n",
    "gc_content = {}\n",
    "\n",
    "for i in range(1,4):\n",
    "    genome = r_genome[f\"r_genome_{i}\"]\n",
    "    gc_content[f\"gc_{i}\"] = gc_content_DNA(genome) # genome is a variable defined at the top to access the key of the r_genomes dictionary\n",
    "    \n",
    "    gc_numbers = gc_content[f\"gc_{i}\"]\n",
    "    print(f\"GC content of r_genome_{i}: {gc_numbers:.2f}%\")\n",
    "\n"
   ]
  }
 ],
 "metadata": {
  "kernelspec": {
   "display_name": "Python 3 (ipykernel)",
   "language": "python",
   "name": "python3"
  },
  "language_info": {
   "codemirror_mode": {
    "name": "ipython",
    "version": 3
   },
   "file_extension": ".py",
   "mimetype": "text/x-python",
   "name": "python",
   "nbconvert_exporter": "python",
   "pygments_lexer": "ipython3",
   "version": "3.11.2"
  }
 },
 "nbformat": 4,
 "nbformat_minor": 5
}
