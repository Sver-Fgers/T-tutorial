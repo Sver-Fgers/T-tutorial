{
 "cells": [
  {
   "cell_type": "code",
   "execution_count": 31,
   "id": "6da0eba2-8abb-4f4e-be33-fb9c9820e5bc",
   "metadata": {},
   "outputs": [
    {
     "name": "stdout",
     "output_type": "stream",
     "text": [
      "sample\n"
     ]
    },
    {
     "data": {
      "text/plain": [
       "['s', 'a', 'm', 'p', 'l', 'e']"
      ]
     },
     "execution_count": 31,
     "metadata": {},
     "output_type": "execute_result"
    }
   ],
   "source": [
    "import random\n",
    "words = ['biome', 'bases', 'lyase', 'zymin', 'roots', 'sample', 'local','loops']\n",
    "\n",
    "def random_word():\n",
    "    choosen_word = random.choice(words)\n",
    "    #print(choosen_word)\n",
    "    return choosen_word\n",
    "\n",
    "random_word()\n",
    "\n"
   ]
  },
  {
   "cell_type": "code",
   "execution_count": 41,
   "id": "4a980289-317a-42a1-bcd0-a389c457be91",
   "metadata": {},
   "outputs": [
    {
     "name": "stdout",
     "output_type": "stream",
     "text": [
      "[0, 2, 2, 2, 2]\n",
      "[0, 2, 2, 1, 1, 2]\n"
     ]
    }
   ],
   "source": [
    "def word_comparator(guess, answer):\n",
    "    # function call to select random words from the words list\n",
    "    # convert the selected word to another list of individual characters\n",
    "    # answer_chars= list(answer)  # convert answer to a list for iteration operations\n",
    "    # guess = list(input(\"guess five letter words\")) # convert the user guess into a list for iteration operation\n",
    "    \n",
    "    result = [] # list to hold the correct positions of the characters after comparison\n",
    "    checked = [False] * len(answer) # list to track if characters have been compared\n",
    "    \n",
    "    # check for the exact character match in the right position as 2\n",
    "    for character in range(len(guess)):\n",
    "        if guess[character] == answer[character]: # if the characters from the user input is the same as the answer characters\n",
    "            result.append(2) # append 2 to indicate the position where the character was found\n",
    "            # answer_chars[characters] = None # remove matched characters to prevent duplicates\n",
    "            checked[character] = True\n",
    "        else:\n",
    "            result.append(0) # put zero as a placeholder for now if no match was found\n",
    "\n",
    "    # check for mathces in the wrong positions as 1\n",
    "    for i in range(len(guess)):\n",
    "        if result[i] == 0:\n",
    "            for j in range(len(answer)):\n",
    "                if not checked[j] and guess[i] == answer[j]: # If it hasn't been checked \n",
    "                    result[i] = 1 # found but at wrong position\n",
    "                    checked[j] = True # mark the character as already checked\n",
    "                    break # stop searching for the character\n",
    "                               \n",
    "    return result\n",
    "\n",
    "# Testing the function\n",
    "print(word_comparator('boots', 'roots'))\n",
    "print(word_comparator('mamlpe', 'sample'))  \n",
    "\n",
    "    "
   ]
  },
  {
   "cell_type": "code",
   "execution_count": 36,
   "id": "e4f13d68-3c84-4e56-9d20-9f263d91479c",
   "metadata": {},
   "outputs": [
    {
     "ename": "SyntaxError",
     "evalue": "incomplete input (1231190155.py, line 2)",
     "output_type": "error",
     "traceback": [
      "\u001b[1;36m  Cell \u001b[1;32mIn[36], line 2\u001b[1;36m\u001b[0m\n\u001b[1;33m    def play_wordly():\u001b[0m\n\u001b[1;37m                      ^\u001b[0m\n\u001b[1;31mSyntaxError\u001b[0m\u001b[1;31m:\u001b[0m incomplete input\n"
     ]
    }
   ],
   "source": [
    "#  function to play the game\n",
    "def play_wordly():\n",
    "    answer = random_word() # function call to randomly select a word \n",
    "    print(\"Welcome to wordly game! Try to guess the correct word.\")\n",
    "\n",
    "    while True:\n",
    "        guess = input(\"Enter your guess, make sure its a 5-letter word: \").lower()\n",
    "\n",
    "    # check if the user input is correct\n",
    "        if len(guess) != 5 and :\n",
    "            print(\"Please enter a 5-letter word\n"
   ]
  },
  {
   "cell_type": "code",
   "execution_count": null,
   "id": "b5700a1d-9c07-4e58-897f-3e18c2e2c28f",
   "metadata": {},
   "outputs": [],
   "source": [
    "\n",
    "\n",
    "\n",
    "\n",
    "    # Step 2: Check for misplaced matches (1)\n",
    "    for i in range(len(guess)):\n",
    "        if result[i] == 0 and guess[i] in answer_chars:  # Check if the letter exists in the remaining answer\n",
    "            result[i] = 1  # Misplaced match\n",
    "            answer_chars[answer_chars.index(guess[i])] = None  # Remove matched character\n",
    "\n",
    "    return result\n",
    "\n",
    "# Main game function\n",
    "def play_game():\n",
    "    answer = random_word()  # Randomly select the answer\n",
    "    print(\"Welcome to the word game! Try to guess the word.\")\n",
    "    \n",
    "    while True:\n",
    "        guess = input(\"Enter your guess (5-letter word): \").lower()\n",
    "        \n",
    "        # Check for valid input length\n",
    "        if len(guess) != 5:\n",
    "            print(\"Please enter a 5-letter word.\")\n",
    "            continue\n",
    "        \n",
    "        # Evaluate the guess\n",
    "        result = evaluate_guess(guess, answer)\n",
    "        print(\"Result:\", result)\n",
    "        \n",
    "        if result == [2, 2, 2, 2, 2]:  # Check if the guess is correct\n",
    "            print(\"Congratulations! You guessed the word:\", answer)\n",
    "            break\n",
    "        else:\n",
    "            print(\"Try again!\")\n",
    "\n",
    "# Start the game\n",
    "play_game()\n"
   ]
  },
  {
   "cell_type": "code",
   "execution_count": null,
   "id": "f1ce5ce3-df80-45cc-99f2-6027c759b98a",
   "metadata": {},
   "outputs": [],
   "source": [
    "def evaluate_guess(guess, answer):\n",
    "    answer_chars = list(answer)  # Convert answer to a list for mutable operations\n",
    "    result = []  # Start with an empty list\n",
    "\n",
    "    # Step 1: Check for exact matches (2)\n",
    "    for i in range(len(guess)):\n",
    "        if guess[i] == answer[i]:\n",
    "            result.append(2)  # Exact match\n",
    "            answer_chars[i] = None  # Remove matched character\n",
    "        else:\n",
    "            result.append(0)  # Placeholder for now\n",
    "\n",
    "    # Step 2: Check for misplaced matches (1)\n",
    "    for i in range(len(guess)):\n",
    "        if result[i] == 0 and guess[i] in answer_chars:  # Check if the letter exists in the remaining answer\n",
    "            result[i] = 1  # Misplaced match\n",
    "            answer_chars[answer_chars.index(guess[i])] = None  # Remove matched character\n",
    "\n",
    "    return result\n",
    "\n",
    "# Test the function\n",
    "print(evaluate_guess('boots', 'roots'))  # Output: [0, 2, 2, 2, 2]\n",
    "print(evaluate_guess('rests', 'roots'))  # Output: [2, 0, 1, 2, 2]\n"
   ]
  },
  {
   "cell_type": "code",
   "execution_count": null,
   "id": "ce6e9e48-c1e1-4f17-9380-29e832bc35d1",
   "metadata": {},
   "outputs": [],
   "source": [
    "def evaluate_guess(guess, answer):\n",
    "    # Initialize result list\n",
    "    result = [0] * len(guess)\n",
    "    answer_chars = list(answer)  # Convert answer to a list for mutable operations\n",
    "\n",
    "    # Step 1: Check for exact matches (2)\n",
    "    for i in range(len(guess)):\n",
    "        if guess[i] == answer[i]:\n",
    "            result[i] = 2  # Exact match\n",
    "            answer_chars[i] = None  # Remove matched character to avoid duplicate checks\n",
    "\n",
    "    # Step 2: Check for misplaced matches (1)\n",
    "    for i in range(len(guess)):\n",
    "        if result[i] == 0 and guess[i] in answer_chars:  # Check if the letter exists in the remaining answer\n",
    "            result[i] = 1  # Misplaced match\n",
    "            answer_chars[answer_chars.index(guess[i])] = None  # Remove matched character\n",
    "\n",
    "    return result\n",
    "\n",
    "# Test the function\n",
    "print(evaluate_guess('boots', 'roots'))  # Output: [0, 2, 2, 2, 2]\n",
    "print(evaluate_guess('rests', 'roots'))  # Output: [2, 0, 1, 2, 2]\n"
   ]
  },
  {
   "cell_type": "code",
   "execution_count": 20,
   "id": "910c956d-a841-4d21-af35-5256a0918947",
   "metadata": {},
   "outputs": [
    {
     "name": "stdout",
     "output_type": "stream",
     "text": [
      "[6, 7, 3]\n"
     ]
    }
   ],
   "source": [
    "str_list = ['Winken', 'Blinken', 'Nod']\n",
    "len_list = []\n",
    "#for s in str_list:\n",
    "#    len_list.append(len(s))\n",
    "#    print(len_list)\n",
    "len_list = [len(s) for s in str_list ]\n",
    "print(len_list)"
   ]
  },
  {
   "cell_type": "code",
   "execution_count": 14,
   "id": "de14ee38-f10f-4b28-b03d-1ea49f7afc9e",
   "metadata": {},
   "outputs": [
    {
     "name": "stdout",
     "output_type": "stream",
     "text": [
      "[2, 4, 6, 8, 10]\n"
     ]
    }
   ],
   "source": [
    "# _ for _ in _ \n",
    "#result expression\n",
    "#iteration expression\n",
    "\n",
    "#numbers = [num for num in range(5)]\n",
    "#print(numbers)\n",
    "\n",
    "\n",
    "list1 = [1,2,3,4,5]\n",
    "list2 = [item*2 for item in list1]\n",
    "print(list2)\n"
   ]
  },
  {
   "cell_type": "code",
   "execution_count": 3,
   "id": "1ae12a4d-05e6-4b2f-87f7-f03f85ac1582",
   "metadata": {},
   "outputs": [
    {
     "name": "stdout",
     "output_type": "stream",
     "text": [
      "[0, 1, 2, 3, 4]\n"
     ]
    }
   ],
   "source": [
    "numbers = []\n",
    "for i in range(5):\n",
    "    numbers.append(i)\n",
    "print(numbers)"
   ]
  },
  {
   "cell_type": "code",
   "execution_count": 5,
   "id": "d0c3a280-8740-4942-9d81-e836990f1467",
   "metadata": {},
   "outputs": [
    {
     "name": "stdout",
     "output_type": "stream",
     "text": [
      "AAAAAAAAAABBBBBBBB"
     ]
    }
   ],
   "source": [
    "# AAAAAAAAAABBBBBBBCDCDCDCDEFFFFFFG\n",
    "for i in range(10):\n",
    "    print(\"A\", end=\"\")\n",
    "\n",
    "for i in range(8):\n",
    "    print(\"B\", end=\"\")"
   ]
  },
  {
   "cell_type": "code",
   "execution_count": 1,
   "id": "ee3c9c2c-beb4-4933-8457-3a1c9dcf2f97",
   "metadata": {},
   "outputs": [
    {
     "name": "stdout",
     "output_type": "stream",
     "text": [
      "8\n"
     ]
    }
   ],
   "source": [
    "\n",
    "L = [\"a\", \"b\", \"c\", \"d\", 1, 2, \"string\", [1,2,3]]\n",
    "print(len(L))\n"
   ]
  },
  {
   "cell_type": "code",
   "execution_count": 3,
   "id": "74c56836-de53-43c9-b60a-58d486004bae",
   "metadata": {},
   "outputs": [
    {
     "name": "stdout",
     "output_type": "stream",
     "text": [
      "1\n",
      "2\n",
      "3\n",
      "4\n",
      "5\n",
      "6\n",
      "7\n",
      "8\n"
     ]
    }
   ],
   "source": [
    "for i in range(len(L)):\n",
    "    print(i+1)\n",
    "    "
   ]
  },
  {
   "cell_type": "code",
   "execution_count": 4,
   "id": "931eb3a2-fd58-45f3-941e-4397c34dbb8c",
   "metadata": {},
   "outputs": [
    {
     "name": "stdout",
     "output_type": "stream",
     "text": [
      "['a', 'b', 'c']\n"
     ]
    }
   ],
   "source": [
    "print(L[:3])"
   ]
  },
  {
   "cell_type": "code",
   "execution_count": 5,
   "id": "c8cc7243-8719-47e4-a1b5-3753b05c2289",
   "metadata": {},
   "outputs": [
    {
     "name": "stdout",
     "output_type": "stream",
     "text": [
      "[7, 8, 9, 10, 11]\n"
     ]
    }
   ],
   "source": [
    "l=[7,8]+[9,10,11]\n",
    "print(l)"
   ]
  },
  {
   "cell_type": "code",
   "execution_count": 9,
   "id": "e55557a2-15a5-4e56-9020-6dfdaddccea3",
   "metadata": {},
   "outputs": [
    {
     "name": "stdout",
     "output_type": "stream",
     "text": [
      "7.5\n"
     ]
    }
   ],
   "source": [
    "\n",
    "#print(l)\n",
    "average=sum(l)/len(l)\n",
    "print(average)"
   ]
  },
  {
   "cell_type": "code",
   "execution_count": 42,
   "id": "1cc1a69e-787f-4f6a-8c51-afbd4db10317",
   "metadata": {},
   "outputs": [
    {
     "name": "stdout",
     "output_type": "stream",
     "text": [
      "[5, 5, 11, 13, 15, 17, 19, 21, 23, 25, 27, 29, 33, 33, 35, 37, 39, 41, 43, 45, 47, 49, 51, 53, 55, 57, 59]\n"
     ]
    }
   ],
   "source": [
    "odds = [ 1, 3, 5, 5, 5, 11, 13, 15, 17, 19,\n",
    "21, 23, 25, 27, 29, 33, 33, 35, 37, 39,\n",
    "41, 43, 45, 47, 49, 51, 53, 55, 57, 59 ]\n",
    "#odds.append(5)\n",
    "del odds[:3]\n",
    "print(odds)\n"
   ]
  },
  {
   "cell_type": "code",
   "execution_count": 45,
   "id": "23d2bf23-1cf6-425b-8198-d74714f4f30f",
   "metadata": {},
   "outputs": [
    {
     "name": "stdout",
     "output_type": "stream",
     "text": [
      "[59, 57, 55, 53, 51, 49, 47, 45, 43, 41, 39, 37, 35, 33, 33, 29, 27, 25, 23, 21, 19, 17, 15, 13, 11, 5, 5]\n"
     ]
    }
   ],
   "source": [
    "odds.reverse()\n",
    "print(odds)\n"
   ]
  },
  {
   "cell_type": "code",
   "execution_count": null,
   "id": "f7009bae-e900-4170-a064-3d27f93c4724",
   "metadata": {},
   "outputs": [],
   "source": [
    "num_right = 0\n",
    "\n",
    "# Question 1\n",
    "print('What is the capital of France?', end=' ')\n",
    "guess = input()\n",
    "if guess.lower()=='paris':\n",
    "print('Correct!')\n",
    "num_right+=1\n",
    "else:\n",
    "print('Wrong. The answer is Paris.')\n",
    "print('You have', num_right, 'out of 1 right')\n",
    "\n",
    "#Question 2\n",
    "print('Which state has only one neighbor?', end=' ')\n",
    "guess = input()\n",
    "if guess.lower()=='maine':\n",
    "print('Correct!')\n",
    "num_right+=1\n",
    "else:\n",
    "print('Wrong. The answer is Maine.')\n",
    "print('You have', num_right, 'out of 2 right,')"
   ]
  }
 ],
 "metadata": {
  "kernelspec": {
   "display_name": "Python 3 (ipykernel)",
   "language": "python",
   "name": "python3"
  },
  "language_info": {
   "codemirror_mode": {
    "name": "ipython",
    "version": 3
   },
   "file_extension": ".py",
   "mimetype": "text/x-python",
   "name": "python",
   "nbconvert_exporter": "python",
   "pygments_lexer": "ipython3",
   "version": "3.11.2"
  }
 },
 "nbformat": 4,
 "nbformat_minor": 5
}
